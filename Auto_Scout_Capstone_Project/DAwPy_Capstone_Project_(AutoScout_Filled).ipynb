{
 "cells": [
  {
   "cell_type": "markdown",
   "metadata": {
    "id": "Bv1I7_aas1L3"
   },
   "source": [
    "___\n",
    "\n",
    "<p style=\"text-align: center;\"><img src=\"https://docs.google.com/uc?id=1lY0Uj5R04yMY3-ZppPWxqCr5pvBLYPnV\" class=\"img-fluid\" \n",
    "alt=\"CLRSWY\"></p>\n",
    "\n",
    "## <p style=\"background-color:#FDFEFE; font-family:newtimeroman; color:#9d4f8c; font-size:100%; text-align:center; border-radius:10px 10px;\">WAY TO REINVENT YOURSELF</p>"
   ]
  },
  {
   "cell_type": "markdown",
   "metadata": {
    "id": "Bkw3_pB0s1L-"
   },
   "source": [
    "<img src=https://i.ibb.co/wJW61Y2/Used-cars.jpg width=\"700\" height=\"200\">\n",
    "\n",
    "## <p style=\"background-color:#FDFEFE; font-family:newtimeroman; color:#060108; font-size:200%; text-align:center; border-radius:10px 10px;\">The Capstone Project of Data Analytics Module</p>\n",
    "\n",
    "## <p style=\"background-color:#FDFEFE; font-family:newtimeroman; color:#060108; font-size:150%; text-align:center; border-radius:10px 10px;\">Car Price Prediction EDA</p>"
   ]
  },
  {
   "cell_type": "code",
   "execution_count": null,
   "metadata": {},
   "outputs": [],
   "source": []
  },
  {
   "cell_type": "markdown",
   "metadata": {
    "id": "uGeKSdYds1MD"
   },
   "source": [
    "# PART- 2 `( Handling With Missing Values )`"
   ]
  },
  {
   "cell_type": "code",
   "execution_count": 1,
   "metadata": {
    "ExecuteTime": {
     "end_time": "2022-08-03T14:52:49.960384Z",
     "start_time": "2022-08-03T14:52:47.002783Z"
    },
    "id": "WDZnqBhbs1ME"
   },
   "outputs": [
    {
     "name": "stderr",
     "output_type": "stream",
     "text": [
      "/Users/fatih/opt/anaconda3/lib/python3.9/site-packages/scipy/__init__.py:146: UserWarning: A NumPy version >=1.16.5 and <1.23.0 is required for this version of SciPy (detected version 1.23.1\n",
      "  warnings.warn(f\"A NumPy version >={np_minversion} and <{np_maxversion}\"\n"
     ]
    }
   ],
   "source": [
    "import numpy as np\n",
    "import pandas as pd\n",
    "import matplotlib.pyplot as plt\n",
    "import seaborn as sns\n",
    "import warnings\n",
    "warnings.filterwarnings(\"ignore\")\n",
    "warnings.warn(\"this will not show\")\n",
    "plt.rcParams[\"figure.figsize\"] = (10, 6)\n",
    "sns.set_style(\"whitegrid\")\n",
    "pd.set_option('display.float_format', lambda x: '%.3f' % x)\n",
    "# Set it None to display all rows in the dataframe\n",
    "# pd.set_option('display.max_rows', None)\n",
    "# Set it to None to display all columns in the dataframe\n",
    "pd.set_option('display.max_columns', None)"
   ]
  },
  {
   "cell_type": "code",
   "execution_count": 2,
   "metadata": {
    "ExecuteTime": {
     "end_time": "2022-08-03T14:52:50.407432Z",
     "start_time": "2022-08-03T14:52:49.962511Z"
    }
   },
   "outputs": [],
   "source": [
    "df = pd.read_csv(\"auto_scout_clean.csv\")"
   ]
  },
  {
   "cell_type": "code",
   "execution_count": 3,
   "metadata": {
    "ExecuteTime": {
     "end_time": "2022-08-03T14:52:50.443336Z",
     "start_time": "2022-08-03T14:52:50.413333Z"
    }
   },
   "outputs": [
    {
     "data": {
      "text/html": [
       "<div>\n",
       "<style scoped>\n",
       "    .dataframe tbody tr th:only-of-type {\n",
       "        vertical-align: middle;\n",
       "    }\n",
       "\n",
       "    .dataframe tbody tr th {\n",
       "        vertical-align: top;\n",
       "    }\n",
       "\n",
       "    .dataframe thead th {\n",
       "        text-align: right;\n",
       "    }\n",
       "</style>\n",
       "<table border=\"1\" class=\"dataframe\">\n",
       "  <thead>\n",
       "    <tr style=\"text-align: right;\">\n",
       "      <th></th>\n",
       "      <th>0</th>\n",
       "      <th>1</th>\n",
       "      <th>2</th>\n",
       "      <th>3</th>\n",
       "      <th>4</th>\n",
       "    </tr>\n",
       "  </thead>\n",
       "  <tbody>\n",
       "    <tr>\n",
       "      <th>short_description</th>\n",
       "      <td>Sportback 1.4 TDI S-tronic Xenon Navi Klima</td>\n",
       "      <td>1.8 TFSI sport</td>\n",
       "      <td>Sportback 1.6 TDI S tronic Einparkhilfe plus+m...</td>\n",
       "      <td>1.4 TDi Design S tronic</td>\n",
       "      <td>Sportback 1.4 TDI S-Tronic S-Line Ext. admired...</td>\n",
       "    </tr>\n",
       "    <tr>\n",
       "      <th>body_type</th>\n",
       "      <td>Sedans</td>\n",
       "      <td>Sedans</td>\n",
       "      <td>Sedans</td>\n",
       "      <td>Sedans</td>\n",
       "      <td>Sedans</td>\n",
       "    </tr>\n",
       "    <tr>\n",
       "      <th>price_€</th>\n",
       "      <td>15770.000</td>\n",
       "      <td>14500.000</td>\n",
       "      <td>14640.000</td>\n",
       "      <td>14500.000</td>\n",
       "      <td>16790.000</td>\n",
       "    </tr>\n",
       "    <tr>\n",
       "      <th>vat</th>\n",
       "      <td>VAT deductible</td>\n",
       "      <td>Price negotiable</td>\n",
       "      <td>VAT deductible</td>\n",
       "      <td>NaN</td>\n",
       "      <td>NaN</td>\n",
       "    </tr>\n",
       "    <tr>\n",
       "      <th>km</th>\n",
       "      <td>56013.000</td>\n",
       "      <td>80000.000</td>\n",
       "      <td>83450.000</td>\n",
       "      <td>73000.000</td>\n",
       "      <td>16200.000</td>\n",
       "    </tr>\n",
       "    <tr>\n",
       "      <th>registration</th>\n",
       "      <td>2016.000</td>\n",
       "      <td>2017.000</td>\n",
       "      <td>2016.000</td>\n",
       "      <td>2016.000</td>\n",
       "      <td>2016.000</td>\n",
       "    </tr>\n",
       "    <tr>\n",
       "      <th>prev_owner</th>\n",
       "      <td>2.000</td>\n",
       "      <td>NaN</td>\n",
       "      <td>1.000</td>\n",
       "      <td>1.000</td>\n",
       "      <td>1.000</td>\n",
       "    </tr>\n",
       "    <tr>\n",
       "      <th>hp_kW</th>\n",
       "      <td>66.000</td>\n",
       "      <td>141.000</td>\n",
       "      <td>85.000</td>\n",
       "      <td>66.000</td>\n",
       "      <td>66.000</td>\n",
       "    </tr>\n",
       "    <tr>\n",
       "      <th>type</th>\n",
       "      <td>Used</td>\n",
       "      <td>Used</td>\n",
       "      <td>Used</td>\n",
       "      <td>Used</td>\n",
       "      <td>Used</td>\n",
       "    </tr>\n",
       "    <tr>\n",
       "      <th>previous_owners</th>\n",
       "      <td>2.000</td>\n",
       "      <td>NaN</td>\n",
       "      <td>1.000</td>\n",
       "      <td>1.000</td>\n",
       "      <td>1.000</td>\n",
       "    </tr>\n",
       "    <tr>\n",
       "      <th>warranty</th>\n",
       "      <td>NaN</td>\n",
       "      <td>NaN</td>\n",
       "      <td>NaN</td>\n",
       "      <td>NaN</td>\n",
       "      <td>NaN</td>\n",
       "    </tr>\n",
       "    <tr>\n",
       "      <th>make</th>\n",
       "      <td>Audi</td>\n",
       "      <td>Audi</td>\n",
       "      <td>Audi</td>\n",
       "      <td>Audi</td>\n",
       "      <td>Audi</td>\n",
       "    </tr>\n",
       "    <tr>\n",
       "      <th>model</th>\n",
       "      <td>A1</td>\n",
       "      <td>A1</td>\n",
       "      <td>A1</td>\n",
       "      <td>A1</td>\n",
       "      <td>A1</td>\n",
       "    </tr>\n",
       "    <tr>\n",
       "      <th>body_color</th>\n",
       "      <td>Black</td>\n",
       "      <td>Red</td>\n",
       "      <td>Black</td>\n",
       "      <td>Brown</td>\n",
       "      <td>Black</td>\n",
       "    </tr>\n",
       "    <tr>\n",
       "      <th>paint_type</th>\n",
       "      <td>Metallic</td>\n",
       "      <td>NaN</td>\n",
       "      <td>Metallic</td>\n",
       "      <td>Metallic</td>\n",
       "      <td>Metallic</td>\n",
       "    </tr>\n",
       "    <tr>\n",
       "      <th>body_color_original</th>\n",
       "      <td>Mythosschwarz</td>\n",
       "      <td>NaN</td>\n",
       "      <td>mythosschwarz metallic</td>\n",
       "      <td>NaN</td>\n",
       "      <td>Mythosschwarz Metallic</td>\n",
       "    </tr>\n",
       "    <tr>\n",
       "      <th>upholstery</th>\n",
       "      <td>Cloth</td>\n",
       "      <td>Cloth</td>\n",
       "      <td>Cloth</td>\n",
       "      <td>NaN</td>\n",
       "      <td>Cloth</td>\n",
       "    </tr>\n",
       "    <tr>\n",
       "      <th>nr_of_doors</th>\n",
       "      <td>5.000</td>\n",
       "      <td>3.000</td>\n",
       "      <td>4.000</td>\n",
       "      <td>3.000</td>\n",
       "      <td>5.000</td>\n",
       "    </tr>\n",
       "    <tr>\n",
       "      <th>nr_of_seats</th>\n",
       "      <td>5.000</td>\n",
       "      <td>4.000</td>\n",
       "      <td>4.000</td>\n",
       "      <td>4.000</td>\n",
       "      <td>5.000</td>\n",
       "    </tr>\n",
       "    <tr>\n",
       "      <th>gearing_type</th>\n",
       "      <td>Automatic</td>\n",
       "      <td>Automatic</td>\n",
       "      <td>Automatic</td>\n",
       "      <td>Automatic</td>\n",
       "      <td>Automatic</td>\n",
       "    </tr>\n",
       "    <tr>\n",
       "      <th>engine_displacement_cc</th>\n",
       "      <td>1422.000</td>\n",
       "      <td>1798.000</td>\n",
       "      <td>1598.000</td>\n",
       "      <td>1422.000</td>\n",
       "      <td>1422.000</td>\n",
       "    </tr>\n",
       "    <tr>\n",
       "      <th>cylinders</th>\n",
       "      <td>3.000</td>\n",
       "      <td>4.000</td>\n",
       "      <td>NaN</td>\n",
       "      <td>3.000</td>\n",
       "      <td>3.000</td>\n",
       "    </tr>\n",
       "    <tr>\n",
       "      <th>weight_kg</th>\n",
       "      <td>1220.000</td>\n",
       "      <td>1255.000</td>\n",
       "      <td>NaN</td>\n",
       "      <td>1195.000</td>\n",
       "      <td>NaN</td>\n",
       "    </tr>\n",
       "    <tr>\n",
       "      <th>drive_chain</th>\n",
       "      <td>front</td>\n",
       "      <td>front</td>\n",
       "      <td>front</td>\n",
       "      <td>NaN</td>\n",
       "      <td>front</td>\n",
       "    </tr>\n",
       "    <tr>\n",
       "      <th>fuel</th>\n",
       "      <td>Diesel</td>\n",
       "      <td>Benzine</td>\n",
       "      <td>Diesel</td>\n",
       "      <td>Diesel</td>\n",
       "      <td>Diesel</td>\n",
       "    </tr>\n",
       "    <tr>\n",
       "      <th>co2e_g</th>\n",
       "      <td>99.000</td>\n",
       "      <td>129.000</td>\n",
       "      <td>99.000</td>\n",
       "      <td>99.000</td>\n",
       "      <td>109.000</td>\n",
       "    </tr>\n",
       "    <tr>\n",
       "      <th>emission_class</th>\n",
       "      <td>Euro 6</td>\n",
       "      <td>Euro 6</td>\n",
       "      <td>Euro 6</td>\n",
       "      <td>Euro 6</td>\n",
       "      <td>Euro 6</td>\n",
       "    </tr>\n",
       "    <tr>\n",
       "      <th>comfort&amp;convenience</th>\n",
       "      <td>Air conditioning,Armrest,Automatic climate con...</td>\n",
       "      <td>Air conditioning,Automatic climate control,Hil...</td>\n",
       "      <td>Air conditioning,Cruise control,Electrical sid...</td>\n",
       "      <td>Air suspension,Armrest,Auxiliary heating,Elect...</td>\n",
       "      <td>Air conditioning,Armrest,Automatic climate con...</td>\n",
       "    </tr>\n",
       "    <tr>\n",
       "      <th>entertainment&amp;media</th>\n",
       "      <td>Bluetooth,Hands-free equipment,On-board comput...</td>\n",
       "      <td>Bluetooth,Hands-free equipment,On-board comput...</td>\n",
       "      <td>MP3,On-board computer</td>\n",
       "      <td>Bluetooth,CD player,Hands-free equipment,MP3,O...</td>\n",
       "      <td>Bluetooth,CD player,Hands-free equipment,MP3,O...</td>\n",
       "    </tr>\n",
       "    <tr>\n",
       "      <th>extras</th>\n",
       "      <td>Alloy wheels,Catalytic Converter,Voice Control</td>\n",
       "      <td>Alloy wheels,Sport seats,Sport suspension,Voic...</td>\n",
       "      <td>Alloy wheels,Voice Control</td>\n",
       "      <td>Alloy wheels,Sport seats,Voice Control</td>\n",
       "      <td>Alloy wheels,Sport package,Sport suspension,Vo...</td>\n",
       "    </tr>\n",
       "    <tr>\n",
       "      <th>safety&amp;security</th>\n",
       "      <td>ABS,Central door lock,Daytime running lights,D...</td>\n",
       "      <td>ABS,Central door lock,Central door lock with r...</td>\n",
       "      <td>ABS,Central door lock,Daytime running lights,D...</td>\n",
       "      <td>ABS,Alarm system,Central door lock with remote...</td>\n",
       "      <td>ABS,Central door lock,Driver-side airbag,Elect...</td>\n",
       "    </tr>\n",
       "    <tr>\n",
       "      <th>gears</th>\n",
       "      <td>NaN</td>\n",
       "      <td>7.000</td>\n",
       "      <td>NaN</td>\n",
       "      <td>6.000</td>\n",
       "      <td>NaN</td>\n",
       "    </tr>\n",
       "    <tr>\n",
       "      <th>country_version</th>\n",
       "      <td>NaN</td>\n",
       "      <td>NaN</td>\n",
       "      <td>NaN</td>\n",
       "      <td>NaN</td>\n",
       "      <td>Germany</td>\n",
       "    </tr>\n",
       "    <tr>\n",
       "      <th>consumption_comb</th>\n",
       "      <td>3.800</td>\n",
       "      <td>5.600</td>\n",
       "      <td>3.800</td>\n",
       "      <td>3.800</td>\n",
       "      <td>4.100</td>\n",
       "    </tr>\n",
       "    <tr>\n",
       "      <th>consumption_city</th>\n",
       "      <td>4.300</td>\n",
       "      <td>7.100</td>\n",
       "      <td>4.400</td>\n",
       "      <td>4.300</td>\n",
       "      <td>4.600</td>\n",
       "    </tr>\n",
       "    <tr>\n",
       "      <th>consumption_country</th>\n",
       "      <td>3.500</td>\n",
       "      <td>4.700</td>\n",
       "      <td>3.400</td>\n",
       "      <td>3.500</td>\n",
       "      <td>3.800</td>\n",
       "    </tr>\n",
       "  </tbody>\n",
       "</table>\n",
       "</div>"
      ],
      "text/plain": [
       "                                                                        0  \\\n",
       "short_description             Sportback 1.4 TDI S-tronic Xenon Navi Klima   \n",
       "body_type                                                          Sedans   \n",
       "price_€                                                         15770.000   \n",
       "vat                                                        VAT deductible   \n",
       "km                                                              56013.000   \n",
       "registration                                                     2016.000   \n",
       "prev_owner                                                          2.000   \n",
       "hp_kW                                                              66.000   \n",
       "type                                                                 Used   \n",
       "previous_owners                                                     2.000   \n",
       "warranty                                                              NaN   \n",
       "make                                                                 Audi   \n",
       "model                                                                  A1   \n",
       "body_color                                                          Black   \n",
       "paint_type                                                       Metallic   \n",
       "body_color_original                                         Mythosschwarz   \n",
       "upholstery                                                          Cloth   \n",
       "nr_of_doors                                                         5.000   \n",
       "nr_of_seats                                                         5.000   \n",
       "gearing_type                                                    Automatic   \n",
       "engine_displacement_cc                                           1422.000   \n",
       "cylinders                                                           3.000   \n",
       "weight_kg                                                        1220.000   \n",
       "drive_chain                                                         front   \n",
       "fuel                                                               Diesel   \n",
       "co2e_g                                                             99.000   \n",
       "emission_class                                                     Euro 6   \n",
       "comfort&convenience     Air conditioning,Armrest,Automatic climate con...   \n",
       "entertainment&media     Bluetooth,Hands-free equipment,On-board comput...   \n",
       "extras                     Alloy wheels,Catalytic Converter,Voice Control   \n",
       "safety&security         ABS,Central door lock,Daytime running lights,D...   \n",
       "gears                                                                 NaN   \n",
       "country_version                                                       NaN   \n",
       "consumption_comb                                                    3.800   \n",
       "consumption_city                                                    4.300   \n",
       "consumption_country                                                 3.500   \n",
       "\n",
       "                                                                        1  \\\n",
       "short_description                                          1.8 TFSI sport   \n",
       "body_type                                                          Sedans   \n",
       "price_€                                                         14500.000   \n",
       "vat                                                      Price negotiable   \n",
       "km                                                              80000.000   \n",
       "registration                                                     2017.000   \n",
       "prev_owner                                                            NaN   \n",
       "hp_kW                                                             141.000   \n",
       "type                                                                 Used   \n",
       "previous_owners                                                       NaN   \n",
       "warranty                                                              NaN   \n",
       "make                                                                 Audi   \n",
       "model                                                                  A1   \n",
       "body_color                                                            Red   \n",
       "paint_type                                                            NaN   \n",
       "body_color_original                                                   NaN   \n",
       "upholstery                                                          Cloth   \n",
       "nr_of_doors                                                         3.000   \n",
       "nr_of_seats                                                         4.000   \n",
       "gearing_type                                                    Automatic   \n",
       "engine_displacement_cc                                           1798.000   \n",
       "cylinders                                                           4.000   \n",
       "weight_kg                                                        1255.000   \n",
       "drive_chain                                                         front   \n",
       "fuel                                                              Benzine   \n",
       "co2e_g                                                            129.000   \n",
       "emission_class                                                     Euro 6   \n",
       "comfort&convenience     Air conditioning,Automatic climate control,Hil...   \n",
       "entertainment&media     Bluetooth,Hands-free equipment,On-board comput...   \n",
       "extras                  Alloy wheels,Sport seats,Sport suspension,Voic...   \n",
       "safety&security         ABS,Central door lock,Central door lock with r...   \n",
       "gears                                                               7.000   \n",
       "country_version                                                       NaN   \n",
       "consumption_comb                                                    5.600   \n",
       "consumption_city                                                    7.100   \n",
       "consumption_country                                                 4.700   \n",
       "\n",
       "                                                                        2  \\\n",
       "short_description       Sportback 1.6 TDI S tronic Einparkhilfe plus+m...   \n",
       "body_type                                                          Sedans   \n",
       "price_€                                                         14640.000   \n",
       "vat                                                        VAT deductible   \n",
       "km                                                              83450.000   \n",
       "registration                                                     2016.000   \n",
       "prev_owner                                                          1.000   \n",
       "hp_kW                                                              85.000   \n",
       "type                                                                 Used   \n",
       "previous_owners                                                     1.000   \n",
       "warranty                                                              NaN   \n",
       "make                                                                 Audi   \n",
       "model                                                                  A1   \n",
       "body_color                                                          Black   \n",
       "paint_type                                                       Metallic   \n",
       "body_color_original                                mythosschwarz metallic   \n",
       "upholstery                                                          Cloth   \n",
       "nr_of_doors                                                         4.000   \n",
       "nr_of_seats                                                         4.000   \n",
       "gearing_type                                                    Automatic   \n",
       "engine_displacement_cc                                           1598.000   \n",
       "cylinders                                                             NaN   \n",
       "weight_kg                                                             NaN   \n",
       "drive_chain                                                         front   \n",
       "fuel                                                               Diesel   \n",
       "co2e_g                                                             99.000   \n",
       "emission_class                                                     Euro 6   \n",
       "comfort&convenience     Air conditioning,Cruise control,Electrical sid...   \n",
       "entertainment&media                                 MP3,On-board computer   \n",
       "extras                                         Alloy wheels,Voice Control   \n",
       "safety&security         ABS,Central door lock,Daytime running lights,D...   \n",
       "gears                                                                 NaN   \n",
       "country_version                                                       NaN   \n",
       "consumption_comb                                                    3.800   \n",
       "consumption_city                                                    4.400   \n",
       "consumption_country                                                 3.400   \n",
       "\n",
       "                                                                        3  \\\n",
       "short_description                                 1.4 TDi Design S tronic   \n",
       "body_type                                                          Sedans   \n",
       "price_€                                                         14500.000   \n",
       "vat                                                                   NaN   \n",
       "km                                                              73000.000   \n",
       "registration                                                     2016.000   \n",
       "prev_owner                                                          1.000   \n",
       "hp_kW                                                              66.000   \n",
       "type                                                                 Used   \n",
       "previous_owners                                                     1.000   \n",
       "warranty                                                              NaN   \n",
       "make                                                                 Audi   \n",
       "model                                                                  A1   \n",
       "body_color                                                          Brown   \n",
       "paint_type                                                       Metallic   \n",
       "body_color_original                                                   NaN   \n",
       "upholstery                                                            NaN   \n",
       "nr_of_doors                                                         3.000   \n",
       "nr_of_seats                                                         4.000   \n",
       "gearing_type                                                    Automatic   \n",
       "engine_displacement_cc                                           1422.000   \n",
       "cylinders                                                           3.000   \n",
       "weight_kg                                                        1195.000   \n",
       "drive_chain                                                           NaN   \n",
       "fuel                                                               Diesel   \n",
       "co2e_g                                                             99.000   \n",
       "emission_class                                                     Euro 6   \n",
       "comfort&convenience     Air suspension,Armrest,Auxiliary heating,Elect...   \n",
       "entertainment&media     Bluetooth,CD player,Hands-free equipment,MP3,O...   \n",
       "extras                             Alloy wheels,Sport seats,Voice Control   \n",
       "safety&security         ABS,Alarm system,Central door lock with remote...   \n",
       "gears                                                               6.000   \n",
       "country_version                                                       NaN   \n",
       "consumption_comb                                                    3.800   \n",
       "consumption_city                                                    4.300   \n",
       "consumption_country                                                 3.500   \n",
       "\n",
       "                                                                        4  \n",
       "short_description       Sportback 1.4 TDI S-Tronic S-Line Ext. admired...  \n",
       "body_type                                                          Sedans  \n",
       "price_€                                                         16790.000  \n",
       "vat                                                                   NaN  \n",
       "km                                                              16200.000  \n",
       "registration                                                     2016.000  \n",
       "prev_owner                                                          1.000  \n",
       "hp_kW                                                              66.000  \n",
       "type                                                                 Used  \n",
       "previous_owners                                                     1.000  \n",
       "warranty                                                              NaN  \n",
       "make                                                                 Audi  \n",
       "model                                                                  A1  \n",
       "body_color                                                          Black  \n",
       "paint_type                                                       Metallic  \n",
       "body_color_original                                Mythosschwarz Metallic  \n",
       "upholstery                                                          Cloth  \n",
       "nr_of_doors                                                         5.000  \n",
       "nr_of_seats                                                         5.000  \n",
       "gearing_type                                                    Automatic  \n",
       "engine_displacement_cc                                           1422.000  \n",
       "cylinders                                                           3.000  \n",
       "weight_kg                                                             NaN  \n",
       "drive_chain                                                         front  \n",
       "fuel                                                               Diesel  \n",
       "co2e_g                                                            109.000  \n",
       "emission_class                                                     Euro 6  \n",
       "comfort&convenience     Air conditioning,Armrest,Automatic climate con...  \n",
       "entertainment&media     Bluetooth,CD player,Hands-free equipment,MP3,O...  \n",
       "extras                  Alloy wheels,Sport package,Sport suspension,Vo...  \n",
       "safety&security         ABS,Central door lock,Driver-side airbag,Elect...  \n",
       "gears                                                                 NaN  \n",
       "country_version                                                   Germany  \n",
       "consumption_comb                                                    4.100  \n",
       "consumption_city                                                    4.600  \n",
       "consumption_country                                                 3.800  "
      ]
     },
     "execution_count": 3,
     "metadata": {},
     "output_type": "execute_result"
    }
   ],
   "source": [
    "df.head().T"
   ]
  },
  {
   "cell_type": "code",
   "execution_count": 4,
   "metadata": {
    "ExecuteTime": {
     "end_time": "2022-08-03T14:52:50.457412Z",
     "start_time": "2022-08-03T14:52:50.448468Z"
    }
   },
   "outputs": [
    {
     "data": {
      "text/plain": [
       "(15919, 36)"
      ]
     },
     "execution_count": 4,
     "metadata": {},
     "output_type": "execute_result"
    }
   ],
   "source": [
    "df.shape"
   ]
  },
  {
   "cell_type": "code",
   "execution_count": 5,
   "metadata": {
    "ExecuteTime": {
     "end_time": "2022-08-03T14:52:50.497268Z",
     "start_time": "2022-08-03T14:52:50.462686Z"
    }
   },
   "outputs": [
    {
     "name": "stdout",
     "output_type": "stream",
     "text": [
      "<class 'pandas.core.frame.DataFrame'>\n",
      "RangeIndex: 15919 entries, 0 to 15918\n",
      "Data columns (total 36 columns):\n",
      " #   Column                  Non-Null Count  Dtype  \n",
      "---  ------                  --------------  -----  \n",
      " 0   short_description       15873 non-null  object \n",
      " 1   body_type               15859 non-null  object \n",
      " 2   price_€                 15919 non-null  float64\n",
      " 3   vat                     11406 non-null  object \n",
      " 4   km                      14895 non-null  float64\n",
      " 5   registration            14322 non-null  float64\n",
      " 6   prev_owner              9091 non-null   float64\n",
      " 7   hp_kW                   15831 non-null  float64\n",
      " 8   type                    15917 non-null  object \n",
      " 9   previous_owners         9279 non-null   float64\n",
      " 10  warranty                4853 non-null   float64\n",
      " 11  make                    15919 non-null  object \n",
      " 12  model                   15919 non-null  object \n",
      " 13  body_color              15322 non-null  object \n",
      " 14  paint_type              10147 non-null  object \n",
      " 15  body_color_original     12145 non-null  object \n",
      " 16  upholstery              12199 non-null  object \n",
      " 17  nr_of_doors             15707 non-null  float64\n",
      " 18  nr_of_seats             14942 non-null  float64\n",
      " 19  gearing_type            15919 non-null  object \n",
      " 20  engine_displacement_cc  15423 non-null  float64\n",
      " 21  cylinders               10239 non-null  float64\n",
      " 22  weight_kg               8945 non-null   float64\n",
      " 23  drive_chain             9061 non-null   object \n",
      " 24  fuel                    15919 non-null  object \n",
      " 25  co2e_g                  13477 non-null  float64\n",
      " 26  emission_class          12291 non-null  object \n",
      " 27  comfort&convenience     14999 non-null  object \n",
      " 28  entertainment&media     14545 non-null  object \n",
      " 29  extras                  12957 non-null  object \n",
      " 30  safety&security         14937 non-null  object \n",
      " 31  gears                   11207 non-null  float64\n",
      " 32  country_version         7586 non-null   object \n",
      " 33  consumption_comb        12129 non-null  float64\n",
      " 34  consumption_city        11880 non-null  float64\n",
      " 35  consumption_country     12554 non-null  float64\n",
      "dtypes: float64(17), object(19)\n",
      "memory usage: 4.4+ MB\n"
     ]
    }
   ],
   "source": [
    "df.info()"
   ]
  },
  {
   "cell_type": "code",
   "execution_count": 6,
   "metadata": {
    "ExecuteTime": {
     "end_time": "2022-08-03T14:52:50.529625Z",
     "start_time": "2022-08-03T14:52:50.502452Z"
    },
    "scrolled": true
   },
   "outputs": [
    {
     "data": {
      "text/plain": [
       "short_description            46\n",
       "body_type                    60\n",
       "price_€                       0\n",
       "vat                        4513\n",
       "km                         1024\n",
       "registration               1597\n",
       "prev_owner                 6828\n",
       "hp_kW                        88\n",
       "type                          2\n",
       "previous_owners            6640\n",
       "warranty                  11066\n",
       "make                          0\n",
       "model                         0\n",
       "body_color                  597\n",
       "paint_type                 5772\n",
       "body_color_original        3774\n",
       "upholstery                 3720\n",
       "nr_of_doors                 212\n",
       "nr_of_seats                 977\n",
       "gearing_type                  0\n",
       "engine_displacement_cc      496\n",
       "cylinders                  5680\n",
       "weight_kg                  6974\n",
       "drive_chain                6858\n",
       "fuel                          0\n",
       "co2e_g                     2442\n",
       "emission_class             3628\n",
       "comfort&convenience         920\n",
       "entertainment&media        1374\n",
       "extras                     2962\n",
       "safety&security             982\n",
       "gears                      4712\n",
       "country_version            8333\n",
       "consumption_comb           3790\n",
       "consumption_city           4039\n",
       "consumption_country        3365\n",
       "dtype: int64"
      ]
     },
     "execution_count": 6,
     "metadata": {},
     "output_type": "execute_result"
    }
   ],
   "source": [
    "df.isnull().sum()"
   ]
  },
  {
   "cell_type": "code",
   "execution_count": 7,
   "metadata": {
    "ExecuteTime": {
     "end_time": "2022-08-03T14:52:50.720601Z",
     "start_time": "2022-08-03T14:52:50.532486Z"
    }
   },
   "outputs": [
    {
     "data": {
      "text/plain": [
       "False    14476\n",
       "True      1443\n",
       "dtype: int64"
      ]
     },
     "execution_count": 7,
     "metadata": {},
     "output_type": "execute_result"
    }
   ],
   "source": [
    "df.duplicated().value_counts()"
   ]
  },
  {
   "cell_type": "code",
   "execution_count": 8,
   "metadata": {
    "ExecuteTime": {
     "end_time": "2022-08-03T14:52:50.819838Z",
     "start_time": "2022-08-03T14:52:50.813104Z"
    }
   },
   "outputs": [],
   "source": [
    " # df.drop_duplicates(keep = 'first', inplace = True, ignore_index=True)"
   ]
  },
  {
   "cell_type": "code",
   "execution_count": 9,
   "metadata": {
    "ExecuteTime": {
     "end_time": "2022-08-03T14:52:50.833231Z",
     "start_time": "2022-08-03T14:52:50.826737Z"
    }
   },
   "outputs": [],
   "source": [
    "# Since we dropped \"url\" column (unique column-primary key column) We did not apply the code above. \n",
    "# Due to the nature of car sale business, there might be duplicated values that should not be dropped"
   ]
  },
  {
   "cell_type": "code",
   "execution_count": 10,
   "metadata": {
    "ExecuteTime": {
     "end_time": "2022-08-03T14:52:50.950531Z",
     "start_time": "2022-08-03T14:52:50.841770Z"
    }
   },
   "outputs": [
    {
     "data": {
      "text/plain": [
       "short_description            46\n",
       "body_type                    60\n",
       "price_€                       0\n",
       "vat                        4513\n",
       "km                         1024\n",
       "registration               1597\n",
       "prev_owner                 6828\n",
       "hp_kW                        88\n",
       "type                          2\n",
       "previous_owners            6640\n",
       "warranty                  11066\n",
       "make                          0\n",
       "model                         0\n",
       "body_color                  597\n",
       "paint_type                 5772\n",
       "body_color_original        3774\n",
       "upholstery                 3720\n",
       "nr_of_doors                 212\n",
       "nr_of_seats                 977\n",
       "gearing_type                  0\n",
       "engine_displacement_cc      496\n",
       "cylinders                  5680\n",
       "weight_kg                  6974\n",
       "drive_chain                6858\n",
       "fuel                          0\n",
       "co2e_g                     2442\n",
       "emission_class             3628\n",
       "comfort&convenience         920\n",
       "entertainment&media        1374\n",
       "extras                     2962\n",
       "safety&security             982\n",
       "gears                      4712\n",
       "country_version            8333\n",
       "consumption_comb           3790\n",
       "consumption_city           4039\n",
       "consumption_country        3365\n",
       "dtype: int64"
      ]
     },
     "execution_count": 10,
     "metadata": {},
     "output_type": "execute_result"
    }
   ],
   "source": [
    "df.isnull().sum()"
   ]
  },
  {
   "cell_type": "code",
   "execution_count": 11,
   "metadata": {
    "ExecuteTime": {
     "end_time": "2022-08-03T14:52:51.239825Z",
     "start_time": "2022-08-03T14:52:51.063643Z"
    }
   },
   "outputs": [
    {
     "data": {
      "text/html": [
       "<div>\n",
       "<style scoped>\n",
       "    .dataframe tbody tr th:only-of-type {\n",
       "        vertical-align: middle;\n",
       "    }\n",
       "\n",
       "    .dataframe tbody tr th {\n",
       "        vertical-align: top;\n",
       "    }\n",
       "\n",
       "    .dataframe thead th {\n",
       "        text-align: right;\n",
       "    }\n",
       "</style>\n",
       "<table border=\"1\" class=\"dataframe\">\n",
       "  <thead>\n",
       "    <tr style=\"text-align: right;\">\n",
       "      <th></th>\n",
       "      <th>count</th>\n",
       "      <th>mean</th>\n",
       "      <th>std</th>\n",
       "      <th>min</th>\n",
       "      <th>25%</th>\n",
       "      <th>50%</th>\n",
       "      <th>75%</th>\n",
       "      <th>max</th>\n",
       "    </tr>\n",
       "  </thead>\n",
       "  <tbody>\n",
       "    <tr>\n",
       "      <th>price_€</th>\n",
       "      <td>15919.000</td>\n",
       "      <td>18019.897</td>\n",
       "      <td>7386.169</td>\n",
       "      <td>13.000</td>\n",
       "      <td>12850.000</td>\n",
       "      <td>16900.000</td>\n",
       "      <td>21900.000</td>\n",
       "      <td>74600.000</td>\n",
       "    </tr>\n",
       "    <tr>\n",
       "      <th>km</th>\n",
       "      <td>14895.000</td>\n",
       "      <td>34130.128</td>\n",
       "      <td>37352.978</td>\n",
       "      <td>0.000</td>\n",
       "      <td>5153.000</td>\n",
       "      <td>22740.000</td>\n",
       "      <td>49371.500</td>\n",
       "      <td>317000.000</td>\n",
       "    </tr>\n",
       "    <tr>\n",
       "      <th>registration</th>\n",
       "      <td>14322.000</td>\n",
       "      <td>2017.458</td>\n",
       "      <td>1.077</td>\n",
       "      <td>2016.000</td>\n",
       "      <td>2016.000</td>\n",
       "      <td>2018.000</td>\n",
       "      <td>2018.000</td>\n",
       "      <td>2019.000</td>\n",
       "    </tr>\n",
       "    <tr>\n",
       "      <th>prev_owner</th>\n",
       "      <td>9091.000</td>\n",
       "      <td>1.090</td>\n",
       "      <td>0.295</td>\n",
       "      <td>1.000</td>\n",
       "      <td>1.000</td>\n",
       "      <td>1.000</td>\n",
       "      <td>1.000</td>\n",
       "      <td>4.000</td>\n",
       "    </tr>\n",
       "    <tr>\n",
       "      <th>hp_kW</th>\n",
       "      <td>15831.000</td>\n",
       "      <td>88.368</td>\n",
       "      <td>26.835</td>\n",
       "      <td>1.000</td>\n",
       "      <td>66.000</td>\n",
       "      <td>85.000</td>\n",
       "      <td>101.000</td>\n",
       "      <td>294.000</td>\n",
       "    </tr>\n",
       "    <tr>\n",
       "      <th>previous_owners</th>\n",
       "      <td>9279.000</td>\n",
       "      <td>1.068</td>\n",
       "      <td>0.330</td>\n",
       "      <td>0.000</td>\n",
       "      <td>1.000</td>\n",
       "      <td>1.000</td>\n",
       "      <td>1.000</td>\n",
       "      <td>4.000</td>\n",
       "    </tr>\n",
       "    <tr>\n",
       "      <th>warranty</th>\n",
       "      <td>4853.000</td>\n",
       "      <td>21.927</td>\n",
       "      <td>15.771</td>\n",
       "      <td>1.000</td>\n",
       "      <td>12.000</td>\n",
       "      <td>12.000</td>\n",
       "      <td>24.000</td>\n",
       "      <td>72.000</td>\n",
       "    </tr>\n",
       "    <tr>\n",
       "      <th>nr_of_doors</th>\n",
       "      <td>15707.000</td>\n",
       "      <td>4.656</td>\n",
       "      <td>0.645</td>\n",
       "      <td>1.000</td>\n",
       "      <td>4.000</td>\n",
       "      <td>5.000</td>\n",
       "      <td>5.000</td>\n",
       "      <td>7.000</td>\n",
       "    </tr>\n",
       "    <tr>\n",
       "      <th>nr_of_seats</th>\n",
       "      <td>14942.000</td>\n",
       "      <td>4.950</td>\n",
       "      <td>0.490</td>\n",
       "      <td>2.000</td>\n",
       "      <td>5.000</td>\n",
       "      <td>5.000</td>\n",
       "      <td>5.000</td>\n",
       "      <td>7.000</td>\n",
       "    </tr>\n",
       "    <tr>\n",
       "      <th>engine_displacement_cc</th>\n",
       "      <td>15423.000</td>\n",
       "      <td>1423.541</td>\n",
       "      <td>333.531</td>\n",
       "      <td>1.000</td>\n",
       "      <td>1229.000</td>\n",
       "      <td>1461.000</td>\n",
       "      <td>1598.000</td>\n",
       "      <td>16000.000</td>\n",
       "    </tr>\n",
       "    <tr>\n",
       "      <th>cylinders</th>\n",
       "      <td>10239.000</td>\n",
       "      <td>3.797</td>\n",
       "      <td>0.415</td>\n",
       "      <td>1.000</td>\n",
       "      <td>4.000</td>\n",
       "      <td>4.000</td>\n",
       "      <td>4.000</td>\n",
       "      <td>8.000</td>\n",
       "    </tr>\n",
       "    <tr>\n",
       "      <th>weight_kg</th>\n",
       "      <td>8945.000</td>\n",
       "      <td>1351.107</td>\n",
       "      <td>220.662</td>\n",
       "      <td>1.000</td>\n",
       "      <td>1165.000</td>\n",
       "      <td>1288.000</td>\n",
       "      <td>1487.000</td>\n",
       "      <td>2471.000</td>\n",
       "    </tr>\n",
       "    <tr>\n",
       "      <th>co2e_g</th>\n",
       "      <td>13477.000</td>\n",
       "      <td>123.794</td>\n",
       "      <td>270.000</td>\n",
       "      <td>14.000</td>\n",
       "      <td>104.000</td>\n",
       "      <td>116.000</td>\n",
       "      <td>129.000</td>\n",
       "      <td>14457.000</td>\n",
       "    </tr>\n",
       "    <tr>\n",
       "      <th>gears</th>\n",
       "      <td>11207.000</td>\n",
       "      <td>5.925</td>\n",
       "      <td>0.848</td>\n",
       "      <td>1.000</td>\n",
       "      <td>5.000</td>\n",
       "      <td>6.000</td>\n",
       "      <td>6.000</td>\n",
       "      <td>50.000</td>\n",
       "    </tr>\n",
       "    <tr>\n",
       "      <th>consumption_comb</th>\n",
       "      <td>12129.000</td>\n",
       "      <td>4.861</td>\n",
       "      <td>0.906</td>\n",
       "      <td>1.200</td>\n",
       "      <td>4.200</td>\n",
       "      <td>4.800</td>\n",
       "      <td>5.500</td>\n",
       "      <td>13.800</td>\n",
       "    </tr>\n",
       "    <tr>\n",
       "      <th>consumption_city</th>\n",
       "      <td>11880.000</td>\n",
       "      <td>5.973</td>\n",
       "      <td>1.409</td>\n",
       "      <td>3.300</td>\n",
       "      <td>4.700</td>\n",
       "      <td>5.800</td>\n",
       "      <td>7.100</td>\n",
       "      <td>19.900</td>\n",
       "    </tr>\n",
       "    <tr>\n",
       "      <th>consumption_country</th>\n",
       "      <td>12554.000</td>\n",
       "      <td>4.214</td>\n",
       "      <td>0.676</td>\n",
       "      <td>2.900</td>\n",
       "      <td>3.700</td>\n",
       "      <td>4.200</td>\n",
       "      <td>4.600</td>\n",
       "      <td>10.300</td>\n",
       "    </tr>\n",
       "  </tbody>\n",
       "</table>\n",
       "</div>"
      ],
      "text/plain": [
       "                           count      mean       std      min       25%  \\\n",
       "price_€                15919.000 18019.897  7386.169   13.000 12850.000   \n",
       "km                     14895.000 34130.128 37352.978    0.000  5153.000   \n",
       "registration           14322.000  2017.458     1.077 2016.000  2016.000   \n",
       "prev_owner              9091.000     1.090     0.295    1.000     1.000   \n",
       "hp_kW                  15831.000    88.368    26.835    1.000    66.000   \n",
       "previous_owners         9279.000     1.068     0.330    0.000     1.000   \n",
       "warranty                4853.000    21.927    15.771    1.000    12.000   \n",
       "nr_of_doors            15707.000     4.656     0.645    1.000     4.000   \n",
       "nr_of_seats            14942.000     4.950     0.490    2.000     5.000   \n",
       "engine_displacement_cc 15423.000  1423.541   333.531    1.000  1229.000   \n",
       "cylinders              10239.000     3.797     0.415    1.000     4.000   \n",
       "weight_kg               8945.000  1351.107   220.662    1.000  1165.000   \n",
       "co2e_g                 13477.000   123.794   270.000   14.000   104.000   \n",
       "gears                  11207.000     5.925     0.848    1.000     5.000   \n",
       "consumption_comb       12129.000     4.861     0.906    1.200     4.200   \n",
       "consumption_city       11880.000     5.973     1.409    3.300     4.700   \n",
       "consumption_country    12554.000     4.214     0.676    2.900     3.700   \n",
       "\n",
       "                             50%       75%        max  \n",
       "price_€                16900.000 21900.000  74600.000  \n",
       "km                     22740.000 49371.500 317000.000  \n",
       "registration            2018.000  2018.000   2019.000  \n",
       "prev_owner                 1.000     1.000      4.000  \n",
       "hp_kW                     85.000   101.000    294.000  \n",
       "previous_owners            1.000     1.000      4.000  \n",
       "warranty                  12.000    24.000     72.000  \n",
       "nr_of_doors                5.000     5.000      7.000  \n",
       "nr_of_seats                5.000     5.000      7.000  \n",
       "engine_displacement_cc  1461.000  1598.000  16000.000  \n",
       "cylinders                  4.000     4.000      8.000  \n",
       "weight_kg               1288.000  1487.000   2471.000  \n",
       "co2e_g                   116.000   129.000  14457.000  \n",
       "gears                      6.000     6.000     50.000  \n",
       "consumption_comb           4.800     5.500     13.800  \n",
       "consumption_city           5.800     7.100     19.900  \n",
       "consumption_country        4.200     4.600     10.300  "
      ]
     },
     "execution_count": 11,
     "metadata": {},
     "output_type": "execute_result"
    }
   ],
   "source": [
    "df.describe().T"
   ]
  },
  {
   "cell_type": "code",
   "execution_count": 12,
   "metadata": {
    "ExecuteTime": {
     "end_time": "2022-08-03T14:52:51.349162Z",
     "start_time": "2022-08-03T14:52:51.245575Z"
    }
   },
   "outputs": [
    {
     "data": {
      "text/html": [
       "<div>\n",
       "<style scoped>\n",
       "    .dataframe tbody tr th:only-of-type {\n",
       "        vertical-align: middle;\n",
       "    }\n",
       "\n",
       "    .dataframe tbody tr th {\n",
       "        vertical-align: top;\n",
       "    }\n",
       "\n",
       "    .dataframe thead th {\n",
       "        text-align: right;\n",
       "    }\n",
       "</style>\n",
       "<table border=\"1\" class=\"dataframe\">\n",
       "  <thead>\n",
       "    <tr style=\"text-align: right;\">\n",
       "      <th></th>\n",
       "      <th>count</th>\n",
       "      <th>unique</th>\n",
       "      <th>top</th>\n",
       "      <th>freq</th>\n",
       "    </tr>\n",
       "  </thead>\n",
       "  <tbody>\n",
       "    <tr>\n",
       "      <th>short_description</th>\n",
       "      <td>15873</td>\n",
       "      <td>10001</td>\n",
       "      <td>SPB 1.6 TDI 116 CV S tronic Sport</td>\n",
       "      <td>64</td>\n",
       "    </tr>\n",
       "    <tr>\n",
       "      <th>body_type</th>\n",
       "      <td>15859</td>\n",
       "      <td>9</td>\n",
       "      <td>Sedans</td>\n",
       "      <td>7903</td>\n",
       "    </tr>\n",
       "    <tr>\n",
       "      <th>vat</th>\n",
       "      <td>11406</td>\n",
       "      <td>2</td>\n",
       "      <td>VAT deductible</td>\n",
       "      <td>10980</td>\n",
       "    </tr>\n",
       "    <tr>\n",
       "      <th>type</th>\n",
       "      <td>15917</td>\n",
       "      <td>5</td>\n",
       "      <td>Used</td>\n",
       "      <td>11096</td>\n",
       "    </tr>\n",
       "    <tr>\n",
       "      <th>make</th>\n",
       "      <td>15919</td>\n",
       "      <td>3</td>\n",
       "      <td>Opel</td>\n",
       "      <td>7343</td>\n",
       "    </tr>\n",
       "    <tr>\n",
       "      <th>model</th>\n",
       "      <td>15919</td>\n",
       "      <td>9</td>\n",
       "      <td>A3</td>\n",
       "      <td>3097</td>\n",
       "    </tr>\n",
       "    <tr>\n",
       "      <th>body_color</th>\n",
       "      <td>15322</td>\n",
       "      <td>14</td>\n",
       "      <td>Black</td>\n",
       "      <td>3745</td>\n",
       "    </tr>\n",
       "    <tr>\n",
       "      <th>paint_type</th>\n",
       "      <td>10147</td>\n",
       "      <td>3</td>\n",
       "      <td>Metallic</td>\n",
       "      <td>9794</td>\n",
       "    </tr>\n",
       "    <tr>\n",
       "      <th>body_color_original</th>\n",
       "      <td>12145</td>\n",
       "      <td>1926</td>\n",
       "      <td>Onyx Schwarz</td>\n",
       "      <td>338</td>\n",
       "    </tr>\n",
       "    <tr>\n",
       "      <th>upholstery</th>\n",
       "      <td>12199</td>\n",
       "      <td>6</td>\n",
       "      <td>Cloth</td>\n",
       "      <td>9206</td>\n",
       "    </tr>\n",
       "    <tr>\n",
       "      <th>gearing_type</th>\n",
       "      <td>15919</td>\n",
       "      <td>3</td>\n",
       "      <td>Manual</td>\n",
       "      <td>8153</td>\n",
       "    </tr>\n",
       "    <tr>\n",
       "      <th>drive_chain</th>\n",
       "      <td>9061</td>\n",
       "      <td>3</td>\n",
       "      <td>front</td>\n",
       "      <td>8886</td>\n",
       "    </tr>\n",
       "    <tr>\n",
       "      <th>fuel</th>\n",
       "      <td>15919</td>\n",
       "      <td>4</td>\n",
       "      <td>Benzine</td>\n",
       "      <td>8551</td>\n",
       "    </tr>\n",
       "    <tr>\n",
       "      <th>emission_class</th>\n",
       "      <td>12291</td>\n",
       "      <td>6</td>\n",
       "      <td>Euro 6</td>\n",
       "      <td>10139</td>\n",
       "    </tr>\n",
       "    <tr>\n",
       "      <th>comfort&amp;convenience</th>\n",
       "      <td>14999</td>\n",
       "      <td>6198</td>\n",
       "      <td>Air conditioning,Electrical side mirrors,Hill ...</td>\n",
       "      <td>216</td>\n",
       "    </tr>\n",
       "    <tr>\n",
       "      <th>entertainment&amp;media</th>\n",
       "      <td>14545</td>\n",
       "      <td>346</td>\n",
       "      <td>Bluetooth,Hands-free equipment,On-board comput...</td>\n",
       "      <td>1282</td>\n",
       "    </tr>\n",
       "    <tr>\n",
       "      <th>extras</th>\n",
       "      <td>12957</td>\n",
       "      <td>659</td>\n",
       "      <td>Alloy wheels</td>\n",
       "      <td>3245</td>\n",
       "    </tr>\n",
       "    <tr>\n",
       "      <th>safety&amp;security</th>\n",
       "      <td>14937</td>\n",
       "      <td>4443</td>\n",
       "      <td>ABS,Central door lock,Daytime running lights,D...</td>\n",
       "      <td>538</td>\n",
       "    </tr>\n",
       "    <tr>\n",
       "      <th>country_version</th>\n",
       "      <td>7586</td>\n",
       "      <td>23</td>\n",
       "      <td>Germany</td>\n",
       "      <td>4502</td>\n",
       "    </tr>\n",
       "  </tbody>\n",
       "</table>\n",
       "</div>"
      ],
      "text/plain": [
       "                     count unique  \\\n",
       "short_description    15873  10001   \n",
       "body_type            15859      9   \n",
       "vat                  11406      2   \n",
       "type                 15917      5   \n",
       "make                 15919      3   \n",
       "model                15919      9   \n",
       "body_color           15322     14   \n",
       "paint_type           10147      3   \n",
       "body_color_original  12145   1926   \n",
       "upholstery           12199      6   \n",
       "gearing_type         15919      3   \n",
       "drive_chain           9061      3   \n",
       "fuel                 15919      4   \n",
       "emission_class       12291      6   \n",
       "comfort&convenience  14999   6198   \n",
       "entertainment&media  14545    346   \n",
       "extras               12957    659   \n",
       "safety&security      14937   4443   \n",
       "country_version       7586     23   \n",
       "\n",
       "                                                                   top   freq  \n",
       "short_description                    SPB 1.6 TDI 116 CV S tronic Sport     64  \n",
       "body_type                                                       Sedans   7903  \n",
       "vat                                                     VAT deductible  10980  \n",
       "type                                                              Used  11096  \n",
       "make                                                              Opel   7343  \n",
       "model                                                               A3   3097  \n",
       "body_color                                                       Black   3745  \n",
       "paint_type                                                    Metallic   9794  \n",
       "body_color_original                                       Onyx Schwarz    338  \n",
       "upholstery                                                       Cloth   9206  \n",
       "gearing_type                                                    Manual   8153  \n",
       "drive_chain                                                      front   8886  \n",
       "fuel                                                           Benzine   8551  \n",
       "emission_class                                                  Euro 6  10139  \n",
       "comfort&convenience  Air conditioning,Electrical side mirrors,Hill ...    216  \n",
       "entertainment&media  Bluetooth,Hands-free equipment,On-board comput...   1282  \n",
       "extras                                                    Alloy wheels   3245  \n",
       "safety&security      ABS,Central door lock,Daytime running lights,D...    538  \n",
       "country_version                                                Germany   4502  "
      ]
     },
     "execution_count": 12,
     "metadata": {},
     "output_type": "execute_result"
    }
   ],
   "source": [
    "df.describe(include=\"object\").T"
   ]
  },
  {
   "cell_type": "code",
   "execution_count": 13,
   "metadata": {
    "ExecuteTime": {
     "end_time": "2022-08-03T14:52:51.365893Z",
     "start_time": "2022-08-03T14:52:51.352756Z"
    }
   },
   "outputs": [
    {
     "data": {
      "text/plain": [
       "8594       13.000\n",
       "8828      120.000\n",
       "6066      255.000\n",
       "8829      331.000\n",
       "8827     4950.000\n",
       "           ...   \n",
       "15828   64332.000\n",
       "3587    64900.000\n",
       "3649    67600.000\n",
       "15826   68320.000\n",
       "3648    74600.000\n",
       "Name: price_€, Length: 15919, dtype: float64"
      ]
     },
     "execution_count": 13,
     "metadata": {},
     "output_type": "execute_result"
    }
   ],
   "source": [
    "df[\"price_€\"].sort_values()"
   ]
  },
  {
   "cell_type": "code",
   "execution_count": 14,
   "metadata": {
    "ExecuteTime": {
     "end_time": "2022-08-03T14:52:51.375999Z",
     "start_time": "2022-08-03T14:52:51.369403Z"
    }
   },
   "outputs": [],
   "source": [
    "# We created \"age\" column with using \"registraion\" column and then dropped \"registration\" column."
   ]
  },
  {
   "cell_type": "code",
   "execution_count": 15,
   "metadata": {
    "ExecuteTime": {
     "end_time": "2022-08-03T14:52:51.396433Z",
     "start_time": "2022-08-03T14:52:51.385806Z"
    }
   },
   "outputs": [],
   "source": [
    "df[\"age\"] = 2019 - df.registration\n"
   ]
  },
  {
   "cell_type": "code",
   "execution_count": 16,
   "metadata": {
    "ExecuteTime": {
     "end_time": "2022-08-03T14:52:51.445422Z",
     "start_time": "2022-08-03T14:52:51.400033Z"
    }
   },
   "outputs": [
    {
     "name": "stdout",
     "output_type": "stream",
     "text": [
      "<class 'pandas.core.frame.DataFrame'>\n",
      "RangeIndex: 15919 entries, 0 to 15918\n",
      "Data columns (total 37 columns):\n",
      " #   Column                  Non-Null Count  Dtype  \n",
      "---  ------                  --------------  -----  \n",
      " 0   short_description       15873 non-null  object \n",
      " 1   body_type               15859 non-null  object \n",
      " 2   price_€                 15919 non-null  float64\n",
      " 3   vat                     11406 non-null  object \n",
      " 4   km                      14895 non-null  float64\n",
      " 5   registration            14322 non-null  float64\n",
      " 6   prev_owner              9091 non-null   float64\n",
      " 7   hp_kW                   15831 non-null  float64\n",
      " 8   type                    15917 non-null  object \n",
      " 9   previous_owners         9279 non-null   float64\n",
      " 10  warranty                4853 non-null   float64\n",
      " 11  make                    15919 non-null  object \n",
      " 12  model                   15919 non-null  object \n",
      " 13  body_color              15322 non-null  object \n",
      " 14  paint_type              10147 non-null  object \n",
      " 15  body_color_original     12145 non-null  object \n",
      " 16  upholstery              12199 non-null  object \n",
      " 17  nr_of_doors             15707 non-null  float64\n",
      " 18  nr_of_seats             14942 non-null  float64\n",
      " 19  gearing_type            15919 non-null  object \n",
      " 20  engine_displacement_cc  15423 non-null  float64\n",
      " 21  cylinders               10239 non-null  float64\n",
      " 22  weight_kg               8945 non-null   float64\n",
      " 23  drive_chain             9061 non-null   object \n",
      " 24  fuel                    15919 non-null  object \n",
      " 25  co2e_g                  13477 non-null  float64\n",
      " 26  emission_class          12291 non-null  object \n",
      " 27  comfort&convenience     14999 non-null  object \n",
      " 28  entertainment&media     14545 non-null  object \n",
      " 29  extras                  12957 non-null  object \n",
      " 30  safety&security         14937 non-null  object \n",
      " 31  gears                   11207 non-null  float64\n",
      " 32  country_version         7586 non-null   object \n",
      " 33  consumption_comb        12129 non-null  float64\n",
      " 34  consumption_city        11880 non-null  float64\n",
      " 35  consumption_country     12554 non-null  float64\n",
      " 36  age                     14322 non-null  float64\n",
      "dtypes: float64(18), object(19)\n",
      "memory usage: 4.5+ MB\n"
     ]
    }
   ],
   "source": [
    "df.info()"
   ]
  },
  {
   "cell_type": "code",
   "execution_count": null,
   "metadata": {},
   "outputs": [],
   "source": []
  },
  {
   "cell_type": "code",
   "execution_count": null,
   "metadata": {},
   "outputs": [],
   "source": []
  },
  {
   "cell_type": "code",
   "execution_count": 17,
   "metadata": {
    "ExecuteTime": {
     "end_time": "2022-08-03T14:52:51.485190Z",
     "start_time": "2022-08-03T14:52:51.457058Z"
    }
   },
   "outputs": [],
   "source": [
    "df.drop([\"registration\", \"short_description\"], axis=1, inplace=True)"
   ]
  },
  {
   "cell_type": "code",
   "execution_count": 18,
   "metadata": {
    "ExecuteTime": {
     "end_time": "2022-08-03T14:52:51.516547Z",
     "start_time": "2022-08-03T14:52:51.487609Z"
    },
    "scrolled": false
   },
   "outputs": [
    {
     "data": {
      "text/plain": [
       "body_type                    60\n",
       "price_€                       0\n",
       "vat                        4513\n",
       "km                         1024\n",
       "prev_owner                 6828\n",
       "hp_kW                        88\n",
       "type                          2\n",
       "previous_owners            6640\n",
       "warranty                  11066\n",
       "make                          0\n",
       "model                         0\n",
       "body_color                  597\n",
       "paint_type                 5772\n",
       "body_color_original        3774\n",
       "upholstery                 3720\n",
       "nr_of_doors                 212\n",
       "nr_of_seats                 977\n",
       "gearing_type                  0\n",
       "engine_displacement_cc      496\n",
       "cylinders                  5680\n",
       "weight_kg                  6974\n",
       "drive_chain                6858\n",
       "fuel                          0\n",
       "co2e_g                     2442\n",
       "emission_class             3628\n",
       "comfort&convenience         920\n",
       "entertainment&media        1374\n",
       "extras                     2962\n",
       "safety&security             982\n",
       "gears                      4712\n",
       "country_version            8333\n",
       "consumption_comb           3790\n",
       "consumption_city           4039\n",
       "consumption_country        3365\n",
       "age                        1597\n",
       "dtype: int64"
      ]
     },
     "execution_count": 18,
     "metadata": {},
     "output_type": "execute_result"
    }
   ],
   "source": [
    "df.isnull().sum()"
   ]
  },
  {
   "cell_type": "code",
   "execution_count": 19,
   "metadata": {
    "ExecuteTime": {
     "end_time": "2022-08-03T14:52:51.526078Z",
     "start_time": "2022-08-03T14:52:51.520861Z"
    }
   },
   "outputs": [],
   "source": [
    "# We applied the function above for each column to analyze."
   ]
  },
  {
   "cell_type": "code",
   "execution_count": 20,
   "metadata": {
    "ExecuteTime": {
     "end_time": "2022-08-03T14:52:51.539115Z",
     "start_time": "2022-08-03T14:52:51.529736Z"
    }
   },
   "outputs": [],
   "source": [
    "def check_df(col):\n",
    "    print('column name : ', col)\n",
    "    print('--------------------------------')\n",
    "    print('Per_of_Nulls   : ', '%', round(df[col].isnull().sum() / df.shape[0]*100, 2))\n",
    "    print('Num_of_Nulls   : ', df[col].isnull().sum())\n",
    "    print(df[col].value_counts(dropna = False))\n",
    "    print(\"*\"*30)\n",
    "    print(\"\\n\\n\")"
   ]
  },
  {
   "cell_type": "code",
   "execution_count": null,
   "metadata": {},
   "outputs": [],
   "source": []
  },
  {
   "cell_type": "markdown",
   "metadata": {},
   "source": [
    "## 1. body_type"
   ]
  },
  {
   "cell_type": "code",
   "execution_count": 21,
   "metadata": {
    "ExecuteTime": {
     "end_time": "2022-08-03T14:52:51.554111Z",
     "start_time": "2022-08-03T14:52:51.542522Z"
    }
   },
   "outputs": [
    {
     "name": "stdout",
     "output_type": "stream",
     "text": [
      "column name :  body_type\n",
      "--------------------------------\n",
      "Per_of_Nulls   :  % 0.38\n",
      "Num_of_Nulls   :  60\n",
      "Sedans           7903\n",
      "Station wagon    3553\n",
      "Compact          3153\n",
      "Van               783\n",
      "Other             290\n",
      "Transporter        88\n",
      "NaN                60\n",
      "Off-Road           56\n",
      "Coupe              25\n",
      "Convertible         8\n",
      "Name: body_type, dtype: int64\n",
      "******************************\n",
      "\n",
      "\n",
      "\n"
     ]
    }
   ],
   "source": [
    "check_df(\"body_type\")"
   ]
  },
  {
   "cell_type": "code",
   "execution_count": 22,
   "metadata": {
    "ExecuteTime": {
     "end_time": "2022-08-03T14:52:51.578385Z",
     "start_time": "2022-08-03T14:52:51.568909Z"
    }
   },
   "outputs": [
    {
     "data": {
      "text/plain": [
       "60"
      ]
     },
     "execution_count": 22,
     "metadata": {},
     "output_type": "execute_result"
    }
   ],
   "source": [
    "df.body_type.isnull().sum()"
   ]
  },
  {
   "cell_type": "code",
   "execution_count": null,
   "metadata": {},
   "outputs": [],
   "source": []
  },
  {
   "cell_type": "code",
   "execution_count": null,
   "metadata": {},
   "outputs": [],
   "source": []
  },
  {
   "cell_type": "code",
   "execution_count": 23,
   "metadata": {
    "ExecuteTime": {
     "end_time": "2022-08-03T14:52:51.627286Z",
     "start_time": "2022-08-03T14:52:51.597640Z"
    },
    "scrolled": true
   },
   "outputs": [
    {
     "data": {
      "text/html": [
       "<div>\n",
       "<style scoped>\n",
       "    .dataframe tbody tr th:only-of-type {\n",
       "        vertical-align: middle;\n",
       "    }\n",
       "\n",
       "    .dataframe tbody tr th {\n",
       "        vertical-align: top;\n",
       "    }\n",
       "\n",
       "    .dataframe thead th {\n",
       "        text-align: right;\n",
       "    }\n",
       "</style>\n",
       "<table border=\"1\" class=\"dataframe\">\n",
       "  <thead>\n",
       "    <tr style=\"text-align: right;\">\n",
       "      <th></th>\n",
       "      <th>make</th>\n",
       "      <th>model</th>\n",
       "      <th>nr_of_doors</th>\n",
       "      <th>nr_of_seats</th>\n",
       "    </tr>\n",
       "  </thead>\n",
       "  <tbody>\n",
       "    <tr>\n",
       "      <th>3175</th>\n",
       "      <td>Audi</td>\n",
       "      <td>A3</td>\n",
       "      <td>5.000</td>\n",
       "      <td>5.000</td>\n",
       "    </tr>\n",
       "    <tr>\n",
       "      <th>3255</th>\n",
       "      <td>Audi</td>\n",
       "      <td>A3</td>\n",
       "      <td>3.000</td>\n",
       "      <td>5.000</td>\n",
       "    </tr>\n",
       "    <tr>\n",
       "      <th>3975</th>\n",
       "      <td>Audi</td>\n",
       "      <td>A3</td>\n",
       "      <td>5.000</td>\n",
       "      <td>5.000</td>\n",
       "    </tr>\n",
       "    <tr>\n",
       "      <th>3997</th>\n",
       "      <td>Audi</td>\n",
       "      <td>A3</td>\n",
       "      <td>3.000</td>\n",
       "      <td>NaN</td>\n",
       "    </tr>\n",
       "    <tr>\n",
       "      <th>4206</th>\n",
       "      <td>Audi</td>\n",
       "      <td>A3</td>\n",
       "      <td>5.000</td>\n",
       "      <td>NaN</td>\n",
       "    </tr>\n",
       "    <tr>\n",
       "      <th>4297</th>\n",
       "      <td>Audi</td>\n",
       "      <td>A3</td>\n",
       "      <td>5.000</td>\n",
       "      <td>NaN</td>\n",
       "    </tr>\n",
       "    <tr>\n",
       "      <th>4298</th>\n",
       "      <td>Audi</td>\n",
       "      <td>A3</td>\n",
       "      <td>5.000</td>\n",
       "      <td>NaN</td>\n",
       "    </tr>\n",
       "    <tr>\n",
       "      <th>5718</th>\n",
       "      <td>Opel</td>\n",
       "      <td>Astra</td>\n",
       "      <td>5.000</td>\n",
       "      <td>NaN</td>\n",
       "    </tr>\n",
       "    <tr>\n",
       "      <th>5938</th>\n",
       "      <td>Opel</td>\n",
       "      <td>Astra</td>\n",
       "      <td>5.000</td>\n",
       "      <td>NaN</td>\n",
       "    </tr>\n",
       "    <tr>\n",
       "      <th>5940</th>\n",
       "      <td>Opel</td>\n",
       "      <td>Astra</td>\n",
       "      <td>5.000</td>\n",
       "      <td>NaN</td>\n",
       "    </tr>\n",
       "    <tr>\n",
       "      <th>6920</th>\n",
       "      <td>Opel</td>\n",
       "      <td>Astra</td>\n",
       "      <td>5.000</td>\n",
       "      <td>NaN</td>\n",
       "    </tr>\n",
       "    <tr>\n",
       "      <th>6922</th>\n",
       "      <td>Opel</td>\n",
       "      <td>Astra</td>\n",
       "      <td>5.000</td>\n",
       "      <td>NaN</td>\n",
       "    </tr>\n",
       "    <tr>\n",
       "      <th>6927</th>\n",
       "      <td>Opel</td>\n",
       "      <td>Astra</td>\n",
       "      <td>5.000</td>\n",
       "      <td>NaN</td>\n",
       "    </tr>\n",
       "    <tr>\n",
       "      <th>7709</th>\n",
       "      <td>Opel</td>\n",
       "      <td>Astra</td>\n",
       "      <td>5.000</td>\n",
       "      <td>NaN</td>\n",
       "    </tr>\n",
       "    <tr>\n",
       "      <th>8408</th>\n",
       "      <td>Opel</td>\n",
       "      <td>Corsa</td>\n",
       "      <td>5.000</td>\n",
       "      <td>5.000</td>\n",
       "    </tr>\n",
       "    <tr>\n",
       "      <th>8584</th>\n",
       "      <td>Opel</td>\n",
       "      <td>Corsa</td>\n",
       "      <td>NaN</td>\n",
       "      <td>NaN</td>\n",
       "    </tr>\n",
       "    <tr>\n",
       "      <th>10837</th>\n",
       "      <td>Opel</td>\n",
       "      <td>Insignia</td>\n",
       "      <td>5.000</td>\n",
       "      <td>NaN</td>\n",
       "    </tr>\n",
       "    <tr>\n",
       "      <th>10838</th>\n",
       "      <td>Opel</td>\n",
       "      <td>Insignia</td>\n",
       "      <td>5.000</td>\n",
       "      <td>NaN</td>\n",
       "    </tr>\n",
       "    <tr>\n",
       "      <th>10857</th>\n",
       "      <td>Opel</td>\n",
       "      <td>Insignia</td>\n",
       "      <td>5.000</td>\n",
       "      <td>NaN</td>\n",
       "    </tr>\n",
       "    <tr>\n",
       "      <th>13430</th>\n",
       "      <td>Renault</td>\n",
       "      <td>Clio</td>\n",
       "      <td>5.000</td>\n",
       "      <td>NaN</td>\n",
       "    </tr>\n",
       "    <tr>\n",
       "      <th>13470</th>\n",
       "      <td>Renault</td>\n",
       "      <td>Clio</td>\n",
       "      <td>5.000</td>\n",
       "      <td>NaN</td>\n",
       "    </tr>\n",
       "    <tr>\n",
       "      <th>13576</th>\n",
       "      <td>Renault</td>\n",
       "      <td>Clio</td>\n",
       "      <td>5.000</td>\n",
       "      <td>NaN</td>\n",
       "    </tr>\n",
       "    <tr>\n",
       "      <th>13703</th>\n",
       "      <td>Renault</td>\n",
       "      <td>Clio</td>\n",
       "      <td>5.000</td>\n",
       "      <td>NaN</td>\n",
       "    </tr>\n",
       "    <tr>\n",
       "      <th>13725</th>\n",
       "      <td>Renault</td>\n",
       "      <td>Clio</td>\n",
       "      <td>5.000</td>\n",
       "      <td>NaN</td>\n",
       "    </tr>\n",
       "    <tr>\n",
       "      <th>13852</th>\n",
       "      <td>Renault</td>\n",
       "      <td>Clio</td>\n",
       "      <td>5.000</td>\n",
       "      <td>NaN</td>\n",
       "    </tr>\n",
       "    <tr>\n",
       "      <th>13900</th>\n",
       "      <td>Renault</td>\n",
       "      <td>Clio</td>\n",
       "      <td>5.000</td>\n",
       "      <td>NaN</td>\n",
       "    </tr>\n",
       "    <tr>\n",
       "      <th>14107</th>\n",
       "      <td>Renault</td>\n",
       "      <td>Clio</td>\n",
       "      <td>5.000</td>\n",
       "      <td>NaN</td>\n",
       "    </tr>\n",
       "    <tr>\n",
       "      <th>14124</th>\n",
       "      <td>Renault</td>\n",
       "      <td>Clio</td>\n",
       "      <td>5.000</td>\n",
       "      <td>NaN</td>\n",
       "    </tr>\n",
       "    <tr>\n",
       "      <th>14127</th>\n",
       "      <td>Renault</td>\n",
       "      <td>Clio</td>\n",
       "      <td>5.000</td>\n",
       "      <td>NaN</td>\n",
       "    </tr>\n",
       "    <tr>\n",
       "      <th>14134</th>\n",
       "      <td>Renault</td>\n",
       "      <td>Clio</td>\n",
       "      <td>5.000</td>\n",
       "      <td>NaN</td>\n",
       "    </tr>\n",
       "    <tr>\n",
       "      <th>14135</th>\n",
       "      <td>Renault</td>\n",
       "      <td>Clio</td>\n",
       "      <td>5.000</td>\n",
       "      <td>NaN</td>\n",
       "    </tr>\n",
       "    <tr>\n",
       "      <th>14480</th>\n",
       "      <td>Renault</td>\n",
       "      <td>Clio</td>\n",
       "      <td>5.000</td>\n",
       "      <td>5.000</td>\n",
       "    </tr>\n",
       "    <tr>\n",
       "      <th>14869</th>\n",
       "      <td>Renault</td>\n",
       "      <td>Clio</td>\n",
       "      <td>5.000</td>\n",
       "      <td>5.000</td>\n",
       "    </tr>\n",
       "    <tr>\n",
       "      <th>14870</th>\n",
       "      <td>Renault</td>\n",
       "      <td>Clio</td>\n",
       "      <td>5.000</td>\n",
       "      <td>5.000</td>\n",
       "    </tr>\n",
       "    <tr>\n",
       "      <th>14928</th>\n",
       "      <td>Renault</td>\n",
       "      <td>Espace</td>\n",
       "      <td>5.000</td>\n",
       "      <td>NaN</td>\n",
       "    </tr>\n",
       "    <tr>\n",
       "      <th>14990</th>\n",
       "      <td>Renault</td>\n",
       "      <td>Espace</td>\n",
       "      <td>5.000</td>\n",
       "      <td>NaN</td>\n",
       "    </tr>\n",
       "    <tr>\n",
       "      <th>15058</th>\n",
       "      <td>Renault</td>\n",
       "      <td>Espace</td>\n",
       "      <td>5.000</td>\n",
       "      <td>NaN</td>\n",
       "    </tr>\n",
       "    <tr>\n",
       "      <th>15059</th>\n",
       "      <td>Renault</td>\n",
       "      <td>Espace</td>\n",
       "      <td>5.000</td>\n",
       "      <td>NaN</td>\n",
       "    </tr>\n",
       "    <tr>\n",
       "      <th>15060</th>\n",
       "      <td>Renault</td>\n",
       "      <td>Espace</td>\n",
       "      <td>5.000</td>\n",
       "      <td>NaN</td>\n",
       "    </tr>\n",
       "    <tr>\n",
       "      <th>15124</th>\n",
       "      <td>Renault</td>\n",
       "      <td>Espace</td>\n",
       "      <td>5.000</td>\n",
       "      <td>NaN</td>\n",
       "    </tr>\n",
       "    <tr>\n",
       "      <th>15269</th>\n",
       "      <td>Renault</td>\n",
       "      <td>Espace</td>\n",
       "      <td>5.000</td>\n",
       "      <td>NaN</td>\n",
       "    </tr>\n",
       "    <tr>\n",
       "      <th>15275</th>\n",
       "      <td>Renault</td>\n",
       "      <td>Espace</td>\n",
       "      <td>5.000</td>\n",
       "      <td>NaN</td>\n",
       "    </tr>\n",
       "    <tr>\n",
       "      <th>15289</th>\n",
       "      <td>Renault</td>\n",
       "      <td>Espace</td>\n",
       "      <td>5.000</td>\n",
       "      <td>NaN</td>\n",
       "    </tr>\n",
       "    <tr>\n",
       "      <th>15307</th>\n",
       "      <td>Renault</td>\n",
       "      <td>Espace</td>\n",
       "      <td>5.000</td>\n",
       "      <td>NaN</td>\n",
       "    </tr>\n",
       "    <tr>\n",
       "      <th>15378</th>\n",
       "      <td>Renault</td>\n",
       "      <td>Espace</td>\n",
       "      <td>5.000</td>\n",
       "      <td>NaN</td>\n",
       "    </tr>\n",
       "    <tr>\n",
       "      <th>15437</th>\n",
       "      <td>Renault</td>\n",
       "      <td>Espace</td>\n",
       "      <td>5.000</td>\n",
       "      <td>7.000</td>\n",
       "    </tr>\n",
       "    <tr>\n",
       "      <th>15452</th>\n",
       "      <td>Renault</td>\n",
       "      <td>Espace</td>\n",
       "      <td>5.000</td>\n",
       "      <td>NaN</td>\n",
       "    </tr>\n",
       "    <tr>\n",
       "      <th>15456</th>\n",
       "      <td>Renault</td>\n",
       "      <td>Espace</td>\n",
       "      <td>5.000</td>\n",
       "      <td>NaN</td>\n",
       "    </tr>\n",
       "    <tr>\n",
       "      <th>15457</th>\n",
       "      <td>Renault</td>\n",
       "      <td>Espace</td>\n",
       "      <td>5.000</td>\n",
       "      <td>NaN</td>\n",
       "    </tr>\n",
       "    <tr>\n",
       "      <th>15488</th>\n",
       "      <td>Renault</td>\n",
       "      <td>Espace</td>\n",
       "      <td>5.000</td>\n",
       "      <td>NaN</td>\n",
       "    </tr>\n",
       "    <tr>\n",
       "      <th>15489</th>\n",
       "      <td>Renault</td>\n",
       "      <td>Espace</td>\n",
       "      <td>5.000</td>\n",
       "      <td>7.000</td>\n",
       "    </tr>\n",
       "    <tr>\n",
       "      <th>15491</th>\n",
       "      <td>Renault</td>\n",
       "      <td>Espace</td>\n",
       "      <td>5.000</td>\n",
       "      <td>7.000</td>\n",
       "    </tr>\n",
       "    <tr>\n",
       "      <th>15499</th>\n",
       "      <td>Renault</td>\n",
       "      <td>Espace</td>\n",
       "      <td>5.000</td>\n",
       "      <td>NaN</td>\n",
       "    </tr>\n",
       "    <tr>\n",
       "      <th>15544</th>\n",
       "      <td>Renault</td>\n",
       "      <td>Espace</td>\n",
       "      <td>5.000</td>\n",
       "      <td>NaN</td>\n",
       "    </tr>\n",
       "    <tr>\n",
       "      <th>15556</th>\n",
       "      <td>Renault</td>\n",
       "      <td>Espace</td>\n",
       "      <td>5.000</td>\n",
       "      <td>NaN</td>\n",
       "    </tr>\n",
       "    <tr>\n",
       "      <th>15589</th>\n",
       "      <td>Renault</td>\n",
       "      <td>Espace</td>\n",
       "      <td>5.000</td>\n",
       "      <td>7.000</td>\n",
       "    </tr>\n",
       "    <tr>\n",
       "      <th>15696</th>\n",
       "      <td>Renault</td>\n",
       "      <td>Espace</td>\n",
       "      <td>5.000</td>\n",
       "      <td>7.000</td>\n",
       "    </tr>\n",
       "    <tr>\n",
       "      <th>15712</th>\n",
       "      <td>Renault</td>\n",
       "      <td>Espace</td>\n",
       "      <td>5.000</td>\n",
       "      <td>7.000</td>\n",
       "    </tr>\n",
       "    <tr>\n",
       "      <th>15736</th>\n",
       "      <td>Renault</td>\n",
       "      <td>Espace</td>\n",
       "      <td>5.000</td>\n",
       "      <td>NaN</td>\n",
       "    </tr>\n",
       "    <tr>\n",
       "      <th>15770</th>\n",
       "      <td>Renault</td>\n",
       "      <td>Espace</td>\n",
       "      <td>5.000</td>\n",
       "      <td>NaN</td>\n",
       "    </tr>\n",
       "  </tbody>\n",
       "</table>\n",
       "</div>"
      ],
      "text/plain": [
       "          make     model  nr_of_doors  nr_of_seats\n",
       "3175      Audi        A3        5.000        5.000\n",
       "3255      Audi        A3        3.000        5.000\n",
       "3975      Audi        A3        5.000        5.000\n",
       "3997      Audi        A3        3.000          NaN\n",
       "4206      Audi        A3        5.000          NaN\n",
       "4297      Audi        A3        5.000          NaN\n",
       "4298      Audi        A3        5.000          NaN\n",
       "5718      Opel     Astra        5.000          NaN\n",
       "5938      Opel     Astra        5.000          NaN\n",
       "5940      Opel     Astra        5.000          NaN\n",
       "6920      Opel     Astra        5.000          NaN\n",
       "6922      Opel     Astra        5.000          NaN\n",
       "6927      Opel     Astra        5.000          NaN\n",
       "7709      Opel     Astra        5.000          NaN\n",
       "8408      Opel     Corsa        5.000        5.000\n",
       "8584      Opel     Corsa          NaN          NaN\n",
       "10837     Opel  Insignia        5.000          NaN\n",
       "10838     Opel  Insignia        5.000          NaN\n",
       "10857     Opel  Insignia        5.000          NaN\n",
       "13430  Renault      Clio        5.000          NaN\n",
       "13470  Renault      Clio        5.000          NaN\n",
       "13576  Renault      Clio        5.000          NaN\n",
       "13703  Renault      Clio        5.000          NaN\n",
       "13725  Renault      Clio        5.000          NaN\n",
       "13852  Renault      Clio        5.000          NaN\n",
       "13900  Renault      Clio        5.000          NaN\n",
       "14107  Renault      Clio        5.000          NaN\n",
       "14124  Renault      Clio        5.000          NaN\n",
       "14127  Renault      Clio        5.000          NaN\n",
       "14134  Renault      Clio        5.000          NaN\n",
       "14135  Renault      Clio        5.000          NaN\n",
       "14480  Renault      Clio        5.000        5.000\n",
       "14869  Renault      Clio        5.000        5.000\n",
       "14870  Renault      Clio        5.000        5.000\n",
       "14928  Renault    Espace        5.000          NaN\n",
       "14990  Renault    Espace        5.000          NaN\n",
       "15058  Renault    Espace        5.000          NaN\n",
       "15059  Renault    Espace        5.000          NaN\n",
       "15060  Renault    Espace        5.000          NaN\n",
       "15124  Renault    Espace        5.000          NaN\n",
       "15269  Renault    Espace        5.000          NaN\n",
       "15275  Renault    Espace        5.000          NaN\n",
       "15289  Renault    Espace        5.000          NaN\n",
       "15307  Renault    Espace        5.000          NaN\n",
       "15378  Renault    Espace        5.000          NaN\n",
       "15437  Renault    Espace        5.000        7.000\n",
       "15452  Renault    Espace        5.000          NaN\n",
       "15456  Renault    Espace        5.000          NaN\n",
       "15457  Renault    Espace        5.000          NaN\n",
       "15488  Renault    Espace        5.000          NaN\n",
       "15489  Renault    Espace        5.000        7.000\n",
       "15491  Renault    Espace        5.000        7.000\n",
       "15499  Renault    Espace        5.000          NaN\n",
       "15544  Renault    Espace        5.000          NaN\n",
       "15556  Renault    Espace        5.000          NaN\n",
       "15589  Renault    Espace        5.000        7.000\n",
       "15696  Renault    Espace        5.000        7.000\n",
       "15712  Renault    Espace        5.000        7.000\n",
       "15736  Renault    Espace        5.000          NaN\n",
       "15770  Renault    Espace        5.000          NaN"
      ]
     },
     "execution_count": 23,
     "metadata": {},
     "output_type": "execute_result"
    }
   ],
   "source": [
    "df[df.body_type.isnull()][[\"make\", \"model\", \"nr_of_doors\", \"nr_of_seats\" ]]"
   ]
  },
  {
   "cell_type": "code",
   "execution_count": 24,
   "metadata": {
    "ExecuteTime": {
     "end_time": "2022-08-03T14:52:51.711328Z",
     "start_time": "2022-08-03T14:52:51.648625Z"
    }
   },
   "outputs": [],
   "source": [
    "pd.set_option('display.max_rows', 150)"
   ]
  },
  {
   "cell_type": "code",
   "execution_count": 25,
   "metadata": {
    "ExecuteTime": {
     "end_time": "2022-08-03T14:52:51.736923Z",
     "start_time": "2022-08-03T14:52:51.717340Z"
    }
   },
   "outputs": [
    {
     "data": {
      "text/plain": [
       "make     model     body_type    \n",
       "Audi     A1        Sedans           1538\n",
       "                   Compact          1039\n",
       "                   Station wagon      21\n",
       "                   Other              13\n",
       "                   Coupe               2\n",
       "                   Van                 1\n",
       "         A2        Off-Road            1\n",
       "         A3        Sedans           2598\n",
       "                   Station wagon     282\n",
       "                   Compact           182\n",
       "                   Other              16\n",
       "                   Convertible         8\n",
       "                   NaN                 7\n",
       "                   Coupe               4\n",
       "Opel     Astra     Station wagon    1211\n",
       "                   Sedans           1053\n",
       "                   Compact           185\n",
       "                   Other              67\n",
       "                   NaN                 7\n",
       "                   Coupe               2\n",
       "                   Off-Road            1\n",
       "         Corsa     Compact          1230\n",
       "                   Sedans            875\n",
       "                   Other              87\n",
       "                   Coupe              13\n",
       "                   Transporter         7\n",
       "                   Off-Road            3\n",
       "                   NaN                 2\n",
       "                   Van                 2\n",
       "         Insignia  Station wagon    1611\n",
       "                   Sedans            900\n",
       "                   Other              48\n",
       "                   Compact            27\n",
       "                   Off-Road            7\n",
       "                   NaN                 3\n",
       "                   Coupe               1\n",
       "                   Van                 1\n",
       "Renault  Clio      Sedans            918\n",
       "                   Compact           484\n",
       "                   Station wagon     337\n",
       "                   Other              51\n",
       "                   Transporter        29\n",
       "                   NaN                15\n",
       "                   Off-Road            2\n",
       "                   Van                 2\n",
       "                   Coupe               1\n",
       "         Duster    Off-Road           34\n",
       "         Espace    Van               777\n",
       "                   Station wagon      91\n",
       "                   Transporter        52\n",
       "                   NaN                26\n",
       "                   Sedans             21\n",
       "                   Off-Road            8\n",
       "                   Other               8\n",
       "                   Compact             6\n",
       "                   Coupe               2\n",
       "Name: body_type, dtype: int64"
      ]
     },
     "execution_count": 25,
     "metadata": {},
     "output_type": "execute_result"
    }
   ],
   "source": [
    "df.groupby([\"make\", \"model\"])[\"body_type\"].value_counts(dropna=False)"
   ]
  },
  {
   "cell_type": "code",
   "execution_count": null,
   "metadata": {},
   "outputs": [],
   "source": []
  },
  {
   "cell_type": "code",
   "execution_count": 26,
   "metadata": {
    "ExecuteTime": {
     "end_time": "2022-08-03T14:52:51.763538Z",
     "start_time": "2022-08-03T14:52:51.741481Z"
    }
   },
   "outputs": [
    {
     "data": {
      "text/plain": [
       "make     model     nr_of_doors  nr_of_seats  body_type    \n",
       "Audi     A1        2.000        3.000        Compact             1\n",
       "                                4.000        Compact            65\n",
       "                                             Sedans             26\n",
       "                                             Coupe               1\n",
       "                                5.000        Compact             2\n",
       "                                             Sedans              1\n",
       "                   3.000        4.000        Sedans            120\n",
       "                                             Compact            71\n",
       "                                             Station wagon       1\n",
       "                                5.000        Sedans              7\n",
       "                                             Compact             4\n",
       "                   4.000        4.000        Compact            75\n",
       "                                             Sedans             39\n",
       "                                             Station wagon       1\n",
       "                                5.000        Sedans            245\n",
       "                                             Compact           126\n",
       "                                             Other               5\n",
       "                                             Station wagon       1\n",
       "                   5.000        4.000        Sedans            454\n",
       "                                             Compact           220\n",
       "                                             Station wagon       4\n",
       "                                             Other               1\n",
       "                                5.000        Sedans            568\n",
       "                                             Compact           405\n",
       "                                             Station wagon      13\n",
       "                                             Other               7\n",
       "                                             Coupe               1\n",
       "                                6.000        Compact             1\n",
       "         A2        5.000        5.000        Off-Road            1\n",
       "         A3        2.000        4.000        Convertible         5\n",
       "                                             Other               1\n",
       "                                             Sedans              1\n",
       "                                5.000        Sedans             15\n",
       "                                             Convertible         1\n",
       "                                             Other               1\n",
       "                                             Station wagon       1\n",
       "                   3.000        5.000        Sedans             90\n",
       "                                             Compact            11\n",
       "                                             Coupe               4\n",
       "                                             Other               2\n",
       "                                             NaN                 1\n",
       "                                             Station wagon       1\n",
       "                   4.000        4.000        Sedans             12\n",
       "                                5.000        Sedans            460\n",
       "                                             Station wagon     109\n",
       "                                             Compact             6\n",
       "                                             Other               1\n",
       "                   5.000        4.000        Sedans              6\n",
       "                                5.000        Sedans           1912\n",
       "                                             Station wagon     165\n",
       "                                             Compact           158\n",
       "                                             Other               5\n",
       "                                             NaN                 2\n",
       "                                             Convertible         1\n",
       "Opel     Astra     3.000        4.000        Coupe               1\n",
       "                                5.000        Sedans              3\n",
       "                   4.000        4.000        Station wagon       1\n",
       "                                5.000        Station wagon     272\n",
       "                                             Sedans            239\n",
       "                                             Other               7\n",
       "                                             Compact             5\n",
       "                   5.000        4.000        Station wagon       3\n",
       "                                5.000        Station wagon     861\n",
       "                                             Sedans            742\n",
       "                                             Compact           169\n",
       "                                             Other              54\n",
       "                                             Off-Road            1\n",
       "         Corsa     2.000        4.000        Compact             1\n",
       "                                5.000        Compact            86\n",
       "                                             Sedans              4\n",
       "                                             Other               1\n",
       "                   3.000        2.000        Transporter         4\n",
       "                                             Coupe               1\n",
       "                                4.000        Compact             3\n",
       "                                5.000        Compact           329\n",
       "                                             Sedans            139\n",
       "                                             Coupe              10\n",
       "                                             Other               4\n",
       "                   4.000        4.000        Compact             1\n",
       "                                5.000        Compact           263\n",
       "                                             Sedans             21\n",
       "                                             Other               2\n",
       "                   5.000        4.000        Sedans              1\n",
       "                                             Transporter         1\n",
       "                                5.000        Sedans            621\n",
       "                                             Compact           514\n",
       "                                             Other              79\n",
       "                                             Transporter         2\n",
       "                                             NaN                 1\n",
       "                                             Coupe               1\n",
       "                                             Off-Road            1\n",
       "         Insignia  4.000        2.000        Station wagon       1\n",
       "                                4.000        Station wagon       1\n",
       "                                5.000        Station wagon     446\n",
       "                                             Sedans            245\n",
       "                                             Other               2\n",
       "                                             Compact             1\n",
       "                   5.000        4.000        Station wagon       1\n",
       "                                5.000        Station wagon    1103\n",
       "                                             Sedans            609\n",
       "                                             Other              42\n",
       "                                             Compact            25\n",
       "                                             Off-Road            7\n",
       "                                             Van                 1\n",
       "Renault  Clio      4.000        2.000        Compact             1\n",
       "                                             Transporter         1\n",
       "                                5.000        Compact           142\n",
       "                                             Station wagon      50\n",
       "                                             Sedans             44\n",
       "                                             Other               4\n",
       "                                             Coupe               1\n",
       "                   5.000        2.000        Sedans             71\n",
       "                                             Transporter        25\n",
       "                                             Compact             7\n",
       "                                             Other               4\n",
       "                                4.000        Sedans              3\n",
       "                                             Station wagon       2\n",
       "                                5.000        Sedans            712\n",
       "                                             Compact           264\n",
       "                                             Station wagon     255\n",
       "                                             Other              38\n",
       "                                             NaN                 3\n",
       "                                             Off-Road            2\n",
       "                                             Van                 1\n",
       "         Duster    5.000        5.000        Off-Road           34\n",
       "         Espace    4.000        5.000        Van                27\n",
       "                                             Sedans              8\n",
       "                                             Station wagon       4\n",
       "                                             Off-Road            1\n",
       "                                7.000        Van                59\n",
       "                                             Compact             1\n",
       "                                             Sedans              1\n",
       "                   5.000        4.000        Van                 1\n",
       "                                5.000        Van               356\n",
       "                                             Station wagon      62\n",
       "                                             Transporter        35\n",
       "                                             Off-Road            4\n",
       "                                             Other               4\n",
       "                                             Compact             3\n",
       "                                             Sedans              3\n",
       "                                6.000        Station wagon       1\n",
       "                                7.000        Van               246\n",
       "                                             Station wagon      18\n",
       "                                             Transporter        16\n",
       "                                             NaN                 6\n",
       "                                             Other               3\n",
       "                                             Sedans              3\n",
       "                                             Off-Road            2\n",
       "                                             Compact             1\n",
       "Name: body_type, dtype: int64"
      ]
     },
     "execution_count": 26,
     "metadata": {},
     "output_type": "execute_result"
    }
   ],
   "source": [
    "df.groupby([\"make\", \"model\", \"nr_of_doors\", \"nr_of_seats\"])[\"body_type\"].value_counts(dropna=False)"
   ]
  },
  {
   "cell_type": "code",
   "execution_count": 27,
   "metadata": {
    "ExecuteTime": {
     "end_time": "2022-08-03T14:52:51.819936Z",
     "start_time": "2022-08-03T14:52:51.767641Z"
    }
   },
   "outputs": [
    {
     "data": {
      "text/plain": [
       "make     model   \n",
       "Audi     A1                 Sedans\n",
       "         A2               Off-Road\n",
       "         A3                 Sedans\n",
       "Opel     Astra       Station wagon\n",
       "         Corsa             Compact\n",
       "         Insignia    Station wagon\n",
       "Renault  Clio               Sedans\n",
       "         Duster           Off-Road\n",
       "         Espace                Van\n",
       "Name: body_type, dtype: object"
      ]
     },
     "execution_count": 27,
     "metadata": {},
     "output_type": "execute_result"
    }
   ],
   "source": [
    "# select group mode values\n",
    "df.groupby([\"make\", \"model\"])['body_type'].apply(lambda x: x.mode()[0])"
   ]
  },
  {
   "cell_type": "code",
   "execution_count": null,
   "metadata": {},
   "outputs": [],
   "source": []
  },
  {
   "cell_type": "code",
   "execution_count": null,
   "metadata": {},
   "outputs": [],
   "source": []
  },
  {
   "cell_type": "code",
   "execution_count": 28,
   "metadata": {
    "ExecuteTime": {
     "end_time": "2022-08-03T14:52:51.868960Z",
     "start_time": "2022-08-03T14:52:51.824151Z"
    }
   },
   "outputs": [
    {
     "data": {
      "text/plain": [
       "make     model   \n",
       "Audi     A1                 Sedans\n",
       "         A2               Off-Road\n",
       "         A3                 Sedans\n",
       "Opel     Astra       Station wagon\n",
       "         Corsa             Compact\n",
       "         Insignia    Station wagon\n",
       "Renault  Clio               Sedans\n",
       "         Duster           Off-Road\n",
       "         Espace                Van\n",
       "Name: top, dtype: object"
      ]
     },
     "execution_count": 28,
     "metadata": {},
     "output_type": "execute_result"
    }
   ],
   "source": [
    "df.groupby([\"make\", \"model\"])[\"body_type\"].describe(include=\"object\")[\"top\"]"
   ]
  },
  {
   "cell_type": "code",
   "execution_count": 29,
   "metadata": {
    "ExecuteTime": {
     "end_time": "2022-08-03T14:52:51.906317Z",
     "start_time": "2022-08-03T14:52:51.871254Z"
    }
   },
   "outputs": [
    {
     "data": {
      "text/plain": [
       "0        Sedans\n",
       "1        Sedans\n",
       "2        Sedans\n",
       "3        Sedans\n",
       "4        Sedans\n",
       "          ...  \n",
       "15914       Van\n",
       "15915       Van\n",
       "15916       Van\n",
       "15917       Van\n",
       "15918       Van\n",
       "Name: body_type, Length: 15919, dtype: object"
      ]
     },
     "execution_count": 29,
     "metadata": {},
     "output_type": "execute_result"
    }
   ],
   "source": [
    "df.groupby([\"make\", \"model\"])[\"body_type\"].apply(lambda x: x.fillna(x.mode()[0]))"
   ]
  },
  {
   "cell_type": "code",
   "execution_count": 30,
   "metadata": {
    "ExecuteTime": {
     "end_time": "2022-08-03T14:52:51.936580Z",
     "start_time": "2022-08-03T14:52:51.911883Z"
    }
   },
   "outputs": [],
   "source": [
    "df.body_type = df.groupby([\"make\", \"model\"])[\"body_type\"].apply(lambda x: x.fillna(x.mode()[0]))"
   ]
  },
  {
   "cell_type": "code",
   "execution_count": 31,
   "metadata": {
    "ExecuteTime": {
     "end_time": "2022-08-03T14:52:51.969716Z",
     "start_time": "2022-08-03T14:52:51.942059Z"
    }
   },
   "outputs": [
    {
     "data": {
      "text/plain": [
       "0"
      ]
     },
     "execution_count": 31,
     "metadata": {},
     "output_type": "execute_result"
    }
   ],
   "source": [
    "df.body_type.isnull().sum()"
   ]
  },
  {
   "cell_type": "markdown",
   "metadata": {},
   "source": [
    "## 2.vat"
   ]
  },
  {
   "cell_type": "code",
   "execution_count": 32,
   "metadata": {
    "ExecuteTime": {
     "end_time": "2022-08-03T14:52:52.035484Z",
     "start_time": "2022-08-03T14:52:51.995974Z"
    }
   },
   "outputs": [
    {
     "name": "stdout",
     "output_type": "stream",
     "text": [
      "column name :  vat\n",
      "--------------------------------\n",
      "Per_of_Nulls   :  % 28.35\n",
      "Num_of_Nulls   :  4513\n",
      "VAT deductible      10980\n",
      "NaN                  4513\n",
      "Price negotiable      426\n",
      "Name: vat, dtype: int64\n",
      "******************************\n",
      "\n",
      "\n",
      "\n"
     ]
    }
   ],
   "source": [
    "check_df(\"vat\")"
   ]
  },
  {
   "cell_type": "code",
   "execution_count": 33,
   "metadata": {
    "ExecuteTime": {
     "end_time": "2022-08-03T14:52:52.356804Z",
     "start_time": "2022-08-03T14:52:52.043749Z"
    }
   },
   "outputs": [
    {
     "data": {
      "text/html": [
       "<div>\n",
       "<style scoped>\n",
       "    .dataframe tbody tr th:only-of-type {\n",
       "        vertical-align: middle;\n",
       "    }\n",
       "\n",
       "    .dataframe tbody tr th {\n",
       "        vertical-align: top;\n",
       "    }\n",
       "\n",
       "    .dataframe thead tr th {\n",
       "        text-align: left;\n",
       "    }\n",
       "\n",
       "    .dataframe thead tr:last-of-type th {\n",
       "        text-align: right;\n",
       "    }\n",
       "</style>\n",
       "<table border=\"1\" class=\"dataframe\">\n",
       "  <thead>\n",
       "    <tr>\n",
       "      <th></th>\n",
       "      <th colspan=\"4\" halign=\"left\">body_type</th>\n",
       "      <th colspan=\"4\" halign=\"left\">type</th>\n",
       "      <th colspan=\"4\" halign=\"left\">make</th>\n",
       "      <th colspan=\"4\" halign=\"left\">model</th>\n",
       "      <th colspan=\"4\" halign=\"left\">body_color</th>\n",
       "      <th colspan=\"4\" halign=\"left\">paint_type</th>\n",
       "      <th colspan=\"4\" halign=\"left\">body_color_original</th>\n",
       "      <th colspan=\"4\" halign=\"left\">upholstery</th>\n",
       "      <th colspan=\"4\" halign=\"left\">gearing_type</th>\n",
       "      <th colspan=\"4\" halign=\"left\">drive_chain</th>\n",
       "      <th colspan=\"4\" halign=\"left\">fuel</th>\n",
       "      <th colspan=\"4\" halign=\"left\">emission_class</th>\n",
       "      <th colspan=\"4\" halign=\"left\">comfort&amp;convenience</th>\n",
       "      <th colspan=\"4\" halign=\"left\">entertainment&amp;media</th>\n",
       "      <th colspan=\"4\" halign=\"left\">extras</th>\n",
       "      <th colspan=\"4\" halign=\"left\">safety&amp;security</th>\n",
       "      <th colspan=\"4\" halign=\"left\">country_version</th>\n",
       "    </tr>\n",
       "    <tr>\n",
       "      <th></th>\n",
       "      <th>count</th>\n",
       "      <th>unique</th>\n",
       "      <th>top</th>\n",
       "      <th>freq</th>\n",
       "      <th>count</th>\n",
       "      <th>unique</th>\n",
       "      <th>top</th>\n",
       "      <th>freq</th>\n",
       "      <th>count</th>\n",
       "      <th>unique</th>\n",
       "      <th>top</th>\n",
       "      <th>freq</th>\n",
       "      <th>count</th>\n",
       "      <th>unique</th>\n",
       "      <th>top</th>\n",
       "      <th>freq</th>\n",
       "      <th>count</th>\n",
       "      <th>unique</th>\n",
       "      <th>top</th>\n",
       "      <th>freq</th>\n",
       "      <th>count</th>\n",
       "      <th>unique</th>\n",
       "      <th>top</th>\n",
       "      <th>freq</th>\n",
       "      <th>count</th>\n",
       "      <th>unique</th>\n",
       "      <th>top</th>\n",
       "      <th>freq</th>\n",
       "      <th>count</th>\n",
       "      <th>unique</th>\n",
       "      <th>top</th>\n",
       "      <th>freq</th>\n",
       "      <th>count</th>\n",
       "      <th>unique</th>\n",
       "      <th>top</th>\n",
       "      <th>freq</th>\n",
       "      <th>count</th>\n",
       "      <th>unique</th>\n",
       "      <th>top</th>\n",
       "      <th>freq</th>\n",
       "      <th>count</th>\n",
       "      <th>unique</th>\n",
       "      <th>top</th>\n",
       "      <th>freq</th>\n",
       "      <th>count</th>\n",
       "      <th>unique</th>\n",
       "      <th>top</th>\n",
       "      <th>freq</th>\n",
       "      <th>count</th>\n",
       "      <th>unique</th>\n",
       "      <th>top</th>\n",
       "      <th>freq</th>\n",
       "      <th>count</th>\n",
       "      <th>unique</th>\n",
       "      <th>top</th>\n",
       "      <th>freq</th>\n",
       "      <th>count</th>\n",
       "      <th>unique</th>\n",
       "      <th>top</th>\n",
       "      <th>freq</th>\n",
       "      <th>count</th>\n",
       "      <th>unique</th>\n",
       "      <th>top</th>\n",
       "      <th>freq</th>\n",
       "      <th>count</th>\n",
       "      <th>unique</th>\n",
       "      <th>top</th>\n",
       "      <th>freq</th>\n",
       "    </tr>\n",
       "    <tr>\n",
       "      <th>vat</th>\n",
       "      <th></th>\n",
       "      <th></th>\n",
       "      <th></th>\n",
       "      <th></th>\n",
       "      <th></th>\n",
       "      <th></th>\n",
       "      <th></th>\n",
       "      <th></th>\n",
       "      <th></th>\n",
       "      <th></th>\n",
       "      <th></th>\n",
       "      <th></th>\n",
       "      <th></th>\n",
       "      <th></th>\n",
       "      <th></th>\n",
       "      <th></th>\n",
       "      <th></th>\n",
       "      <th></th>\n",
       "      <th></th>\n",
       "      <th></th>\n",
       "      <th></th>\n",
       "      <th></th>\n",
       "      <th></th>\n",
       "      <th></th>\n",
       "      <th></th>\n",
       "      <th></th>\n",
       "      <th></th>\n",
       "      <th></th>\n",
       "      <th></th>\n",
       "      <th></th>\n",
       "      <th></th>\n",
       "      <th></th>\n",
       "      <th></th>\n",
       "      <th></th>\n",
       "      <th></th>\n",
       "      <th></th>\n",
       "      <th></th>\n",
       "      <th></th>\n",
       "      <th></th>\n",
       "      <th></th>\n",
       "      <th></th>\n",
       "      <th></th>\n",
       "      <th></th>\n",
       "      <th></th>\n",
       "      <th></th>\n",
       "      <th></th>\n",
       "      <th></th>\n",
       "      <th></th>\n",
       "      <th></th>\n",
       "      <th></th>\n",
       "      <th></th>\n",
       "      <th></th>\n",
       "      <th></th>\n",
       "      <th></th>\n",
       "      <th></th>\n",
       "      <th></th>\n",
       "      <th></th>\n",
       "      <th></th>\n",
       "      <th></th>\n",
       "      <th></th>\n",
       "      <th></th>\n",
       "      <th></th>\n",
       "      <th></th>\n",
       "      <th></th>\n",
       "      <th></th>\n",
       "      <th></th>\n",
       "      <th></th>\n",
       "      <th></th>\n",
       "    </tr>\n",
       "  </thead>\n",
       "  <tbody>\n",
       "    <tr>\n",
       "      <th>Price negotiable</th>\n",
       "      <td>426</td>\n",
       "      <td>9</td>\n",
       "      <td>Sedans</td>\n",
       "      <td>286</td>\n",
       "      <td>426</td>\n",
       "      <td>3</td>\n",
       "      <td>Used</td>\n",
       "      <td>421</td>\n",
       "      <td>426</td>\n",
       "      <td>3</td>\n",
       "      <td>Audi</td>\n",
       "      <td>182</td>\n",
       "      <td>426</td>\n",
       "      <td>7</td>\n",
       "      <td>A3</td>\n",
       "      <td>101</td>\n",
       "      <td>426</td>\n",
       "      <td>10</td>\n",
       "      <td>Black</td>\n",
       "      <td>109</td>\n",
       "      <td>245</td>\n",
       "      <td>1</td>\n",
       "      <td>Metallic</td>\n",
       "      <td>245</td>\n",
       "      <td>17</td>\n",
       "      <td>17</td>\n",
       "      <td>Floretzilver (grijs metal</td>\n",
       "      <td>1</td>\n",
       "      <td>134</td>\n",
       "      <td>4</td>\n",
       "      <td>Cloth</td>\n",
       "      <td>82</td>\n",
       "      <td>426</td>\n",
       "      <td>3</td>\n",
       "      <td>Manual</td>\n",
       "      <td>204</td>\n",
       "      <td>95</td>\n",
       "      <td>2</td>\n",
       "      <td>front</td>\n",
       "      <td>92</td>\n",
       "      <td>426</td>\n",
       "      <td>4</td>\n",
       "      <td>Diesel</td>\n",
       "      <td>223</td>\n",
       "      <td>401</td>\n",
       "      <td>6</td>\n",
       "      <td>Euro 6</td>\n",
       "      <td>361</td>\n",
       "      <td>423</td>\n",
       "      <td>333</td>\n",
       "      <td>Air conditioning,Seat ventilation,Split rear s...</td>\n",
       "      <td>15</td>\n",
       "      <td>414</td>\n",
       "      <td>100</td>\n",
       "      <td>Bluetooth,CD player,Hands-free equipment,MP3,O...</td>\n",
       "      <td>32</td>\n",
       "      <td>372</td>\n",
       "      <td>139</td>\n",
       "      <td>Alloy wheels</td>\n",
       "      <td>71</td>\n",
       "      <td>422</td>\n",
       "      <td>298</td>\n",
       "      <td>ABS,Adaptive Cruise Control,Alarm system,Centr...</td>\n",
       "      <td>12</td>\n",
       "      <td>43</td>\n",
       "      <td>6</td>\n",
       "      <td>Italy</td>\n",
       "      <td>14</td>\n",
       "    </tr>\n",
       "    <tr>\n",
       "      <th>VAT deductible</th>\n",
       "      <td>10980</td>\n",
       "      <td>9</td>\n",
       "      <td>Sedans</td>\n",
       "      <td>5248</td>\n",
       "      <td>10980</td>\n",
       "      <td>5</td>\n",
       "      <td>Used</td>\n",
       "      <td>6787</td>\n",
       "      <td>10980</td>\n",
       "      <td>3</td>\n",
       "      <td>Opel</td>\n",
       "      <td>5415</td>\n",
       "      <td>10980</td>\n",
       "      <td>9</td>\n",
       "      <td>A3</td>\n",
       "      <td>2209</td>\n",
       "      <td>10586</td>\n",
       "      <td>13</td>\n",
       "      <td>Black</td>\n",
       "      <td>2704</td>\n",
       "      <td>7558</td>\n",
       "      <td>3</td>\n",
       "      <td>Metallic</td>\n",
       "      <td>7312</td>\n",
       "      <td>9543</td>\n",
       "      <td>1568</td>\n",
       "      <td>Onyx Schwarz</td>\n",
       "      <td>314</td>\n",
       "      <td>9780</td>\n",
       "      <td>6</td>\n",
       "      <td>Cloth</td>\n",
       "      <td>7404</td>\n",
       "      <td>10980</td>\n",
       "      <td>3</td>\n",
       "      <td>Manual</td>\n",
       "      <td>5502</td>\n",
       "      <td>6876</td>\n",
       "      <td>2</td>\n",
       "      <td>front</td>\n",
       "      <td>6762</td>\n",
       "      <td>10980</td>\n",
       "      <td>4</td>\n",
       "      <td>Benzine</td>\n",
       "      <td>6183</td>\n",
       "      <td>8801</td>\n",
       "      <td>6</td>\n",
       "      <td>Euro 6</td>\n",
       "      <td>6915</td>\n",
       "      <td>10811</td>\n",
       "      <td>4368</td>\n",
       "      <td>Air conditioning,Electrical side mirrors,Hill ...</td>\n",
       "      <td>163</td>\n",
       "      <td>10609</td>\n",
       "      <td>300</td>\n",
       "      <td>Bluetooth,Hands-free equipment,On-board comput...</td>\n",
       "      <td>1088</td>\n",
       "      <td>9471</td>\n",
       "      <td>498</td>\n",
       "      <td>Alloy wheels</td>\n",
       "      <td>2092</td>\n",
       "      <td>10782</td>\n",
       "      <td>2973</td>\n",
       "      <td>ABS,Central door lock,Daytime running lights,D...</td>\n",
       "      <td>461</td>\n",
       "      <td>5966</td>\n",
       "      <td>20</td>\n",
       "      <td>Germany</td>\n",
       "      <td>3812</td>\n",
       "    </tr>\n",
       "  </tbody>\n",
       "</table>\n",
       "</div>"
      ],
      "text/plain": [
       "                 body_type                        type                     \\\n",
       "                     count unique     top  freq  count unique   top  freq   \n",
       "vat                                                                         \n",
       "Price negotiable       426      9  Sedans   286    426      3  Used   421   \n",
       "VAT deductible       10980      9  Sedans  5248  10980      5  Used  6787   \n",
       "\n",
       "                   make                     model                  body_color  \\\n",
       "                  count unique   top  freq  count unique top  freq      count   \n",
       "vat                                                                             \n",
       "Price negotiable    426      3  Audi   182    426      7  A3   101        426   \n",
       "VAT deductible    10980      3  Opel  5415  10980      9  A3  2209      10586   \n",
       "\n",
       "                                     paint_type                         \\\n",
       "                 unique    top  freq      count unique       top  freq   \n",
       "vat                                                                      \n",
       "Price negotiable     10  Black   109        245      1  Metallic   245   \n",
       "VAT deductible       13  Black  2704       7558      3  Metallic  7312   \n",
       "\n",
       "                 body_color_original                                         \\\n",
       "                               count unique                        top freq   \n",
       "vat                                                                           \n",
       "Price negotiable                  17     17  Floretzilver (grijs metal    1   \n",
       "VAT deductible                  9543   1568               Onyx Schwarz  314   \n",
       "\n",
       "                 upholstery                     gearing_type                 \\\n",
       "                      count unique    top  freq        count unique     top   \n",
       "vat                                                                           \n",
       "Price negotiable        134      4  Cloth    82          426      3  Manual   \n",
       "VAT deductible         9780      6  Cloth  7404        10980      3  Manual   \n",
       "\n",
       "                       drive_chain                       fuel                  \\\n",
       "                  freq       count unique    top  freq  count unique      top   \n",
       "vat                                                                             \n",
       "Price negotiable   204          95      2  front    92    426      4   Diesel   \n",
       "VAT deductible    5502        6876      2  front  6762  10980      4  Benzine   \n",
       "\n",
       "                       emission_class                       \\\n",
       "                  freq          count unique     top  freq   \n",
       "vat                                                          \n",
       "Price negotiable   223            401      6  Euro 6   361   \n",
       "VAT deductible    6183           8801      6  Euro 6  6915   \n",
       "\n",
       "                 comfort&convenience         \\\n",
       "                               count unique   \n",
       "vat                                           \n",
       "Price negotiable                 423    333   \n",
       "VAT deductible                 10811   4368   \n",
       "\n",
       "                                                                          \\\n",
       "                                                                top freq   \n",
       "vat                                                                        \n",
       "Price negotiable  Air conditioning,Seat ventilation,Split rear s...   15   \n",
       "VAT deductible    Air conditioning,Electrical side mirrors,Hill ...  163   \n",
       "\n",
       "                 entertainment&media         \\\n",
       "                               count unique   \n",
       "vat                                           \n",
       "Price negotiable                 414    100   \n",
       "VAT deductible                 10609    300   \n",
       "\n",
       "                                                                           \\\n",
       "                                                                top  freq   \n",
       "vat                                                                         \n",
       "Price negotiable  Bluetooth,CD player,Hands-free equipment,MP3,O...    32   \n",
       "VAT deductible    Bluetooth,Hands-free equipment,On-board comput...  1088   \n",
       "\n",
       "                 extras                            safety&security         \\\n",
       "                  count unique           top  freq           count unique   \n",
       "vat                                                                         \n",
       "Price negotiable    372    139  Alloy wheels    71             422    298   \n",
       "VAT deductible     9471    498  Alloy wheels  2092           10782   2973   \n",
       "\n",
       "                                                                          \\\n",
       "                                                                top freq   \n",
       "vat                                                                        \n",
       "Price negotiable  ABS,Adaptive Cruise Control,Alarm system,Centr...   12   \n",
       "VAT deductible    ABS,Central door lock,Daytime running lights,D...  461   \n",
       "\n",
       "                 country_version                        \n",
       "                           count unique      top  freq  \n",
       "vat                                                     \n",
       "Price negotiable              43      6    Italy    14  \n",
       "VAT deductible              5966     20  Germany  3812  "
      ]
     },
     "execution_count": 33,
     "metadata": {},
     "output_type": "execute_result"
    }
   ],
   "source": [
    "df.groupby(\"vat\").describe(include=object)"
   ]
  },
  {
   "cell_type": "code",
   "execution_count": 34,
   "metadata": {
    "ExecuteTime": {
     "end_time": "2022-08-03T14:52:52.370092Z",
     "start_time": "2022-08-03T14:52:52.360969Z"
    }
   },
   "outputs": [],
   "source": [
    "df[\"vat\"] = df.vat.fillna(method=\"bfill\")"
   ]
  },
  {
   "cell_type": "code",
   "execution_count": null,
   "metadata": {},
   "outputs": [],
   "source": []
  },
  {
   "cell_type": "code",
   "execution_count": 35,
   "metadata": {
    "ExecuteTime": {
     "end_time": "2022-08-03T14:52:52.384041Z",
     "start_time": "2022-08-03T14:52:52.374107Z"
    }
   },
   "outputs": [
    {
     "data": {
      "text/plain": [
       "0"
      ]
     },
     "execution_count": 35,
     "metadata": {},
     "output_type": "execute_result"
    }
   ],
   "source": [
    "df.vat.isnull().sum()"
   ]
  },
  {
   "cell_type": "code",
   "execution_count": 36,
   "metadata": {
    "ExecuteTime": {
     "end_time": "2022-08-03T14:52:52.404929Z",
     "start_time": "2022-08-03T14:52:52.389201Z"
    }
   },
   "outputs": [
    {
     "data": {
      "text/plain": [
       "VAT deductible      15083\n",
       "Price negotiable      836\n",
       "Name: vat, dtype: int64"
      ]
     },
     "execution_count": 36,
     "metadata": {},
     "output_type": "execute_result"
    }
   ],
   "source": [
    "df.vat.value_counts(dropna=False)"
   ]
  },
  {
   "cell_type": "markdown",
   "metadata": {},
   "source": [
    "## 3.type"
   ]
  },
  {
   "cell_type": "code",
   "execution_count": 37,
   "metadata": {
    "ExecuteTime": {
     "end_time": "2022-08-03T14:52:52.417774Z",
     "start_time": "2022-08-03T14:52:52.410408Z"
    }
   },
   "outputs": [],
   "source": [
    "df[\"type\"] = df.type.fillna(method=\"ffill\")"
   ]
  },
  {
   "cell_type": "code",
   "execution_count": 38,
   "metadata": {
    "ExecuteTime": {
     "end_time": "2022-08-03T14:52:52.431666Z",
     "start_time": "2022-08-03T14:52:52.422132Z"
    }
   },
   "outputs": [
    {
     "data": {
      "text/plain": [
       "0"
      ]
     },
     "execution_count": 38,
     "metadata": {},
     "output_type": "execute_result"
    }
   ],
   "source": [
    "df.type.isnull().sum()"
   ]
  },
  {
   "cell_type": "markdown",
   "metadata": {},
   "source": [
    "## 4.age"
   ]
  },
  {
   "cell_type": "code",
   "execution_count": 39,
   "metadata": {
    "ExecuteTime": {
     "end_time": "2022-08-03T14:52:52.461452Z",
     "start_time": "2022-08-03T14:52:52.452409Z"
    }
   },
   "outputs": [
    {
     "data": {
      "text/plain": [
       "1597"
      ]
     },
     "execution_count": 39,
     "metadata": {},
     "output_type": "execute_result"
    }
   ],
   "source": [
    "df.age.isnull().sum()"
   ]
  },
  {
   "cell_type": "code",
   "execution_count": 40,
   "metadata": {
    "ExecuteTime": {
     "end_time": "2022-08-03T14:52:52.478989Z",
     "start_time": "2022-08-03T14:52:52.464969Z"
    }
   },
   "outputs": [
    {
     "data": {
      "text/plain": [
       "type\n",
       "Demonstration    0.000\n",
       "Employee's car   1.000\n",
       "New              0.000\n",
       "Pre-registered   0.000\n",
       "Used             2.000\n",
       "Name: age, dtype: float64"
      ]
     },
     "execution_count": 40,
     "metadata": {},
     "output_type": "execute_result"
    }
   ],
   "source": [
    "df.groupby(\"type\").age.median()"
   ]
  },
  {
   "cell_type": "code",
   "execution_count": 41,
   "metadata": {
    "ExecuteTime": {
     "end_time": "2022-08-03T14:52:52.512810Z",
     "start_time": "2022-08-03T14:52:52.482747Z"
    }
   },
   "outputs": [
    {
     "data": {
      "text/plain": [
       "1.000    4525\n",
       "0.000    4412\n",
       "3.000    3674\n",
       "2.000    3308\n",
       "Name: age, dtype: int64"
      ]
     },
     "execution_count": 41,
     "metadata": {},
     "output_type": "execute_result"
    }
   ],
   "source": [
    "df.groupby(\"type\").age.apply(lambda x : x.fillna(x.median())).value_counts(dropna=False)"
   ]
  },
  {
   "cell_type": "code",
   "execution_count": 42,
   "metadata": {
    "ExecuteTime": {
     "end_time": "2022-08-03T14:52:52.549346Z",
     "start_time": "2022-08-03T14:52:52.524452Z"
    }
   },
   "outputs": [
    {
     "data": {
      "text/plain": [
       "0"
      ]
     },
     "execution_count": 42,
     "metadata": {},
     "output_type": "execute_result"
    }
   ],
   "source": [
    "df.groupby(\"type\").age.apply(lambda x : x.fillna(x.median())).isnull().sum()"
   ]
  },
  {
   "cell_type": "code",
   "execution_count": 43,
   "metadata": {
    "ExecuteTime": {
     "end_time": "2022-08-03T14:52:52.580341Z",
     "start_time": "2022-08-03T14:52:52.559983Z"
    }
   },
   "outputs": [],
   "source": [
    "df[\"age\"] = df.groupby(\"type\").age.apply(lambda x : x.fillna(x.median()))"
   ]
  },
  {
   "cell_type": "code",
   "execution_count": 44,
   "metadata": {
    "ExecuteTime": {
     "end_time": "2022-08-03T14:52:52.616427Z",
     "start_time": "2022-08-03T14:52:52.590260Z"
    }
   },
   "outputs": [
    {
     "data": {
      "text/plain": [
       "0"
      ]
     },
     "execution_count": 44,
     "metadata": {},
     "output_type": "execute_result"
    }
   ],
   "source": [
    "df[\"age\"].isnull().sum()"
   ]
  },
  {
   "cell_type": "code",
   "execution_count": null,
   "metadata": {},
   "outputs": [],
   "source": []
  },
  {
   "cell_type": "markdown",
   "metadata": {},
   "source": [
    "## 5.km"
   ]
  },
  {
   "cell_type": "code",
   "execution_count": 45,
   "metadata": {
    "ExecuteTime": {
     "end_time": "2022-08-03T14:52:52.635466Z",
     "start_time": "2022-08-03T14:52:52.621636Z"
    }
   },
   "outputs": [
    {
     "name": "stdout",
     "output_type": "stream",
     "text": [
      "column name :  km\n",
      "--------------------------------\n",
      "Per_of_Nulls   :  % 6.43\n",
      "Num_of_Nulls   :  1024\n",
      "10.000       1045\n",
      "NaN          1024\n",
      "1.000         367\n",
      "5.000         170\n",
      "50.000        148\n",
      "             ... \n",
      "67469.000       1\n",
      "43197.000       1\n",
      "10027.000       1\n",
      "35882.000       1\n",
      "57.000          1\n",
      "Name: km, Length: 6690, dtype: int64\n",
      "******************************\n",
      "\n",
      "\n",
      "\n"
     ]
    }
   ],
   "source": [
    "check_df(\"km\")"
   ]
  },
  {
   "cell_type": "code",
   "execution_count": 46,
   "metadata": {
    "ExecuteTime": {
     "end_time": "2022-08-03T14:52:52.666630Z",
     "start_time": "2022-08-03T14:52:52.640930Z"
    }
   },
   "outputs": [
    {
     "data": {
      "text/plain": [
       "0       56013.000\n",
       "1       80000.000\n",
       "2       83450.000\n",
       "3       73000.000\n",
       "4       16200.000\n",
       "           ...   \n",
       "15914      16.987\n",
       "15915    9900.000\n",
       "15916      15.000\n",
       "15917      10.000\n",
       "15918    3373.868\n",
       "Name: km, Length: 15919, dtype: float64"
      ]
     },
     "execution_count": 46,
     "metadata": {},
     "output_type": "execute_result"
    }
   ],
   "source": [
    "df.groupby([\"type\", \"age\"])[\"km\"].apply(lambda x : x.fillna(x.mean()))"
   ]
  },
  {
   "cell_type": "code",
   "execution_count": 47,
   "metadata": {
    "ExecuteTime": {
     "end_time": "2022-08-03T14:52:52.707167Z",
     "start_time": "2022-08-03T14:52:52.669233Z"
    }
   },
   "outputs": [
    {
     "data": {
      "text/plain": [
       "10.000       1045\n",
       "16.987        848\n",
       "1.000         367\n",
       "5.000         170\n",
       "50.000        148\n",
       "             ... \n",
       "53433.000       1\n",
       "67469.000       1\n",
       "43197.000       1\n",
       "10027.000       1\n",
       "57.000          1\n",
       "Name: km, Length: 6699, dtype: int64"
      ]
     },
     "execution_count": 47,
     "metadata": {},
     "output_type": "execute_result"
    }
   ],
   "source": [
    "df.groupby([\"type\", \"age\"])[\"km\"].apply(lambda x : x.fillna(x.mean())).value_counts(dropna=False)"
   ]
  },
  {
   "cell_type": "code",
   "execution_count": 48,
   "metadata": {
    "ExecuteTime": {
     "end_time": "2022-08-03T14:52:52.736547Z",
     "start_time": "2022-08-03T14:52:52.713185Z"
    }
   },
   "outputs": [],
   "source": [
    "df[\"km\"] = df.groupby([\"type\", \"age\"])[\"km\"].apply(lambda x : x.fillna(x.mean()))"
   ]
  },
  {
   "cell_type": "code",
   "execution_count": 49,
   "metadata": {
    "ExecuteTime": {
     "end_time": "2022-08-03T14:52:52.794447Z",
     "start_time": "2022-08-03T14:52:52.746134Z"
    }
   },
   "outputs": [
    {
     "data": {
      "text/plain": [
       "0"
      ]
     },
     "execution_count": 49,
     "metadata": {},
     "output_type": "execute_result"
    }
   ],
   "source": [
    "df.km.isnull().sum()"
   ]
  },
  {
   "cell_type": "markdown",
   "metadata": {},
   "source": [
    "## 6.prev_owner and previous_owners"
   ]
  },
  {
   "cell_type": "code",
   "execution_count": 50,
   "metadata": {
    "ExecuteTime": {
     "end_time": "2022-08-03T14:52:52.809332Z",
     "start_time": "2022-08-03T14:52:52.799918Z"
    }
   },
   "outputs": [
    {
     "name": "stdout",
     "output_type": "stream",
     "text": [
      "column name :  prev_owner\n",
      "--------------------------------\n",
      "Per_of_Nulls   :  % 42.89\n",
      "Num_of_Nulls   :  6828\n",
      "1.000    8294\n",
      "NaN      6828\n",
      "2.000     778\n",
      "3.000      17\n",
      "4.000       2\n",
      "Name: prev_owner, dtype: int64\n",
      "******************************\n",
      "\n",
      "\n",
      "\n"
     ]
    }
   ],
   "source": [
    "check_df(\"prev_owner\")"
   ]
  },
  {
   "cell_type": "code",
   "execution_count": 51,
   "metadata": {
    "ExecuteTime": {
     "end_time": "2022-08-03T14:52:52.828698Z",
     "start_time": "2022-08-03T14:52:52.816778Z"
    }
   },
   "outputs": [
    {
     "name": "stdout",
     "output_type": "stream",
     "text": [
      "column name :  previous_owners\n",
      "--------------------------------\n",
      "Per_of_Nulls   :  % 41.71\n",
      "Num_of_Nulls   :  6640\n",
      "1.000    8294\n",
      "NaN      6640\n",
      "2.000     778\n",
      "0.000     188\n",
      "3.000      17\n",
      "4.000       2\n",
      "Name: previous_owners, dtype: int64\n",
      "******************************\n",
      "\n",
      "\n",
      "\n"
     ]
    }
   ],
   "source": [
    "check_df(\"previous_owners\")"
   ]
  },
  {
   "cell_type": "code",
   "execution_count": 52,
   "metadata": {
    "ExecuteTime": {
     "end_time": "2022-08-03T14:52:52.847179Z",
     "start_time": "2022-08-03T14:52:52.834068Z"
    }
   },
   "outputs": [],
   "source": [
    "df.drop(\"prev_owner\", axis=1, inplace=True)"
   ]
  },
  {
   "cell_type": "code",
   "execution_count": 53,
   "metadata": {
    "ExecuteTime": {
     "end_time": "2022-08-03T14:52:52.870142Z",
     "start_time": "2022-08-03T14:52:52.853153Z"
    },
    "scrolled": true
   },
   "outputs": [
    {
     "data": {
      "text/plain": [
       "age    previous_owners\n",
       "0.000  NaN                2653\n",
       "       1.000              1585\n",
       "       0.000               164\n",
       "       2.000                10\n",
       "1.000  1.000              2968\n",
       "       NaN                1474\n",
       "       2.000                75\n",
       "       0.000                 8\n",
       "2.000  1.000              1715\n",
       "       NaN                1283\n",
       "       2.000               296\n",
       "       3.000                 7\n",
       "       0.000                 6\n",
       "       4.000                 1\n",
       "3.000  1.000              2026\n",
       "       NaN                1230\n",
       "       2.000               397\n",
       "       0.000                10\n",
       "       3.000                10\n",
       "       4.000                 1\n",
       "Name: previous_owners, dtype: int64"
      ]
     },
     "execution_count": 53,
     "metadata": {},
     "output_type": "execute_result"
    }
   ],
   "source": [
    "df.groupby(\"age\")[\"previous_owners\"].value_counts(dropna=False)"
   ]
  },
  {
   "cell_type": "code",
   "execution_count": 54,
   "metadata": {
    "ExecuteTime": {
     "end_time": "2022-08-03T14:52:52.898185Z",
     "start_time": "2022-08-03T14:52:52.875546Z"
    }
   },
   "outputs": [
    {
     "data": {
      "text/plain": [
       "1.000    14934\n",
       "2.000      778\n",
       "0.000      188\n",
       "3.000       17\n",
       "4.000        2\n",
       "Name: previous_owners, dtype: int64"
      ]
     },
     "execution_count": 54,
     "metadata": {},
     "output_type": "execute_result"
    }
   ],
   "source": [
    "df.groupby(\"age\")[\"previous_owners\"].apply(lambda x: x.fillna(x.mode()[0])).value_counts()"
   ]
  },
  {
   "cell_type": "code",
   "execution_count": 55,
   "metadata": {
    "ExecuteTime": {
     "end_time": "2022-08-03T14:52:52.928055Z",
     "start_time": "2022-08-03T14:52:52.903951Z"
    }
   },
   "outputs": [
    {
     "data": {
      "text/plain": [
       "1.000    13463\n",
       "0.000     1659\n",
       "2.000      778\n",
       "3.000       17\n",
       "4.000        2\n",
       "Name: previous_owners, dtype: int64"
      ]
     },
     "execution_count": 55,
     "metadata": {},
     "output_type": "execute_result"
    }
   ],
   "source": [
    "df.groupby(\"type\")[\"previous_owners\"].apply(lambda x: x.fillna(x.mode()[0])).value_counts()"
   ]
  },
  {
   "cell_type": "code",
   "execution_count": 56,
   "metadata": {
    "ExecuteTime": {
     "end_time": "2022-08-03T14:52:53.025505Z",
     "start_time": "2022-08-03T14:52:52.932565Z"
    }
   },
   "outputs": [
    {
     "data": {
      "text/plain": [
       "1.000    13465\n",
       "0.000     1657\n",
       "2.000      778\n",
       "3.000       17\n",
       "4.000        2\n",
       "Name: previous_owners, dtype: int64"
      ]
     },
     "execution_count": 56,
     "metadata": {},
     "output_type": "execute_result"
    }
   ],
   "source": [
    "df.groupby([\"age\", \"type\"])[\"previous_owners\"].apply(lambda x: x.fillna(x.mode()[0])).value_counts()"
   ]
  },
  {
   "cell_type": "code",
   "execution_count": 57,
   "metadata": {
    "ExecuteTime": {
     "end_time": "2022-08-03T14:52:53.048277Z",
     "start_time": "2022-08-03T14:52:53.030692Z"
    }
   },
   "outputs": [],
   "source": [
    "df[\"previous_owners\"] = df.groupby(\"type\")[\"previous_owners\"].apply(lambda x: x.fillna(x.mode()[0]))"
   ]
  },
  {
   "cell_type": "code",
   "execution_count": 58,
   "metadata": {
    "ExecuteTime": {
     "end_time": "2022-08-03T14:52:53.063457Z",
     "start_time": "2022-08-03T14:52:53.053524Z"
    }
   },
   "outputs": [
    {
     "data": {
      "text/plain": [
       "0"
      ]
     },
     "execution_count": 58,
     "metadata": {},
     "output_type": "execute_result"
    }
   ],
   "source": [
    "df.previous_owners.isnull().sum()"
   ]
  },
  {
   "cell_type": "code",
   "execution_count": null,
   "metadata": {},
   "outputs": [],
   "source": []
  },
  {
   "cell_type": "markdown",
   "metadata": {},
   "source": [
    "## 7.hp_kW"
   ]
  },
  {
   "cell_type": "code",
   "execution_count": 59,
   "metadata": {
    "ExecuteTime": {
     "end_time": "2022-08-03T14:52:53.081593Z",
     "start_time": "2022-08-03T14:52:53.068441Z"
    },
    "scrolled": true
   },
   "outputs": [
    {
     "name": "stdout",
     "output_type": "stream",
     "text": [
      "column name :  hp_kW\n",
      "--------------------------------\n",
      "Per_of_Nulls   :  % 0.55\n",
      "Num_of_Nulls   :  88\n",
      "85.000     2542\n",
      "66.000     2122\n",
      "81.000     1402\n",
      "100.000    1308\n",
      "110.000    1112\n",
      "70.000      888\n",
      "125.000     707\n",
      "51.000      695\n",
      "55.000      569\n",
      "118.000     516\n",
      "92.000      466\n",
      "121.000     392\n",
      "147.000     380\n",
      "77.000      345\n",
      "56.000      286\n",
      "54.000      276\n",
      "103.000     253\n",
      "87.000      232\n",
      "165.000     194\n",
      "88.000      177\n",
      "60.000      160\n",
      "162.000      98\n",
      "NaN          88\n",
      "74.000       81\n",
      "96.000       72\n",
      "71.000       59\n",
      "101.000      47\n",
      "67.000       40\n",
      "154.000      39\n",
      "122.000      35\n",
      "119.000      30\n",
      "164.000      27\n",
      "135.000      24\n",
      "82.000       22\n",
      "52.000       22\n",
      "78.000       20\n",
      "1.000        20\n",
      "294.000      18\n",
      "146.000      18\n",
      "141.000      16\n",
      "57.000       10\n",
      "104.000       8\n",
      "120.000       8\n",
      "191.000       7\n",
      "112.000       7\n",
      "155.000       6\n",
      "117.000       6\n",
      "184.000       5\n",
      "90.000        4\n",
      "76.000        4\n",
      "65.000        4\n",
      "149.000       3\n",
      "80.000        3\n",
      "168.000       3\n",
      "98.000        3\n",
      "93.000        3\n",
      "228.000       2\n",
      "270.000       2\n",
      "53.000        2\n",
      "140.000       2\n",
      "86.000        2\n",
      "167.000       2\n",
      "127.000       2\n",
      "89.000        2\n",
      "143.000       2\n",
      "63.000        2\n",
      "40.000        2\n",
      "150.000       2\n",
      "163.000       1\n",
      "115.000       1\n",
      "132.000       1\n",
      "75.000        1\n",
      "4.000         1\n",
      "137.000       1\n",
      "123.000       1\n",
      "133.000       1\n",
      "84.000        1\n",
      "195.000       1\n",
      "44.000        1\n",
      "239.000       1\n",
      "9.000         1\n",
      "Name: hp_kW, dtype: int64\n",
      "******************************\n",
      "\n",
      "\n",
      "\n"
     ]
    }
   ],
   "source": [
    "check_df(\"hp_kW\")"
   ]
  },
  {
   "cell_type": "code",
   "execution_count": 60,
   "metadata": {
    "ExecuteTime": {
     "end_time": "2022-08-03T14:52:53.141842Z",
     "start_time": "2022-08-03T14:52:53.104263Z"
    }
   },
   "outputs": [
    {
     "data": {
      "text/plain": [
       "0"
      ]
     },
     "execution_count": 60,
     "metadata": {},
     "output_type": "execute_result"
    }
   ],
   "source": [
    "df.groupby([\"make\", \"model\", \"body_type\"])[\"hp_kW\"].apply(lambda x: x.fillna(x.median())).isnull().sum()"
   ]
  },
  {
   "cell_type": "code",
   "execution_count": 61,
   "metadata": {
    "ExecuteTime": {
     "end_time": "2022-08-03T14:52:53.176932Z",
     "start_time": "2022-08-03T14:52:53.145296Z"
    }
   },
   "outputs": [],
   "source": [
    "df[\"hp_kW\"] = df.groupby([\"make\", \"model\", \"body_type\"])[\"hp_kW\"].apply(lambda x: x.fillna(x.median()))"
   ]
  },
  {
   "cell_type": "code",
   "execution_count": 62,
   "metadata": {
    "ExecuteTime": {
     "end_time": "2022-08-03T14:52:53.197346Z",
     "start_time": "2022-08-03T14:52:53.182201Z"
    }
   },
   "outputs": [
    {
     "data": {
      "text/plain": [
       "0"
      ]
     },
     "execution_count": 62,
     "metadata": {},
     "output_type": "execute_result"
    }
   ],
   "source": [
    "df[\"hp_kW\"].isnull().sum()"
   ]
  },
  {
   "cell_type": "code",
   "execution_count": null,
   "metadata": {},
   "outputs": [],
   "source": []
  },
  {
   "cell_type": "markdown",
   "metadata": {},
   "source": [
    "## 8.warranty"
   ]
  },
  {
   "cell_type": "code",
   "execution_count": 63,
   "metadata": {
    "ExecuteTime": {
     "end_time": "2022-08-03T14:52:53.210813Z",
     "start_time": "2022-08-03T14:52:53.203003Z"
    }
   },
   "outputs": [],
   "source": [
    "# We made a search on the internet. We found at not all the cars on the autoscout platform have a warranty.\n",
    "# We got contact with autoscout officials on the meaning of NaN values of warranty column in the dataset \n",
    "# and they stated that every new car has a warranty but not all used cars have a warranty. \n",
    "# So we have filled all of the used cars to '0' and apllied fillna method for other values median of the \"warranty\" column values by groupby value of the \"type\" and \"age\" column."
   ]
  },
  {
   "cell_type": "code",
   "execution_count": 64,
   "metadata": {
    "ExecuteTime": {
     "end_time": "2022-08-03T14:52:53.226458Z",
     "start_time": "2022-08-03T14:52:53.213820Z"
    },
    "scrolled": true
   },
   "outputs": [
    {
     "data": {
      "text/plain": [
       "11066"
      ]
     },
     "execution_count": 64,
     "metadata": {},
     "output_type": "execute_result"
    }
   ],
   "source": [
    "df.warranty.isnull().sum()"
   ]
  },
  {
   "cell_type": "code",
   "execution_count": null,
   "metadata": {},
   "outputs": [],
   "source": []
  },
  {
   "cell_type": "code",
   "execution_count": 65,
   "metadata": {
    "ExecuteTime": {
     "end_time": "2022-08-03T14:52:53.247508Z",
     "start_time": "2022-08-03T14:52:53.231262Z"
    }
   },
   "outputs": [
    {
     "data": {
      "text/plain": [
       "make     model     age  \n",
       "Audi     A1        0.000   27.971\n",
       "                   1.000   26.300\n",
       "                   2.000   17.679\n",
       "                   3.000   13.926\n",
       "         A2        1.000      NaN\n",
       "         A3        0.000   27.697\n",
       "                   1.000   21.707\n",
       "                   2.000   16.655\n",
       "                   3.000   17.112\n",
       "Opel     Astra     0.000   37.804\n",
       "                   1.000   25.795\n",
       "                   2.000   14.988\n",
       "                   3.000   24.797\n",
       "         Corsa     0.000   27.472\n",
       "                   1.000   17.355\n",
       "                   2.000   22.231\n",
       "                   3.000   27.061\n",
       "         Insignia  0.000   31.863\n",
       "                   1.000   25.348\n",
       "                   2.000   17.058\n",
       "                   3.000   15.225\n",
       "Renault  Clio      0.000   35.510\n",
       "                   1.000   15.686\n",
       "                   2.000   16.733\n",
       "                   3.000   10.864\n",
       "         Duster    0.000   12.000\n",
       "         Espace    0.000   37.226\n",
       "                   1.000   22.524\n",
       "                   2.000   15.922\n",
       "                   3.000   12.482\n",
       "Name: warranty, dtype: float64"
      ]
     },
     "execution_count": 65,
     "metadata": {},
     "output_type": "execute_result"
    }
   ],
   "source": [
    "df.groupby([\"make\", \"model\", \"age\"])[\"warranty\"].mean()"
   ]
  },
  {
   "cell_type": "code",
   "execution_count": 66,
   "metadata": {
    "ExecuteTime": {
     "end_time": "2022-08-03T14:52:53.265616Z",
     "start_time": "2022-08-03T14:52:53.252489Z"
    }
   },
   "outputs": [
    {
     "data": {
      "text/plain": [
       "age\n",
       "0.000   30.511\n",
       "1.000   22.549\n",
       "2.000   17.345\n",
       "3.000   17.302\n",
       "Name: warranty, dtype: float64"
      ]
     },
     "execution_count": 66,
     "metadata": {},
     "output_type": "execute_result"
    }
   ],
   "source": [
    "df.groupby(\"age\")[\"warranty\"].mean()"
   ]
  },
  {
   "cell_type": "code",
   "execution_count": 67,
   "metadata": {
    "ExecuteTime": {
     "end_time": "2022-08-03T14:52:53.282050Z",
     "start_time": "2022-08-03T14:52:53.269139Z"
    }
   },
   "outputs": [
    {
     "data": {
      "text/plain": [
       "age\n",
       "0.000   24.000\n",
       "1.000   12.000\n",
       "2.000   12.000\n",
       "3.000   12.000\n",
       "Name: warranty, dtype: float64"
      ]
     },
     "execution_count": 67,
     "metadata": {},
     "output_type": "execute_result"
    }
   ],
   "source": [
    "df.groupby(\"age\")[\"warranty\"].median()"
   ]
  },
  {
   "cell_type": "code",
   "execution_count": 68,
   "metadata": {
    "ExecuteTime": {
     "end_time": "2022-08-03T14:52:53.336187Z",
     "start_time": "2022-08-03T14:52:53.303985Z"
    }
   },
   "outputs": [
    {
     "data": {
      "text/plain": [
       "NaN       11066\n",
       "12.000     2594\n",
       "24.000     1118\n",
       "60.000      401\n",
       "36.000      279\n",
       "48.000      149\n",
       "6.000       125\n",
       "72.000       59\n",
       "3.000        33\n",
       "23.000       11\n",
       "18.000       10\n",
       "20.000        7\n",
       "25.000        6\n",
       "2.000         5\n",
       "50.000        4\n",
       "26.000        4\n",
       "16.000        4\n",
       "4.000         3\n",
       "1.000         3\n",
       "19.000        3\n",
       "34.000        3\n",
       "13.000        3\n",
       "28.000        2\n",
       "22.000        2\n",
       "14.000        2\n",
       "11.000        2\n",
       "46.000        2\n",
       "21.000        2\n",
       "9.000         2\n",
       "17.000        2\n",
       "45.000        2\n",
       "33.000        1\n",
       "40.000        1\n",
       "65.000        1\n",
       "10.000        1\n",
       "15.000        1\n",
       "7.000         1\n",
       "8.000         1\n",
       "56.000        1\n",
       "49.000        1\n",
       "47.000        1\n",
       "30.000        1\n",
       "Name: warranty, dtype: int64"
      ]
     },
     "execution_count": 68,
     "metadata": {},
     "output_type": "execute_result"
    }
   ],
   "source": [
    "df[\"warranty\"].value_counts(dropna=False)"
   ]
  },
  {
   "cell_type": "code",
   "execution_count": 69,
   "metadata": {
    "ExecuteTime": {
     "end_time": "2022-08-03T14:52:53.349315Z",
     "start_time": "2022-08-03T14:52:53.338800Z"
    }
   },
   "outputs": [],
   "source": [
    "df[\"warranty\"] = df[\"warranty\"].replace(to_replace=np.nan, value=0).astype(\"float\")"
   ]
  },
  {
   "cell_type": "code",
   "execution_count": 70,
   "metadata": {
    "ExecuteTime": {
     "end_time": "2022-08-03T14:52:53.363467Z",
     "start_time": "2022-08-03T14:52:53.352440Z"
    }
   },
   "outputs": [],
   "source": [
    "df.loc[df[\"warranty\"] != 0, \"warranty\"] = 1"
   ]
  },
  {
   "cell_type": "code",
   "execution_count": 71,
   "metadata": {
    "ExecuteTime": {
     "end_time": "2022-08-03T14:52:53.379913Z",
     "start_time": "2022-08-03T14:52:53.367081Z"
    }
   },
   "outputs": [
    {
     "data": {
      "text/plain": [
       "0"
      ]
     },
     "execution_count": 71,
     "metadata": {},
     "output_type": "execute_result"
    }
   ],
   "source": [
    "df.warranty.isnull().sum()"
   ]
  },
  {
   "cell_type": "code",
   "execution_count": 72,
   "metadata": {
    "ExecuteTime": {
     "end_time": "2022-08-03T14:52:53.397523Z",
     "start_time": "2022-08-03T14:52:53.384803Z"
    },
    "scrolled": true
   },
   "outputs": [
    {
     "data": {
      "text/plain": [
       "0.000    11066\n",
       "1.000     4853\n",
       "Name: warranty, dtype: int64"
      ]
     },
     "execution_count": 72,
     "metadata": {},
     "output_type": "execute_result"
    }
   ],
   "source": [
    "df.warranty.value_counts()"
   ]
  },
  {
   "cell_type": "code",
   "execution_count": null,
   "metadata": {},
   "outputs": [],
   "source": []
  },
  {
   "cell_type": "markdown",
   "metadata": {},
   "source": [
    "## 9.body_color"
   ]
  },
  {
   "cell_type": "code",
   "execution_count": 73,
   "metadata": {
    "ExecuteTime": {
     "end_time": "2022-08-03T14:52:53.416256Z",
     "start_time": "2022-08-03T14:52:53.401750Z"
    }
   },
   "outputs": [
    {
     "name": "stdout",
     "output_type": "stream",
     "text": [
      "column name :  body_color\n",
      "--------------------------------\n",
      "Per_of_Nulls   :  % 3.75\n",
      "Num_of_Nulls   :  597\n",
      "Black     3745\n",
      "Grey      3505\n",
      "White     3406\n",
      "Silver    1647\n",
      "Blue      1431\n",
      "Red        957\n",
      "NaN        597\n",
      "Brown      289\n",
      "Green      154\n",
      "Beige      108\n",
      "Yellow      51\n",
      "Violet      18\n",
      "Bronze       6\n",
      "Orange       3\n",
      "Gold         2\n",
      "Name: body_color, dtype: int64\n",
      "******************************\n",
      "\n",
      "\n",
      "\n"
     ]
    }
   ],
   "source": [
    "check_df(\"body_color\")"
   ]
  },
  {
   "cell_type": "code",
   "execution_count": 74,
   "metadata": {
    "ExecuteTime": {
     "end_time": "2022-08-03T14:52:53.439672Z",
     "start_time": "2022-08-03T14:52:53.421346Z"
    }
   },
   "outputs": [
    {
     "data": {
      "text/plain": [
       "Black     3888\n",
       "Grey      3638\n",
       "White     3540\n",
       "Silver    1687\n",
       "Blue      1524\n",
       "Red        989\n",
       "Brown      299\n",
       "Green      163\n",
       "Beige      108\n",
       "Yellow      53\n",
       "Violet      18\n",
       "Bronze       7\n",
       "Orange       3\n",
       "Gold         2\n",
       "Name: body_color, dtype: int64"
      ]
     },
     "execution_count": 74,
     "metadata": {},
     "output_type": "execute_result"
    }
   ],
   "source": [
    "df.body_color.fillna(method=\"backfill\").value_counts(dropna=False)"
   ]
  },
  {
   "cell_type": "code",
   "execution_count": 75,
   "metadata": {
    "ExecuteTime": {
     "end_time": "2022-08-03T14:52:53.475218Z",
     "start_time": "2022-08-03T14:52:53.460473Z"
    }
   },
   "outputs": [
    {
     "data": {
      "text/plain": [
       "Black     3877\n",
       "Grey      3614\n",
       "White     3531\n",
       "Silver    1705\n",
       "Blue      1535\n",
       "Red        998\n",
       "Brown      298\n",
       "Green      163\n",
       "Beige      114\n",
       "Yellow      54\n",
       "Violet      19\n",
       "Bronze       6\n",
       "Orange       3\n",
       "Gold         2\n",
       "Name: body_color, dtype: int64"
      ]
     },
     "execution_count": 75,
     "metadata": {},
     "output_type": "execute_result"
    }
   ],
   "source": [
    "df.body_color.fillna(method=\"ffill\").value_counts(dropna=False)"
   ]
  },
  {
   "cell_type": "code",
   "execution_count": null,
   "metadata": {},
   "outputs": [],
   "source": []
  },
  {
   "cell_type": "code",
   "execution_count": 76,
   "metadata": {
    "ExecuteTime": {
     "end_time": "2022-08-03T14:52:53.489302Z",
     "start_time": "2022-08-03T14:52:53.480227Z"
    }
   },
   "outputs": [],
   "source": [
    "df[\"body_color\"] = df.body_color.fillna(method=\"backfill\")"
   ]
  },
  {
   "cell_type": "code",
   "execution_count": 77,
   "metadata": {
    "ExecuteTime": {
     "end_time": "2022-08-03T14:52:53.505899Z",
     "start_time": "2022-08-03T14:52:53.492502Z"
    }
   },
   "outputs": [
    {
     "data": {
      "text/plain": [
       "0"
      ]
     },
     "execution_count": 77,
     "metadata": {},
     "output_type": "execute_result"
    }
   ],
   "source": [
    "df[\"body_type\"].isnull().sum()"
   ]
  },
  {
   "cell_type": "code",
   "execution_count": null,
   "metadata": {},
   "outputs": [],
   "source": []
  },
  {
   "cell_type": "markdown",
   "metadata": {},
   "source": [
    "## 10.paint_type"
   ]
  },
  {
   "cell_type": "code",
   "execution_count": 78,
   "metadata": {
    "ExecuteTime": {
     "end_time": "2022-08-03T14:52:53.524988Z",
     "start_time": "2022-08-03T14:52:53.508970Z"
    }
   },
   "outputs": [
    {
     "name": "stdout",
     "output_type": "stream",
     "text": [
      "column name :  paint_type\n",
      "--------------------------------\n",
      "Per_of_Nulls   :  % 36.26\n",
      "Num_of_Nulls   :  5772\n",
      "Metallic       9794\n",
      "NaN            5772\n",
      "Uni/basic       347\n",
      "Perl effect       6\n",
      "Name: paint_type, dtype: int64\n",
      "******************************\n",
      "\n",
      "\n",
      "\n"
     ]
    }
   ],
   "source": [
    "check_df(\"paint_type\")"
   ]
  },
  {
   "cell_type": "code",
   "execution_count": 79,
   "metadata": {
    "ExecuteTime": {
     "end_time": "2022-08-03T14:52:53.544804Z",
     "start_time": "2022-08-03T14:52:53.530397Z"
    }
   },
   "outputs": [
    {
     "data": {
      "text/plain": [
       "NaN                            1670\n",
       "Brillantschwarz                 179\n",
       "Bianco                          163\n",
       "wählbar - ggf. mit Aufpreis     118\n",
       "Blanco                          110\n",
       "                               ... \n",
       "schnee-weiss                      1\n",
       "schneeweiß/schwarz                1\n",
       "rouge eclat                       1\n",
       "Gris Cosmique                     1\n",
       "Cosmos Blau Met                   1\n",
       "Name: body_color_original, Length: 624, dtype: int64"
      ]
     },
     "execution_count": 79,
     "metadata": {},
     "output_type": "execute_result"
    }
   ],
   "source": [
    "df[df.paint_type.isnull()][\"body_color_original\"].value_counts(dropna=False)"
   ]
  },
  {
   "cell_type": "code",
   "execution_count": 80,
   "metadata": {
    "ExecuteTime": {
     "end_time": "2022-08-03T14:52:53.566897Z",
     "start_time": "2022-08-03T14:52:53.551969Z"
    }
   },
   "outputs": [
    {
     "data": {
      "text/plain": [
       "Metallic       15261\n",
       "Uni/basic        617\n",
       "Perl effect       41\n",
       "Name: paint_type, dtype: int64"
      ]
     },
     "execution_count": 80,
     "metadata": {},
     "output_type": "execute_result"
    }
   ],
   "source": [
    "df.paint_type.fillna(method=\"pad\").value_counts(dropna=False)"
   ]
  },
  {
   "cell_type": "code",
   "execution_count": 81,
   "metadata": {
    "ExecuteTime": {
     "end_time": "2022-08-03T14:52:53.586647Z",
     "start_time": "2022-08-03T14:52:53.570843Z"
    }
   },
   "outputs": [
    {
     "data": {
      "text/plain": [
       "Metallic       15343\n",
       "Uni/basic        555\n",
       "Perl effect       21\n",
       "Name: paint_type, dtype: int64"
      ]
     },
     "execution_count": 81,
     "metadata": {},
     "output_type": "execute_result"
    }
   ],
   "source": [
    "df.paint_type.fillna(method=\"bfill\").value_counts(dropna=False)"
   ]
  },
  {
   "cell_type": "code",
   "execution_count": 82,
   "metadata": {
    "ExecuteTime": {
     "end_time": "2022-08-03T14:52:53.606824Z",
     "start_time": "2022-08-03T14:52:53.592364Z"
    }
   },
   "outputs": [
    {
     "data": {
      "text/plain": [
       "Metallic       9794\n",
       "NaN            5772\n",
       "Uni/basic       347\n",
       "Perl effect       6\n",
       "Name: paint_type, dtype: int64"
      ]
     },
     "execution_count": 82,
     "metadata": {},
     "output_type": "execute_result"
    }
   ],
   "source": [
    "df.paint_type.value_counts(dropna=False)"
   ]
  },
  {
   "cell_type": "code",
   "execution_count": 83,
   "metadata": {
    "ExecuteTime": {
     "end_time": "2022-08-03T14:52:53.620911Z",
     "start_time": "2022-08-03T14:52:53.611862Z"
    }
   },
   "outputs": [],
   "source": [
    "df.paint_type = df.paint_type.fillna(method=\"pad\")"
   ]
  },
  {
   "cell_type": "code",
   "execution_count": 84,
   "metadata": {
    "ExecuteTime": {
     "end_time": "2022-08-03T14:52:53.661032Z",
     "start_time": "2022-08-03T14:52:53.646674Z"
    }
   },
   "outputs": [
    {
     "data": {
      "text/plain": [
       "0"
      ]
     },
     "execution_count": 84,
     "metadata": {},
     "output_type": "execute_result"
    }
   ],
   "source": [
    "df.paint_type.isnull().sum()"
   ]
  },
  {
   "cell_type": "code",
   "execution_count": null,
   "metadata": {},
   "outputs": [],
   "source": []
  },
  {
   "cell_type": "markdown",
   "metadata": {},
   "source": [
    "## 11.body_color_original"
   ]
  },
  {
   "cell_type": "code",
   "execution_count": 85,
   "metadata": {
    "ExecuteTime": {
     "end_time": "2022-08-03T14:52:53.670873Z",
     "start_time": "2022-08-03T14:52:53.664244Z"
    }
   },
   "outputs": [],
   "source": [
    "# Since this column contains irrelevant values and the values are in German, \n",
    "# we have dropped this column."
   ]
  },
  {
   "cell_type": "code",
   "execution_count": 86,
   "metadata": {
    "ExecuteTime": {
     "end_time": "2022-08-03T14:52:53.686884Z",
     "start_time": "2022-08-03T14:52:53.673906Z"
    }
   },
   "outputs": [],
   "source": [
    "df.drop(columns=\"body_color_original\", inplace=True)"
   ]
  },
  {
   "cell_type": "markdown",
   "metadata": {},
   "source": [
    "## 12.upholstery"
   ]
  },
  {
   "cell_type": "code",
   "execution_count": 87,
   "metadata": {
    "ExecuteTime": {
     "end_time": "2022-08-03T14:52:53.704454Z",
     "start_time": "2022-08-03T14:52:53.690517Z"
    }
   },
   "outputs": [
    {
     "name": "stdout",
     "output_type": "stream",
     "text": [
      "column name :  upholstery\n",
      "--------------------------------\n",
      "Per_of_Nulls   :  % 23.37\n",
      "Num_of_Nulls   :  3720\n",
      "Cloth           9206\n",
      "NaN             3720\n",
      "Part leather    1499\n",
      "Full leather    1009\n",
      "Other            368\n",
      "Velour            60\n",
      "alcantara         57\n",
      "Name: upholstery, dtype: int64\n",
      "******************************\n",
      "\n",
      "\n",
      "\n"
     ]
    }
   ],
   "source": [
    "check_df(\"upholstery\")"
   ]
  },
  {
   "cell_type": "code",
   "execution_count": 88,
   "metadata": {
    "ExecuteTime": {
     "end_time": "2022-08-03T14:52:53.717420Z",
     "start_time": "2022-08-03T14:52:53.707986Z"
    }
   },
   "outputs": [
    {
     "data": {
      "text/plain": [
       "Index(['body_type', 'price_€', 'vat', 'km', 'hp_kW', 'type', 'previous_owners',\n",
       "       'warranty', 'make', 'model', 'body_color', 'paint_type', 'upholstery',\n",
       "       'nr_of_doors', 'nr_of_seats', 'gearing_type', 'engine_displacement_cc',\n",
       "       'cylinders', 'weight_kg', 'drive_chain', 'fuel', 'co2e_g',\n",
       "       'emission_class', 'comfort&convenience', 'entertainment&media',\n",
       "       'extras', 'safety&security', 'gears', 'country_version',\n",
       "       'consumption_comb', 'consumption_city', 'consumption_country', 'age'],\n",
       "      dtype='object')"
      ]
     },
     "execution_count": 88,
     "metadata": {},
     "output_type": "execute_result"
    }
   ],
   "source": [
    "df.columns"
   ]
  },
  {
   "cell_type": "code",
   "execution_count": 89,
   "metadata": {
    "ExecuteTime": {
     "end_time": "2022-08-03T14:52:53.726988Z",
     "start_time": "2022-08-03T14:52:53.720594Z"
    }
   },
   "outputs": [],
   "source": [
    "import re"
   ]
  },
  {
   "cell_type": "code",
   "execution_count": 90,
   "metadata": {
    "ExecuteTime": {
     "end_time": "2022-08-03T14:52:53.742856Z",
     "start_time": "2022-08-03T14:52:53.731369Z"
    }
   },
   "outputs": [],
   "source": [
    "def get_diff_category_column(Series:pd.Series, exclude=''',/\\n''', pattern=r'''[,\\n]| /''', strip='''\\n' \"!?|.,*+-_/]['''):\n",
    "    \"\"\"\n",
    "    exclude  - satırlar da kategori ayırım yerleri\n",
    "    pattern  - satırdaki veriyi ayırma regex\n",
    "    strip    - alakasız işaretleri kaldırma\n",
    "    \"\"\"\n",
    "    import re\n",
    "    column = Series.dropna().apply(str).str.strip(strip)\n",
    "    diff_value = list()\n",
    "    for row in column:\n",
    "        if not any(x in exclude for x in row) and row not in diff_value:\n",
    "            diff_value.append(row)\n",
    "        else:\n",
    "            for data in map(lambda x: x.strip(strip), filter(None, re.split(pattern, row))):\n",
    "                if data not in diff_value:\n",
    "                    diff_value.append(data)\n",
    "    return dict(enumerate(sorted(diff_value)))"
   ]
  },
  {
   "cell_type": "code",
   "execution_count": 91,
   "metadata": {
    "ExecuteTime": {
     "end_time": "2022-08-03T14:52:54.071650Z",
     "start_time": "2022-08-03T14:52:53.746298Z"
    }
   },
   "outputs": [
    {
     "data": {
      "text/plain": [
       "{0: 'Air conditioning',\n",
       " 1: 'Air suspension',\n",
       " 2: 'Armrest',\n",
       " 3: 'Automatic climate control',\n",
       " 4: 'Auxiliary heating',\n",
       " 5: 'Cruise control',\n",
       " 6: 'Electric Starter',\n",
       " 7: 'Electric tailgate',\n",
       " 8: 'Electrical side mirrors',\n",
       " 9: 'Electrically adjustable seats',\n",
       " 10: 'Electrically heated windshield',\n",
       " 11: 'Heads-up display',\n",
       " 12: 'Heated steering wheel',\n",
       " 13: 'Hill Holder',\n",
       " 14: 'Keyless central door lock',\n",
       " 15: 'Leather seats',\n",
       " 16: 'Leather steering wheel',\n",
       " 17: 'Light sensor',\n",
       " 18: 'Lumbar support',\n",
       " 19: 'Massage seats',\n",
       " 20: 'Multi-function steering wheel',\n",
       " 21: 'Navigation system',\n",
       " 22: 'Panorama roof',\n",
       " 23: 'Park Distance Control',\n",
       " 24: 'Parking assist system camera',\n",
       " 25: 'Parking assist system self-steering',\n",
       " 26: 'Parking assist system sensors front',\n",
       " 27: 'Parking assist system sensors rear',\n",
       " 28: 'Power windows',\n",
       " 29: 'Rain sensor',\n",
       " 30: 'Seat heating',\n",
       " 31: 'Seat ventilation',\n",
       " 32: 'Split rear seats',\n",
       " 33: 'Start-stop system',\n",
       " 34: 'Sunroof',\n",
       " 35: 'Tinted windows',\n",
       " 36: 'Wind deflector',\n",
       " 37: 'Windshield'}"
      ]
     },
     "execution_count": 91,
     "metadata": {},
     "output_type": "execute_result"
    }
   ],
   "source": [
    "get_diff_category_column(df[\"comfort&convenience\"])"
   ]
  },
  {
   "cell_type": "code",
   "execution_count": 92,
   "metadata": {
    "ExecuteTime": {
     "end_time": "2022-08-03T14:52:54.102734Z",
     "start_time": "2022-08-03T14:52:54.074660Z"
    }
   },
   "outputs": [
    {
     "data": {
      "text/plain": [
       "False    14951\n",
       "NaN        920\n",
       "True        48\n",
       "Name: comfort&convenience, dtype: int64"
      ]
     },
     "execution_count": 92,
     "metadata": {},
     "output_type": "execute_result"
    }
   ],
   "source": [
    "df[\"comfort&convenience\"].str.contains(\"Leather seats\").value_counts(dropna=False)"
   ]
  },
  {
   "cell_type": "code",
   "execution_count": 93,
   "metadata": {
    "ExecuteTime": {
     "end_time": "2022-08-03T14:52:54.125804Z",
     "start_time": "2022-08-03T14:52:54.106126Z"
    }
   },
   "outputs": [
    {
     "data": {
      "text/plain": [
       "False    2939\n",
       "NaN       779\n",
       "True        2\n",
       "Name: comfort&convenience, dtype: int64"
      ]
     },
     "execution_count": 93,
     "metadata": {},
     "output_type": "execute_result"
    }
   ],
   "source": [
    "df[df.upholstery.isnull()][\"comfort&convenience\"].str.contains(\"Leather seats\").value_counts(dropna=False)"
   ]
  },
  {
   "cell_type": "code",
   "execution_count": 94,
   "metadata": {
    "ExecuteTime": {
     "end_time": "2022-08-03T14:52:54.135627Z",
     "start_time": "2022-08-03T14:52:54.128383Z"
    }
   },
   "outputs": [],
   "source": [
    "# As the second option we can create an additional column according to \"price_€\" column(\"high\", \"medium\", \"low\" price).\n",
    "# We can fill NaN values of upholstery column by grouping this new column."
   ]
  },
  {
   "cell_type": "code",
   "execution_count": 95,
   "metadata": {
    "ExecuteTime": {
     "end_time": "2022-08-03T14:52:56.210548Z",
     "start_time": "2022-08-03T14:52:54.140072Z"
    }
   },
   "outputs": [
    {
     "data": {
      "text/plain": [
       "Cloth           11912\n",
       "Part leather     1974\n",
       "Full leather     1356\n",
       "Other             507\n",
       "Velour             96\n",
       "alcantara          74\n",
       "Name: upholstery, dtype: int64"
      ]
     },
     "execution_count": 95,
     "metadata": {},
     "output_type": "execute_result"
    }
   ],
   "source": [
    "df.groupby([\"make\", \"model\", \"price_€\"])[\"upholstery\"].fillna(method=\"pad\").fillna(method=\"backfill\").value_counts(dropna=False)"
   ]
  },
  {
   "cell_type": "code",
   "execution_count": 96,
   "metadata": {
    "ExecuteTime": {
     "end_time": "2022-08-03T14:52:57.924337Z",
     "start_time": "2022-08-03T14:52:56.214475Z"
    }
   },
   "outputs": [],
   "source": [
    "df.upholstery = df.groupby([\"make\", \"model\", \"price_€\"])[\"upholstery\"].fillna(method=\"pad\").fillna(method=\"backfill\")"
   ]
  },
  {
   "cell_type": "code",
   "execution_count": 97,
   "metadata": {
    "ExecuteTime": {
     "end_time": "2022-08-03T14:52:57.938412Z",
     "start_time": "2022-08-03T14:52:57.927982Z"
    }
   },
   "outputs": [
    {
     "data": {
      "text/plain": [
       "0"
      ]
     },
     "execution_count": 97,
     "metadata": {},
     "output_type": "execute_result"
    }
   ],
   "source": [
    "df.upholstery.isnull().sum()"
   ]
  },
  {
   "cell_type": "code",
   "execution_count": 98,
   "metadata": {
    "ExecuteTime": {
     "end_time": "2022-08-03T14:52:57.968157Z",
     "start_time": "2022-08-03T14:52:57.941668Z"
    }
   },
   "outputs": [
    {
     "data": {
      "text/plain": [
       "body_type                    0\n",
       "price_€                      0\n",
       "vat                          0\n",
       "km                           0\n",
       "hp_kW                        0\n",
       "type                         0\n",
       "previous_owners              0\n",
       "warranty                     0\n",
       "make                         0\n",
       "model                        0\n",
       "body_color                   0\n",
       "paint_type                   0\n",
       "upholstery                   0\n",
       "nr_of_doors                212\n",
       "nr_of_seats                977\n",
       "gearing_type                 0\n",
       "engine_displacement_cc     496\n",
       "cylinders                 5680\n",
       "weight_kg                 6974\n",
       "drive_chain               6858\n",
       "fuel                         0\n",
       "co2e_g                    2442\n",
       "emission_class            3628\n",
       "comfort&convenience        920\n",
       "entertainment&media       1374\n",
       "extras                    2962\n",
       "safety&security            982\n",
       "gears                     4712\n",
       "country_version           8333\n",
       "consumption_comb          3790\n",
       "consumption_city          4039\n",
       "consumption_country       3365\n",
       "age                          0\n",
       "dtype: int64"
      ]
     },
     "execution_count": 98,
     "metadata": {},
     "output_type": "execute_result"
    }
   ],
   "source": [
    "df.isnull().sum()"
   ]
  },
  {
   "cell_type": "code",
   "execution_count": null,
   "metadata": {},
   "outputs": [],
   "source": []
  },
  {
   "cell_type": "markdown",
   "metadata": {},
   "source": [
    "## 13.nr_of_doors"
   ]
  },
  {
   "cell_type": "code",
   "execution_count": 99,
   "metadata": {
    "ExecuteTime": {
     "end_time": "2022-08-03T14:52:57.980272Z",
     "start_time": "2022-08-03T14:52:57.971934Z"
    },
    "scrolled": true
   },
   "outputs": [
    {
     "name": "stdout",
     "output_type": "stream",
     "text": [
      "column name :  nr_of_doors\n",
      "--------------------------------\n",
      "Per_of_Nulls   :  % 1.33\n",
      "Num_of_Nulls   :  212\n",
      "5.000    11575\n",
      "4.000     3079\n",
      "3.000      832\n",
      "2.000      219\n",
      "NaN        212\n",
      "1.000        1\n",
      "7.000        1\n",
      "Name: nr_of_doors, dtype: int64\n",
      "******************************\n",
      "\n",
      "\n",
      "\n"
     ]
    }
   ],
   "source": [
    "check_df(\"nr_of_doors\")"
   ]
  },
  {
   "cell_type": "code",
   "execution_count": 100,
   "metadata": {
    "ExecuteTime": {
     "end_time": "2022-08-03T14:52:58.007281Z",
     "start_time": "2022-08-03T14:52:57.984616Z"
    }
   },
   "outputs": [
    {
     "data": {
      "text/plain": [
       "make     model     body_type      nr_of_doors\n",
       "Audi     A1        Compact        5.000           666\n",
       "                                  4.000           207\n",
       "                                  3.000            80\n",
       "                                  2.000            69\n",
       "                                  NaN              17\n",
       "                   Coupe          2.000             1\n",
       "                                  5.000             1\n",
       "                   Other          5.000             8\n",
       "                                  4.000             5\n",
       "                   Sedans         5.000          1048\n",
       "                                  4.000           321\n",
       "                                  3.000           130\n",
       "                                  2.000            29\n",
       "                                  NaN              10\n",
       "                   Station wagon  5.000            17\n",
       "                                  4.000             3\n",
       "                                  3.000             1\n",
       "                   Van            5.000             1\n",
       "         A2        Off-Road       5.000             1\n",
       "         A3        Compact        5.000           164\n",
       "                                  3.000            11\n",
       "                                  4.000             6\n",
       "                                  NaN               1\n",
       "                   Convertible    2.000             7\n",
       "                                  5.000             1\n",
       "                   Coupe          3.000             4\n",
       "                   Other          5.000            10\n",
       "                                  3.000             3\n",
       "                                  2.000             2\n",
       "                                  4.000             1\n",
       "                   Sedans         5.000          1953\n",
       "                                  4.000           517\n",
       "                                  3.000            94\n",
       "                                  NaN              24\n",
       "                                  2.000            17\n",
       "                   Station wagon  5.000           169\n",
       "                                  4.000           110\n",
       "                                  NaN               1\n",
       "                                  2.000             1\n",
       "                                  3.000             1\n",
       "Opel     Astra     Compact        5.000           180\n",
       "                                  4.000             5\n",
       "                   Coupe          3.000             1\n",
       "                                  5.000             1\n",
       "                   Off-Road       5.000             1\n",
       "                   Other          5.000            59\n",
       "                                  4.000             7\n",
       "                                  NaN               1\n",
       "                   Sedans         5.000           797\n",
       "                                  4.000           241\n",
       "                                  NaN              12\n",
       "                                  3.000             3\n",
       "                   Station wagon  5.000           927\n",
       "                                  4.000           280\n",
       "                                  NaN              11\n",
       "         Corsa     Compact        5.000           528\n",
       "                                  3.000           338\n",
       "                                  4.000           268\n",
       "                                  2.000            88\n",
       "                                  NaN              10\n",
       "                   Coupe          3.000            12\n",
       "                                  5.000             1\n",
       "                   Off-Road       5.000             3\n",
       "                   Other          5.000            80\n",
       "                                  3.000             4\n",
       "                                  4.000             2\n",
       "                                  2.000             1\n",
       "                   Sedans         5.000           662\n",
       "                                  3.000           146\n",
       "                                  NaN              42\n",
       "                                  4.000            21\n",
       "                                  2.000             4\n",
       "                   Transporter    3.000             4\n",
       "                                  5.000             3\n",
       "                   Van            NaN               2\n",
       "         Insignia  Compact        5.000            26\n",
       "                                  4.000             1\n",
       "                   Coupe          4.000             1\n",
       "                   Off-Road       5.000             7\n",
       "                   Other          5.000            44\n",
       "                                  4.000             3\n",
       "                                  NaN               1\n",
       "                   Sedans         5.000           638\n",
       "                                  4.000           250\n",
       "                                  NaN              12\n",
       "                   Station wagon  5.000          1149\n",
       "                                  4.000           453\n",
       "                                  NaN              12\n",
       "                   Van            5.000             1\n",
       "Renault  Clio      Compact        5.000           302\n",
       "                                  4.000           170\n",
       "                                  NaN              11\n",
       "                                  1.000             1\n",
       "                   Coupe          4.000             1\n",
       "                   Off-Road       5.000             2\n",
       "                   Other          5.000            46\n",
       "                                  4.000             4\n",
       "                                  NaN               1\n",
       "                   Sedans         5.000           868\n",
       "                                  4.000            44\n",
       "                                  NaN              21\n",
       "                   Station wagon  5.000           276\n",
       "                                  4.000            52\n",
       "                                  NaN               9\n",
       "                   Transporter    5.000            27\n",
       "                                  NaN               1\n",
       "                                  4.000             1\n",
       "                   Van            NaN               1\n",
       "                                  5.000             1\n",
       "         Duster    Off-Road       5.000            34\n",
       "         Espace    Compact        5.000             5\n",
       "                                  4.000             1\n",
       "                   Coupe          NaN               1\n",
       "                                  5.000             1\n",
       "                   Off-Road       5.000             6\n",
       "                                  NaN               1\n",
       "                                  4.000             1\n",
       "                   Other          5.000             7\n",
       "                                  NaN               1\n",
       "                   Sedans         5.000            12\n",
       "                                  4.000             9\n",
       "                   Station wagon  5.000            86\n",
       "                                  4.000             4\n",
       "                                  NaN               1\n",
       "                   Transporter    5.000            52\n",
       "                   Van            5.000           704\n",
       "                                  4.000            90\n",
       "                                  NaN               8\n",
       "                                  7.000             1\n",
       "Name: nr_of_doors, dtype: int64"
      ]
     },
     "execution_count": 100,
     "metadata": {},
     "output_type": "execute_result"
    }
   ],
   "source": [
    "df.groupby([\"make\", \"model\", \"body_type\"])[\"nr_of_doors\"].value_counts(dropna=False)"
   ]
  },
  {
   "cell_type": "code",
   "execution_count": 101,
   "metadata": {
    "ExecuteTime": {
     "end_time": "2022-08-03T14:52:58.018468Z",
     "start_time": "2022-08-03T14:52:58.010326Z"
    }
   },
   "outputs": [],
   "source": [
    "# df.groupby([\"make\", \"model\", \"body_type\"])[\"nr_of_doors\"].apply(lambda x: x.fillna(x.mode()[0])).isnull().sum()"
   ]
  },
  {
   "cell_type": "code",
   "execution_count": 102,
   "metadata": {
    "ExecuteTime": {
     "end_time": "2022-08-03T14:52:58.039519Z",
     "start_time": "2022-08-03T14:52:58.022405Z"
    }
   },
   "outputs": [
    {
     "data": {
      "text/plain": [
       "8952   NaN\n",
       "8953   NaN\n",
       "Name: nr_of_doors, dtype: float64"
      ]
     },
     "execution_count": 102,
     "metadata": {},
     "output_type": "execute_result"
    }
   ],
   "source": [
    "df[(df[\"make\"] == \"Opel\")&(df[\"model\"] == \"Corsa\")&(df[\"body_type\"] == \"Van\")][\"nr_of_doors\"]"
   ]
  },
  {
   "cell_type": "code",
   "execution_count": 103,
   "metadata": {
    "ExecuteTime": {
     "end_time": "2022-08-03T14:52:58.061229Z",
     "start_time": "2022-08-03T14:52:58.044506Z"
    }
   },
   "outputs": [
    {
     "data": {
      "text/plain": [
       "8952   NaN\n",
       "8953   NaN\n",
       "Name: nr_of_doors, dtype: float64"
      ]
     },
     "execution_count": 103,
     "metadata": {},
     "output_type": "execute_result"
    }
   ],
   "source": [
    "df[(df[\"make\"] == \"Opel\")&(df[\"model\"] == \"Corsa\")&(df[\"body_type\"] == \"Van\")][\"nr_of_doors\"]"
   ]
  },
  {
   "cell_type": "code",
   "execution_count": 104,
   "metadata": {
    "ExecuteTime": {
     "end_time": "2022-08-03T14:52:58.077299Z",
     "start_time": "2022-08-03T14:52:58.064653Z"
    }
   },
   "outputs": [
    {
     "data": {
      "text/plain": [
       "5.000    11575\n",
       "4.000     3079\n",
       "3.000      832\n",
       "2.000      219\n",
       "NaN        212\n",
       "1.000        1\n",
       "7.000        1\n",
       "Name: nr_of_doors, dtype: int64"
      ]
     },
     "execution_count": 104,
     "metadata": {},
     "output_type": "execute_result"
    }
   ],
   "source": [
    "df.nr_of_doors.value_counts(dropna=False)"
   ]
  },
  {
   "cell_type": "code",
   "execution_count": 105,
   "metadata": {
    "ExecuteTime": {
     "end_time": "2022-08-03T14:52:58.094871Z",
     "start_time": "2022-08-03T14:52:58.081626Z"
    }
   },
   "outputs": [
    {
     "data": {
      "text/plain": [
       "8952   NaN\n",
       "8953   NaN\n",
       "Name: nr_of_doors, dtype: float64"
      ]
     },
     "execution_count": 105,
     "metadata": {},
     "output_type": "execute_result"
    }
   ],
   "source": [
    "df.iloc[8952:8954][\"nr_of_doors\"]"
   ]
  },
  {
   "cell_type": "code",
   "execution_count": 106,
   "metadata": {
    "ExecuteTime": {
     "end_time": "2022-08-03T14:52:58.161116Z",
     "start_time": "2022-08-03T14:52:58.100628Z"
    }
   },
   "outputs": [],
   "source": [
    "df.nr_of_doors = df.groupby([\"make\", \"model\", \"body_type\"])[\"nr_of_doors\"].apply(lambda x: x.fillna(x.mode()[0] if any(x.mode()) else df[\"nr_of_doors\"].mode()[0]))"
   ]
  },
  {
   "cell_type": "code",
   "execution_count": 107,
   "metadata": {
    "ExecuteTime": {
     "end_time": "2022-08-03T14:52:58.173997Z",
     "start_time": "2022-08-03T14:52:58.164057Z"
    }
   },
   "outputs": [
    {
     "data": {
      "text/plain": [
       "0"
      ]
     },
     "execution_count": 107,
     "metadata": {},
     "output_type": "execute_result"
    }
   ],
   "source": [
    "df.nr_of_doors.isnull().sum()"
   ]
  },
  {
   "cell_type": "code",
   "execution_count": null,
   "metadata": {},
   "outputs": [],
   "source": []
  },
  {
   "cell_type": "markdown",
   "metadata": {},
   "source": [
    "## 14.nr_of_seats"
   ]
  },
  {
   "cell_type": "code",
   "execution_count": 108,
   "metadata": {
    "ExecuteTime": {
     "end_time": "2022-08-03T14:52:58.187896Z",
     "start_time": "2022-08-03T14:52:58.177678Z"
    }
   },
   "outputs": [
    {
     "name": "stdout",
     "output_type": "stream",
     "text": [
      "column name :  nr_of_seats\n",
      "--------------------------------\n",
      "Per_of_Nulls   :  % 6.14\n",
      "Num_of_Nulls   :  977\n",
      "5.000    13336\n",
      "4.000     1125\n",
      "NaN        977\n",
      "7.000      362\n",
      "2.000      116\n",
      "6.000        2\n",
      "3.000        1\n",
      "Name: nr_of_seats, dtype: int64\n",
      "******************************\n",
      "\n",
      "\n",
      "\n"
     ]
    }
   ],
   "source": [
    "check_df(\"nr_of_seats\")"
   ]
  },
  {
   "cell_type": "code",
   "execution_count": 109,
   "metadata": {
    "ExecuteTime": {
     "end_time": "2022-08-03T14:52:58.220587Z",
     "start_time": "2022-08-03T14:52:58.195390Z"
    }
   },
   "outputs": [
    {
     "data": {
      "text/plain": [
       "make     model     body_type      nr_of_seats\n",
       "Audi     A1        Compact        5.000           538\n",
       "                                  4.000           431\n",
       "                                  NaN              68\n",
       "                                  3.000             1\n",
       "                                  6.000             1\n",
       "                   Coupe          4.000             1\n",
       "                                  5.000             1\n",
       "                   Other          5.000            12\n",
       "                                  4.000             1\n",
       "                   Sedans         5.000           827\n",
       "                                  4.000           641\n",
       "                                  NaN              70\n",
       "                   Station wagon  5.000            14\n",
       "                                  4.000             6\n",
       "                                  NaN               1\n",
       "                   Van            NaN               1\n",
       "         A2        Off-Road       5.000             1\n",
       "         A3        Compact        5.000           175\n",
       "                                  NaN               7\n",
       "                   Convertible    4.000             5\n",
       "                                  5.000             2\n",
       "                                  NaN               1\n",
       "                   Coupe          5.000             4\n",
       "                   Other          5.000             9\n",
       "                                  NaN               6\n",
       "                                  4.000             1\n",
       "                   Sedans         5.000          2484\n",
       "                                  NaN             102\n",
       "                                  4.000            19\n",
       "                   Station wagon  5.000           277\n",
       "                                  NaN               5\n",
       "Opel     Astra     Compact        5.000           174\n",
       "                                  NaN              11\n",
       "                   Coupe          NaN               1\n",
       "                                  4.000             1\n",
       "                   Off-Road       5.000             1\n",
       "                   Other          5.000            61\n",
       "                                  NaN               6\n",
       "                   Sedans         5.000           985\n",
       "                                  NaN              68\n",
       "                   Station wagon  5.000          1136\n",
       "                                  NaN              78\n",
       "                                  4.000             4\n",
       "         Corsa     Compact        5.000          1200\n",
       "                                  NaN              27\n",
       "                                  4.000             5\n",
       "                   Coupe          5.000            11\n",
       "                                  NaN               1\n",
       "                                  2.000             1\n",
       "                   Off-Road       NaN               2\n",
       "                                  5.000             1\n",
       "                   Other          5.000            86\n",
       "                                  NaN               1\n",
       "                   Sedans         5.000           787\n",
       "                                  NaN              87\n",
       "                                  4.000             1\n",
       "                   Transporter    2.000             4\n",
       "                                  5.000             2\n",
       "                                  4.000             1\n",
       "                   Van            NaN               2\n",
       "         Insignia  Compact        5.000            26\n",
       "                                  NaN               1\n",
       "                   Coupe          NaN               1\n",
       "                   Off-Road       5.000             7\n",
       "                   Other          5.000            44\n",
       "                                  NaN               4\n",
       "                   Sedans         5.000           857\n",
       "                                  NaN              43\n",
       "                   Station wagon  5.000          1552\n",
       "                                  NaN              59\n",
       "                                  4.000             2\n",
       "                                  2.000             1\n",
       "                   Van            5.000             1\n",
       "Renault  Clio      Compact        5.000           406\n",
       "                                  NaN              70\n",
       "                                  2.000             8\n",
       "                   Coupe          5.000             1\n",
       "                   Off-Road       5.000             2\n",
       "                   Other          5.000            43\n",
       "                                  NaN               4\n",
       "                                  2.000             4\n",
       "                   Sedans         5.000           760\n",
       "                                  NaN              99\n",
       "                                  2.000            71\n",
       "                                  4.000             3\n",
       "                   Station wagon  5.000           307\n",
       "                                  NaN              28\n",
       "                                  4.000             2\n",
       "                   Transporter    2.000            26\n",
       "                                  NaN               3\n",
       "                   Van            2.000             1\n",
       "                                  5.000             1\n",
       "         Duster    Off-Road       5.000            34\n",
       "         Espace    Compact        5.000             3\n",
       "                                  7.000             2\n",
       "                                  NaN               1\n",
       "                   Coupe          NaN               2\n",
       "                   Off-Road       5.000             5\n",
       "                                  7.000             3\n",
       "                   Other          5.000             4\n",
       "                                  7.000             3\n",
       "                                  NaN               1\n",
       "                   Sedans         5.000            11\n",
       "                                  NaN               6\n",
       "                                  7.000             4\n",
       "                   Station wagon  5.000            66\n",
       "                                  7.000            19\n",
       "                                  NaN               5\n",
       "                                  6.000             1\n",
       "                   Transporter    5.000            35\n",
       "                                  7.000            16\n",
       "                                  NaN               1\n",
       "                   Van            5.000           383\n",
       "                                  7.000           315\n",
       "                                  NaN             104\n",
       "                                  4.000             1\n",
       "Name: nr_of_seats, dtype: int64"
      ]
     },
     "execution_count": 109,
     "metadata": {},
     "output_type": "execute_result"
    }
   ],
   "source": [
    "df.groupby([\"make\", \"model\", \"body_type\"])[\"nr_of_seats\"].value_counts(dropna=False)"
   ]
  },
  {
   "cell_type": "code",
   "execution_count": 110,
   "metadata": {
    "ExecuteTime": {
     "end_time": "2022-08-03T14:52:58.287981Z",
     "start_time": "2022-08-03T14:52:58.224335Z"
    }
   },
   "outputs": [
    {
     "data": {
      "text/plain": [
       "0       5.000\n",
       "1       4.000\n",
       "2       4.000\n",
       "3       4.000\n",
       "4       5.000\n",
       "         ... \n",
       "15914   5.000\n",
       "15915   5.000\n",
       "15916   7.000\n",
       "15917   7.000\n",
       "15918   5.000\n",
       "Name: nr_of_seats, Length: 15919, dtype: float64"
      ]
     },
     "execution_count": 110,
     "metadata": {},
     "output_type": "execute_result"
    }
   ],
   "source": [
    "df.groupby([\"make\", \"model\", \"body_type\"])[\"nr_of_seats\"].apply(lambda x: x.fillna(x.mode()[0] if any(x.mode()) else df[\"nr_of_seats\"].mode()[0]))"
   ]
  },
  {
   "cell_type": "code",
   "execution_count": 111,
   "metadata": {
    "ExecuteTime": {
     "end_time": "2022-08-03T14:52:58.369974Z",
     "start_time": "2022-08-03T14:52:58.292736Z"
    }
   },
   "outputs": [],
   "source": [
    "df.nr_of_seats = df.groupby([\"make\", \"model\", \"body_type\"])[\"nr_of_seats\"].apply(lambda x: x.fillna(x.mode()[0] if any(x.mode()) else df[\"nr_of_seats\"].mode()[0]))"
   ]
  },
  {
   "cell_type": "code",
   "execution_count": 112,
   "metadata": {
    "ExecuteTime": {
     "end_time": "2022-08-03T14:52:58.381076Z",
     "start_time": "2022-08-03T14:52:58.372925Z"
    }
   },
   "outputs": [
    {
     "data": {
      "text/plain": [
       "0"
      ]
     },
     "execution_count": 112,
     "metadata": {},
     "output_type": "execute_result"
    }
   ],
   "source": [
    "df.nr_of_seats.isnull().sum()"
   ]
  },
  {
   "cell_type": "code",
   "execution_count": null,
   "metadata": {},
   "outputs": [],
   "source": []
  },
  {
   "cell_type": "markdown",
   "metadata": {},
   "source": [
    "## 15.cylinders"
   ]
  },
  {
   "cell_type": "code",
   "execution_count": 113,
   "metadata": {
    "ExecuteTime": {
     "end_time": "2022-08-03T14:52:58.395493Z",
     "start_time": "2022-08-03T14:52:58.385570Z"
    }
   },
   "outputs": [
    {
     "name": "stdout",
     "output_type": "stream",
     "text": [
      "column name :  cylinders\n",
      "--------------------------------\n",
      "Per_of_Nulls   :  % 35.68\n",
      "Num_of_Nulls   :  5680\n",
      "4.000    8105\n",
      "NaN      5680\n",
      "3.000    2104\n",
      "5.000      22\n",
      "6.000       3\n",
      "8.000       2\n",
      "2.000       2\n",
      "1.000       1\n",
      "Name: cylinders, dtype: int64\n",
      "******************************\n",
      "\n",
      "\n",
      "\n"
     ]
    }
   ],
   "source": [
    "check_df(\"cylinders\")"
   ]
  },
  {
   "cell_type": "code",
   "execution_count": 114,
   "metadata": {
    "ExecuteTime": {
     "end_time": "2022-08-03T14:52:58.409893Z",
     "start_time": "2022-08-03T14:52:58.400080Z"
    }
   },
   "outputs": [
    {
     "data": {
      "text/plain": [
       "Index(['body_type', 'price_€', 'vat', 'km', 'hp_kW', 'type', 'previous_owners',\n",
       "       'warranty', 'make', 'model', 'body_color', 'paint_type', 'upholstery',\n",
       "       'nr_of_doors', 'nr_of_seats', 'gearing_type', 'engine_displacement_cc',\n",
       "       'cylinders', 'weight_kg', 'drive_chain', 'fuel', 'co2e_g',\n",
       "       'emission_class', 'comfort&convenience', 'entertainment&media',\n",
       "       'extras', 'safety&security', 'gears', 'country_version',\n",
       "       'consumption_comb', 'consumption_city', 'consumption_country', 'age'],\n",
       "      dtype='object')"
      ]
     },
     "execution_count": 114,
     "metadata": {},
     "output_type": "execute_result"
    }
   ],
   "source": [
    "df.columns"
   ]
  },
  {
   "cell_type": "code",
   "execution_count": 115,
   "metadata": {
    "ExecuteTime": {
     "end_time": "2022-08-03T14:52:58.445255Z",
     "start_time": "2022-08-03T14:52:58.419394Z"
    }
   },
   "outputs": [
    {
     "data": {
      "text/plain": [
       "make  model  hp_kW    cylinders\n",
       "Audi  A1     60.000   3.000        108\n",
       "                      NaN           46\n",
       "                      4.000          2\n",
       "             66.000   3.000        299\n",
       "                      NaN          161\n",
       "                      4.000          5\n",
       "             67.000   NaN            9\n",
       "                      3.000          3\n",
       "             70.000   3.000        526\n",
       "                      NaN          258\n",
       "                      4.000          8\n",
       "                      8.000          1\n",
       "             71.000   3.000         35\n",
       "                      NaN           21\n",
       "             85.000   3.000        387\n",
       "                      NaN          276\n",
       "                      4.000        227\n",
       "             86.000   NaN            1\n",
       "             87.000   4.000          3\n",
       "                      NaN            1\n",
       "             92.000   4.000        104\n",
       "                      NaN           68\n",
       "             93.000   NaN            2\n",
       "                      4.000          1\n",
       "             110.000  4.000         25\n",
       "                      NaN            5\n",
       "             112.000  NaN            1\n",
       "             140.000  4.000          1\n",
       "             141.000  4.000         12\n",
       "                      NaN            4\n",
       "             147.000  4.000          8\n",
       "                      NaN            6\n",
       "      A2     85.000   NaN            1\n",
       "      A3     9.000    NaN            1\n",
       "             81.000   4.000        582\n",
       "                      NaN          203\n",
       "             82.000   4.000         10\n",
       "                      NaN            5\n",
       "             85.000   4.000        921\n",
       "                      3.000        367\n",
       "                      NaN          341\n",
       "                      5.000          1\n",
       "             86.000   NaN            1\n",
       "             87.000   NaN            3\n",
       "                      4.000          3\n",
       "             92.000   4.000         54\n",
       "                      NaN           39\n",
       "             96.000   4.000          8\n",
       "                      3.000          1\n",
       "             100.000  4.000          1\n",
       "             110.000  4.000        295\n",
       "                      NaN          203\n",
       "                      3.000          5\n",
       "             112.000  NaN            1\n",
       "             132.000  4.000          1\n",
       "             133.000  4.000          1\n",
       "             135.000  4.000         20\n",
       "                      NaN            4\n",
       "             137.000  NaN            1\n",
       "             140.000  4.000          1\n",
       "Name: cylinders, dtype: int64"
      ]
     },
     "execution_count": 115,
     "metadata": {},
     "output_type": "execute_result"
    }
   ],
   "source": [
    "df.groupby([\"make\", \"model\", \"hp_kW\"])[\"cylinders\"].value_counts(dropna=False).head(60)"
   ]
  },
  {
   "cell_type": "code",
   "execution_count": 116,
   "metadata": {
    "ExecuteTime": {
     "end_time": "2022-08-03T14:52:58.606705Z",
     "start_time": "2022-08-03T14:52:58.448952Z"
    }
   },
   "outputs": [
    {
     "data": {
      "text/plain": [
       "4.000    12559\n",
       "3.000     3325\n",
       "5.000       22\n",
       "8.000        7\n",
       "6.000        3\n",
       "2.000        2\n",
       "1.000        1\n",
       "Name: cylinders, dtype: int64"
      ]
     },
     "execution_count": 116,
     "metadata": {},
     "output_type": "execute_result"
    }
   ],
   "source": [
    "df.groupby([\"make\", \"model\", \"hp_kW\"])[\"cylinders\"].apply(lambda x: x.fillna(x.mode()[0] if any(x.mode()) else df[\"cylinders\"].mode()[0])).value_counts(dropna=False)"
   ]
  },
  {
   "cell_type": "code",
   "execution_count": 117,
   "metadata": {
    "ExecuteTime": {
     "end_time": "2022-08-03T14:52:58.756939Z",
     "start_time": "2022-08-03T14:52:58.611186Z"
    }
   },
   "outputs": [
    {
     "data": {
      "text/plain": [
       "0"
      ]
     },
     "execution_count": 117,
     "metadata": {},
     "output_type": "execute_result"
    }
   ],
   "source": [
    "df.groupby([\"make\", \"model\", \"hp_kW\"])[\"cylinders\"].apply(lambda x: x.fillna(x.mode()[0] if any(x.mode()) else df[\"cylinders\"].mode()[0])).isnull().sum()"
   ]
  },
  {
   "cell_type": "code",
   "execution_count": 118,
   "metadata": {
    "ExecuteTime": {
     "end_time": "2022-08-03T14:52:58.873251Z",
     "start_time": "2022-08-03T14:52:58.760599Z"
    }
   },
   "outputs": [],
   "source": [
    "df[\"cylinders\"] = df.groupby([\"make\", \"model\", \"hp_kW\"])[\"cylinders\"].apply(lambda x: x.fillna(x.mode()[0] if any(x.mode()) else df[\"cylinders\"].mode()[0]))"
   ]
  },
  {
   "cell_type": "code",
   "execution_count": null,
   "metadata": {},
   "outputs": [],
   "source": []
  },
  {
   "cell_type": "code",
   "execution_count": 119,
   "metadata": {
    "ExecuteTime": {
     "end_time": "2022-08-03T14:52:58.893166Z",
     "start_time": "2022-08-03T14:52:58.879495Z"
    }
   },
   "outputs": [
    {
     "data": {
      "text/plain": [
       "0"
      ]
     },
     "execution_count": 119,
     "metadata": {},
     "output_type": "execute_result"
    }
   ],
   "source": [
    "df.cylinders.isnull().sum()"
   ]
  },
  {
   "cell_type": "code",
   "execution_count": null,
   "metadata": {},
   "outputs": [],
   "source": []
  },
  {
   "cell_type": "code",
   "execution_count": 120,
   "metadata": {
    "ExecuteTime": {
     "end_time": "2022-08-03T14:52:58.910397Z",
     "start_time": "2022-08-03T14:52:58.899097Z"
    }
   },
   "outputs": [
    {
     "data": {
      "text/plain": [
       "0"
      ]
     },
     "execution_count": 120,
     "metadata": {},
     "output_type": "execute_result"
    }
   ],
   "source": [
    "df.hp_kW.isnull().sum()"
   ]
  },
  {
   "cell_type": "code",
   "execution_count": null,
   "metadata": {},
   "outputs": [],
   "source": []
  },
  {
   "cell_type": "markdown",
   "metadata": {},
   "source": [
    "## 16.engine_displacement_cc"
   ]
  },
  {
   "cell_type": "code",
   "execution_count": 121,
   "metadata": {
    "ExecuteTime": {
     "end_time": "2022-08-03T14:52:58.926212Z",
     "start_time": "2022-08-03T14:52:58.913010Z"
    }
   },
   "outputs": [
    {
     "name": "stdout",
     "output_type": "stream",
     "text": [
      "column name :  engine_displacement_cc\n",
      "--------------------------------\n",
      "Per_of_Nulls   :  % 3.12\n",
      "Num_of_Nulls   :  496\n",
      "1598.000     4761\n",
      "999.000      2438\n",
      "1398.000     1314\n",
      "1399.000      749\n",
      "1229.000      677\n",
      "1956.000      670\n",
      "1461.000      595\n",
      "1490.000      559\n",
      "NaN           496\n",
      "1422.000      467\n",
      "1197.000      353\n",
      "898.000       351\n",
      "1395.000      320\n",
      "1968.000      301\n",
      "1149.000      288\n",
      "1618.000      212\n",
      "1798.000      210\n",
      "1498.000      196\n",
      "1600.000      130\n",
      "1248.000      110\n",
      "1997.000      103\n",
      "1364.000      102\n",
      "1400.000       90\n",
      "998.000        72\n",
      "1500.000       50\n",
      "2000.000       46\n",
      "1000.000       40\n",
      "1.000          36\n",
      "1998.000       25\n",
      "2480.000       20\n",
      "1200.000       18\n",
      "1984.000       18\n",
      "1397.000       11\n",
      "899.000        11\n",
      "160.000         6\n",
      "929.000         5\n",
      "1499.000        5\n",
      "997.000         4\n",
      "1596.000        4\n",
      "139.000         4\n",
      "900.000         4\n",
      "1599.000        3\n",
      "1199.000        3\n",
      "1396.000        3\n",
      "1495.000        2\n",
      "1589.000        2\n",
      "1300.000        2\n",
      "2.000           2\n",
      "995.000         2\n",
      "1496.000        1\n",
      "890.000         1\n",
      "1580.000        1\n",
      "1995.000        1\n",
      "1333.000        1\n",
      "54.000          1\n",
      "1533.000        1\n",
      "1100.000        1\n",
      "1350.000        1\n",
      "16000.000       1\n",
      "1856.000        1\n",
      "1568.000        1\n",
      "1896.000        1\n",
      "1584.000        1\n",
      "996.000         1\n",
      "1696.000        1\n",
      "1686.000        1\n",
      "15898.000       1\n",
      "1368.000        1\n",
      "140.000         1\n",
      "973.000         1\n",
      "1239.000        1\n",
      "1369.000        1\n",
      "1390.000        1\n",
      "122.000         1\n",
      "1198.000        1\n",
      "1195.000        1\n",
      "2967.000        1\n",
      "1800.000        1\n",
      "Name: engine_displacement_cc, dtype: int64\n",
      "******************************\n",
      "\n",
      "\n",
      "\n"
     ]
    }
   ],
   "source": [
    "check_df(\"engine_displacement_cc\")"
   ]
  },
  {
   "cell_type": "code",
   "execution_count": 122,
   "metadata": {
    "ExecuteTime": {
     "end_time": "2022-08-03T14:52:58.952531Z",
     "start_time": "2022-08-03T14:52:58.930687Z"
    },
    "scrolled": true
   },
   "outputs": [
    {
     "data": {
      "text/plain": [
       "make  model  cylinders  hp_kW    engine_displacement_cc\n",
       "Audi  A1     3.000      60.000   999.000                   148\n",
       "                                 929.000                     4\n",
       "                                 NaN                         2\n",
       "                        66.000   1422.000                  453\n",
       "                                 NaN                         5\n",
       "                                 1596.000                    1\n",
       "                                 1598.000                    1\n",
       "                        67.000   1422.000                   12\n",
       "                        70.000   999.000                   767\n",
       "                                 NaN                         8\n",
       "                                 1000.000                    5\n",
       "                                 998.000                     2\n",
       "                                 929.000                     1\n",
       "                                 1197.000                    1\n",
       "                        71.000   999.000                    53\n",
       "                                 NaN                         3\n",
       "                        85.000   999.000                   572\n",
       "                                 1598.000                   73\n",
       "                                 1000.000                    8\n",
       "                                 NaN                         6\n",
       "                                 995.000                     2\n",
       "                                 1596.000                    1\n",
       "                                 1600.000                    1\n",
       "             4.000      60.000   999.000                     2\n",
       "                        66.000   1598.000                    3\n",
       "                                 1422.000                    2\n",
       "                        70.000   999.000                     7\n",
       "                                 1000.000                    1\n",
       "                        85.000   1598.000                  222\n",
       "                                 NaN                         3\n",
       "                                 999.000                     1\n",
       "                                 1600.000                    1\n",
       "                        86.000   1598.000                    1\n",
       "                        87.000   1598.000                    4\n",
       "                        92.000   1395.000                  169\n",
       "                                 999.000                     2\n",
       "                                 NaN                         1\n",
       "                        93.000   1395.000                    3\n",
       "                        110.000  1498.000                   16\n",
       "                                 1395.000                   14\n",
       "                        112.000  1395.000                    1\n",
       "                        140.000  NaN                         1\n",
       "                        141.000  1798.000                   16\n",
       "                        147.000  1984.000                   14\n",
       "             8.000      70.000   999.000                     1\n",
       "      A2     4.000      85.000   1598.000                    1\n",
       "      A3     3.000      85.000   999.000                   361\n",
       "                                 1000.000                    3\n",
       "                                 NaN                         1\n",
       "                                 997.000                     1\n",
       "                                 1598.000                    1\n",
       "                        96.000   999.000                     1\n",
       "                        110.000  999.000                     3\n",
       "                                 1499.000                    2\n",
       "             4.000      9.000    NaN                         1\n",
       "                        81.000   1598.000                  691\n",
       "                                 1197.000                   35\n",
       "                                 NaN                        29\n",
       "                                 1395.000                   23\n",
       "                                 1600.000                    5\n",
       "Name: engine_displacement_cc, dtype: int64"
      ]
     },
     "execution_count": 122,
     "metadata": {},
     "output_type": "execute_result"
    }
   ],
   "source": [
    "df.groupby([\"make\",\"model\",\"cylinders\", \"hp_kW\"])[\"engine_displacement_cc\"].value_counts(dropna=False).head(60)"
   ]
  },
  {
   "cell_type": "code",
   "execution_count": 123,
   "metadata": {
    "ExecuteTime": {
     "end_time": "2022-08-03T14:52:59.092666Z",
     "start_time": "2022-08-03T14:52:58.956793Z"
    }
   },
   "outputs": [
    {
     "data": {
      "text/plain": [
       "0"
      ]
     },
     "execution_count": 123,
     "metadata": {},
     "output_type": "execute_result"
    }
   ],
   "source": [
    "df.groupby([\"make\",\"model\", \"cylinders\", \"hp_kW\"])[\"engine_displacement_cc\"].apply(lambda x : x.fillna(x.mode()[0] if any(x.mode()) else df.engine_displacement_cc.mode()[0])).isnull().sum()"
   ]
  },
  {
   "cell_type": "code",
   "execution_count": 124,
   "metadata": {
    "ExecuteTime": {
     "end_time": "2022-08-03T14:52:59.258377Z",
     "start_time": "2022-08-03T14:52:59.095797Z"
    }
   },
   "outputs": [],
   "source": [
    "df[\"engine_displacement_cc\"] = df.groupby([\"make\",\"model\", \"cylinders\", \"hp_kW\"])[\"engine_displacement_cc\"].apply(lambda x : x.fillna(x.mode()[0] if any(x.mode()) else df.engine_displacement_cc.mode()[0]))"
   ]
  },
  {
   "cell_type": "code",
   "execution_count": 125,
   "metadata": {
    "ExecuteTime": {
     "end_time": "2022-08-03T14:52:59.271630Z",
     "start_time": "2022-08-03T14:52:59.260939Z"
    },
    "scrolled": true
   },
   "outputs": [
    {
     "data": {
      "text/plain": [
       "1598.000     4991\n",
       "999.000      2463\n",
       "1398.000     1348\n",
       "1399.000      765\n",
       "1229.000      708\n",
       "1956.000      693\n",
       "1461.000      642\n",
       "1490.000      579\n",
       "1422.000      472\n",
       "898.000       387\n",
       "1197.000      355\n",
       "1395.000      325\n",
       "1968.000      304\n",
       "1149.000      290\n",
       "1618.000      215\n",
       "1798.000      214\n",
       "1498.000      196\n",
       "1600.000      130\n",
       "1248.000      117\n",
       "1364.000      104\n",
       "1997.000      103\n",
       "1400.000       90\n",
       "998.000        72\n",
       "1500.000       50\n",
       "2000.000       46\n",
       "1000.000       40\n",
       "1.000          36\n",
       "1998.000       26\n",
       "2480.000       20\n",
       "1200.000       18\n",
       "1984.000       18\n",
       "1397.000       11\n",
       "899.000        11\n",
       "160.000         6\n",
       "929.000         5\n",
       "1499.000        5\n",
       "1596.000        4\n",
       "139.000         4\n",
       "900.000         4\n",
       "997.000         4\n",
       "1199.000        3\n",
       "1599.000        3\n",
       "1396.000        3\n",
       "1495.000        2\n",
       "1589.000        2\n",
       "1300.000        2\n",
       "2.000           2\n",
       "995.000         2\n",
       "1496.000        1\n",
       "890.000         1\n",
       "1580.000        1\n",
       "1995.000        1\n",
       "1333.000        1\n",
       "54.000          1\n",
       "1533.000        1\n",
       "1100.000        1\n",
       "1350.000        1\n",
       "16000.000       1\n",
       "1856.000        1\n",
       "1568.000        1\n",
       "1896.000        1\n",
       "1584.000        1\n",
       "996.000         1\n",
       "1696.000        1\n",
       "1686.000        1\n",
       "15898.000       1\n",
       "1368.000        1\n",
       "140.000         1\n",
       "973.000         1\n",
       "1239.000        1\n",
       "1369.000        1\n",
       "1390.000        1\n",
       "122.000         1\n",
       "1198.000        1\n",
       "1195.000        1\n",
       "2967.000        1\n",
       "1800.000        1\n",
       "Name: engine_displacement_cc, dtype: int64"
      ]
     },
     "execution_count": 125,
     "metadata": {},
     "output_type": "execute_result"
    }
   ],
   "source": [
    "df.engine_displacement_cc.value_counts(dropna=False)"
   ]
  },
  {
   "cell_type": "code",
   "execution_count": 126,
   "metadata": {
    "ExecuteTime": {
     "end_time": "2022-08-03T14:52:59.285038Z",
     "start_time": "2022-08-03T14:52:59.275477Z"
    }
   },
   "outputs": [
    {
     "data": {
      "text/plain": [
       "0"
      ]
     },
     "execution_count": 126,
     "metadata": {},
     "output_type": "execute_result"
    }
   ],
   "source": [
    "df.engine_displacement_cc.isnull().sum()"
   ]
  },
  {
   "cell_type": "code",
   "execution_count": null,
   "metadata": {},
   "outputs": [],
   "source": []
  },
  {
   "cell_type": "markdown",
   "metadata": {},
   "source": [
    "## 17.weight_kg"
   ]
  },
  {
   "cell_type": "code",
   "execution_count": 127,
   "metadata": {
    "ExecuteTime": {
     "end_time": "2022-08-03T14:52:59.299988Z",
     "start_time": "2022-08-03T14:52:59.289880Z"
    }
   },
   "outputs": [
    {
     "name": "stdout",
     "output_type": "stream",
     "text": [
      "column name :  weight_kg\n",
      "--------------------------------\n",
      "Per_of_Nulls   :  % 43.81\n",
      "Num_of_Nulls   :  6974\n",
      "NaN         6974\n",
      "1163.000     574\n",
      "1360.000     356\n",
      "1165.000     301\n",
      "1335.000     242\n",
      "            ... \n",
      "1960.000       1\n",
      "1258.000       1\n",
      "1167.000       1\n",
      "1331.000       1\n",
      "2037.000       1\n",
      "Name: weight_kg, Length: 435, dtype: int64\n",
      "******************************\n",
      "\n",
      "\n",
      "\n"
     ]
    }
   ],
   "source": [
    "check_df(\"weight_kg\")"
   ]
  },
  {
   "cell_type": "code",
   "execution_count": 128,
   "metadata": {
    "ExecuteTime": {
     "end_time": "2022-08-03T14:52:59.314549Z",
     "start_time": "2022-08-03T14:52:59.303909Z"
    }
   },
   "outputs": [
    {
     "data": {
      "text/plain": [
       "1351.1065399664617"
      ]
     },
     "execution_count": 128,
     "metadata": {},
     "output_type": "execute_result"
    }
   ],
   "source": [
    "df.weight_kg.mean()"
   ]
  },
  {
   "cell_type": "code",
   "execution_count": 129,
   "metadata": {
    "ExecuteTime": {
     "end_time": "2022-08-03T14:52:59.328245Z",
     "start_time": "2022-08-03T14:52:59.318349Z"
    }
   },
   "outputs": [
    {
     "data": {
      "text/plain": [
       "1288.0"
      ]
     },
     "execution_count": 129,
     "metadata": {},
     "output_type": "execute_result"
    }
   ],
   "source": [
    "df.weight_kg.median()"
   ]
  },
  {
   "cell_type": "code",
   "execution_count": 130,
   "metadata": {
    "ExecuteTime": {
     "end_time": "2022-08-03T14:52:59.343088Z",
     "start_time": "2022-08-03T14:52:59.331400Z"
    }
   },
   "outputs": [
    {
     "data": {
      "text/plain": [
       "1206.000    1\n",
       "1181.000    1\n",
       "1645.000    1\n",
       "1420.000    1\n",
       "1905.000    1\n",
       "1171.000    1\n",
       "1169.000    1\n",
       "1870.000    1\n",
       "1374.000    1\n",
       "1555.000    1\n",
       "1207.000    1\n",
       "1575.000    1\n",
       "1885.000    1\n",
       "1505.000    1\n",
       "1332.000    1\n",
       "1281.000    1\n",
       "1785.000    1\n",
       "1396.000    1\n",
       "1312.000    1\n",
       "1444.000    1\n",
       "1548.000    1\n",
       "1668.000    1\n",
       "1428.000    1\n",
       "2110.000    1\n",
       "2275.000    1\n",
       "1713.000    1\n",
       "1589.000    1\n",
       "2270.000    1\n",
       "2240.000    1\n",
       "2355.000    1\n",
       "1492.000    1\n",
       "1598.000    1\n",
       "2080.000    1\n",
       "1649.000    1\n",
       "1217.000    1\n",
       "1764.000    1\n",
       "2115.000    1\n",
       "1507.000    1\n",
       "2295.000    1\n",
       "1974.000    1\n",
       "1394.000    1\n",
       "1601.000    1\n",
       "1382.000    1\n",
       "1383.000    1\n",
       "1343.000    1\n",
       "1294.000    1\n",
       "1302.000    1\n",
       "1283.000    1\n",
       "1159.000    1\n",
       "840.000     1\n",
       "1137.000    1\n",
       "1213.000    1\n",
       "1960.000    1\n",
       "1258.000    1\n",
       "1167.000    1\n",
       "1331.000    1\n",
       "1132.000    1\n",
       "1252.000    1\n",
       "1792.000    1\n",
       "2037.000    1\n",
       "Name: weight_kg, dtype: int64"
      ]
     },
     "execution_count": 130,
     "metadata": {},
     "output_type": "execute_result"
    }
   ],
   "source": [
    "df.weight_kg.value_counts().tail(60)"
   ]
  },
  {
   "cell_type": "code",
   "execution_count": 131,
   "metadata": {
    "ExecuteTime": {
     "end_time": "2022-08-03T14:52:59.357985Z",
     "start_time": "2022-08-03T14:52:59.346213Z"
    }
   },
   "outputs": [
    {
     "data": {
      "text/plain": [
       "8355      1.000\n",
       "12779     1.000\n",
       "1143    102.000\n",
       "8857    840.000\n",
       "14313   900.000\n",
       "          ...  \n",
       "15906       NaN\n",
       "15908       NaN\n",
       "15910       NaN\n",
       "15913       NaN\n",
       "15916       NaN\n",
       "Name: weight_kg, Length: 15919, dtype: float64"
      ]
     },
     "execution_count": 131,
     "metadata": {},
     "output_type": "execute_result"
    }
   ],
   "source": [
    "df.weight_kg.sort_values(ascending=True)"
   ]
  },
  {
   "cell_type": "code",
   "execution_count": 132,
   "metadata": {
    "ExecuteTime": {
     "end_time": "2022-08-03T14:52:59.385904Z",
     "start_time": "2022-08-03T14:52:59.361493Z"
    }
   },
   "outputs": [
    {
     "data": {
      "text/plain": [
       "make  model  body_type  weight_kg\n",
       "Audi  A1     Compact    NaN          526\n",
       "                        1180.000      86\n",
       "                        1165.000      77\n",
       "                        1200.000      65\n",
       "                        1135.000      53\n",
       "                        1195.000      40\n",
       "                        1065.000      36\n",
       "                        1110.000      22\n",
       "                        1250.000      17\n",
       "                        1105.000      12\n",
       "                        1090.000       9\n",
       "                        1215.000       9\n",
       "                        1240.000       7\n",
       "                        1035.000       6\n",
       "                        1134.000       6\n",
       "                        1155.000       5\n",
       "                        1205.000       5\n",
       "                        1275.000       5\n",
       "                        1485.000       5\n",
       "                        1225.000       4\n",
       "                        1600.000       4\n",
       "                        1115.000       3\n",
       "                        1133.000       3\n",
       "                        1230.000       3\n",
       "                        1285.000       3\n",
       "                        1335.000       3\n",
       "                        1345.000       3\n",
       "                        1010.000       2\n",
       "                        1040.000       2\n",
       "                        1100.000       2\n",
       "                        1220.000       2\n",
       "                        1235.000       2\n",
       "                        102.000        1\n",
       "                        1125.000       1\n",
       "                        1138.000       1\n",
       "                        1140.000       1\n",
       "                        1147.000       1\n",
       "                        1150.000       1\n",
       "                        1280.000       1\n",
       "                        1500.000       1\n",
       "                        1580.000       1\n",
       "                        1625.000       1\n",
       "                        1675.000       1\n",
       "                        1792.000       1\n",
       "             Coupe      NaN            1\n",
       "                        1010.000       1\n",
       "             Other      NaN            9\n",
       "                        1165.000       1\n",
       "                        1205.000       1\n",
       "                        1230.000       1\n",
       "                        1250.000       1\n",
       "             Sedans     NaN          613\n",
       "                        1135.000     106\n",
       "                        1165.000      89\n",
       "                        1250.000      58\n",
       "                        1110.000      53\n",
       "                        1180.000      51\n",
       "                        1275.000      51\n",
       "                        1230.000      50\n",
       "                        1195.000      45\n",
       "Name: weight_kg, dtype: int64"
      ]
     },
     "execution_count": 132,
     "metadata": {},
     "output_type": "execute_result"
    }
   ],
   "source": [
    "df.groupby([\"make\", \"model\", \"body_type\"])[\"weight_kg\"].value_counts(dropna=False).head(60)"
   ]
  },
  {
   "cell_type": "code",
   "execution_count": 133,
   "metadata": {
    "ExecuteTime": {
     "end_time": "2022-08-03T14:52:59.428537Z",
     "start_time": "2022-08-03T14:52:59.394599Z"
    }
   },
   "outputs": [
    {
     "data": {
      "text/plain": [
       "make     model     body_type    \n",
       "Audi     A1        Compact         1174.546\n",
       "                   Coupe           1010.000\n",
       "                   Other           1212.500\n",
       "                   Sedans          1259.656\n",
       "                   Station wagon   1228.571\n",
       "                   Van                  NaN\n",
       "         A2        Off-Road             NaN\n",
       "         A3        Compact         1314.637\n",
       "                   Convertible     1519.286\n",
       "                   Coupe           1260.000\n",
       "                   Other           1318.333\n",
       "                   Sedans          1395.620\n",
       "                   Station wagon   1318.363\n",
       "Opel     Astra     Compact         1302.549\n",
       "                   Coupe           1350.000\n",
       "                   Off-Road        1340.000\n",
       "                   Other           1325.407\n",
       "                   Sedans          1328.364\n",
       "                   Station wagon   1403.742\n",
       "         Corsa     Compact         1174.057\n",
       "                   Coupe           1203.000\n",
       "                   Off-Road        1187.667\n",
       "                   Other           1169.253\n",
       "                   Sedans          1171.566\n",
       "                   Transporter     1181.000\n",
       "                   Van             1124.000\n",
       "         Insignia  Compact         1468.150\n",
       "                   Coupe                NaN\n",
       "                   Off-Road        1508.000\n",
       "                   Other           1524.385\n",
       "                   Sedans          1540.356\n",
       "                   Station wagon   1627.555\n",
       "                   Van                  NaN\n",
       "Renault  Clio      Compact         1126.194\n",
       "                   Coupe                NaN\n",
       "                   Off-Road        1163.500\n",
       "                   Other           1169.750\n",
       "                   Sedans          1174.216\n",
       "                   Station wagon   1190.965\n",
       "                   Transporter     1169.875\n",
       "                   Van                  NaN\n",
       "         Duster    Off-Road             NaN\n",
       "         Espace    Compact         1690.500\n",
       "                   Coupe                NaN\n",
       "                   Off-Road        1734.000\n",
       "                   Other           1734.200\n",
       "                   Sedans          1864.500\n",
       "                   Station wagon   1689.205\n",
       "                   Transporter     1948.939\n",
       "                   Van             1711.070\n",
       "Name: weight_kg, dtype: float64"
      ]
     },
     "execution_count": 133,
     "metadata": {},
     "output_type": "execute_result"
    }
   ],
   "source": [
    "df.groupby([\"make\", \"model\", \"body_type\"])[\"weight_kg\"].mean()"
   ]
  },
  {
   "cell_type": "code",
   "execution_count": 134,
   "metadata": {
    "ExecuteTime": {
     "end_time": "2022-08-03T14:52:59.465379Z",
     "start_time": "2022-08-03T14:52:59.433636Z"
    }
   },
   "outputs": [
    {
     "data": {
      "text/plain": [
       "make     model     body_type    \n",
       "Audi     A1        Compact         1180.000\n",
       "                   Coupe           1010.000\n",
       "                   Other           1217.500\n",
       "                   Sedans          1195.000\n",
       "                   Station wagon   1205.000\n",
       "                   Van                  NaN\n",
       "         A2        Off-Road             NaN\n",
       "         A3        Compact         1280.000\n",
       "                   Convertible     1555.000\n",
       "                   Coupe           1250.000\n",
       "                   Other           1355.000\n",
       "                   Sedans          1350.000\n",
       "                   Station wagon   1335.000\n",
       "Opel     Astra     Compact         1325.000\n",
       "                   Coupe           1350.000\n",
       "                   Off-Road        1340.000\n",
       "                   Other           1350.000\n",
       "                   Sedans          1308.000\n",
       "                   Station wagon   1393.000\n",
       "         Corsa     Compact         1163.000\n",
       "                   Coupe           1159.500\n",
       "                   Off-Road        1163.000\n",
       "                   Other           1163.000\n",
       "                   Sedans          1163.000\n",
       "                   Transporter     1181.000\n",
       "                   Van             1124.000\n",
       "         Insignia  Compact         1487.500\n",
       "                   Coupe                NaN\n",
       "                   Off-Road        1487.000\n",
       "                   Other           1503.000\n",
       "                   Sedans          1503.000\n",
       "                   Station wagon   1623.000\n",
       "                   Van                  NaN\n",
       "Renault  Clio      Compact         1090.000\n",
       "                   Coupe                NaN\n",
       "                   Off-Road        1163.500\n",
       "                   Other           1091.000\n",
       "                   Sedans          1162.000\n",
       "                   Station wagon   1175.000\n",
       "                   Transporter     1181.500\n",
       "                   Van                  NaN\n",
       "         Duster    Off-Road             NaN\n",
       "         Espace    Compact         1690.500\n",
       "                   Coupe                NaN\n",
       "                   Off-Road        1734.000\n",
       "                   Other           1734.000\n",
       "                   Sedans          1864.500\n",
       "                   Station wagon   1684.000\n",
       "                   Transporter     1734.000\n",
       "                   Van             1685.000\n",
       "Name: weight_kg, dtype: float64"
      ]
     },
     "execution_count": 134,
     "metadata": {},
     "output_type": "execute_result"
    }
   ],
   "source": [
    "df.groupby([\"make\", \"model\", \"body_type\"])[\"weight_kg\"].median()"
   ]
  },
  {
   "cell_type": "code",
   "execution_count": 135,
   "metadata": {
    "ExecuteTime": {
     "end_time": "2022-08-03T14:52:59.519008Z",
     "start_time": "2022-08-03T14:52:59.470305Z"
    },
    "scrolled": true
   },
   "outputs": [
    {
     "data": {
      "text/plain": [
       "0       1220.000\n",
       "1       1255.000\n",
       "2       1195.000\n",
       "3       1195.000\n",
       "4       1195.000\n",
       "          ...   \n",
       "15914   1758.000\n",
       "15915   1708.000\n",
       "15916   1685.000\n",
       "15917   1758.000\n",
       "15918   1685.000\n",
       "Name: weight_kg, Length: 15919, dtype: float64"
      ]
     },
     "execution_count": 135,
     "metadata": {},
     "output_type": "execute_result"
    }
   ],
   "source": [
    "df.groupby([\"make\", \"model\", \"body_type\"])[\"weight_kg\"].apply(lambda x : x.fillna(x.median() if (x.median() >= 1) else df[\"weight_kg\"].median()))"
   ]
  },
  {
   "cell_type": "code",
   "execution_count": 136,
   "metadata": {
    "ExecuteTime": {
     "end_time": "2022-08-03T14:52:59.571427Z",
     "start_time": "2022-08-03T14:52:59.522166Z"
    }
   },
   "outputs": [],
   "source": [
    "df[\"weight_kg\"] = df.groupby([\"make\", \"model\", \"body_type\"])[\"weight_kg\"].apply(lambda x : x.fillna(x.median() if (x.median() >= 1) else df[\"weight_kg\"].median()))"
   ]
  },
  {
   "cell_type": "code",
   "execution_count": 137,
   "metadata": {
    "ExecuteTime": {
     "end_time": "2022-08-03T14:52:59.590276Z",
     "start_time": "2022-08-03T14:52:59.575040Z"
    }
   },
   "outputs": [
    {
     "data": {
      "text/plain": [
       "0"
      ]
     },
     "execution_count": 137,
     "metadata": {},
     "output_type": "execute_result"
    }
   ],
   "source": [
    "df[\"weight_kg\"].isnull().sum()"
   ]
  },
  {
   "cell_type": "code",
   "execution_count": null,
   "metadata": {},
   "outputs": [],
   "source": []
  },
  {
   "cell_type": "markdown",
   "metadata": {},
   "source": [
    "## 18.drive_chain"
   ]
  },
  {
   "cell_type": "code",
   "execution_count": 138,
   "metadata": {
    "ExecuteTime": {
     "end_time": "2022-08-03T14:52:59.622443Z",
     "start_time": "2022-08-03T14:52:59.595672Z"
    }
   },
   "outputs": [
    {
     "name": "stdout",
     "output_type": "stream",
     "text": [
      "column name :  drive_chain\n",
      "--------------------------------\n",
      "Per_of_Nulls   :  % 43.08\n",
      "Num_of_Nulls   :  6858\n",
      "front    8886\n",
      "NaN      6858\n",
      "4WD       171\n",
      "rear        4\n",
      "Name: drive_chain, dtype: int64\n",
      "******************************\n",
      "\n",
      "\n",
      "\n"
     ]
    }
   ],
   "source": [
    "check_df(\"drive_chain\")"
   ]
  },
  {
   "cell_type": "code",
   "execution_count": 139,
   "metadata": {
    "ExecuteTime": {
     "end_time": "2022-08-03T14:52:59.654937Z",
     "start_time": "2022-08-03T14:52:59.629360Z"
    }
   },
   "outputs": [
    {
     "data": {
      "text/plain": [
       "make  model     body_type      drive_chain\n",
       "Audi  A1        Compact        front           685\n",
       "                               NaN             352\n",
       "                               4WD               2\n",
       "                Coupe          NaN               2\n",
       "                Other          front            12\n",
       "                               NaN               1\n",
       "                Sedans         front           977\n",
       "                               NaN             560\n",
       "                               4WD               1\n",
       "                Station wagon  front            18\n",
       "                               NaN               3\n",
       "                Van            front             1\n",
       "      A2        Off-Road       front             1\n",
       "      A3        Compact        front           156\n",
       "                               NaN              25\n",
       "                               4WD               1\n",
       "                Convertible    NaN               4\n",
       "                               front             3\n",
       "                               4WD               1\n",
       "                Coupe          front             3\n",
       "                               NaN               1\n",
       "                Other          front            10\n",
       "                               NaN               6\n",
       "                Sedans         front          1703\n",
       "                               NaN             885\n",
       "                               4WD              17\n",
       "                Station wagon  NaN             149\n",
       "                               front           133\n",
       "Opel  Astra     Compact        front           104\n",
       "                               NaN              81\n",
       "                Coupe          NaN               2\n",
       "                Off-Road       front             1\n",
       "                Other          NaN              62\n",
       "                               front             5\n",
       "                Sedans         front           544\n",
       "                               NaN             507\n",
       "                               4WD               2\n",
       "                Station wagon  front           692\n",
       "                               NaN             526\n",
       "      Corsa     Compact        front           631\n",
       "                               NaN             601\n",
       "                Coupe          front             7\n",
       "                               NaN               6\n",
       "                Off-Road       NaN               3\n",
       "                Other          NaN              77\n",
       "                               front            10\n",
       "                Sedans         front           516\n",
       "                               NaN             359\n",
       "                Transporter    front             6\n",
       "                               NaN               1\n",
       "                Van            NaN               2\n",
       "      Insignia  Compact        NaN              17\n",
       "                               front            10\n",
       "                Coupe          NaN               1\n",
       "                Off-Road       4WD               5\n",
       "                               NaN               1\n",
       "                               front             1\n",
       "                Other          NaN              47\n",
       "                               front             1\n",
       "                Sedans         front           505\n",
       "Name: drive_chain, dtype: int64"
      ]
     },
     "execution_count": 139,
     "metadata": {},
     "output_type": "execute_result"
    }
   ],
   "source": [
    "df.groupby([\"make\", \"model\", \"body_type\"])[\"drive_chain\"].value_counts(dropna=False).head(60)"
   ]
  },
  {
   "cell_type": "code",
   "execution_count": 140,
   "metadata": {
    "ExecuteTime": {
     "end_time": "2022-08-03T14:52:59.756592Z",
     "start_time": "2022-08-03T14:52:59.660075Z"
    },
    "scrolled": true
   },
   "outputs": [
    {
     "data": {
      "text/plain": [
       "0"
      ]
     },
     "execution_count": 140,
     "metadata": {},
     "output_type": "execute_result"
    }
   ],
   "source": [
    "df.groupby([\"make\", \"model\", \"body_type\"])[\"drive_chain\"].apply(lambda x : x.fillna(x.mode()[0] if any(x.mode()) else df[\"drive_chain\"].mode()[0])).isnull().sum()"
   ]
  },
  {
   "cell_type": "code",
   "execution_count": 141,
   "metadata": {
    "ExecuteTime": {
     "end_time": "2022-08-03T14:52:59.828752Z",
     "start_time": "2022-08-03T14:52:59.761250Z"
    }
   },
   "outputs": [],
   "source": [
    "df[\"drive_chain\"] = df.groupby([\"make\", \"model\", \"body_type\"])[\"drive_chain\"].apply(lambda x : x.fillna(x.mode()[0] if any(x.mode()) else df[\"drive_chain\"].mode()[0]))"
   ]
  },
  {
   "cell_type": "code",
   "execution_count": 142,
   "metadata": {
    "ExecuteTime": {
     "end_time": "2022-08-03T14:52:59.841393Z",
     "start_time": "2022-08-03T14:52:59.831252Z"
    }
   },
   "outputs": [
    {
     "data": {
      "text/plain": [
       "0"
      ]
     },
     "execution_count": 142,
     "metadata": {},
     "output_type": "execute_result"
    }
   ],
   "source": [
    "df[\"drive_chain\"].isnull().sum()"
   ]
  },
  {
   "cell_type": "code",
   "execution_count": null,
   "metadata": {},
   "outputs": [],
   "source": []
  },
  {
   "cell_type": "markdown",
   "metadata": {},
   "source": [
    "## 19.co2e_g"
   ]
  },
  {
   "cell_type": "code",
   "execution_count": 143,
   "metadata": {
    "ExecuteTime": {
     "end_time": "2022-08-03T14:52:59.860421Z",
     "start_time": "2022-08-03T14:52:59.846293Z"
    }
   },
   "outputs": [
    {
     "name": "stdout",
     "output_type": "stream",
     "text": [
      "column name :  co2e_g\n",
      "--------------------------------\n",
      "Per_of_Nulls   :  % 15.34\n",
      "Num_of_Nulls   :  2442\n",
      "NaN          2442\n",
      "120.000       740\n",
      "99.000        545\n",
      "97.000        537\n",
      "104.000       501\n",
      "102.000       477\n",
      "103.000       445\n",
      "114.000       382\n",
      "124.000       372\n",
      "107.000       362\n",
      "108.000       362\n",
      "119.000       361\n",
      "106.000       349\n",
      "128.000       329\n",
      "126.000       282\n",
      "85.000        275\n",
      "118.000       270\n",
      "110.000       266\n",
      "127.000       257\n",
      "117.000       254\n",
      "111.000       237\n",
      "113.000       235\n",
      "109.000       234\n",
      "139.000       224\n",
      "140.000       218\n",
      "129.000       213\n",
      "135.000       202\n",
      "105.000       202\n",
      "92.000        198\n",
      "130.000       180\n",
      "123.000       178\n",
      "150.000       174\n",
      "143.000       171\n",
      "112.000       171\n",
      "95.000        161\n",
      "116.000       157\n",
      "141.000       156\n",
      "98.000        151\n",
      "133.000       145\n",
      "136.000       145\n",
      "137.000       133\n",
      "125.000       132\n",
      "134.000       130\n",
      "145.000       126\n",
      "149.000       117\n",
      "153.000       113\n",
      "147.000       109\n",
      "101.000       105\n",
      "132.000       100\n",
      "115.000        86\n",
      "122.000        83\n",
      "121.000        82\n",
      "138.000        75\n",
      "93.000         66\n",
      "168.000        58\n",
      "142.000        58\n",
      "131.000        48\n",
      "148.000        48\n",
      "144.000        40\n",
      "154.000        40\n",
      "94.000         37\n",
      "146.000        36\n",
      "100.000        36\n",
      "90.000         35\n",
      "151.000        34\n",
      "91.000         31\n",
      "186.000        30\n",
      "152.000        28\n",
      "187.000        26\n",
      "82.000         25\n",
      "172.000        25\n",
      "96.000         22\n",
      "189.000        19\n",
      "89.000         19\n",
      "157.000        18\n",
      "158.000        17\n",
      "88.000         15\n",
      "169.000        15\n",
      "156.000        14\n",
      "164.000        13\n",
      "170.000        10\n",
      "161.000        10\n",
      "175.000         8\n",
      "155.000         8\n",
      "166.000         8\n",
      "188.000         7\n",
      "159.000         7\n",
      "174.000         6\n",
      "87.000          6\n",
      "197.000         4\n",
      "194.000         3\n",
      "36.000          3\n",
      "12087.000       3\n",
      "199.000         2\n",
      "84.000          2\n",
      "162.000         2\n",
      "167.000         2\n",
      "191.000         2\n",
      "177.000         1\n",
      "180.000         1\n",
      "181.000         1\n",
      "45.000          1\n",
      "14457.000       1\n",
      "171.000         1\n",
      "13983.000       1\n",
      "183.000         1\n",
      "80.000          1\n",
      "184.000         1\n",
      "239.000         1\n",
      "190.000         1\n",
      "253.000         1\n",
      "51.000          1\n",
      "165.000         1\n",
      "12324.000       1\n",
      "14.000          1\n",
      "160.000         1\n",
      "331.000         1\n",
      "990.000         1\n",
      "1060.000        1\n",
      "193.000         1\n",
      "Name: co2e_g, dtype: int64\n",
      "******************************\n",
      "\n",
      "\n",
      "\n"
     ]
    }
   ],
   "source": [
    "check_df(\"co2e_g\")"
   ]
  },
  {
   "cell_type": "code",
   "execution_count": 144,
   "metadata": {
    "ExecuteTime": {
     "end_time": "2022-08-03T14:52:59.877066Z",
     "start_time": "2022-08-03T14:52:59.863604Z"
    }
   },
   "outputs": [
    {
     "data": {
      "text/plain": [
       "NaN          2442\n",
       "120.000       740\n",
       "99.000        545\n",
       "97.000        537\n",
       "104.000       501\n",
       "102.000       477\n",
       "103.000       445\n",
       "114.000       382\n",
       "124.000       372\n",
       "107.000       362\n",
       "108.000       362\n",
       "119.000       361\n",
       "106.000       349\n",
       "128.000       329\n",
       "126.000       282\n",
       "85.000        275\n",
       "118.000       270\n",
       "110.000       266\n",
       "127.000       257\n",
       "117.000       254\n",
       "111.000       237\n",
       "113.000       235\n",
       "109.000       234\n",
       "139.000       224\n",
       "140.000       218\n",
       "129.000       213\n",
       "135.000       202\n",
       "105.000       202\n",
       "92.000        198\n",
       "130.000       180\n",
       "123.000       178\n",
       "150.000       174\n",
       "143.000       171\n",
       "112.000       171\n",
       "95.000        161\n",
       "116.000       157\n",
       "141.000       156\n",
       "98.000        151\n",
       "133.000       145\n",
       "136.000       145\n",
       "137.000       133\n",
       "125.000       132\n",
       "134.000       130\n",
       "145.000       126\n",
       "149.000       117\n",
       "153.000       113\n",
       "147.000       109\n",
       "101.000       105\n",
       "132.000       100\n",
       "115.000        86\n",
       "122.000        83\n",
       "121.000        82\n",
       "138.000        75\n",
       "93.000         66\n",
       "168.000        58\n",
       "142.000        58\n",
       "131.000        48\n",
       "148.000        48\n",
       "144.000        40\n",
       "154.000        40\n",
       "94.000         37\n",
       "146.000        36\n",
       "100.000        36\n",
       "90.000         35\n",
       "151.000        34\n",
       "91.000         31\n",
       "186.000        30\n",
       "152.000        28\n",
       "187.000        26\n",
       "82.000         25\n",
       "172.000        25\n",
       "96.000         22\n",
       "189.000        19\n",
       "89.000         19\n",
       "157.000        18\n",
       "158.000        17\n",
       "88.000         15\n",
       "169.000        15\n",
       "156.000        14\n",
       "164.000        13\n",
       "170.000        10\n",
       "161.000        10\n",
       "175.000         8\n",
       "155.000         8\n",
       "166.000         8\n",
       "188.000         7\n",
       "159.000         7\n",
       "174.000         6\n",
       "87.000          6\n",
       "197.000         4\n",
       "194.000         3\n",
       "36.000          3\n",
       "12087.000       3\n",
       "199.000         2\n",
       "84.000          2\n",
       "162.000         2\n",
       "167.000         2\n",
       "191.000         2\n",
       "177.000         1\n",
       "180.000         1\n",
       "181.000         1\n",
       "45.000          1\n",
       "14457.000       1\n",
       "171.000         1\n",
       "13983.000       1\n",
       "183.000         1\n",
       "80.000          1\n",
       "184.000         1\n",
       "239.000         1\n",
       "190.000         1\n",
       "253.000         1\n",
       "51.000          1\n",
       "165.000         1\n",
       "12324.000       1\n",
       "14.000          1\n",
       "160.000         1\n",
       "331.000         1\n",
       "990.000         1\n",
       "1060.000        1\n",
       "193.000         1\n",
       "Name: co2e_g, dtype: int64"
      ]
     },
     "execution_count": 144,
     "metadata": {},
     "output_type": "execute_result"
    }
   ],
   "source": [
    "df.co2e_g.value_counts(dropna=False)"
   ]
  },
  {
   "cell_type": "code",
   "execution_count": 145,
   "metadata": {
    "ExecuteTime": {
     "end_time": "2022-08-03T14:52:59.898282Z",
     "start_time": "2022-08-03T14:52:59.881063Z"
    }
   },
   "outputs": [
    {
     "data": {
      "text/plain": [
       "8110    14.000\n",
       "3617    36.000\n",
       "3612    36.000\n",
       "3615    36.000\n",
       "12547   45.000\n",
       "         ...  \n",
       "15883      NaN\n",
       "15903      NaN\n",
       "15906      NaN\n",
       "15908      NaN\n",
       "15909      NaN\n",
       "Name: co2e_g, Length: 15919, dtype: float64"
      ]
     },
     "execution_count": 145,
     "metadata": {},
     "output_type": "execute_result"
    }
   ],
   "source": [
    "df.co2e_g.sort_values(ascending=True)"
   ]
  },
  {
   "cell_type": "code",
   "execution_count": 146,
   "metadata": {
    "ExecuteTime": {
     "end_time": "2022-08-03T14:52:59.924678Z",
     "start_time": "2022-08-03T14:52:59.900946Z"
    }
   },
   "outputs": [
    {
     "data": {
      "text/plain": [
       "make  model  fuel     co2e_g   \n",
       "Audi  A1     Benzine  97.000       287\n",
       "                      NaN          238\n",
       "                      102.000      229\n",
       "                      108.000      195\n",
       "                      111.000      181\n",
       "                      104.000      157\n",
       "                      110.000      110\n",
       "                      112.000       69\n",
       "                      98.000        64\n",
       "                      103.000       37\n",
       "                      116.000       31\n",
       "                      106.000       29\n",
       "                      105.000       27\n",
       "                      120.000       27\n",
       "                      123.000       21\n",
       "                      115.000       16\n",
       "                      109.000       12\n",
       "                      114.000       12\n",
       "                      129.000       12\n",
       "                      117.000       11\n",
       "                      107.000        8\n",
       "                      136.000        8\n",
       "                      113.000        7\n",
       "                      118.000        7\n",
       "                      121.000        6\n",
       "                      128.000        5\n",
       "                      99.000         4\n",
       "                      100.000        3\n",
       "                      134.000        3\n",
       "                      137.000        3\n",
       "                      127.000        2\n",
       "                      142.000        2\n",
       "                      119.000        1\n",
       "                      122.000        1\n",
       "                      126.000        1\n",
       "                      138.000        1\n",
       "                      331.000        1\n",
       "             Diesel   97.000       145\n",
       "                      102.000      122\n",
       "                      99.000       116\n",
       "                      NaN           72\n",
       "                      104.000       58\n",
       "                      92.000        43\n",
       "                      109.000       43\n",
       "                      105.000       42\n",
       "                      98.000        36\n",
       "                      106.000       27\n",
       "                      91.000        20\n",
       "                      94.000        17\n",
       "                      107.000       17\n",
       "                      101.000        5\n",
       "                      89.000         4\n",
       "                      90.000         4\n",
       "                      100.000        4\n",
       "                      103.000        4\n",
       "                      108.000        3\n",
       "                      95.000         2\n",
       "                      110.000        2\n",
       "      A2     Diesel   NaN            1\n",
       "      A3     Benzine  117.000      176\n",
       "Name: co2e_g, dtype: int64"
      ]
     },
     "execution_count": 146,
     "metadata": {},
     "output_type": "execute_result"
    }
   ],
   "source": [
    "df.groupby([\"make\", \"model\", \"fuel\"])[\"co2e_g\"].value_counts(dropna=False).head(60)"
   ]
  },
  {
   "cell_type": "code",
   "execution_count": 147,
   "metadata": {
    "ExecuteTime": {
     "end_time": "2022-08-03T14:52:59.948383Z",
     "start_time": "2022-08-03T14:52:59.930294Z"
    }
   },
   "outputs": [
    {
     "data": {
      "text/plain": [
       "make     model     fuel    \n",
       "Audi     A1        Benzine    106.337\n",
       "                   Diesel     100.101\n",
       "         A2        Diesel         NaN\n",
       "         A3        Benzine    116.421\n",
       "                   Diesel     106.831\n",
       "                   Electric    36.000\n",
       "                   LPG/CNG     97.000\n",
       "Opel     Astra     Benzine    154.590\n",
       "                   Diesel     105.849\n",
       "                   LPG/CNG    113.000\n",
       "         Corsa     Benzine    136.407\n",
       "                   Diesel      99.456\n",
       "                   LPG/CNG    117.667\n",
       "         Insignia  Benzine    176.918\n",
       "                   Diesel     132.546\n",
       "Renault  Clio      Benzine    122.653\n",
       "                   Diesel      89.530\n",
       "                   Electric       NaN\n",
       "                   LPG/CNG     98.000\n",
       "         Duster    Benzine    177.000\n",
       "         Espace    Benzine    155.903\n",
       "                   Diesel     124.425\n",
       "Name: co2e_g, dtype: float64"
      ]
     },
     "execution_count": 147,
     "metadata": {},
     "output_type": "execute_result"
    }
   ],
   "source": [
    "df.groupby([\"make\", \"model\", \"fuel\"])[\"co2e_g\"].mean()"
   ]
  },
  {
   "cell_type": "code",
   "execution_count": 148,
   "metadata": {
    "ExecuteTime": {
     "end_time": "2022-08-03T14:52:59.993398Z",
     "start_time": "2022-08-03T14:52:59.953012Z"
    }
   },
   "outputs": [
    {
     "data": {
      "text/plain": [
       "make     model     fuel    \n",
       "Audi     A1        Benzine    105.000\n",
       "                   Diesel      99.000\n",
       "         A2        Diesel         NaN\n",
       "         A3        Benzine    117.000\n",
       "                   Diesel     105.000\n",
       "                   Electric    36.000\n",
       "                   LPG/CNG     94.000\n",
       "Opel     Astra     Benzine    125.000\n",
       "                   Diesel     101.000\n",
       "                   LPG/CNG    113.000\n",
       "         Corsa     Benzine    128.000\n",
       "                   Diesel     101.000\n",
       "                   LPG/CNG    113.000\n",
       "         Insignia  Benzine    139.000\n",
       "                   Diesel     135.000\n",
       "Renault  Clio      Benzine    120.000\n",
       "                   Diesel      85.000\n",
       "                   Electric       NaN\n",
       "                   LPG/CNG     98.000\n",
       "         Duster    Benzine    186.000\n",
       "         Espace    Benzine    153.000\n",
       "                   Diesel     120.000\n",
       "Name: co2e_g, dtype: float64"
      ]
     },
     "execution_count": 148,
     "metadata": {},
     "output_type": "execute_result"
    }
   ],
   "source": [
    "df.groupby([\"make\", \"model\", \"fuel\"])[\"co2e_g\"].median()"
   ]
  },
  {
   "cell_type": "code",
   "execution_count": 149,
   "metadata": {
    "ExecuteTime": {
     "end_time": "2022-08-03T14:53:00.015584Z",
     "start_time": "2022-08-03T14:52:59.998623Z"
    }
   },
   "outputs": [
    {
     "data": {
      "text/plain": [
       "123.79357423758997"
      ]
     },
     "execution_count": 149,
     "metadata": {},
     "output_type": "execute_result"
    }
   ],
   "source": [
    "df.co2e_g.mean()"
   ]
  },
  {
   "cell_type": "code",
   "execution_count": 150,
   "metadata": {
    "ExecuteTime": {
     "end_time": "2022-08-03T14:53:00.032229Z",
     "start_time": "2022-08-03T14:53:00.022700Z"
    }
   },
   "outputs": [
    {
     "data": {
      "text/plain": [
       "116.0"
      ]
     },
     "execution_count": 150,
     "metadata": {},
     "output_type": "execute_result"
    }
   ],
   "source": [
    "df.co2e_g.median()"
   ]
  },
  {
   "cell_type": "code",
   "execution_count": 151,
   "metadata": {
    "ExecuteTime": {
     "end_time": "2022-08-03T14:53:00.082945Z",
     "start_time": "2022-08-03T14:53:00.037747Z"
    },
    "scrolled": true
   },
   "outputs": [
    {
     "data": {
      "text/plain": [
       "120.000      1081\n",
       "105.000       656\n",
       "99.000        617\n",
       "135.000       594\n",
       "97.000        537\n",
       "128.000       535\n",
       "104.000       501\n",
       "102.000       477\n",
       "85.000        459\n",
       "103.000       445\n",
       "114.000       382\n",
       "117.000       380\n",
       "101.000       373\n",
       "124.000       372\n",
       "125.000       366\n",
       "108.000       362\n",
       "107.000       362\n",
       "119.000       361\n",
       "106.000       349\n",
       "139.000       334\n",
       "126.000       282\n",
       "118.000       270\n",
       "110.000       266\n",
       "127.000       257\n",
       "111.000       237\n",
       "113.000       237\n",
       "109.000       234\n",
       "140.000       218\n",
       "129.000       213\n",
       "92.000        198\n",
       "130.000       180\n",
       "123.000       178\n",
       "150.000       174\n",
       "112.000       171\n",
       "143.000       171\n",
       "95.000        161\n",
       "116.000       159\n",
       "98.000        156\n",
       "141.000       156\n",
       "153.000       150\n",
       "133.000       145\n",
       "136.000       145\n",
       "137.000       133\n",
       "134.000       130\n",
       "145.000       126\n",
       "149.000       117\n",
       "147.000       109\n",
       "132.000       100\n",
       "115.000        86\n",
       "122.000        83\n",
       "121.000        82\n",
       "138.000        75\n",
       "93.000         66\n",
       "168.000        58\n",
       "142.000        58\n",
       "131.000        48\n",
       "148.000        48\n",
       "94.000         43\n",
       "144.000        40\n",
       "154.000        40\n",
       "146.000        36\n",
       "100.000        36\n",
       "90.000         35\n",
       "151.000        34\n",
       "186.000        32\n",
       "91.000         31\n",
       "152.000        28\n",
       "187.000        26\n",
       "82.000         25\n",
       "172.000        25\n",
       "96.000         22\n",
       "89.000         19\n",
       "189.000        19\n",
       "157.000        18\n",
       "158.000        17\n",
       "88.000         15\n",
       "169.000        15\n",
       "156.000        14\n",
       "164.000        13\n",
       "170.000        10\n",
       "161.000        10\n",
       "175.000         8\n",
       "166.000         8\n",
       "155.000         8\n",
       "159.000         7\n",
       "188.000         7\n",
       "87.000          6\n",
       "174.000         6\n",
       "36.000          4\n",
       "197.000         4\n",
       "12087.000       3\n",
       "194.000         3\n",
       "84.000          2\n",
       "199.000         2\n",
       "191.000         2\n",
       "162.000         2\n",
       "167.000         2\n",
       "183.000         1\n",
       "171.000         1\n",
       "45.000          1\n",
       "180.000         1\n",
       "177.000         1\n",
       "331.000         1\n",
       "181.000         1\n",
       "13983.000       1\n",
       "14457.000       1\n",
       "165.000         1\n",
       "184.000         1\n",
       "1060.000        1\n",
       "239.000         1\n",
       "990.000         1\n",
       "190.000         1\n",
       "160.000         1\n",
       "253.000         1\n",
       "80.000          1\n",
       "14.000          1\n",
       "12324.000       1\n",
       "51.000          1\n",
       "193.000         1\n",
       "Name: co2e_g, dtype: int64"
      ]
     },
     "execution_count": 151,
     "metadata": {},
     "output_type": "execute_result"
    }
   ],
   "source": [
    "df.groupby([\"make\", \"model\", \"fuel\"])[\"co2e_g\"].apply(lambda x : x.fillna(x.median() if (x.median() > 13) else df[\"co2e_g\"].median())).value_counts(dropna=False)"
   ]
  },
  {
   "cell_type": "code",
   "execution_count": 152,
   "metadata": {
    "ExecuteTime": {
     "end_time": "2022-08-03T14:53:00.129162Z",
     "start_time": "2022-08-03T14:53:00.088299Z"
    }
   },
   "outputs": [],
   "source": [
    "df[\"co2e_g\"] = df.groupby([\"make\", \"model\", \"fuel\"])[\"co2e_g\"].apply(lambda x : x.fillna(x.median() if (x.median() > 13) else df[\"co2e_g\"].median()))"
   ]
  },
  {
   "cell_type": "code",
   "execution_count": 153,
   "metadata": {
    "ExecuteTime": {
     "end_time": "2022-08-03T14:53:00.151289Z",
     "start_time": "2022-08-03T14:53:00.133824Z"
    }
   },
   "outputs": [
    {
     "data": {
      "text/plain": [
       "0"
      ]
     },
     "execution_count": 153,
     "metadata": {},
     "output_type": "execute_result"
    }
   ],
   "source": [
    "df.co2e_g.isnull().sum()"
   ]
  },
  {
   "cell_type": "code",
   "execution_count": null,
   "metadata": {},
   "outputs": [],
   "source": []
  },
  {
   "cell_type": "markdown",
   "metadata": {},
   "source": [
    "## 20.emission_class"
   ]
  },
  {
   "cell_type": "code",
   "execution_count": 154,
   "metadata": {
    "ExecuteTime": {
     "end_time": "2022-08-03T14:53:00.173705Z",
     "start_time": "2022-08-03T14:53:00.156249Z"
    }
   },
   "outputs": [
    {
     "name": "stdout",
     "output_type": "stream",
     "text": [
      "column name :  emission_class\n",
      "--------------------------------\n",
      "Per_of_Nulls   :  % 22.79\n",
      "Num_of_Nulls   :  3628\n",
      "Euro 6          10139\n",
      "NaN              3628\n",
      "Euro 6d-TEMP     1845\n",
      "Euro 6c           127\n",
      "Euro 5             78\n",
      "Euro 6d            62\n",
      "Euro 4             40\n",
      "Name: emission_class, dtype: int64\n",
      "******************************\n",
      "\n",
      "\n",
      "\n"
     ]
    }
   ],
   "source": [
    "check_df(\"emission_class\")"
   ]
  },
  {
   "cell_type": "code",
   "execution_count": 155,
   "metadata": {
    "ExecuteTime": {
     "end_time": "2022-08-03T14:53:00.231412Z",
     "start_time": "2022-08-03T14:53:00.180296Z"
    }
   },
   "outputs": [
    {
     "data": {
      "text/plain": [
       "make  model  fuel      age    emission_class\n",
       "Audi  A1     Benzine   0.000  NaN               266\n",
       "                              Euro 6            266\n",
       "                              Euro 6d-TEMP      264\n",
       "                              Euro 6d             5\n",
       "                       1.000  Euro 6            323\n",
       "                              NaN                98\n",
       "                              Euro 6d-TEMP       11\n",
       "                              Euro 5              3\n",
       "                       2.000  Euro 6            213\n",
       "                              NaN                59\n",
       "                              Euro 5              1\n",
       "                       3.000  Euro 6            257\n",
       "                              NaN                58\n",
       "                              Euro 6d-TEMP        3\n",
       "                              Euro 4              1\n",
       "             Diesel    0.000  Euro 6              3\n",
       "                       1.000  Euro 6            295\n",
       "                              NaN                14\n",
       "                              Euro 5              1\n",
       "                       2.000  Euro 6            133\n",
       "                              NaN                30\n",
       "                       3.000  Euro 6            269\n",
       "                              NaN                35\n",
       "                              Euro 5              4\n",
       "                              Euro 6c             2\n",
       "      A2     Diesel    1.000  Euro 6              1\n",
       "      A3     Benzine   0.000  Euro 6d-TEMP      222\n",
       "                              Euro 6            176\n",
       "                              NaN               104\n",
       "                       1.000  Euro 6            107\n",
       "                              NaN                33\n",
       "                              Euro 6d-TEMP       12\n",
       "                       2.000  Euro 6            125\n",
       "                              NaN                17\n",
       "                       3.000  Euro 6             99\n",
       "                              NaN                42\n",
       "                              Euro 5              1\n",
       "             Diesel    0.000  NaN               114\n",
       "                              Euro 6            113\n",
       "                              Euro 6d-TEMP       86\n",
       "                              Euro 6d             2\n",
       "                              Euro 6c             1\n",
       "                       1.000  Euro 6            583\n",
       "                              NaN                31\n",
       "                              Euro 6d-TEMP        6\n",
       "                              Euro 5              1\n",
       "                              Euro 6d             1\n",
       "                       2.000  Euro 6            461\n",
       "                              NaN                65\n",
       "                              Euro 6d             1\n",
       "                       3.000  Euro 6            579\n",
       "                              NaN                68\n",
       "                              Euro 5              5\n",
       "                              Euro 6c             2\n",
       "             Electric  1.000  Euro 6              3\n",
       "                       3.000  Euro 6              1\n",
       "             LPG/CNG   0.000  Euro 6d-TEMP        4\n",
       "                              Euro 6              3\n",
       "                              NaN                 2\n",
       "                       2.000  Euro 6              6\n",
       "                       3.000  Euro 6             16\n",
       "                              NaN                 5\n",
       "Opel  Astra  Benzine   0.000  NaN               226\n",
       "                              Euro 6d-TEMP      221\n",
       "                              Euro 6            128\n",
       "                              Euro 6d             6\n",
       "                              Euro 6c             2\n",
       "                              Euro 5              1\n",
       "                       1.000  Euro 6            343\n",
       "                              NaN               122\n",
       "                              Euro 6d-TEMP       12\n",
       "                              Euro 5              2\n",
       "                              Euro 6c             2\n",
       "                              Euro 6d             1\n",
       "                       2.000  Euro 6            162\n",
       "                              NaN                44\n",
       "                              Euro 5              1\n",
       "                              Euro 6d-TEMP        1\n",
       "                       3.000  Euro 6             75\n",
       "                              NaN                34\n",
       "                              Euro 5              2\n",
       "             Diesel    0.000  NaN                44\n",
       "                              Euro 6d-TEMP       38\n",
       "                              Euro 6             24\n",
       "                       1.000  Euro 6            179\n",
       "                              NaN                45\n",
       "                              Euro 6d-TEMP       13\n",
       "                              Euro 6c             8\n",
       "                       2.000  Euro 6            319\n",
       "                              NaN                42\n",
       "                              Euro 6d-TEMP       13\n",
       "                              Euro 5              6\n",
       "                       3.000  Euro 6            306\n",
       "                              NaN                84\n",
       "                              Euro 6d-TEMP       15\n",
       "                              Euro 5              2\n",
       "                              Euro 6c             1\n",
       "             LPG/CNG   0.000  Euro 6              1\n",
       "                       2.000  NaN                 1\n",
       "      Corsa  Benzine   0.000  Euro 6d-TEMP      356\n",
       "Name: emission_class, dtype: int64"
      ]
     },
     "execution_count": 155,
     "metadata": {},
     "output_type": "execute_result"
    }
   ],
   "source": [
    "df.groupby([\"make\", \"model\", \"fuel\", \"age\"])[\"emission_class\"].value_counts(dropna=False).head(100)"
   ]
  },
  {
   "cell_type": "code",
   "execution_count": 156,
   "metadata": {
    "ExecuteTime": {
     "end_time": "2022-08-03T14:53:00.255837Z",
     "start_time": "2022-08-03T14:53:00.235930Z"
    }
   },
   "outputs": [
    {
     "data": {
      "text/plain": [
       "Euro 6          10139\n",
       "NaN              3628\n",
       "Euro 6d-TEMP     1845\n",
       "Euro 6c           127\n",
       "Euro 5             78\n",
       "Euro 6d            62\n",
       "Euro 4             40\n",
       "Name: emission_class, dtype: int64"
      ]
     },
     "execution_count": 156,
     "metadata": {},
     "output_type": "execute_result"
    }
   ],
   "source": [
    "df.emission_class.value_counts(dropna=False)"
   ]
  },
  {
   "cell_type": "code",
   "execution_count": 157,
   "metadata": {
    "ExecuteTime": {
     "end_time": "2022-08-03T14:53:00.395162Z",
     "start_time": "2022-08-03T14:53:00.267842Z"
    }
   },
   "outputs": [
    {
     "data": {
      "text/plain": [
       "Euro 6          13006\n",
       "Euro 6d-TEMP     2604\n",
       "Euro 6c           127\n",
       "Euro 5             78\n",
       "Euro 6d            62\n",
       "Euro 4             42\n",
       "Name: emission_class, dtype: int64"
      ]
     },
     "execution_count": 157,
     "metadata": {},
     "output_type": "execute_result"
    }
   ],
   "source": [
    "df.groupby([\"make\", \"model\", \"fuel\", \"age\"])[\"emission_class\"].apply(lambda x: x.fillna(x.mode()[0] if any (x.mode()) else df[\"emission_class\"].mode()[0])).value_counts(dropna=False)"
   ]
  },
  {
   "cell_type": "code",
   "execution_count": 158,
   "metadata": {
    "ExecuteTime": {
     "end_time": "2022-08-03T14:53:00.528302Z",
     "start_time": "2022-08-03T14:53:00.408417Z"
    }
   },
   "outputs": [
    {
     "data": {
      "text/plain": [
       "Euro 6          12919\n",
       "Euro 6d-TEMP     2582\n",
       "Euro 6c           183\n",
       "Euro 5             95\n",
       "Euro 6d            95\n",
       "Euro 4             45\n",
       "Name: emission_class, dtype: int64"
      ]
     },
     "execution_count": 158,
     "metadata": {},
     "output_type": "execute_result"
    }
   ],
   "source": [
    "df.groupby([\"make\", \"model\", \"fuel\", \"age\"])[\"emission_class\"].fillna(method=\"bfill\").fillna(method=\"ffill\").value_counts(dropna=False)"
   ]
  },
  {
   "cell_type": "code",
   "execution_count": 159,
   "metadata": {
    "ExecuteTime": {
     "end_time": "2022-08-03T14:53:00.551694Z",
     "start_time": "2022-08-03T14:53:00.534849Z"
    }
   },
   "outputs": [
    {
     "data": {
      "text/plain": [
       "0.000    1348\n",
       "1.000     877\n",
       "3.000     739\n",
       "2.000     664\n",
       "Name: age, dtype: int64"
      ]
     },
     "execution_count": 159,
     "metadata": {},
     "output_type": "execute_result"
    }
   ],
   "source": [
    "df[df.emission_class.isnull()].age.value_counts()"
   ]
  },
  {
   "cell_type": "code",
   "execution_count": 160,
   "metadata": {
    "ExecuteTime": {
     "end_time": "2022-08-03T14:53:00.626631Z",
     "start_time": "2022-08-03T14:53:00.556023Z"
    }
   },
   "outputs": [],
   "source": [
    "df[\"emission_class\"] = df.groupby([\"make\", \"model\", \"fuel\", \"age\"])[\"emission_class\"].fillna(method=\"bfill\").fillna(method=\"ffill\")"
   ]
  },
  {
   "cell_type": "code",
   "execution_count": 161,
   "metadata": {
    "ExecuteTime": {
     "end_time": "2022-08-03T14:53:00.651774Z",
     "start_time": "2022-08-03T14:53:00.629717Z"
    },
    "scrolled": true
   },
   "outputs": [
    {
     "data": {
      "text/plain": [
       "0"
      ]
     },
     "execution_count": 161,
     "metadata": {},
     "output_type": "execute_result"
    }
   ],
   "source": [
    "df[\"emission_class\"].isnull().sum()"
   ]
  },
  {
   "cell_type": "code",
   "execution_count": null,
   "metadata": {},
   "outputs": [],
   "source": []
  },
  {
   "cell_type": "markdown",
   "metadata": {},
   "source": [
    "## 21.comfort&convenience"
   ]
  },
  {
   "cell_type": "code",
   "execution_count": 162,
   "metadata": {
    "ExecuteTime": {
     "end_time": "2022-08-03T14:53:00.700792Z",
     "start_time": "2022-08-03T14:53:00.663322Z"
    }
   },
   "outputs": [
    {
     "name": "stdout",
     "output_type": "stream",
     "text": [
      "column name :  comfort&convenience\n",
      "--------------------------------\n",
      "Per_of_Nulls   :  % 5.78\n",
      "Num_of_Nulls   :  920\n",
      "NaN                                                                                                                                                                                                                                                                                                                                                                                                                                                                                                  920\n",
      "Air conditioning,Electrical side mirrors,Hill Holder,Power windows                                                                                                                                                                                                                                                                                                                                                                                                                                   216\n",
      "Air conditioning,Electrical side mirrors,Power windows                                                                                                                                                                                                                                                                                                                                                                                                                                               134\n",
      "Air conditioning,Power windows                                                                                                                                                                                                                                                                                                                                                                                                                                                                       130\n",
      "Air conditioning,Armrest,Automatic climate control,Cruise control,Electrical side mirrors,Leather steering wheel,Light sensor,Lumbar support,Multi-function steering wheel,Navigation system,Park Distance Control,Parking assist system sensors front,Parking assist system sensors rear,Power windows,Rain sensor,Seat heating,Start-stop system                                                                                                                                                   105\n",
      "                                                                                                                                                                                                                                                                                                                                                                                                                                                                                                    ... \n",
      "Air conditioning,Cruise control,Electrical side mirrors,Hill Holder,Leather steering wheel,Light sensor,Multi-function steering wheel,Navigation system,Park Distance Control,Parking assist system sensors rear,Power windows,Rain sensor,Split rear seats,Start-stop system,Tinted windows                                                                                                                                                                                                           1\n",
      "Air conditioning,Armrest,Automatic climate control,Cruise control,Electrical side mirrors,Heated steering wheel,Hill Holder,Leather steering wheel,Light sensor,Lumbar support,Multi-function steering wheel,Navigation system,Park Distance Control,Parking assist system camera,Parking assist system sensors front,Parking assist system sensors rear,Power windows,Rain sensor,Seat heating,Sunroof                                                                                                1\n",
      "Air conditioning,Armrest,Cruise control,Electrical side mirrors,Heated steering wheel,Hill Holder,Leather steering wheel,Light sensor,Multi-function steering wheel,Park Distance Control,Parking assist system camera,Parking assist system sensors front,Parking assist system sensors rear,Power windows,Rain sensor,Seat heating,Split rear seats,Start-stop system,Tinted windows                                                                                                                 1\n",
      "Air conditioning,Automatic climate control,Cruise control,Electrical side mirrors,Leather steering wheel,Light sensor,Multi-function steering wheel,Park Distance Control,Parking assist system sensors front,Parking assist system sensors rear,Power windows,Rain sensor,Seat heating                                                                                                                                                                                                                1\n",
      "Air conditioning,Automatic climate control,Cruise control,Electrically heated windshield,Electrical side mirrors,Electric tailgate,Heads-up display,Heated steering wheel,Hill Holder,Keyless central door lock,Leather steering wheel,Light sensor,Lumbar support,Navigation system,Park Distance Control,Parking assist system camera,Parking assist system self-steering,Parking assist system sensors front,Parking assist system sensors rear,Power windows,Rain sensor,Seat heating,Sunroof      1\n",
      "Name: comfort&convenience, Length: 6199, dtype: int64\n",
      "******************************\n",
      "\n",
      "\n",
      "\n"
     ]
    }
   ],
   "source": [
    "check_df(\"comfort&convenience\")"
   ]
  },
  {
   "cell_type": "code",
   "execution_count": 163,
   "metadata": {
    "ExecuteTime": {
     "end_time": "2022-08-03T14:53:01.165230Z",
     "start_time": "2022-08-03T14:53:00.708532Z"
    }
   },
   "outputs": [
    {
     "data": {
      "text/plain": [
       "{0: 'Air conditioning',\n",
       " 1: 'Air suspension',\n",
       " 2: 'Armrest',\n",
       " 3: 'Automatic climate control',\n",
       " 4: 'Auxiliary heating',\n",
       " 5: 'Cruise control',\n",
       " 6: 'Electric Starter',\n",
       " 7: 'Electric tailgate',\n",
       " 8: 'Electrical side mirrors',\n",
       " 9: 'Electrically adjustable seats',\n",
       " 10: 'Electrically heated windshield',\n",
       " 11: 'Heads-up display',\n",
       " 12: 'Heated steering wheel',\n",
       " 13: 'Hill Holder',\n",
       " 14: 'Keyless central door lock',\n",
       " 15: 'Leather seats',\n",
       " 16: 'Leather steering wheel',\n",
       " 17: 'Light sensor',\n",
       " 18: 'Lumbar support',\n",
       " 19: 'Massage seats',\n",
       " 20: 'Multi-function steering wheel',\n",
       " 21: 'Navigation system',\n",
       " 22: 'Panorama roof',\n",
       " 23: 'Park Distance Control',\n",
       " 24: 'Parking assist system camera',\n",
       " 25: 'Parking assist system self-steering',\n",
       " 26: 'Parking assist system sensors front',\n",
       " 27: 'Parking assist system sensors rear',\n",
       " 28: 'Power windows',\n",
       " 29: 'Rain sensor',\n",
       " 30: 'Seat heating',\n",
       " 31: 'Seat ventilation',\n",
       " 32: 'Split rear seats',\n",
       " 33: 'Start-stop system',\n",
       " 34: 'Sunroof',\n",
       " 35: 'Tinted windows',\n",
       " 36: 'Wind deflector',\n",
       " 37: 'Windshield'}"
      ]
     },
     "execution_count": 163,
     "metadata": {},
     "output_type": "execute_result"
    }
   ],
   "source": [
    "get_diff_category_column(df[\"comfort&convenience\"])"
   ]
  },
  {
   "cell_type": "code",
   "execution_count": 164,
   "metadata": {
    "ExecuteTime": {
     "end_time": "2022-08-03T14:53:01.222757Z",
     "start_time": "2022-08-03T14:53:01.169566Z"
    }
   },
   "outputs": [
    {
     "data": {
      "text/plain": [
       "make     model   body_type  age    comfort&convenience                                                                                                                                                                                                                                                                                                                                                                                                                                                         \n",
       "Audi     A1      Compact    0.000  NaN                                                                                                                                                                                                                                                                                                                                                                                                                                                                             26\n",
       "                                   Air conditioning,Armrest,Automatic climate control,Electrical side mirrors,Hill Holder,Leather steering wheel,Light sensor,Multi-function steering wheel,Navigation system,Park Distance Control,Parking assist system sensors rear,Power windows,Rain sensor,Seat heating,Start-stop system                                                                                                                                                                                    24\n",
       "                                   Air conditioning,Electrical side mirrors,Light sensor,Multi-function steering wheel,Park Distance Control,Parking assist system sensors rear,Power windows,Rain sensor,Seat heating,Start-stop system                                                                                                                                                                                                                                                                           20\n",
       "                                   Air conditioning,Armrest,Automatic climate control,Electrical side mirrors,Leather steering wheel,Light sensor,Multi-function steering wheel,Park Distance Control,Parking assist system sensors rear,Power windows,Rain sensor,Seat heating,Start-stop system                                                                                                                                                                                                                  19\n",
       "                                   Air conditioning,Armrest,Automatic climate control,Cruise control,Electrical side mirrors,Hill Holder,Leather steering wheel,Light sensor,Multi-function steering wheel,Navigation system,Park Distance Control,Parking assist system sensors front,Parking assist system sensors rear,Power windows,Rain sensor,Seat heating,Start-stop system                                                                                                                                 16\n",
       "                                                                                                                                                                                                                                                                                                                                                                                                                                                                                                                   ..\n",
       "Renault  Espace  Van        3.000  Cruise control,Electrically adjustable seats,Electrically heated windshield,Electrical side mirrors,Electric tailgate,Heads-up display,Hill Holder,Keyless central door lock,Leather steering wheel,Light sensor,Lumbar support,Massage seats,Navigation system,Park Distance Control,Parking assist system camera,Parking assist system self-steering,Parking assist system sensors front,Parking assist system sensors rear,Power windows,Rain sensor,Seat heating,Sunroof     1\n",
       "                                   Cruise control,Electrically adjustable seats,Leather steering wheel,Lumbar support,Massage seats,Multi-function steering wheel,Panorama roof,Parking assist system camera,Parking assist system sensors front,Parking assist system sensors rear,Start-stop system,Tinted windows                                                                                                                                                                                                1\n",
       "                                   Cruise control,Navigation system,Park Distance Control                                                                                                                                                                                                                                                                                                                                                                                                                           1\n",
       "                                   Heads-up display                                                                                                                                                                                                                                                                                                                                                                                                                                                                 1\n",
       "                                   Sunroof                                                                                                                                                                                                                                                                                                                                                                                                                                                                          1\n",
       "Name: comfort&convenience, Length: 8757, dtype: int64"
      ]
     },
     "execution_count": 164,
     "metadata": {},
     "output_type": "execute_result"
    }
   ],
   "source": [
    "df.groupby([\"make\", \"model\", \"body_type\", \"age\"])[\"comfort&convenience\"].value_counts(dropna=False)"
   ]
  },
  {
   "cell_type": "code",
   "execution_count": 165,
   "metadata": {
    "ExecuteTime": {
     "end_time": "2022-08-03T14:53:01.261989Z",
     "start_time": "2022-08-03T14:53:01.229650Z"
    }
   },
   "outputs": [
    {
     "data": {
      "text/plain": [
       "make     model     age    body_type    \n",
       "Audi     A3        3.000  Sedans           47\n",
       "Opel     Insignia  0.000  Sedans           43\n",
       "         Corsa     1.000  Other            43\n",
       "         Insignia  0.000  Station wagon    38\n",
       "         Astra     1.000  Other            34\n",
       "         Corsa     3.000  Sedans           32\n",
       "Renault  Clio      3.000  Sedans           31\n",
       "Opel     Astra     1.000  Compact          31\n",
       "                   0.000  Compact          27\n",
       "Audi     A1        0.000  Compact          26\n",
       "Opel     Insignia  2.000  Other            26\n",
       "                          Sedans           25\n",
       "Renault  Espace    2.000  Van              24\n",
       "         Clio      2.000  Sedans           24\n",
       "                          Compact          21\n",
       "Opel     Corsa     1.000  Compact          20\n",
       "                   2.000  Other            18\n",
       "                          Compact          17\n",
       "Renault  Espace    1.000  Van              15\n",
       "Opel     Insignia  1.000  Station wagon    14\n",
       "Audi     A1        2.000  Sedans           13\n",
       "                   0.000  Sedans           13\n",
       "         A3        3.000  Compact          12\n",
       "Opel     Corsa     0.000  Compact          12\n",
       "Renault  Clio      3.000  Compact          12\n",
       "Opel     Insignia  3.000  Sedans           12\n",
       "Renault  Espace    3.000  Van              12\n",
       "Opel     Astra     2.000  Other            11\n",
       "                   0.000  Station wagon    11\n",
       "Audi     A3        2.000  Sedans           10\n",
       "Opel     Corsa     0.000  Other            10\n",
       "                   3.000  Compact          10\n",
       "         Astra     1.000  Station wagon    10\n",
       "Renault  Espace    0.000  Van               9\n",
       "Audi     A3        1.000  Sedans            8\n",
       "Opel     Insignia  3.000  Station wagon     8\n",
       "         Astra     3.000  Station wagon     8\n",
       "                   2.000  Compact           7\n",
       "Audi     A1        1.000  Compact           7\n",
       "         A3        2.000  Compact           6\n",
       "Renault  Clio      0.000  Compact           6\n",
       "Audi     A1        3.000  Sedans            6\n",
       "                          Compact           6\n",
       "Opel     Insignia  1.000  Sedans            6\n",
       "Renault  Clio      3.000  Station wagon     6\n",
       "Opel     Insignia  0.000  Other             6\n",
       "Audi     A1        2.000  Compact           5\n",
       "Opel     Astra     0.000  Other             5\n",
       "Audi     A1        1.000  Sedans            5\n",
       "Opel     Astra     3.000  Sedans            5\n",
       "                          Other             5\n",
       "                          Compact           5\n",
       "         Insignia  2.000  Station wagon     4\n",
       "         Astra     0.000  Sedans            4\n",
       "Renault  Clio      0.000  Other             4\n",
       "                          Sedans            4\n",
       "                   1.000  Compact           4\n",
       "                          Station wagon     4\n",
       "Audi     A3        0.000  Compact           4\n",
       "Opel     Corsa     0.000  Sedans            4\n",
       "         Insignia  1.000  Other             4\n",
       "                   0.000  Off-Road          4\n",
       "                          Compact           4\n",
       "Audi     A3        0.000  Sedans            4\n",
       "Renault  Clio      1.000  Sedans            3\n",
       "                   0.000  Station wagon     3\n",
       "Audi     A3        1.000  Compact           3\n",
       "Opel     Corsa     1.000  Sedans            3\n",
       "Renault  Espace    3.000  Station wagon     3\n",
       "Audi     A3        2.000  Station wagon     3\n",
       "Opel     Insignia  3.000  Other             3\n",
       "Renault  Espace    3.000  Transporter       2\n",
       "Opel     Corsa     3.000  Other             2\n",
       "Audi     A3        3.000  Other             2\n",
       "Renault  Clio      2.000  Station wagon     2\n",
       "Opel     Astra     2.000  Sedans            2\n",
       "         Insignia  1.000  Compact           2\n",
       "Renault  Espace    0.000  Compact           2\n",
       "Opel     Astra     2.000  Station wagon     2\n",
       "         Insignia  2.000  Compact           2\n",
       "Renault  Espace    2.000  Station wagon     1\n",
       "                   3.000  Compact           1\n",
       "                   2.000  Transporter       1\n",
       "Audi     A1        1.000  Station wagon     1\n",
       "         A3        1.000  Station wagon     1\n",
       "                   3.000  Station wagon     1\n",
       "Renault  Clio      2.000  Van               1\n",
       "Opel     Corsa     2.000  Off-Road          1\n",
       "                          Sedans            1\n",
       "         Astra     1.000  Sedans            1\n",
       "dtype: int64"
      ]
     },
     "execution_count": 165,
     "metadata": {},
     "output_type": "execute_result"
    }
   ],
   "source": [
    "df[df[\"comfort&convenience\"].isnull()][[\"make\", \"model\", \"age\", \"body_type\"]].value_counts()"
   ]
  },
  {
   "cell_type": "code",
   "execution_count": 166,
   "metadata": {
    "ExecuteTime": {
     "end_time": "2022-08-03T14:53:01.396899Z",
     "start_time": "2022-08-03T14:53:01.267196Z"
    }
   },
   "outputs": [
    {
     "data": {
      "text/plain": [
       "0"
      ]
     },
     "execution_count": 166,
     "metadata": {},
     "output_type": "execute_result"
    }
   ],
   "source": [
    "df.groupby([\"make\", \"model\", \"age\", \"body_type\"])[\"comfort&convenience\"].fillna(method=\"pad\").fillna(method=\"backfill\").isnull().sum()"
   ]
  },
  {
   "cell_type": "code",
   "execution_count": 167,
   "metadata": {
    "ExecuteTime": {
     "end_time": "2022-08-03T14:53:01.534021Z",
     "start_time": "2022-08-03T14:53:01.400959Z"
    }
   },
   "outputs": [],
   "source": [
    "df[\"comfort&convenience\"] = df.groupby([\"make\", \"model\", \"age\", \"body_type\"])[\"comfort&convenience\"].fillna(method=\"pad\").fillna(method=\"backfill\")"
   ]
  },
  {
   "cell_type": "code",
   "execution_count": 168,
   "metadata": {
    "ExecuteTime": {
     "end_time": "2022-08-03T14:53:01.556168Z",
     "start_time": "2022-08-03T14:53:01.542227Z"
    }
   },
   "outputs": [
    {
     "data": {
      "text/plain": [
       "0"
      ]
     },
     "execution_count": 168,
     "metadata": {},
     "output_type": "execute_result"
    }
   ],
   "source": [
    "df[\"comfort&convenience\"].isnull().sum()"
   ]
  },
  {
   "cell_type": "code",
   "execution_count": null,
   "metadata": {},
   "outputs": [],
   "source": []
  },
  {
   "cell_type": "markdown",
   "metadata": {},
   "source": [
    "## 22.entertainment&media"
   ]
  },
  {
   "cell_type": "code",
   "execution_count": 169,
   "metadata": {
    "ExecuteTime": {
     "end_time": "2022-08-03T14:53:01.581083Z",
     "start_time": "2022-08-03T14:53:01.559991Z"
    }
   },
   "outputs": [
    {
     "name": "stdout",
     "output_type": "stream",
     "text": [
      "column name :  entertainment&media\n",
      "--------------------------------\n",
      "Per_of_Nulls   :  % 8.63\n",
      "Num_of_Nulls   :  1374\n",
      "NaN                                                                                                 1374\n",
      "Bluetooth,Hands-free equipment,On-board computer,Radio,USB                                          1282\n",
      "Bluetooth,Hands-free equipment,MP3,On-board computer,Radio,USB                                       982\n",
      "Bluetooth,CD player,Hands-free equipment,MP3,On-board computer,Radio,USB                             783\n",
      "On-board computer,Radio                                                                              487\n",
      "                                                                                                    ... \n",
      "Bluetooth,CD player,Digital radio,Hands-free equipment,Radio                                           1\n",
      "CD player,Hands-free equipment,MP3,Radio,USB                                                           1\n",
      "MP3,Radio,Sound system,USB                                                                             1\n",
      "Bluetooth,MP3,On-board computer,Radio,Television,USB                                                   1\n",
      "Bluetooth,CD player,Hands-free equipment,MP3,On-board computer,Radio,Sound system,Television,USB       1\n",
      "Name: entertainment&media, Length: 347, dtype: int64\n",
      "******************************\n",
      "\n",
      "\n",
      "\n"
     ]
    }
   ],
   "source": [
    "check_df(\"entertainment&media\")"
   ]
  },
  {
   "cell_type": "code",
   "execution_count": 170,
   "metadata": {
    "ExecuteTime": {
     "end_time": "2022-08-03T14:53:01.613617Z",
     "start_time": "2022-08-03T14:53:01.586661Z"
    }
   },
   "outputs": [
    {
     "data": {
      "text/plain": [
       "make     model     age    body_type    \n",
       "Renault  Clio      2.000  Sedans           57\n",
       "Audi     A3        3.000  Sedans           55\n",
       "Renault  Clio      3.000  Sedans           49\n",
       "Opel     Insignia  0.000  Sedans           46\n",
       "Renault  Espace    2.000  Van              45\n",
       "Opel     Insignia  0.000  Station wagon    45\n",
       "         Corsa     1.000  Other            42\n",
       "                   3.000  Sedans           40\n",
       "Renault  Espace    1.000  Van              36\n",
       "Audi     A1        0.000  Compact          35\n",
       "Renault  Espace    3.000  Van              34\n",
       "Opel     Astra     1.000  Other            34\n",
       "         Insignia  2.000  Sedans           33\n",
       "         Astra     1.000  Compact          31\n",
       "         Insignia  2.000  Other            31\n",
       "         Astra     2.000  Compact          29\n",
       "                   0.000  Compact          27\n",
       "Renault  Clio      3.000  Compact          26\n",
       "Opel     Insignia  2.000  Station wagon    26\n",
       "Audi     A1        2.000  Sedans           25\n",
       "Opel     Corsa     1.000  Compact          24\n",
       "                   2.000  Compact          23\n",
       "Renault  Clio      2.000  Compact          23\n",
       "Audi     A1        1.000  Sedans           22\n",
       "                   0.000  Sedans           21\n",
       "Opel     Astra     1.000  Station wagon    21\n",
       "Renault  Espace    0.000  Van              19\n",
       "Opel     Insignia  1.000  Station wagon    19\n",
       "Renault  Clio      1.000  Sedans           19\n",
       "Audi     A3        2.000  Sedans           18\n",
       "Opel     Astra     3.000  Station wagon    18\n",
       "         Corsa     2.000  Other            17\n",
       "                   0.000  Compact          17\n",
       "                   3.000  Compact          17\n",
       "         Astra     0.000  Station wagon    17\n",
       "Renault  Clio      0.000  Sedans           16\n",
       "Opel     Insignia  3.000  Sedans           14\n",
       "         Corsa     0.000  Sedans           14\n",
       "Audi     A1        3.000  Sedans           13\n",
       "         A3        3.000  Compact          12\n",
       "                   1.000  Sedans           12\n",
       "Opel     Astra     2.000  Other            11\n",
       "         Insignia  3.000  Station wagon    11\n",
       "         Astra     2.000  Station wagon    11\n",
       "         Corsa     0.000  Other            10\n",
       "         Astra     0.000  Sedans           10\n",
       "Audi     A1        1.000  Compact           9\n",
       "Opel     Astra     3.000  Sedans            9\n",
       "Audi     A1        3.000  Compact           8\n",
       "         A3        0.000  Sedans            7\n",
       "Opel     Corsa     2.000  Sedans            7\n",
       "                   1.000  Sedans            7\n",
       "Renault  Clio      3.000  Station wagon     7\n",
       "Opel     Insignia  1.000  Sedans            7\n",
       "Renault  Clio      0.000  Compact           7\n",
       "Opel     Insignia  0.000  Other             6\n",
       "Audi     A3        2.000  Compact           6\n",
       "Opel     Astra     2.000  Sedans            5\n",
       "                   0.000  Other             5\n",
       "                   1.000  Sedans            5\n",
       "Renault  Clio      1.000  Station wagon     5\n",
       "Audi     A1        2.000  Compact           5\n",
       "Opel     Astra     3.000  Other             5\n",
       "                          Compact           5\n",
       "Renault  Clio      2.000  Station wagon     5\n",
       "                   0.000  Other             4\n",
       "                          Station wagon     4\n",
       "Audi     A3        0.000  Compact           4\n",
       "Opel     Insignia  1.000  Other             4\n",
       "                   0.000  Off-Road          4\n",
       "                          Compact           4\n",
       "Audi     A3        2.000  Station wagon     3\n",
       "Renault  Espace    3.000  Station wagon     3\n",
       "                          Transporter       3\n",
       "Audi     A3        3.000  Other             3\n",
       "                          Station wagon     3\n",
       "                   1.000  Compact           3\n",
       "Renault  Clio      1.000  Compact           3\n",
       "Opel     Insignia  3.000  Other             3\n",
       "                   2.000  Compact           3\n",
       "         Corsa     3.000  Coupe             2\n",
       "Renault  Espace    0.000  Compact           2\n",
       "Opel     Insignia  1.000  Compact           2\n",
       "Renault  Espace    1.000  Transporter       2\n",
       "         Clio      1.000  Transporter       2\n",
       "Opel     Corsa     3.000  Other             2\n",
       "Renault  Clio      3.000  Transporter       2\n",
       "         Espace    0.000  Coupe             1\n",
       "Audi     A1        1.000  Station wagon     1\n",
       "Renault  Espace    1.000  Coupe             1\n",
       "Opel     Insignia  2.000  Coupe             1\n",
       "Renault  Clio      2.000  Van               1\n",
       "         Espace    2.000  Station wagon     1\n",
       "                          Transporter       1\n",
       "Audi     A3        1.000  Station wagon     1\n",
       "Renault  Espace    3.000  Compact           1\n",
       "                          Other             1\n",
       "                          Sedans            1\n",
       "         Clio      1.000  Other             1\n",
       "Opel     Corsa     3.000  Transporter       1\n",
       "                   2.000  Off-Road          1\n",
       "dtype: int64"
      ]
     },
     "execution_count": 170,
     "metadata": {},
     "output_type": "execute_result"
    }
   ],
   "source": [
    "df[df[\"entertainment&media\"].isnull()][[\"make\", \"model\", \"age\", \"body_type\"]].value_counts()"
   ]
  },
  {
   "cell_type": "code",
   "execution_count": 171,
   "metadata": {
    "ExecuteTime": {
     "end_time": "2022-08-03T14:53:01.732723Z",
     "start_time": "2022-08-03T14:53:01.617800Z"
    }
   },
   "outputs": [],
   "source": [
    "df[\"entertainment&media\"] = df.groupby([\"make\", \"model\", \"age\", \"body_type\"])[\"entertainment&media\"].fillna(method=\"pad\").fillna(method=\"backfill\")"
   ]
  },
  {
   "cell_type": "code",
   "execution_count": 172,
   "metadata": {
    "ExecuteTime": {
     "end_time": "2022-08-03T14:53:01.754745Z",
     "start_time": "2022-08-03T14:53:01.737463Z"
    }
   },
   "outputs": [
    {
     "data": {
      "text/plain": [
       "Bluetooth,Hands-free equipment,On-board computer,Radio,USB                     1374\n",
       "Bluetooth,Hands-free equipment,MP3,On-board computer,Radio,USB                 1029\n",
       "Bluetooth,CD player,Hands-free equipment,MP3,On-board computer,Radio,USB        816\n",
       "On-board computer                                                               563\n",
       "On-board computer,Radio                                                         537\n",
       "                                                                               ... \n",
       "Bluetooth,CD player,USB                                                           1\n",
       "Bluetooth,CD player,Digital radio,MP3,Radio,USB                                   1\n",
       "Bluetooth,CD player,Hands-free equipment,MP3,On-board computer,Sound system       1\n",
       "Bluetooth,Digital radio,On-board computer,Radio,Sound system                      1\n",
       "CD player,Digital radio,Hands-free equipment,Radio,USB                            1\n",
       "Name: entertainment&media, Length: 346, dtype: int64"
      ]
     },
     "execution_count": 172,
     "metadata": {},
     "output_type": "execute_result"
    }
   ],
   "source": [
    "df[\"entertainment&media\"].value_counts(dropna=False)"
   ]
  },
  {
   "cell_type": "code",
   "execution_count": 173,
   "metadata": {
    "ExecuteTime": {
     "end_time": "2022-08-03T14:53:01.784375Z",
     "start_time": "2022-08-03T14:53:01.763251Z"
    }
   },
   "outputs": [
    {
     "data": {
      "text/plain": [
       "0"
      ]
     },
     "execution_count": 173,
     "metadata": {},
     "output_type": "execute_result"
    }
   ],
   "source": [
    "df[\"entertainment&media\"].isnull().sum()"
   ]
  },
  {
   "cell_type": "code",
   "execution_count": null,
   "metadata": {},
   "outputs": [],
   "source": []
  },
  {
   "cell_type": "markdown",
   "metadata": {},
   "source": [
    "## 23.extras"
   ]
  },
  {
   "cell_type": "code",
   "execution_count": 174,
   "metadata": {
    "ExecuteTime": {
     "end_time": "2022-08-03T14:53:01.840119Z",
     "start_time": "2022-08-03T14:53:01.820911Z"
    }
   },
   "outputs": [
    {
     "name": "stdout",
     "output_type": "stream",
     "text": [
      "column name :  extras\n",
      "--------------------------------\n",
      "Per_of_Nulls   :  % 18.61\n",
      "Num_of_Nulls   :  2962\n",
      "Alloy wheels                                                                                               3245\n",
      "NaN                                                                                                        2962\n",
      "Alloy wheels,Touch screen                                                                                   697\n",
      "Alloy wheels,Voice Control                                                                                  577\n",
      "Alloy wheels,Touch screen,Voice Control                                                                     541\n",
      "                                                                                                           ... \n",
      "Alloy wheels,Catalytic Converter,Shift paddles,Sport package,Sport seats,Sport suspension,Voice Control       1\n",
      "Alloy wheels,Catalytic Converter,Roof rack,Sport package,Sport seats,Trailer hitch                            1\n",
      "Alloy wheels,Catalytic Converter,Ski bag,Sport package,Voice Control                                          1\n",
      "Catalytic Converter,Roof rack,Sport seats,Sport suspension                                                    1\n",
      "Alloy wheels,Shift paddles,Ski bag,Sport seats,Sport suspension,Touch screen,Voice Control                    1\n",
      "Name: extras, Length: 660, dtype: int64\n",
      "******************************\n",
      "\n",
      "\n",
      "\n"
     ]
    }
   ],
   "source": [
    "check_df(\"extras\")"
   ]
  },
  {
   "cell_type": "code",
   "execution_count": 175,
   "metadata": {
    "ExecuteTime": {
     "end_time": "2022-08-03T14:53:01.874789Z",
     "start_time": "2022-08-03T14:53:01.845048Z"
    }
   },
   "outputs": [
    {
     "data": {
      "text/plain": [
       "make     model     age    body_type    \n",
       "Renault  Clio      2.000  Sedans           131\n",
       "                   0.000  Compact          123\n",
       "Opel     Corsa     0.000  Compact          123\n",
       "                   3.000  Compact          119\n",
       "Renault  Clio      3.000  Sedans           108\n",
       "                   0.000  Sedans           107\n",
       "Opel     Corsa     3.000  Sedans           101\n",
       "         Astra     2.000  Sedans            86\n",
       "Renault  Clio      1.000  Sedans            82\n",
       "Opel     Corsa     0.000  Sedans            80\n",
       "                   1.000  Compact           75\n",
       "Audi     A3        3.000  Sedans            73\n",
       "Opel     Corsa     2.000  Compact           71\n",
       "                          Sedans            70\n",
       "         Insignia  2.000  Sedans            58\n",
       "Audi     A1        0.000  Compact           57\n",
       "Opel     Insignia  0.000  Sedans            56\n",
       "Renault  Clio      3.000  Compact           54\n",
       "Audi     A1        0.000  Sedans            51\n",
       "         A3        0.000  Sedans            50\n",
       "Opel     Astra     3.000  Station wagon     47\n",
       "Audi     A1        3.000  Sedans            47\n",
       "Opel     Corsa     1.000  Other             45\n",
       "Audi     A1        2.000  Sedans            44\n",
       "Opel     Insignia  0.000  Station wagon     43\n",
       "                   3.000  Sedans            41\n",
       "         Astra     0.000  Sedans            40\n",
       "         Corsa     1.000  Sedans            38\n",
       "         Astra     1.000  Sedans            36\n",
       "Renault  Espace    2.000  Van               35\n",
       "Opel     Astra     3.000  Sedans            35\n",
       "                   1.000  Other             35\n",
       "Renault  Duster    0.000  Off-Road          33\n",
       "Opel     Astra     1.000  Compact           32\n",
       "Audi     A3        2.000  Sedans            32\n",
       "         A1        1.000  Sedans            31\n",
       "Renault  Clio      2.000  Compact           30\n",
       "Opel     Astra     0.000  Station wagon     30\n",
       "         Insignia  2.000  Station wagon     30\n",
       "         Astra     0.000  Compact           29\n",
       "         Insignia  2.000  Other             29\n",
       "Renault  Espace    1.000  Van               26\n",
       "Opel     Astra     1.000  Station wagon     25\n",
       "Renault  Espace    3.000  Van               24\n",
       "         Clio      1.000  Compact           22\n",
       "Opel     Astra     2.000  Station wagon     21\n",
       "Audi     A1        3.000  Compact           20\n",
       "         A3        1.000  Sedans            20\n",
       "         A1        1.000  Compact           19\n",
       "Renault  Clio      0.000  Other             18\n",
       "Opel     Corsa     2.000  Other             18\n",
       "         Insignia  1.000  Station wagon     15\n",
       "                   3.000  Station wagon     14\n",
       "Audi     A1        2.000  Compact           14\n",
       "Renault  Espace    0.000  Van               13\n",
       "         Clio      1.000  Station wagon     12\n",
       "Opel     Astra     3.000  Compact           12\n",
       "Renault  Clio      3.000  Station wagon     12\n",
       "Audi     A3        3.000  Compact           12\n",
       "Renault  Clio      0.000  Station wagon     12\n",
       "Opel     Astra     2.000  Other             11\n",
       "                          Compact           10\n",
       "         Corsa     0.000  Other             10\n",
       "Audi     A3        2.000  Station wagon     10\n",
       "Renault  Clio      2.000  Station wagon      9\n",
       "Opel     Insignia  1.000  Sedans             8\n",
       "Audi     A3        3.000  Station wagon      8\n",
       "Opel     Astra     3.000  Other              7\n",
       "Audi     A3        0.000  Station wagon      7\n",
       "Renault  Espace    3.000  Transporter        6\n",
       "         Clio      2.000  Other              6\n",
       "Audi     A3        2.000  Compact            6\n",
       "Opel     Insignia  0.000  Other              6\n",
       "         Astra     0.000  Other              5\n",
       "Renault  Clio      3.000  Transporter        4\n",
       "Audi     A3        0.000  Compact            4\n",
       "Renault  Clio      3.000  Other              4\n",
       "Opel     Insignia  0.000  Off-Road           4\n",
       "                          Compact            4\n",
       "                   1.000  Other              4\n",
       "         Corsa     2.000  Off-Road           3\n",
       "Audi     A3        1.000  Compact            3\n",
       "Renault  Espace    3.000  Station wagon      3\n",
       "Opel     Corsa     3.000  Transporter        3\n",
       "         Insignia  3.000  Other              3\n",
       "Audi     A3        3.000  Other              3\n",
       "Opel     Insignia  2.000  Compact            3\n",
       "Renault  Espace    2.000  Transporter        2\n",
       "                   0.000  Compact            2\n",
       "                   2.000  Sedans             2\n",
       "                          Station wagon      2\n",
       "Opel     Corsa     3.000  Van                2\n",
       "                   0.000  Coupe              2\n",
       "                   3.000  Coupe              2\n",
       "Renault  Clio      1.000  Transporter        2\n",
       "                          Other              2\n",
       "                   0.000  Transporter        2\n",
       "Audi     A3        1.000  Station wagon      2\n",
       "Opel     Insignia  3.000  Compact            2\n",
       "         Corsa     3.000  Other              2\n",
       "         Insignia  1.000  Compact            2\n",
       "Renault  Clio      2.000  Van                1\n",
       "Opel     Insignia  2.000  Coupe              1\n",
       "Renault  Espace    3.000  Other              1\n",
       "                          Compact            1\n",
       "Audi     A1        0.000  Station wagon      1\n",
       "Renault  Espace    1.000  Sedans             1\n",
       "                   2.000  Other              1\n",
       "Audi     A1        0.000  Van                1\n",
       "Renault  Clio      2.000  Transporter        1\n",
       "         Espace    1.000  Coupe              1\n",
       "                   0.000  Coupe              1\n",
       "Audi     A1        1.000  Station wagon      1\n",
       "Renault  Clio      1.000  Van                1\n",
       "Opel     Corsa     0.000  Transporter        1\n",
       "dtype: int64"
      ]
     },
     "execution_count": 175,
     "metadata": {},
     "output_type": "execute_result"
    }
   ],
   "source": [
    "df[df[\"extras\"].isnull()][[\"make\", \"model\", \"age\", \"body_type\"]].value_counts()"
   ]
  },
  {
   "cell_type": "code",
   "execution_count": 176,
   "metadata": {
    "ExecuteTime": {
     "end_time": "2022-08-03T14:53:01.908954Z",
     "start_time": "2022-08-03T14:53:01.879407Z"
    }
   },
   "outputs": [
    {
     "data": {
      "text/plain": [
       "make     model   body_type  age    extras                                                            \n",
       "Audi     A1      Compact    0.000  Alloy wheels                                                          65\n",
       "                                   NaN                                                                   57\n",
       "                                   Alloy wheels,Catalytic Converter,Voice Control                        54\n",
       "                                   Alloy wheels,Voice Control                                            51\n",
       "                                   Alloy wheels,Catalytic Converter                                      15\n",
       "                                                                                                         ..\n",
       "Renault  Espace  Van        3.000  Alloy wheels,Sport seats,Trailer hitch,Voice Control                   1\n",
       "                                   Alloy wheels,Sport suspension,Touch screen                             1\n",
       "                                   Alloy wheels,Sport suspension,Touch screen,Voice Control               1\n",
       "                                   Alloy wheels,Touch screen,Trailer hitch,Voice Control,Winter tyres     1\n",
       "                                   Sport seats                                                            1\n",
       "Name: extras, Length: 2845, dtype: int64"
      ]
     },
     "execution_count": 176,
     "metadata": {},
     "output_type": "execute_result"
    }
   ],
   "source": [
    "df.groupby([\"make\", \"model\", \"body_type\", \"age\"])[\"extras\"].value_counts(dropna=False)"
   ]
  },
  {
   "cell_type": "code",
   "execution_count": 177,
   "metadata": {
    "ExecuteTime": {
     "end_time": "2022-08-03T14:53:02.012367Z",
     "start_time": "2022-08-03T14:53:01.912484Z"
    }
   },
   "outputs": [
    {
     "data": {
      "text/plain": [
       "0"
      ]
     },
     "execution_count": 177,
     "metadata": {},
     "output_type": "execute_result"
    }
   ],
   "source": [
    "df.groupby([\"make\", \"model\", \"age\", \"body_type\"])[\"extras\"].fillna(method=\"pad\").fillna(method=\"backfill\").isnull().sum()"
   ]
  },
  {
   "cell_type": "code",
   "execution_count": 178,
   "metadata": {
    "ExecuteTime": {
     "end_time": "2022-08-03T14:53:02.088938Z",
     "start_time": "2022-08-03T14:53:02.018101Z"
    }
   },
   "outputs": [],
   "source": [
    "df[\"extras\"] = df.groupby([\"make\", \"model\", \"age\", \"body_type\"])[\"extras\"].fillna(method=\"pad\").fillna(method=\"backfill\")"
   ]
  },
  {
   "cell_type": "code",
   "execution_count": 179,
   "metadata": {
    "ExecuteTime": {
     "end_time": "2022-08-03T14:53:02.106206Z",
     "start_time": "2022-08-03T14:53:02.093185Z"
    }
   },
   "outputs": [
    {
     "data": {
      "text/plain": [
       "0"
      ]
     },
     "execution_count": 179,
     "metadata": {},
     "output_type": "execute_result"
    }
   ],
   "source": [
    "df[\"extras\"].isnull().sum()"
   ]
  },
  {
   "cell_type": "markdown",
   "metadata": {},
   "source": [
    "## 24.safety&security"
   ]
  },
  {
   "cell_type": "code",
   "execution_count": 180,
   "metadata": {
    "ExecuteTime": {
     "end_time": "2022-08-03T14:53:02.128764Z",
     "start_time": "2022-08-03T14:53:02.108984Z"
    }
   },
   "outputs": [
    {
     "name": "stdout",
     "output_type": "stream",
     "text": [
      "column name :  safety&security\n",
      "--------------------------------\n",
      "Per_of_Nulls   :  % 6.17\n",
      "Num_of_Nulls   :  982\n",
      "NaN                                                                                                                                                                                                                                                                                                                                                               982\n",
      "ABS,Central door lock,Daytime running lights,Driver-side airbag,Electronic stability control,Fog lights,Immobilizer,Isofix,Passenger-side airbag,Power steering,Side airbag,Tire pressure monitoring system,Traction control                                                                                                                                      538\n",
      "ABS,Central door lock,Daytime running lights,Driver-side airbag,Electronic stability control,Immobilizer,Isofix,Passenger-side airbag,Power steering,Side airbag,Tire pressure monitoring system,Traction control                                                                                                                                                 480\n",
      "ABS,Central door lock,Daytime running lights,Driver-side airbag,Electronic stability control,Immobilizer,Isofix,Passenger-side airbag,Power steering,Side airbag,Tire pressure monitoring system,Traction control,Xenon headlights                                                                                                                                275\n",
      "ABS,Central door lock,Daytime running lights,Driver-side airbag,Electronic stability control,Fog lights,Immobilizer,Isofix,LED Daytime Running Lights,Passenger-side airbag,Power steering,Side airbag,Tire pressure monitoring system,Traction control                                                                                                           272\n",
      "                                                                                                                                                                                                                                                                                                                                                                 ... \n",
      "ABS,Central door lock,Electronic stability control,Immobilizer,Isofix,Passenger-side airbag,Power steering,Side airbag                                                                                                                                                                                                                                              1\n",
      "ABS,Adaptive Cruise Control,Central door lock,Daytime running lights,Driver-side airbag,Electronic stability control,Emergency brake assistant,Immobilizer,Isofix,Passenger-side airbag,Power steering,Side airbag,Tire pressure monitoring system,Traction control                                                                                                 1\n",
      "ABS,Adaptive Cruise Control,Alarm system,Central door lock,Driver-side airbag,Electronic stability control,Fog lights,Immobilizer,Isofix,Lane departure warning system,LED Daytime Running Lights,Passenger-side airbag,Power steering,Side airbag,Tire pressure monitoring system,Traction control,Xenon headlights                                                1\n",
      "ABS,Adaptive Cruise Control,Central door lock,Daytime running lights,Driver-side airbag,Electronic stability control,Fog lights,Immobilizer,Isofix,Power steering,Tire pressure monitoring system,Traction control                                                                                                                                                  1\n",
      "ABS,Adaptive Cruise Control,Central door lock,Daytime running lights,Driver-side airbag,Electronic stability control,Emergency brake assistant,Fog lights,Immobilizer,Isofix,Lane departure warning system,LED Daytime Running Lights,LED Headlights,Passenger-side airbag,Power steering,Side airbag,Tire pressure monitoring system,Traffic sign recognition      1\n",
      "Name: safety&security, Length: 4444, dtype: int64\n",
      "******************************\n",
      "\n",
      "\n",
      "\n"
     ]
    }
   ],
   "source": [
    "check_df(\"safety&security\")"
   ]
  },
  {
   "cell_type": "code",
   "execution_count": 181,
   "metadata": {
    "ExecuteTime": {
     "end_time": "2022-08-03T14:53:02.163978Z",
     "start_time": "2022-08-03T14:53:02.132493Z"
    }
   },
   "outputs": [
    {
     "data": {
      "text/plain": [
       "make     model   body_type  age    safety&security                                                                                                                                                                                                                                                                                                                               \n",
       "Audi     A1      Compact    0.000  NaN                                                                                                                                                                                                                                                                                                                                               33\n",
       "                                   ABS,Central door lock,Daytime running lights,Driver-side airbag,Electronic stability control,Emergency brake assistant,Emergency system,Immobilizer,Isofix,Lane departure warning system,Passenger-side airbag,Power steering,Side airbag,Tire pressure monitoring system,Traction control                                                        30\n",
       "                                   ABS,Central door lock,Daytime running lights,Driver-side airbag,Electronic stability control,Emergency brake assistant,Emergency system,Immobilizer,Lane departure warning system,LED Daytime Running Lights,LED Headlights,Passenger-side airbag,Power steering,Side airbag,Tire pressure monitoring system,Traction control,Xenon headlights    24\n",
       "                                   ABS,Central door lock,Daytime running lights,Driver-side airbag,Electronic stability control,Emergency brake assistant,Emergency system,Immobilizer,Passenger-side airbag,Power steering,Side airbag,Tire pressure monitoring system                                                                                                              18\n",
       "                                   ABS,Central door lock,Daytime running lights,Driver-side airbag,Electronic stability control,Emergency brake assistant,Emergency system,Immobilizer,Isofix,Lane departure warning system,LED Headlights,Passenger-side airbag,Power steering,Side airbag,Tire pressure monitoring system,Traction control                                         14\n",
       "                                                                                                                                                                                                                                                                                                                                                                                     ..\n",
       "Renault  Espace  Van        3.000  ABS,Driver-side airbag,Isofix,Passenger-side airbag,Power steering                                                                                                                                                                                                                                                                                 1\n",
       "                                   ABS,LED Headlights,Tire pressure monitoring system,Traction control                                                                                                                                                                                                                                                                                1\n",
       "                                   Alarm system,Central door lock,Daytime running lights,Fog lights,Power steering                                                                                                                                                                                                                                                                    1\n",
       "                                   Central door lock,Driver-side airbag,Fog lights,Passenger-side airbag,Power steering,Tire pressure monitoring system                                                                                                                                                                                                                               1\n",
       "                                   Fog lights                                                                                                                                                                                                                                                                                                                                         1\n",
       "Name: safety&security, Length: 7179, dtype: int64"
      ]
     },
     "execution_count": 181,
     "metadata": {},
     "output_type": "execute_result"
    }
   ],
   "source": [
    "df.groupby([\"make\", \"model\", \"body_type\", \"age\"])[\"safety&security\"].value_counts(dropna=False)"
   ]
  },
  {
   "cell_type": "code",
   "execution_count": 182,
   "metadata": {
    "ExecuteTime": {
     "end_time": "2022-08-03T14:53:02.185805Z",
     "start_time": "2022-08-03T14:53:02.167179Z"
    }
   },
   "outputs": [
    {
     "data": {
      "text/plain": [
       "make     model     age    body_type    \n",
       "Audi     A3        3.000  Sedans           48\n",
       "Opel     Insignia  0.000  Sedans           43\n",
       "         Corsa     1.000  Other            42\n",
       "         Insignia  0.000  Station wagon    38\n",
       "         Astra     1.000  Other            34\n",
       "Audi     A1        0.000  Compact          33\n",
       "Opel     Corsa     3.000  Sedans           32\n",
       "         Astra     1.000  Compact          31\n",
       "                   0.000  Compact          27\n",
       "Renault  Espace    2.000  Van              27\n",
       "Opel     Insignia  2.000  Other            26\n",
       "                          Sedans           25\n",
       "Renault  Clio      3.000  Sedans           25\n",
       "Opel     Corsa     2.000  Compact          23\n",
       "Renault  Clio      2.000  Sedans           22\n",
       "                          Compact          21\n",
       "Opel     Corsa     1.000  Compact          20\n",
       "Audi     A1        2.000  Sedans           19\n",
       "Renault  Espace    1.000  Van              18\n",
       "Opel     Corsa     2.000  Other            17\n",
       "                   3.000  Compact          16\n",
       "Audi     A1        0.000  Sedans           15\n",
       "Opel     Insignia  1.000  Station wagon    15\n",
       "         Astra     2.000  Compact          15\n",
       "Renault  Espace    3.000  Van              15\n",
       "Audi     A3        2.000  Sedans           14\n",
       "Renault  Clio      3.000  Compact          12\n",
       "Opel     Insignia  2.000  Station wagon    12\n",
       "                   3.000  Sedans           12\n",
       "Audi     A3        3.000  Compact          12\n",
       "Opel     Astra     0.000  Station wagon    11\n",
       "                   2.000  Other            11\n",
       "         Corsa     0.000  Compact          11\n",
       "                          Other            10\n",
       "         Astra     3.000  Station wagon     9\n",
       "         Insignia  3.000  Station wagon     9\n",
       "Renault  Espace    0.000  Van               9\n",
       "Opel     Astra     1.000  Station wagon     9\n",
       "Audi     A1        1.000  Sedans            8\n",
       "         A3        1.000  Sedans            8\n",
       "Opel     Insignia  1.000  Sedans            7\n",
       "         Corsa     0.000  Sedans            7\n",
       "Audi     A1        3.000  Sedans            7\n",
       "                   1.000  Compact           7\n",
       "Renault  Clio      3.000  Station wagon     6\n",
       "Audi     A1        3.000  Compact           6\n",
       "Opel     Insignia  0.000  Other             6\n",
       "Audi     A3        2.000  Compact           6\n",
       "Renault  Clio      0.000  Compact           6\n",
       "Opel     Astra     3.000  Compact           6\n",
       "Audi     A3        0.000  Sedans            6\n",
       "Opel     Astra     0.000  Other             5\n",
       "                   3.000  Other             5\n",
       "         Corsa     1.000  Sedans            5\n",
       "         Astra     3.000  Sedans            5\n",
       "Renault  Clio      0.000  Other             4\n",
       "Audi     A3        0.000  Compact           4\n",
       "Opel     Astra     0.000  Sedans            4\n",
       "         Insignia  0.000  Compact           4\n",
       "                   1.000  Other             4\n",
       "                   0.000  Off-Road          4\n",
       "Audi     A1        2.000  Compact           4\n",
       "Opel     Astra     2.000  Sedans            4\n",
       "Audi     A3        1.000  Compact           3\n",
       "Opel     Insignia  3.000  Other             3\n",
       "Audi     A3        2.000  Station wagon     3\n",
       "Renault  Clio      0.000  Sedans            3\n",
       "                          Station wagon     3\n",
       "                   1.000  Compact           3\n",
       "                          Sedans            3\n",
       "                          Station wagon     3\n",
       "         Espace    3.000  Station wagon     3\n",
       "         Clio      3.000  Transporter       2\n",
       "         Espace    0.000  Compact           2\n",
       "         Clio      2.000  Station wagon     2\n",
       "Opel     Insignia  2.000  Compact           2\n",
       "                   1.000  Compact           2\n",
       "         Astra     1.000  Sedans            2\n",
       "         Corsa     3.000  Other             2\n",
       "         Astra     2.000  Station wagon     2\n",
       "Renault  Clio      2.000  Other             1\n",
       "         Espace    2.000  Station wagon     1\n",
       "                   3.000  Transporter       1\n",
       "                          Other             1\n",
       "                          Compact           1\n",
       "Audi     A3        3.000  Station wagon     1\n",
       "Renault  Espace    2.000  Other             1\n",
       "         Clio      2.000  Van               1\n",
       "Audi     A3        3.000  Other             1\n",
       "Opel     Corsa     2.000  Off-Road          1\n",
       "Audi     A3        1.000  Station wagon     1\n",
       "         A1        1.000  Station wagon     1\n",
       "Opel     Corsa     2.000  Sedans            1\n",
       "dtype: int64"
      ]
     },
     "execution_count": 182,
     "metadata": {},
     "output_type": "execute_result"
    }
   ],
   "source": [
    "df[df[\"safety&security\"].isnull()][[\"make\", \"model\", \"age\", \"body_type\"]].value_counts()"
   ]
  },
  {
   "cell_type": "code",
   "execution_count": 183,
   "metadata": {
    "ExecuteTime": {
     "end_time": "2022-08-03T14:53:02.300079Z",
     "start_time": "2022-08-03T14:53:02.189770Z"
    }
   },
   "outputs": [
    {
     "data": {
      "text/plain": [
       "0"
      ]
     },
     "execution_count": 183,
     "metadata": {},
     "output_type": "execute_result"
    }
   ],
   "source": [
    "df.groupby([\"make\", \"model\", \"age\", \"body_type\"])[\"safety&security\"].fillna(method=\"pad\").fillna(method=\"backfill\").isnull().sum()"
   ]
  },
  {
   "cell_type": "code",
   "execution_count": 184,
   "metadata": {
    "ExecuteTime": {
     "end_time": "2022-08-03T14:53:02.381737Z",
     "start_time": "2022-08-03T14:53:02.305790Z"
    }
   },
   "outputs": [],
   "source": [
    "df[\"safety&security\"] = df.groupby([\"make\", \"model\", \"age\", \"body_type\"])[\"safety&security\"].fillna(method=\"pad\").fillna(method=\"backfill\")"
   ]
  },
  {
   "cell_type": "code",
   "execution_count": 185,
   "metadata": {
    "ExecuteTime": {
     "end_time": "2022-08-03T14:53:02.397845Z",
     "start_time": "2022-08-03T14:53:02.385964Z"
    }
   },
   "outputs": [
    {
     "data": {
      "text/plain": [
       "0"
      ]
     },
     "execution_count": 185,
     "metadata": {},
     "output_type": "execute_result"
    }
   ],
   "source": [
    "df[\"safety&security\"].isnull().sum()"
   ]
  },
  {
   "cell_type": "code",
   "execution_count": null,
   "metadata": {},
   "outputs": [],
   "source": []
  },
  {
   "cell_type": "markdown",
   "metadata": {},
   "source": [
    "## 25.gears"
   ]
  },
  {
   "cell_type": "code",
   "execution_count": 186,
   "metadata": {
    "ExecuteTime": {
     "end_time": "2022-08-03T14:53:02.412165Z",
     "start_time": "2022-08-03T14:53:02.401129Z"
    }
   },
   "outputs": [
    {
     "name": "stdout",
     "output_type": "stream",
     "text": [
      "column name :  gears\n",
      "--------------------------------\n",
      "Per_of_Nulls   :  % 29.6\n",
      "Num_of_Nulls   :  4712\n",
      "6.000     5822\n",
      "NaN       4712\n",
      "5.000     3239\n",
      "7.000     1908\n",
      "8.000      224\n",
      "9.000        6\n",
      "1.000        2\n",
      "3.000        2\n",
      "4.000        2\n",
      "2.000        1\n",
      "50.000       1\n",
      "Name: gears, dtype: int64\n",
      "******************************\n",
      "\n",
      "\n",
      "\n"
     ]
    }
   ],
   "source": [
    "check_df(\"gears\")"
   ]
  },
  {
   "cell_type": "code",
   "execution_count": 187,
   "metadata": {
    "ExecuteTime": {
     "end_time": "2022-08-03T14:53:02.471087Z",
     "start_time": "2022-08-03T14:53:02.415963Z"
    }
   },
   "outputs": [
    {
     "data": {
      "text/plain": [
       "make  model  body_type      engine_displacement_cc  gears \n",
       "Audi  A1     Compact        929.000                 NaN         5\n",
       "                            995.000                 NaN         2\n",
       "                            999.000                 NaN       282\n",
       "                                                    5.000     183\n",
       "                                                    7.000     130\n",
       "                                                    6.000      75\n",
       "                                                    8.000       1\n",
       "                            1000.000                5.000       4\n",
       "                                                    NaN         1\n",
       "                                                    6.000       1\n",
       "                                                    7.000       1\n",
       "                            1395.000                NaN        68\n",
       "                                                    7.000      26\n",
       "                                                    6.000       4\n",
       "                            1422.000                NaN        84\n",
       "                                                    5.000      65\n",
       "                                                    7.000      12\n",
       "                            1498.000                7.000       9\n",
       "                                                    NaN         5\n",
       "                            1596.000                5.000       1\n",
       "                            1598.000                5.000      26\n",
       "                                                    NaN        23\n",
       "                                                    7.000      18\n",
       "                                                    6.000       2\n",
       "                            1600.000                5.000       1\n",
       "                            1798.000                7.000       2\n",
       "                            1984.000                7.000       4\n",
       "                                                    NaN         3\n",
       "                                                    6.000       1\n",
       "             Coupe          999.000                 5.000       1\n",
       "                            1598.000                NaN         1\n",
       "             Other          999.000                 NaN         5\n",
       "                                                    7.000       3\n",
       "                                                    5.000       2\n",
       "                            1598.000                5.000       2\n",
       "                                                    7.000       1\n",
       "             Sedans         998.000                 5.000       2\n",
       "                            999.000                 5.000     286\n",
       "                                                    NaN       272\n",
       "                                                    7.000     241\n",
       "                                                    6.000      82\n",
       "                                                    8.000       1\n",
       "                            1000.000                NaN         5\n",
       "                                                    5.000       1\n",
       "                                                    7.000       1\n",
       "                            1197.000                NaN         1\n",
       "                            1395.000                NaN        39\n",
       "                                                    7.000      33\n",
       "                                                    6.000      14\n",
       "                            1422.000                5.000     145\n",
       "                                                    NaN        96\n",
       "                                                    7.000      62\n",
       "                                                    6.000       1\n",
       "                            1498.000                NaN         1\n",
       "                                                    7.000       1\n",
       "                            1596.000                7.000       1\n",
       "                            1598.000                7.000      98\n",
       "                                                    5.000      89\n",
       "                                                    NaN        45\n",
       "                                                    6.000       1\n",
       "                            1600.000                NaN         1\n",
       "                            1798.000                7.000      10\n",
       "                                                    NaN         4\n",
       "                            1984.000                6.000       3\n",
       "                                                    NaN         2\n",
       "             Station wagon  999.000                 5.000       4\n",
       "                                                    NaN         2\n",
       "                                                    7.000       2\n",
       "                            1395.000                NaN         3\n",
       "                                                    6.000       1\n",
       "                            1422.000                5.000       5\n",
       "                                                    NaN         1\n",
       "                                                    7.000       1\n",
       "                            1598.000                NaN         1\n",
       "                                                    5.000       1\n",
       "             Van            1984.000                6.000       1\n",
       "      A2     Off-Road       1598.000                NaN         1\n",
       "      A3     Compact        999.000                 7.000       8\n",
       "                                                    6.000       7\n",
       "                                                    NaN         1\n",
       "                            1197.000                NaN         1\n",
       "                            1395.000                6.000      38\n",
       "                                                    7.000       8\n",
       "                                                    NaN         2\n",
       "                            1400.000                6.000       1\n",
       "                            1495.000                6.000       1\n",
       "                                                    7.000       1\n",
       "                            1498.000                6.000       1\n",
       "                            1499.000                7.000       2\n",
       "                            1598.000                7.000      47\n",
       "                                                    6.000      38\n",
       "                                                    NaN        13\n",
       "                                                    5.000       1\n",
       "                            1600.000                6.000       1\n",
       "                            1968.000                6.000       5\n",
       "                                                    7.000       3\n",
       "                                                    NaN         2\n",
       "                            2480.000                7.000       1\n",
       "             Convertible    1395.000                7.000       1\n",
       "                            1498.000                7.000       1\n",
       "Name: gears, dtype: int64"
      ]
     },
     "execution_count": 187,
     "metadata": {},
     "output_type": "execute_result"
    }
   ],
   "source": [
    "df.groupby([\"make\", \"model\", \"body_type\", \"engine_displacement_cc\"])[\"gears\"].value_counts(dropna=False).head(100)"
   ]
  },
  {
   "cell_type": "code",
   "execution_count": 188,
   "metadata": {
    "ExecuteTime": {
     "end_time": "2022-08-03T14:53:02.484196Z",
     "start_time": "2022-08-03T14:53:02.474963Z"
    }
   },
   "outputs": [
    {
     "data": {
      "text/plain": [
       "0   6.000\n",
       "dtype: float64"
      ]
     },
     "execution_count": 188,
     "metadata": {},
     "output_type": "execute_result"
    }
   ],
   "source": [
    "df.gears.mode()"
   ]
  },
  {
   "cell_type": "code",
   "execution_count": 189,
   "metadata": {
    "ExecuteTime": {
     "end_time": "2022-08-03T14:53:02.521711Z",
     "start_time": "2022-08-03T14:53:02.487452Z"
    }
   },
   "outputs": [],
   "source": [
    "df.gears = df.groupby([\"make\", \"model\", \"body_type\"])[\"gears\"].fillna(method=\"ffill\").fillna(method = \"bfill\")"
   ]
  },
  {
   "cell_type": "code",
   "execution_count": 190,
   "metadata": {
    "ExecuteTime": {
     "end_time": "2022-08-03T14:53:02.538574Z",
     "start_time": "2022-08-03T14:53:02.524968Z"
    }
   },
   "outputs": [
    {
     "data": {
      "text/plain": [
       "0"
      ]
     },
     "execution_count": 190,
     "metadata": {},
     "output_type": "execute_result"
    }
   ],
   "source": [
    "df.gears.isnull().sum()"
   ]
  },
  {
   "cell_type": "code",
   "execution_count": null,
   "metadata": {},
   "outputs": [],
   "source": []
  },
  {
   "cell_type": "markdown",
   "metadata": {},
   "source": [
    "## 26.country_version"
   ]
  },
  {
   "cell_type": "code",
   "execution_count": 191,
   "metadata": {
    "ExecuteTime": {
     "end_time": "2022-08-03T14:53:02.557087Z",
     "start_time": "2022-08-03T14:53:02.542685Z"
    }
   },
   "outputs": [
    {
     "name": "stdout",
     "output_type": "stream",
     "text": [
      "column name :  country_version\n",
      "--------------------------------\n",
      "Per_of_Nulls   :  % 52.35\n",
      "Num_of_Nulls   :  8333\n",
      "NaN               8333\n",
      "Germany           4502\n",
      "Italy             1038\n",
      "European Union     507\n",
      "Netherlands        464\n",
      "Spain              325\n",
      "Belgium            314\n",
      "Austria            208\n",
      "Czech Republic      52\n",
      "Poland              49\n",
      "France              38\n",
      "Denmark             33\n",
      "Hungary             28\n",
      "Japan                8\n",
      "Slovakia             4\n",
      "Croatia              4\n",
      "Sweden               3\n",
      "Romania              2\n",
      "Bulgaria             2\n",
      "Luxembourg           1\n",
      "Switzerland          1\n",
      "Slovenia             1\n",
      "Egypt                1\n",
      "Serbia               1\n",
      "Name: country_version, dtype: int64\n",
      "******************************\n",
      "\n",
      "\n",
      "\n"
     ]
    }
   ],
   "source": [
    "check_df(\"country_version\")"
   ]
  },
  {
   "cell_type": "code",
   "execution_count": 192,
   "metadata": {
    "ExecuteTime": {
     "end_time": "2022-08-03T14:53:02.585330Z",
     "start_time": "2022-08-03T14:53:02.562172Z"
    }
   },
   "outputs": [
    {
     "data": {
      "text/plain": [
       "make  model  body_type      country_version\n",
       "Audi  A1     Compact        Germany             448\n",
       "                            NaN                 426\n",
       "                            Netherlands          68\n",
       "                            European Union       58\n",
       "                            Denmark              15\n",
       "                            Italy                 8\n",
       "                            Austria               5\n",
       "                            Belgium               5\n",
       "                            France                2\n",
       "                            Poland                2\n",
       "                            Romania               1\n",
       "                            Spain                 1\n",
       "             Coupe          NaN                   2\n",
       "             Other          NaN                   7\n",
       "                            Italy                 5\n",
       "                            Germany               1\n",
       "             Sedans         NaN                 948\n",
       "                            Germany             314\n",
       "                            Italy               143\n",
       "                            Spain                61\n",
       "                            Belgium              43\n",
       "                            Austria              14\n",
       "                            European Union        9\n",
       "                            France                3\n",
       "                            Luxembourg            1\n",
       "                            Slovakia              1\n",
       "                            Switzerland           1\n",
       "             Station wagon  NaN                  16\n",
       "                            Germany               4\n",
       "                            Spain                 1\n",
       "             Van            NaN                   1\n",
       "      A2     Off-Road       Germany               1\n",
       "      A3     Compact        NaN                 131\n",
       "                            Netherlands          33\n",
       "                            Belgium              12\n",
       "                            Germany               3\n",
       "                            Austria               2\n",
       "                            Italy                 1\n",
       "             Convertible    NaN                   4\n",
       "                            Italy                 2\n",
       "                            Netherlands           2\n",
       "             Coupe          NaN                   2\n",
       "                            Belgium               1\n",
       "                            Italy                 1\n",
       "             Other          NaN                  14\n",
       "                            Italy                 2\n",
       "             Sedans         NaN                1624\n",
       "                            Italy               334\n",
       "                            Germany             306\n",
       "                            European Union      173\n",
       "                            Belgium              63\n",
       "                            Spain                58\n",
       "                            Poland               16\n",
       "                            Austria              15\n",
       "                            Czech Republic        6\n",
       "                            France                3\n",
       "                            Netherlands           3\n",
       "                            Hungary               2\n",
       "                            Slovenia              1\n",
       "                            Sweden                1\n",
       "             Station wagon  NaN                 105\n",
       "                            Germany              70\n",
       "                            European Union       46\n",
       "                            Denmark              15\n",
       "                            Italy                13\n",
       "                            Czech Republic       12\n",
       "                            Belgium              10\n",
       "                            Hungary               4\n",
       "                            France                3\n",
       "                            Spain                 2\n",
       "                            Austria               1\n",
       "                            Sweden                1\n",
       "Opel  Astra  Compact        NaN                 130\n",
       "                            Netherlands          35\n",
       "                            Germany              20\n",
       "             Coupe          Germany               2\n",
       "             Off-Road       NaN                   1\n",
       "             Other          NaN                  58\n",
       "                            Italy                 3\n",
       "                            Germany               2\n",
       "                            Poland                2\n",
       "                            Austria               1\n",
       "                            European Union        1\n",
       "             Sedans         NaN                 511\n",
       "                            Germany             384\n",
       "                            Spain                41\n",
       "                            Italy                26\n",
       "                            Belgium              22\n",
       "                            European Union       20\n",
       "                            Czech Republic       17\n",
       "                            Netherlands          12\n",
       "                            Austria               7\n",
       "                            Poland                6\n",
       "                            Croatia               2\n",
       "                            Hungary               2\n",
       "                            Egypt                 1\n",
       "                            France                1\n",
       "                            Romania               1\n",
       "             Station wagon  NaN                 597\n",
       "                            Germany             432\n",
       "Name: country_version, dtype: int64"
      ]
     },
     "execution_count": 192,
     "metadata": {},
     "output_type": "execute_result"
    }
   ],
   "source": [
    "df.groupby([\"make\", \"model\", \"body_type\"])[\"country_version\"].value_counts(dropna=False).head(100)"
   ]
  },
  {
   "cell_type": "code",
   "execution_count": 193,
   "metadata": {
    "ExecuteTime": {
     "end_time": "2022-08-03T14:53:02.603942Z",
     "start_time": "2022-08-03T14:53:02.588540Z"
    }
   },
   "outputs": [
    {
     "data": {
      "text/plain": [
       "Unknown           8333\n",
       "Germany           4502\n",
       "Italy             1038\n",
       "European Union     507\n",
       "Netherlands        464\n",
       "Spain              325\n",
       "Belgium            314\n",
       "Austria            208\n",
       "Czech Republic      52\n",
       "Poland              49\n",
       "France              38\n",
       "Denmark             33\n",
       "Hungary             28\n",
       "Japan                8\n",
       "Slovakia             4\n",
       "Croatia              4\n",
       "Sweden               3\n",
       "Romania              2\n",
       "Bulgaria             2\n",
       "Luxembourg           1\n",
       "Switzerland          1\n",
       "Slovenia             1\n",
       "Egypt                1\n",
       "Serbia               1\n",
       "Name: country_version, dtype: int64"
      ]
     },
     "execution_count": 193,
     "metadata": {},
     "output_type": "execute_result"
    }
   ],
   "source": [
    "df.country_version.fillna(value=\"Unknown\").value_counts(dropna=False)"
   ]
  },
  {
   "cell_type": "code",
   "execution_count": null,
   "metadata": {},
   "outputs": [],
   "source": []
  },
  {
   "cell_type": "code",
   "execution_count": 194,
   "metadata": {
    "ExecuteTime": {
     "end_time": "2022-08-03T14:53:02.615809Z",
     "start_time": "2022-08-03T14:53:02.606529Z"
    }
   },
   "outputs": [],
   "source": [
    "df.country_version = df.country_version.fillna(value=\"Unknown\")"
   ]
  },
  {
   "cell_type": "code",
   "execution_count": 195,
   "metadata": {
    "ExecuteTime": {
     "end_time": "2022-08-03T14:53:02.629285Z",
     "start_time": "2022-08-03T14:53:02.620240Z"
    }
   },
   "outputs": [
    {
     "data": {
      "text/plain": [
       "0"
      ]
     },
     "execution_count": 195,
     "metadata": {},
     "output_type": "execute_result"
    }
   ],
   "source": [
    "df.country_version.isnull().sum()"
   ]
  },
  {
   "cell_type": "code",
   "execution_count": null,
   "metadata": {},
   "outputs": [],
   "source": []
  },
  {
   "cell_type": "markdown",
   "metadata": {},
   "source": [
    "## 27.consumption_comb"
   ]
  },
  {
   "cell_type": "code",
   "execution_count": 196,
   "metadata": {
    "ExecuteTime": {
     "end_time": "2022-08-03T14:53:02.645604Z",
     "start_time": "2022-08-03T14:53:02.634297Z"
    }
   },
   "outputs": [
    {
     "name": "stdout",
     "output_type": "stream",
     "text": [
      "column name :  consumption_comb\n",
      "--------------------------------\n",
      "Per_of_Nulls   :  % 23.81\n",
      "Num_of_Nulls   :  3790\n",
      "NaN       3790\n",
      "5.400      769\n",
      "3.900      733\n",
      "5.100      654\n",
      "4.400      623\n",
      "5.600      618\n",
      "4.700      602\n",
      "3.800      585\n",
      "4.800      546\n",
      "4.500      523\n",
      "5.200      454\n",
      "4.200      435\n",
      "4.600      426\n",
      "4.900      393\n",
      "5.500      380\n",
      "5.300      379\n",
      "5.900      369\n",
      "3.700      369\n",
      "5.700      342\n",
      "4.100      342\n",
      "4.300      307\n",
      "3.300      298\n",
      "3.500      285\n",
      "6.200      216\n",
      "3.600      193\n",
      "6.300      181\n",
      "6.100      175\n",
      "5.800      164\n",
      "6.600      148\n",
      "6.800      136\n",
      "3.400       94\n",
      "6.400       75\n",
      "7.400       66\n",
      "6.500       43\n",
      "6.700       43\n",
      "7.100       38\n",
      "6.900       27\n",
      "3.200       25\n",
      "8.300       19\n",
      "7.600       14\n",
      "3.100        7\n",
      "7.800        6\n",
      "7.200        6\n",
      "8.600        4\n",
      "1.600        3\n",
      "8.700        3\n",
      "7.900        3\n",
      "7.300        2\n",
      "8.100        2\n",
      "7.500        1\n",
      "9.100        1\n",
      "1.200        1\n",
      "13.800       1\n",
      "Name: consumption_comb, dtype: int64\n",
      "******************************\n",
      "\n",
      "\n",
      "\n"
     ]
    }
   ],
   "source": [
    "check_df(\"consumption_comb\")"
   ]
  },
  {
   "cell_type": "code",
   "execution_count": 197,
   "metadata": {
    "ExecuteTime": {
     "end_time": "2022-08-03T14:53:02.698748Z",
     "start_time": "2022-08-03T14:53:02.648492Z"
    }
   },
   "outputs": [
    {
     "data": {
      "text/plain": [
       "make     model   cylinders  weight_kg  body_type  \n",
       "Audi     A1      3.000      102.000    Compact       4.600\n",
       "                            1010.000   Compact       4.200\n",
       "                                       Coupe         4.200\n",
       "                            1035.000   Compact       4.200\n",
       "                                       Sedans        4.200\n",
       "                                                      ... \n",
       "Renault  Espace  4.000      2410.000   Transporter   6.200\n",
       "                                       Van           6.200\n",
       "                            2471.000   Van           4.700\n",
       "                 8.000      1685.000   Van             NaN\n",
       "                            1734.000   Other           NaN\n",
       "Name: consumption_comb, Length: 997, dtype: float64"
      ]
     },
     "execution_count": 197,
     "metadata": {},
     "output_type": "execute_result"
    }
   ],
   "source": [
    "df.groupby(['make','model','cylinders','weight_kg', 'body_type'])['consumption_comb'].mean()"
   ]
  },
  {
   "cell_type": "code",
   "execution_count": 198,
   "metadata": {
    "ExecuteTime": {
     "end_time": "2022-08-03T14:53:02.719781Z",
     "start_time": "2022-08-03T14:53:02.702093Z"
    }
   },
   "outputs": [
    {
     "data": {
      "text/plain": [
       "consumption_city  consumption_country\n",
       "6.300             4.200                  210\n",
       "4.500             3.700                  201\n",
       "4.700             3.600                  118\n",
       "7.800             4.900                  115\n",
       "4.200             3.900                   69\n",
       "4.600             3.600                   51\n",
       "3.400             3.800                   37\n",
       "6.500             4.100                   37\n",
       "5.900             4.500                   35\n",
       "4.400             3.700                   32\n",
       "7.300             5.200                   29\n",
       "4.200             3.800                   22\n",
       "7.700             4.900                   21\n",
       "6.300             4.300                   19\n",
       "4.800             3.500                   19\n",
       "4.600             5.700                   19\n",
       "3.300             3.500                   19\n",
       "3.500             3.800                   19\n",
       "5.500             3.900                   18\n",
       "5.800             4.500                   18\n",
       "4.300             3.500                   17\n",
       "4.500             3.500                   15\n",
       "                  3.600                   14\n",
       "7.500             5.200                   12\n",
       "4.900             3.500                   12\n",
       "6.200             4.300                   10\n",
       "7.800             4.800                   10\n",
       "4.300             3.900                    8\n",
       "7.900             4.900                    8\n",
       "6.400             4.200                    7\n",
       "8.200             4.700                    7\n",
       "7.700             5.100                    6\n",
       "6.100             4.400                    6\n",
       "                  4.300                    6\n",
       "4.300             3.800                    5\n",
       "8.200             4.800                    4\n",
       "4.300             3.600                    4\n",
       "7.600             5.100                    4\n",
       "9.500             5.500                    3\n",
       "4.500             3.400                    3\n",
       "6.200             4.200                    2\n",
       "4.400             3.600                    2\n",
       "4.600             3.700                    2\n",
       "7.200             4.700                    2\n",
       "6.600             4.400                    2\n",
       "6.700             4.200                    2\n",
       "9.600             5.500                    2\n",
       "7.400             5.100                    2\n",
       "4.400             3.400                    1\n",
       "3.800             4.400                    1\n",
       "3.600             4.700                    1\n",
       "7.300             4.500                    1\n",
       "7.100             4.500                    1\n",
       "6.800             4.500                    1\n",
       "                  4.300                    1\n",
       "6.600             4.200                    1\n",
       "6.500             4.400                    1\n",
       "                  4.200                    1\n",
       "5.100             3.300                    1\n",
       "6.400             4.300                    1\n",
       "5.100             3.800                    1\n",
       "5.200             3.900                    1\n",
       "9.800             5.900                    1\n",
       "dtype: int64"
      ]
     },
     "execution_count": 198,
     "metadata": {},
     "output_type": "execute_result"
    }
   ],
   "source": [
    "df[df.consumption_comb.isnull()][[\"consumption_city\", \"consumption_country\"]].value_counts()"
   ]
  },
  {
   "cell_type": "code",
   "execution_count": 199,
   "metadata": {
    "ExecuteTime": {
     "end_time": "2022-08-03T14:53:02.751700Z",
     "start_time": "2022-08-03T14:53:02.723040Z"
    }
   },
   "outputs": [
    {
     "data": {
      "text/plain": [
       "make  model  cylinders  weight_kg  body_type      consumption_comb\n",
       "Audi  A1     3.000      102.000    Compact        4.600                1\n",
       "                        1010.000   Compact        4.200                2\n",
       "                                   Coupe          NaN                  1\n",
       "                                                  4.200                1\n",
       "                        1035.000   Compact        4.200                6\n",
       "                                   Sedans         4.200                5\n",
       "                        1040.000   Compact        4.200                1\n",
       "                                                  4.400                1\n",
       "                        1060.000   Sedans         4.200                2\n",
       "                        1065.000   Compact        4.400               25\n",
       "                                                  4.500                7\n",
       "                                                  NaN                  3\n",
       "                                                  4.600                1\n",
       "                                   Sedans         4.400                1\n",
       "                        1088.000   Sedans         4.200                1\n",
       "                        1090.000   Compact        4.400                7\n",
       "                                                  4.200                2\n",
       "                                   Sedans         NaN                  2\n",
       "                                                  4.400                2\n",
       "                        1094.000   Sedans         4.200                1\n",
       "                        1097.000   Sedans         4.200                4\n",
       "                        1100.000   Compact        4.400                2\n",
       "                        1105.000   Compact        3.700               10\n",
       "                                                  3.400                2\n",
       "                                   Sedans         4.300                1\n",
       "                        1110.000   Compact        4.200               10\n",
       "                                                  4.400                6\n",
       "                                                  NaN                  5\n",
       "                                   Sedans         4.200               35\n",
       "                                                  4.400                4\n",
       "                                                  5.100                3\n",
       "                                                  4.300                2\n",
       "                                                  3.900                1\n",
       "                                                  4.600                1\n",
       "                                                  4.800                1\n",
       "                        1114.000   Sedans         4.300                1\n",
       "                        1115.000   Sedans         5.100                1\n",
       "                        1118.000   Sedans         5.100                2\n",
       "                        1120.000   Sedans         3.400                4\n",
       "                                                  3.600                1\n",
       "                                                  3.700                1\n",
       "                        1125.000   Sedans         4.200                1\n",
       "                                   Station wagon  5.800                1\n",
       "                        1130.000   Sedans         3.400                3\n",
       "                                                  3.700                1\n",
       "                        1133.000   Compact        4.600                3\n",
       "                                   Sedans         4.800                4\n",
       "                                                  NaN                  2\n",
       "                        1134.000   Compact        4.200                6\n",
       "                                   Sedans         4.200                1\n",
       "                                                  4.300                1\n",
       "                                                  4.400                1\n",
       "                                                  4.600                1\n",
       "                        1135.000   Compact        4.400               29\n",
       "                                                  4.300               10\n",
       "                                                  4.200                7\n",
       "                                                  NaN                  4\n",
       "                                                  4.500                1\n",
       "                                                  5.100                1\n",
       "                                   Sedans         4.200               59\n",
       "Name: consumption_comb, dtype: int64"
      ]
     },
     "execution_count": 199,
     "metadata": {},
     "output_type": "execute_result"
    }
   ],
   "source": [
    "df.groupby(['make','model','cylinders','weight_kg', 'body_type'])['consumption_comb'].value_counts(dropna=False).head(60)"
   ]
  },
  {
   "cell_type": "code",
   "execution_count": 200,
   "metadata": {
    "ExecuteTime": {
     "end_time": "2022-08-03T14:53:02.770083Z",
     "start_time": "2022-08-03T14:53:02.754760Z"
    },
    "scrolled": true
   },
   "outputs": [
    {
     "data": {
      "text/plain": [
       "Sedans           7925\n",
       "Station wagon    3563\n",
       "Compact          3155\n",
       "Van               809\n",
       "Other             290\n",
       "Transporter        88\n",
       "Off-Road           56\n",
       "Coupe              25\n",
       "Convertible         8\n",
       "Name: body_type, dtype: int64"
      ]
     },
     "execution_count": 200,
     "metadata": {},
     "output_type": "execute_result"
    }
   ],
   "source": [
    "df.body_type.value_counts()"
   ]
  },
  {
   "cell_type": "code",
   "execution_count": 201,
   "metadata": {
    "ExecuteTime": {
     "end_time": "2022-08-03T14:53:02.785029Z",
     "start_time": "2022-08-03T14:53:02.772485Z"
    }
   },
   "outputs": [
    {
     "data": {
      "text/plain": [
       "Index(['body_type', 'price_€', 'vat', 'km', 'hp_kW', 'type', 'previous_owners',\n",
       "       'warranty', 'make', 'model', 'body_color', 'paint_type', 'upholstery',\n",
       "       'nr_of_doors', 'nr_of_seats', 'gearing_type', 'engine_displacement_cc',\n",
       "       'cylinders', 'weight_kg', 'drive_chain', 'fuel', 'co2e_g',\n",
       "       'emission_class', 'comfort&convenience', 'entertainment&media',\n",
       "       'extras', 'safety&security', 'gears', 'country_version',\n",
       "       'consumption_comb', 'consumption_city', 'consumption_country', 'age'],\n",
       "      dtype='object')"
      ]
     },
     "execution_count": 201,
     "metadata": {},
     "output_type": "execute_result"
    }
   ],
   "source": [
    "df.columns"
   ]
  },
  {
   "cell_type": "code",
   "execution_count": 202,
   "metadata": {
    "ExecuteTime": {
     "end_time": "2022-08-03T14:53:02.815600Z",
     "start_time": "2022-08-03T14:53:02.788118Z"
    }
   },
   "outputs": [
    {
     "data": {
      "text/plain": [
       "body_type                    0\n",
       "price_€                      0\n",
       "vat                          0\n",
       "km                           0\n",
       "hp_kW                        0\n",
       "type                         0\n",
       "previous_owners              0\n",
       "warranty                     0\n",
       "make                         0\n",
       "model                        0\n",
       "body_color                   0\n",
       "paint_type                   0\n",
       "upholstery                   0\n",
       "nr_of_doors                  0\n",
       "nr_of_seats                  0\n",
       "gearing_type                 0\n",
       "engine_displacement_cc       0\n",
       "cylinders                    0\n",
       "weight_kg                    0\n",
       "drive_chain                  0\n",
       "fuel                         0\n",
       "co2e_g                       0\n",
       "emission_class               0\n",
       "comfort&convenience          0\n",
       "entertainment&media          0\n",
       "extras                       0\n",
       "safety&security              0\n",
       "gears                        0\n",
       "country_version              0\n",
       "consumption_comb          3790\n",
       "consumption_city          4039\n",
       "consumption_country       3365\n",
       "age                          0\n",
       "dtype: int64"
      ]
     },
     "execution_count": 202,
     "metadata": {},
     "output_type": "execute_result"
    }
   ],
   "source": [
    "df.isnull().sum()"
   ]
  },
  {
   "cell_type": "code",
   "execution_count": 203,
   "metadata": {
    "ExecuteTime": {
     "end_time": "2022-08-03T14:53:02.868675Z",
     "start_time": "2022-08-03T14:53:02.855076Z"
    }
   },
   "outputs": [
    {
     "data": {
      "text/plain": [
       "2942"
      ]
     },
     "execution_count": 203,
     "metadata": {},
     "output_type": "execute_result"
    }
   ],
   "source": [
    "df[\"consumption_city\"].fillna((df[\"consumption_comb\"] - df[\"consumption_country\"]*0.62)/0.38).isnull().sum()"
   ]
  },
  {
   "cell_type": "code",
   "execution_count": 204,
   "metadata": {
    "ExecuteTime": {
     "end_time": "2022-08-03T14:53:02.884639Z",
     "start_time": "2022-08-03T14:53:02.874409Z"
    },
    "scrolled": true
   },
   "outputs": [],
   "source": [
    "df[\"consumption_city\"] = df[\"consumption_city\"].fillna(abs(df[\"consumption_comb\"] - df[\"consumption_country\"]*0.62)/0.38)"
   ]
  },
  {
   "cell_type": "code",
   "execution_count": 205,
   "metadata": {
    "ExecuteTime": {
     "end_time": "2022-08-03T14:53:02.901622Z",
     "start_time": "2022-08-03T14:53:02.891310Z"
    }
   },
   "outputs": [
    {
     "data": {
      "text/plain": [
       "2942"
      ]
     },
     "execution_count": 205,
     "metadata": {},
     "output_type": "execute_result"
    }
   ],
   "source": [
    "df[\"consumption_city\"].isnull().sum()"
   ]
  },
  {
   "cell_type": "code",
   "execution_count": 206,
   "metadata": {
    "ExecuteTime": {
     "end_time": "2022-08-03T14:53:02.916402Z",
     "start_time": "2022-08-03T14:53:02.904576Z"
    },
    "scrolled": false
   },
   "outputs": [
    {
     "data": {
      "text/plain": [
       "2876"
      ]
     },
     "execution_count": 206,
     "metadata": {},
     "output_type": "execute_result"
    }
   ],
   "source": [
    "df[\"consumption_country\"].fillna((df[\"consumption_comb\"] - df[\"consumption_city\"]*0.38)/0.62).isnull().sum()"
   ]
  },
  {
   "cell_type": "code",
   "execution_count": 207,
   "metadata": {
    "ExecuteTime": {
     "end_time": "2022-08-03T14:53:02.961683Z",
     "start_time": "2022-08-03T14:53:02.919761Z"
    }
   },
   "outputs": [],
   "source": [
    "df[\"consumption_country\"] = df[\"consumption_country\"].fillna(abs((df[\"consumption_comb\"] - df[\"consumption_city\"]*0.38)/0.62))"
   ]
  },
  {
   "cell_type": "code",
   "execution_count": 208,
   "metadata": {
    "ExecuteTime": {
     "end_time": "2022-08-03T14:53:02.974517Z",
     "start_time": "2022-08-03T14:53:02.964725Z"
    }
   },
   "outputs": [
    {
     "data": {
      "text/plain": [
       "2876"
      ]
     },
     "execution_count": 208,
     "metadata": {},
     "output_type": "execute_result"
    }
   ],
   "source": [
    "df[\"consumption_country\"].isnull().sum()"
   ]
  },
  {
   "cell_type": "code",
   "execution_count": 209,
   "metadata": {
    "ExecuteTime": {
     "end_time": "2022-08-03T14:53:02.990978Z",
     "start_time": "2022-08-03T14:53:02.978275Z"
    }
   },
   "outputs": [
    {
     "data": {
      "text/plain": [
       "2490"
      ]
     },
     "execution_count": 209,
     "metadata": {},
     "output_type": "execute_result"
    }
   ],
   "source": [
    "df[\"consumption_comb\"].fillna(abs(df[\"consumption_country\"]*0.62 + df[\"consumption_city\"]*0.38)).isnull().sum()"
   ]
  },
  {
   "cell_type": "code",
   "execution_count": 210,
   "metadata": {
    "ExecuteTime": {
     "end_time": "2022-08-03T14:53:03.004788Z",
     "start_time": "2022-08-03T14:53:02.994501Z"
    }
   },
   "outputs": [],
   "source": [
    "df[\"consumption_comb\"] = df[\"consumption_comb\"].fillna(abs(df[\"consumption_country\"]*0.62 + df[\"consumption_city\"]*0.38))"
   ]
  },
  {
   "cell_type": "code",
   "execution_count": 211,
   "metadata": {
    "ExecuteTime": {
     "end_time": "2022-08-03T14:53:03.019702Z",
     "start_time": "2022-08-03T14:53:03.007843Z"
    }
   },
   "outputs": [
    {
     "data": {
      "text/plain": [
       "2490"
      ]
     },
     "execution_count": 211,
     "metadata": {},
     "output_type": "execute_result"
    }
   ],
   "source": [
    "df[\"consumption_comb\"].isnull().sum()"
   ]
  },
  {
   "cell_type": "markdown",
   "metadata": {},
   "source": [
    "### consumption_city"
   ]
  },
  {
   "cell_type": "code",
   "execution_count": 212,
   "metadata": {
    "ExecuteTime": {
     "end_time": "2022-08-03T14:53:03.351184Z",
     "start_time": "2022-08-03T14:53:03.021440Z"
    }
   },
   "outputs": [],
   "source": [
    "df.consumption_city = df.groupby([\"make\", \"model\", \"body_type\" ,\"weight_kg\", \"cylinders\", \"fuel\"])[\"consumption_city\"].fillna(method=\"ffill\").fillna(method=\"bfill\")"
   ]
  },
  {
   "cell_type": "markdown",
   "metadata": {},
   "source": [
    "### consumption_country"
   ]
  },
  {
   "cell_type": "code",
   "execution_count": 213,
   "metadata": {
    "ExecuteTime": {
     "end_time": "2022-08-03T14:53:03.609866Z",
     "start_time": "2022-08-03T14:53:03.354544Z"
    }
   },
   "outputs": [],
   "source": [
    "df.consumption_country = df.groupby([\"make\", \"model\", \"body_type\" ,\"weight_kg\", \"cylinders\", \"fuel\"])[\"consumption_country\"].fillna(method=\"ffill\").fillna(method=\"bfill\")"
   ]
  },
  {
   "cell_type": "markdown",
   "metadata": {},
   "source": [
    "### consumption_comb"
   ]
  },
  {
   "cell_type": "code",
   "execution_count": 214,
   "metadata": {
    "ExecuteTime": {
     "end_time": "2022-08-03T14:53:03.624158Z",
     "start_time": "2022-08-03T14:53:03.614793Z"
    }
   },
   "outputs": [],
   "source": [
    "df[\"consumption_comb\"] = df[\"consumption_comb\"].fillna(abs(df[\"consumption_country\"]*0.62 + df[\"consumption_city\"]*0.38))"
   ]
  },
  {
   "cell_type": "code",
   "execution_count": null,
   "metadata": {},
   "outputs": [],
   "source": []
  },
  {
   "cell_type": "code",
   "execution_count": null,
   "metadata": {},
   "outputs": [],
   "source": []
  },
  {
   "cell_type": "code",
   "execution_count": 215,
   "metadata": {
    "ExecuteTime": {
     "end_time": "2022-08-03T14:53:03.655505Z",
     "start_time": "2022-08-03T14:53:03.629109Z"
    }
   },
   "outputs": [
    {
     "data": {
      "text/plain": [
       "body_type                 0\n",
       "price_€                   0\n",
       "vat                       0\n",
       "km                        0\n",
       "hp_kW                     0\n",
       "type                      0\n",
       "previous_owners           0\n",
       "warranty                  0\n",
       "make                      0\n",
       "model                     0\n",
       "body_color                0\n",
       "paint_type                0\n",
       "upholstery                0\n",
       "nr_of_doors               0\n",
       "nr_of_seats               0\n",
       "gearing_type              0\n",
       "engine_displacement_cc    0\n",
       "cylinders                 0\n",
       "weight_kg                 0\n",
       "drive_chain               0\n",
       "fuel                      0\n",
       "co2e_g                    0\n",
       "emission_class            0\n",
       "comfort&convenience       0\n",
       "entertainment&media       0\n",
       "extras                    0\n",
       "safety&security           0\n",
       "gears                     0\n",
       "country_version           0\n",
       "consumption_comb          0\n",
       "consumption_city          0\n",
       "consumption_country       0\n",
       "age                       0\n",
       "dtype: int64"
      ]
     },
     "execution_count": 215,
     "metadata": {},
     "output_type": "execute_result"
    }
   ],
   "source": [
    "df.isnull().sum()"
   ]
  },
  {
   "cell_type": "code",
   "execution_count": null,
   "metadata": {},
   "outputs": [],
   "source": []
  },
  {
   "cell_type": "code",
   "execution_count": 216,
   "metadata": {
    "ExecuteTime": {
     "end_time": "2022-08-03T14:53:03.690434Z",
     "start_time": "2022-08-03T14:53:03.659708Z"
    }
   },
   "outputs": [
    {
     "name": "stdout",
     "output_type": "stream",
     "text": [
      "<class 'pandas.core.frame.DataFrame'>\n",
      "RangeIndex: 15919 entries, 0 to 15918\n",
      "Data columns (total 33 columns):\n",
      " #   Column                  Non-Null Count  Dtype  \n",
      "---  ------                  --------------  -----  \n",
      " 0   body_type               15919 non-null  object \n",
      " 1   price_€                 15919 non-null  float64\n",
      " 2   vat                     15919 non-null  object \n",
      " 3   km                      15919 non-null  float64\n",
      " 4   hp_kW                   15919 non-null  float64\n",
      " 5   type                    15919 non-null  object \n",
      " 6   previous_owners         15919 non-null  float64\n",
      " 7   warranty                15919 non-null  float64\n",
      " 8   make                    15919 non-null  object \n",
      " 9   model                   15919 non-null  object \n",
      " 10  body_color              15919 non-null  object \n",
      " 11  paint_type              15919 non-null  object \n",
      " 12  upholstery              15919 non-null  object \n",
      " 13  nr_of_doors             15919 non-null  float64\n",
      " 14  nr_of_seats             15919 non-null  float64\n",
      " 15  gearing_type            15919 non-null  object \n",
      " 16  engine_displacement_cc  15919 non-null  float64\n",
      " 17  cylinders               15919 non-null  float64\n",
      " 18  weight_kg               15919 non-null  float64\n",
      " 19  drive_chain             15919 non-null  object \n",
      " 20  fuel                    15919 non-null  object \n",
      " 21  co2e_g                  15919 non-null  float64\n",
      " 22  emission_class          15919 non-null  object \n",
      " 23  comfort&convenience     15919 non-null  object \n",
      " 24  entertainment&media     15919 non-null  object \n",
      " 25  extras                  15919 non-null  object \n",
      " 26  safety&security         15919 non-null  object \n",
      " 27  gears                   15919 non-null  float64\n",
      " 28  country_version         15919 non-null  object \n",
      " 29  consumption_comb        15919 non-null  float64\n",
      " 30  consumption_city        15919 non-null  float64\n",
      " 31  consumption_country     15919 non-null  float64\n",
      " 32  age                     15919 non-null  float64\n",
      "dtypes: float64(16), object(17)\n",
      "memory usage: 4.0+ MB\n"
     ]
    }
   ],
   "source": [
    "df.info()"
   ]
  },
  {
   "cell_type": "code",
   "execution_count": null,
   "metadata": {},
   "outputs": [],
   "source": []
  },
  {
   "cell_type": "code",
   "execution_count": 217,
   "metadata": {
    "ExecuteTime": {
     "end_time": "2022-08-03T14:53:03.701374Z",
     "start_time": "2022-08-03T14:53:03.693748Z"
    }
   },
   "outputs": [
    {
     "data": {
      "text/plain": [
       "Index(['body_type', 'price_€', 'vat', 'km', 'hp_kW', 'type', 'previous_owners',\n",
       "       'warranty', 'make', 'model', 'body_color', 'paint_type', 'upholstery',\n",
       "       'nr_of_doors', 'nr_of_seats', 'gearing_type', 'engine_displacement_cc',\n",
       "       'cylinders', 'weight_kg', 'drive_chain', 'fuel', 'co2e_g',\n",
       "       'emission_class', 'comfort&convenience', 'entertainment&media',\n",
       "       'extras', 'safety&security', 'gears', 'country_version',\n",
       "       'consumption_comb', 'consumption_city', 'consumption_country', 'age'],\n",
       "      dtype='object')"
      ]
     },
     "execution_count": 217,
     "metadata": {},
     "output_type": "execute_result"
    }
   ],
   "source": [
    "df.columns"
   ]
  },
  {
   "cell_type": "code",
   "execution_count": null,
   "metadata": {},
   "outputs": [],
   "source": []
  },
  {
   "cell_type": "code",
   "execution_count": null,
   "metadata": {},
   "outputs": [],
   "source": []
  },
  {
   "cell_type": "code",
   "execution_count": 218,
   "metadata": {
    "ExecuteTime": {
     "end_time": "2022-08-03T14:53:04.578875Z",
     "start_time": "2022-08-03T14:53:03.707358Z"
    }
   },
   "outputs": [],
   "source": [
    "df.to_csv(\"auto_scout_filled.csv\", index=False)"
   ]
  },
  {
   "cell_type": "code",
   "execution_count": null,
   "metadata": {},
   "outputs": [],
   "source": []
  },
  {
   "cell_type": "code",
   "execution_count": null,
   "metadata": {},
   "outputs": [],
   "source": []
  }
 ],
 "metadata": {
  "colab": {
   "name": "DAwPy-Capstone_Project_(AutoScout)_Student.ipynb",
   "provenance": []
  },
  "kernelspec": {
   "display_name": "Python 3 (ipykernel)",
   "language": "python",
   "name": "python3"
  },
  "language_info": {
   "codemirror_mode": {
    "name": "ipython",
    "version": 3
   },
   "file_extension": ".py",
   "mimetype": "text/x-python",
   "name": "python",
   "nbconvert_exporter": "python",
   "pygments_lexer": "ipython3",
   "version": "3.9.7"
  },
  "toc": {
   "base_numbering": 1,
   "nav_menu": {},
   "number_sections": false,
   "sideBar": true,
   "skip_h1_title": false,
   "title_cell": "Table of Contents",
   "title_sidebar": "Contents",
   "toc_cell": false,
   "toc_position": {},
   "toc_section_display": true,
   "toc_window_display": true
  }
 },
 "nbformat": 4,
 "nbformat_minor": 1
}
