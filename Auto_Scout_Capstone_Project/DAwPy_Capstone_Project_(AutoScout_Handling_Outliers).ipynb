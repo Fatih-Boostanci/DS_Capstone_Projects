{
 "cells": [
  {
   "cell_type": "markdown",
   "id": "e11a7a9d",
   "metadata": {},
   "source": [
    "# PART- 3 `( Handling With Outliers )`"
   ]
  },
  {
   "cell_type": "code",
   "execution_count": 1,
   "id": "a90045ba",
   "metadata": {
    "ExecuteTime": {
     "end_time": "2022-08-03T15:36:39.863028Z",
     "start_time": "2022-08-03T15:36:34.508736Z"
    }
   },
   "outputs": [
    {
     "name": "stderr",
     "output_type": "stream",
     "text": [
      "/Users/fatih/opt/anaconda3/lib/python3.9/site-packages/scipy/__init__.py:146: UserWarning: A NumPy version >=1.16.5 and <1.23.0 is required for this version of SciPy (detected version 1.23.1\n",
      "  warnings.warn(f\"A NumPy version >={np_minversion} and <{np_maxversion}\"\n"
     ]
    }
   ],
   "source": [
    "import numpy as np\n",
    "import pandas as pd\n",
    "import matplotlib.pyplot as plt\n",
    "from matplotlib import patches\n",
    "import seaborn as sns\n",
    "\n",
    "import warnings\n",
    "\n",
    "# Statistics functions\n",
    "from scipy.stats import norm\n",
    "from scipy import stats\n",
    "from scipy.stats import chi2_contingency\n",
    "from scipy.stats import chi2"
   ]
  },
  {
   "cell_type": "code",
   "execution_count": 2,
   "id": "efbc6e26",
   "metadata": {
    "ExecuteTime": {
     "end_time": "2022-08-03T15:36:39.926817Z",
     "start_time": "2022-08-03T15:36:39.868097Z"
    }
   },
   "outputs": [],
   "source": [
    "# Suppressing a warning \n",
    "warnings.filterwarnings(\"ignore\") \n",
    "\n",
    "# It is a magic function that renders the figure in the notebook\n",
    "%matplotlib inline \n",
    "\n",
    "# Changing the figure size of a seaborn axes \n",
    "sns.set(rc={\"figure.figsize\": (10, 6)})\n",
    "\n",
    "# The style parameters control properties like the color of the background and whether a grid is enabled by default.\n",
    "sns.set_style(\"whitegrid\")\n",
    "\n",
    "# To display maximum columns\n",
    "pd.set_option('display.max_columns', None)\n",
    "\n",
    "# To display maximum columns\n",
    "# pd.set_option('display.max_rows', None)"
   ]
  },
  {
   "cell_type": "code",
   "execution_count": 3,
   "id": "77fae19e",
   "metadata": {
    "ExecuteTime": {
     "end_time": "2022-08-03T15:36:40.014153Z",
     "start_time": "2022-08-03T15:36:39.967421Z"
    }
   },
   "outputs": [],
   "source": [
    "import re \n",
    "\n",
    "def get_diff_category_column(Series:pd.Series, exclude=''',/\\n''', pattern=r'''[,\\n]| /''', strip='''' \"!?|.,*+-_/][''', diff_value=list()):  \n",
    "    diff_value.clear()\n",
    "    column = Series.dropna().apply(str).str.strip(strip)\n",
    "    for row in column:\n",
    "        if not any(x in exclude for x in row) and row not in diff_value:\n",
    "            diff_value.append(row)\n",
    "        else:\n",
    "            for data in map(lambda x: x.strip(strip), filter(None, re.split(pattern, row))):\n",
    "                if data not in diff_value:\n",
    "                    diff_value.append(data)\n",
    "    return dict(enumerate(sorted(diff_value)))"
   ]
  },
  {
   "cell_type": "code",
   "execution_count": null,
   "id": "5db613bd",
   "metadata": {},
   "outputs": [],
   "source": []
  },
  {
   "cell_type": "code",
   "execution_count": 4,
   "id": "b824cc2e",
   "metadata": {
    "ExecuteTime": {
     "end_time": "2022-08-03T15:36:40.598866Z",
     "start_time": "2022-08-03T15:36:40.023960Z"
    }
   },
   "outputs": [
    {
     "data": {
      "text/html": [
       "<div>\n",
       "<style scoped>\n",
       "    .dataframe tbody tr th:only-of-type {\n",
       "        vertical-align: middle;\n",
       "    }\n",
       "\n",
       "    .dataframe tbody tr th {\n",
       "        vertical-align: top;\n",
       "    }\n",
       "\n",
       "    .dataframe thead th {\n",
       "        text-align: right;\n",
       "    }\n",
       "</style>\n",
       "<table border=\"1\" class=\"dataframe\">\n",
       "  <thead>\n",
       "    <tr style=\"text-align: right;\">\n",
       "      <th></th>\n",
       "      <th>0</th>\n",
       "      <th>1</th>\n",
       "      <th>2</th>\n",
       "      <th>3</th>\n",
       "      <th>4</th>\n",
       "    </tr>\n",
       "  </thead>\n",
       "  <tbody>\n",
       "    <tr>\n",
       "      <th>body_type</th>\n",
       "      <td>Sedans</td>\n",
       "      <td>Sedans</td>\n",
       "      <td>Sedans</td>\n",
       "      <td>Sedans</td>\n",
       "      <td>Sedans</td>\n",
       "    </tr>\n",
       "    <tr>\n",
       "      <th>price_€</th>\n",
       "      <td>15770.0</td>\n",
       "      <td>14500.0</td>\n",
       "      <td>14640.0</td>\n",
       "      <td>14500.0</td>\n",
       "      <td>16790.0</td>\n",
       "    </tr>\n",
       "    <tr>\n",
       "      <th>vat</th>\n",
       "      <td>VAT deductible</td>\n",
       "      <td>Price negotiable</td>\n",
       "      <td>VAT deductible</td>\n",
       "      <td>VAT deductible</td>\n",
       "      <td>VAT deductible</td>\n",
       "    </tr>\n",
       "    <tr>\n",
       "      <th>km</th>\n",
       "      <td>56013.0</td>\n",
       "      <td>80000.0</td>\n",
       "      <td>83450.0</td>\n",
       "      <td>73000.0</td>\n",
       "      <td>16200.0</td>\n",
       "    </tr>\n",
       "    <tr>\n",
       "      <th>hp_kW</th>\n",
       "      <td>66.0</td>\n",
       "      <td>141.0</td>\n",
       "      <td>85.0</td>\n",
       "      <td>66.0</td>\n",
       "      <td>66.0</td>\n",
       "    </tr>\n",
       "    <tr>\n",
       "      <th>type</th>\n",
       "      <td>Used</td>\n",
       "      <td>Used</td>\n",
       "      <td>Used</td>\n",
       "      <td>Used</td>\n",
       "      <td>Used</td>\n",
       "    </tr>\n",
       "    <tr>\n",
       "      <th>previous_owners</th>\n",
       "      <td>2.0</td>\n",
       "      <td>1.0</td>\n",
       "      <td>1.0</td>\n",
       "      <td>1.0</td>\n",
       "      <td>1.0</td>\n",
       "    </tr>\n",
       "    <tr>\n",
       "      <th>warranty</th>\n",
       "      <td>0.0</td>\n",
       "      <td>0.0</td>\n",
       "      <td>0.0</td>\n",
       "      <td>0.0</td>\n",
       "      <td>0.0</td>\n",
       "    </tr>\n",
       "    <tr>\n",
       "      <th>make</th>\n",
       "      <td>Audi</td>\n",
       "      <td>Audi</td>\n",
       "      <td>Audi</td>\n",
       "      <td>Audi</td>\n",
       "      <td>Audi</td>\n",
       "    </tr>\n",
       "    <tr>\n",
       "      <th>model</th>\n",
       "      <td>A1</td>\n",
       "      <td>A1</td>\n",
       "      <td>A1</td>\n",
       "      <td>A1</td>\n",
       "      <td>A1</td>\n",
       "    </tr>\n",
       "    <tr>\n",
       "      <th>body_color</th>\n",
       "      <td>Black</td>\n",
       "      <td>Red</td>\n",
       "      <td>Black</td>\n",
       "      <td>Brown</td>\n",
       "      <td>Black</td>\n",
       "    </tr>\n",
       "    <tr>\n",
       "      <th>paint_type</th>\n",
       "      <td>Metallic</td>\n",
       "      <td>Metallic</td>\n",
       "      <td>Metallic</td>\n",
       "      <td>Metallic</td>\n",
       "      <td>Metallic</td>\n",
       "    </tr>\n",
       "    <tr>\n",
       "      <th>upholstery</th>\n",
       "      <td>Cloth</td>\n",
       "      <td>Cloth</td>\n",
       "      <td>Cloth</td>\n",
       "      <td>Cloth</td>\n",
       "      <td>Cloth</td>\n",
       "    </tr>\n",
       "    <tr>\n",
       "      <th>nr_of_doors</th>\n",
       "      <td>5.0</td>\n",
       "      <td>3.0</td>\n",
       "      <td>4.0</td>\n",
       "      <td>3.0</td>\n",
       "      <td>5.0</td>\n",
       "    </tr>\n",
       "    <tr>\n",
       "      <th>nr_of_seats</th>\n",
       "      <td>5.0</td>\n",
       "      <td>4.0</td>\n",
       "      <td>4.0</td>\n",
       "      <td>4.0</td>\n",
       "      <td>5.0</td>\n",
       "    </tr>\n",
       "    <tr>\n",
       "      <th>gearing_type</th>\n",
       "      <td>Automatic</td>\n",
       "      <td>Automatic</td>\n",
       "      <td>Automatic</td>\n",
       "      <td>Automatic</td>\n",
       "      <td>Automatic</td>\n",
       "    </tr>\n",
       "    <tr>\n",
       "      <th>engine_displacement_cc</th>\n",
       "      <td>1422.0</td>\n",
       "      <td>1798.0</td>\n",
       "      <td>1598.0</td>\n",
       "      <td>1422.0</td>\n",
       "      <td>1422.0</td>\n",
       "    </tr>\n",
       "    <tr>\n",
       "      <th>cylinders</th>\n",
       "      <td>3.0</td>\n",
       "      <td>4.0</td>\n",
       "      <td>3.0</td>\n",
       "      <td>3.0</td>\n",
       "      <td>3.0</td>\n",
       "    </tr>\n",
       "    <tr>\n",
       "      <th>weight_kg</th>\n",
       "      <td>1220.0</td>\n",
       "      <td>1255.0</td>\n",
       "      <td>1195.0</td>\n",
       "      <td>1195.0</td>\n",
       "      <td>1195.0</td>\n",
       "    </tr>\n",
       "    <tr>\n",
       "      <th>drive_chain</th>\n",
       "      <td>front</td>\n",
       "      <td>front</td>\n",
       "      <td>front</td>\n",
       "      <td>front</td>\n",
       "      <td>front</td>\n",
       "    </tr>\n",
       "    <tr>\n",
       "      <th>fuel</th>\n",
       "      <td>Diesel</td>\n",
       "      <td>Benzine</td>\n",
       "      <td>Diesel</td>\n",
       "      <td>Diesel</td>\n",
       "      <td>Diesel</td>\n",
       "    </tr>\n",
       "    <tr>\n",
       "      <th>co2e_g</th>\n",
       "      <td>99.0</td>\n",
       "      <td>129.0</td>\n",
       "      <td>99.0</td>\n",
       "      <td>99.0</td>\n",
       "      <td>109.0</td>\n",
       "    </tr>\n",
       "    <tr>\n",
       "      <th>emission_class</th>\n",
       "      <td>Euro 6</td>\n",
       "      <td>Euro 6</td>\n",
       "      <td>Euro 6</td>\n",
       "      <td>Euro 6</td>\n",
       "      <td>Euro 6</td>\n",
       "    </tr>\n",
       "    <tr>\n",
       "      <th>comfort&amp;convenience</th>\n",
       "      <td>Air conditioning,Armrest,Automatic climate con...</td>\n",
       "      <td>Air conditioning,Automatic climate control,Hil...</td>\n",
       "      <td>Air conditioning,Cruise control,Electrical sid...</td>\n",
       "      <td>Air suspension,Armrest,Auxiliary heating,Elect...</td>\n",
       "      <td>Air conditioning,Armrest,Automatic climate con...</td>\n",
       "    </tr>\n",
       "    <tr>\n",
       "      <th>entertainment&amp;media</th>\n",
       "      <td>Bluetooth,Hands-free equipment,On-board comput...</td>\n",
       "      <td>Bluetooth,Hands-free equipment,On-board comput...</td>\n",
       "      <td>MP3,On-board computer</td>\n",
       "      <td>Bluetooth,CD player,Hands-free equipment,MP3,O...</td>\n",
       "      <td>Bluetooth,CD player,Hands-free equipment,MP3,O...</td>\n",
       "    </tr>\n",
       "    <tr>\n",
       "      <th>extras</th>\n",
       "      <td>Alloy wheels,Catalytic Converter,Voice Control</td>\n",
       "      <td>Alloy wheels,Sport seats,Sport suspension,Voic...</td>\n",
       "      <td>Alloy wheels,Voice Control</td>\n",
       "      <td>Alloy wheels,Sport seats,Voice Control</td>\n",
       "      <td>Alloy wheels,Sport package,Sport suspension,Vo...</td>\n",
       "    </tr>\n",
       "    <tr>\n",
       "      <th>safety&amp;security</th>\n",
       "      <td>ABS,Central door lock,Daytime running lights,D...</td>\n",
       "      <td>ABS,Central door lock,Central door lock with r...</td>\n",
       "      <td>ABS,Central door lock,Daytime running lights,D...</td>\n",
       "      <td>ABS,Alarm system,Central door lock with remote...</td>\n",
       "      <td>ABS,Central door lock,Driver-side airbag,Elect...</td>\n",
       "    </tr>\n",
       "    <tr>\n",
       "      <th>gears</th>\n",
       "      <td>7.0</td>\n",
       "      <td>7.0</td>\n",
       "      <td>7.0</td>\n",
       "      <td>6.0</td>\n",
       "      <td>6.0</td>\n",
       "    </tr>\n",
       "    <tr>\n",
       "      <th>country_version</th>\n",
       "      <td>Unknown</td>\n",
       "      <td>Unknown</td>\n",
       "      <td>Unknown</td>\n",
       "      <td>Unknown</td>\n",
       "      <td>Germany</td>\n",
       "    </tr>\n",
       "    <tr>\n",
       "      <th>consumption_comb</th>\n",
       "      <td>3.8</td>\n",
       "      <td>5.6</td>\n",
       "      <td>3.8</td>\n",
       "      <td>3.8</td>\n",
       "      <td>4.1</td>\n",
       "    </tr>\n",
       "    <tr>\n",
       "      <th>consumption_city</th>\n",
       "      <td>4.3</td>\n",
       "      <td>7.1</td>\n",
       "      <td>4.4</td>\n",
       "      <td>4.3</td>\n",
       "      <td>4.6</td>\n",
       "    </tr>\n",
       "    <tr>\n",
       "      <th>consumption_country</th>\n",
       "      <td>3.5</td>\n",
       "      <td>4.7</td>\n",
       "      <td>3.4</td>\n",
       "      <td>3.5</td>\n",
       "      <td>3.8</td>\n",
       "    </tr>\n",
       "    <tr>\n",
       "      <th>age</th>\n",
       "      <td>3.0</td>\n",
       "      <td>2.0</td>\n",
       "      <td>3.0</td>\n",
       "      <td>3.0</td>\n",
       "      <td>3.0</td>\n",
       "    </tr>\n",
       "  </tbody>\n",
       "</table>\n",
       "</div>"
      ],
      "text/plain": [
       "                                                                        0  \\\n",
       "body_type                                                          Sedans   \n",
       "price_€                                                           15770.0   \n",
       "vat                                                        VAT deductible   \n",
       "km                                                                56013.0   \n",
       "hp_kW                                                                66.0   \n",
       "type                                                                 Used   \n",
       "previous_owners                                                       2.0   \n",
       "warranty                                                              0.0   \n",
       "make                                                                 Audi   \n",
       "model                                                                  A1   \n",
       "body_color                                                          Black   \n",
       "paint_type                                                       Metallic   \n",
       "upholstery                                                          Cloth   \n",
       "nr_of_doors                                                           5.0   \n",
       "nr_of_seats                                                           5.0   \n",
       "gearing_type                                                    Automatic   \n",
       "engine_displacement_cc                                             1422.0   \n",
       "cylinders                                                             3.0   \n",
       "weight_kg                                                          1220.0   \n",
       "drive_chain                                                         front   \n",
       "fuel                                                               Diesel   \n",
       "co2e_g                                                               99.0   \n",
       "emission_class                                                     Euro 6   \n",
       "comfort&convenience     Air conditioning,Armrest,Automatic climate con...   \n",
       "entertainment&media     Bluetooth,Hands-free equipment,On-board comput...   \n",
       "extras                     Alloy wheels,Catalytic Converter,Voice Control   \n",
       "safety&security         ABS,Central door lock,Daytime running lights,D...   \n",
       "gears                                                                 7.0   \n",
       "country_version                                                   Unknown   \n",
       "consumption_comb                                                      3.8   \n",
       "consumption_city                                                      4.3   \n",
       "consumption_country                                                   3.5   \n",
       "age                                                                   3.0   \n",
       "\n",
       "                                                                        1  \\\n",
       "body_type                                                          Sedans   \n",
       "price_€                                                           14500.0   \n",
       "vat                                                      Price negotiable   \n",
       "km                                                                80000.0   \n",
       "hp_kW                                                               141.0   \n",
       "type                                                                 Used   \n",
       "previous_owners                                                       1.0   \n",
       "warranty                                                              0.0   \n",
       "make                                                                 Audi   \n",
       "model                                                                  A1   \n",
       "body_color                                                            Red   \n",
       "paint_type                                                       Metallic   \n",
       "upholstery                                                          Cloth   \n",
       "nr_of_doors                                                           3.0   \n",
       "nr_of_seats                                                           4.0   \n",
       "gearing_type                                                    Automatic   \n",
       "engine_displacement_cc                                             1798.0   \n",
       "cylinders                                                             4.0   \n",
       "weight_kg                                                          1255.0   \n",
       "drive_chain                                                         front   \n",
       "fuel                                                              Benzine   \n",
       "co2e_g                                                              129.0   \n",
       "emission_class                                                     Euro 6   \n",
       "comfort&convenience     Air conditioning,Automatic climate control,Hil...   \n",
       "entertainment&media     Bluetooth,Hands-free equipment,On-board comput...   \n",
       "extras                  Alloy wheels,Sport seats,Sport suspension,Voic...   \n",
       "safety&security         ABS,Central door lock,Central door lock with r...   \n",
       "gears                                                                 7.0   \n",
       "country_version                                                   Unknown   \n",
       "consumption_comb                                                      5.6   \n",
       "consumption_city                                                      7.1   \n",
       "consumption_country                                                   4.7   \n",
       "age                                                                   2.0   \n",
       "\n",
       "                                                                        2  \\\n",
       "body_type                                                          Sedans   \n",
       "price_€                                                           14640.0   \n",
       "vat                                                        VAT deductible   \n",
       "km                                                                83450.0   \n",
       "hp_kW                                                                85.0   \n",
       "type                                                                 Used   \n",
       "previous_owners                                                       1.0   \n",
       "warranty                                                              0.0   \n",
       "make                                                                 Audi   \n",
       "model                                                                  A1   \n",
       "body_color                                                          Black   \n",
       "paint_type                                                       Metallic   \n",
       "upholstery                                                          Cloth   \n",
       "nr_of_doors                                                           4.0   \n",
       "nr_of_seats                                                           4.0   \n",
       "gearing_type                                                    Automatic   \n",
       "engine_displacement_cc                                             1598.0   \n",
       "cylinders                                                             3.0   \n",
       "weight_kg                                                          1195.0   \n",
       "drive_chain                                                         front   \n",
       "fuel                                                               Diesel   \n",
       "co2e_g                                                               99.0   \n",
       "emission_class                                                     Euro 6   \n",
       "comfort&convenience     Air conditioning,Cruise control,Electrical sid...   \n",
       "entertainment&media                                 MP3,On-board computer   \n",
       "extras                                         Alloy wheels,Voice Control   \n",
       "safety&security         ABS,Central door lock,Daytime running lights,D...   \n",
       "gears                                                                 7.0   \n",
       "country_version                                                   Unknown   \n",
       "consumption_comb                                                      3.8   \n",
       "consumption_city                                                      4.4   \n",
       "consumption_country                                                   3.4   \n",
       "age                                                                   3.0   \n",
       "\n",
       "                                                                        3  \\\n",
       "body_type                                                          Sedans   \n",
       "price_€                                                           14500.0   \n",
       "vat                                                        VAT deductible   \n",
       "km                                                                73000.0   \n",
       "hp_kW                                                                66.0   \n",
       "type                                                                 Used   \n",
       "previous_owners                                                       1.0   \n",
       "warranty                                                              0.0   \n",
       "make                                                                 Audi   \n",
       "model                                                                  A1   \n",
       "body_color                                                          Brown   \n",
       "paint_type                                                       Metallic   \n",
       "upholstery                                                          Cloth   \n",
       "nr_of_doors                                                           3.0   \n",
       "nr_of_seats                                                           4.0   \n",
       "gearing_type                                                    Automatic   \n",
       "engine_displacement_cc                                             1422.0   \n",
       "cylinders                                                             3.0   \n",
       "weight_kg                                                          1195.0   \n",
       "drive_chain                                                         front   \n",
       "fuel                                                               Diesel   \n",
       "co2e_g                                                               99.0   \n",
       "emission_class                                                     Euro 6   \n",
       "comfort&convenience     Air suspension,Armrest,Auxiliary heating,Elect...   \n",
       "entertainment&media     Bluetooth,CD player,Hands-free equipment,MP3,O...   \n",
       "extras                             Alloy wheels,Sport seats,Voice Control   \n",
       "safety&security         ABS,Alarm system,Central door lock with remote...   \n",
       "gears                                                                 6.0   \n",
       "country_version                                                   Unknown   \n",
       "consumption_comb                                                      3.8   \n",
       "consumption_city                                                      4.3   \n",
       "consumption_country                                                   3.5   \n",
       "age                                                                   3.0   \n",
       "\n",
       "                                                                        4  \n",
       "body_type                                                          Sedans  \n",
       "price_€                                                           16790.0  \n",
       "vat                                                        VAT deductible  \n",
       "km                                                                16200.0  \n",
       "hp_kW                                                                66.0  \n",
       "type                                                                 Used  \n",
       "previous_owners                                                       1.0  \n",
       "warranty                                                              0.0  \n",
       "make                                                                 Audi  \n",
       "model                                                                  A1  \n",
       "body_color                                                          Black  \n",
       "paint_type                                                       Metallic  \n",
       "upholstery                                                          Cloth  \n",
       "nr_of_doors                                                           5.0  \n",
       "nr_of_seats                                                           5.0  \n",
       "gearing_type                                                    Automatic  \n",
       "engine_displacement_cc                                             1422.0  \n",
       "cylinders                                                             3.0  \n",
       "weight_kg                                                          1195.0  \n",
       "drive_chain                                                         front  \n",
       "fuel                                                               Diesel  \n",
       "co2e_g                                                              109.0  \n",
       "emission_class                                                     Euro 6  \n",
       "comfort&convenience     Air conditioning,Armrest,Automatic climate con...  \n",
       "entertainment&media     Bluetooth,CD player,Hands-free equipment,MP3,O...  \n",
       "extras                  Alloy wheels,Sport package,Sport suspension,Vo...  \n",
       "safety&security         ABS,Central door lock,Driver-side airbag,Elect...  \n",
       "gears                                                                 6.0  \n",
       "country_version                                                   Germany  \n",
       "consumption_comb                                                      4.1  \n",
       "consumption_city                                                      4.6  \n",
       "consumption_country                                                   3.8  \n",
       "age                                                                   3.0  "
      ]
     },
     "execution_count": 4,
     "metadata": {},
     "output_type": "execute_result"
    }
   ],
   "source": [
    "df = pd.read_csv(\"auto_scout_filled.csv\")\n",
    "df.head().T"
   ]
  },
  {
   "cell_type": "code",
   "execution_count": 5,
   "id": "9a40879f",
   "metadata": {
    "ExecuteTime": {
     "end_time": "2022-08-03T15:36:40.699095Z",
     "start_time": "2022-08-03T15:36:40.607643Z"
    }
   },
   "outputs": [
    {
     "name": "stdout",
     "output_type": "stream",
     "text": [
      "<class 'pandas.core.frame.DataFrame'>\n",
      "RangeIndex: 15919 entries, 0 to 15918\n",
      "Data columns (total 33 columns):\n",
      " #   Column                  Non-Null Count  Dtype  \n",
      "---  ------                  --------------  -----  \n",
      " 0   body_type               15919 non-null  object \n",
      " 1   price_€                 15919 non-null  float64\n",
      " 2   vat                     15919 non-null  object \n",
      " 3   km                      15919 non-null  float64\n",
      " 4   hp_kW                   15919 non-null  float64\n",
      " 5   type                    15919 non-null  object \n",
      " 6   previous_owners         15919 non-null  float64\n",
      " 7   warranty                15919 non-null  float64\n",
      " 8   make                    15919 non-null  object \n",
      " 9   model                   15919 non-null  object \n",
      " 10  body_color              15919 non-null  object \n",
      " 11  paint_type              15919 non-null  object \n",
      " 12  upholstery              15919 non-null  object \n",
      " 13  nr_of_doors             15919 non-null  float64\n",
      " 14  nr_of_seats             15919 non-null  float64\n",
      " 15  gearing_type            15919 non-null  object \n",
      " 16  engine_displacement_cc  15919 non-null  float64\n",
      " 17  cylinders               15919 non-null  float64\n",
      " 18  weight_kg               15919 non-null  float64\n",
      " 19  drive_chain             15919 non-null  object \n",
      " 20  fuel                    15919 non-null  object \n",
      " 21  co2e_g                  15919 non-null  float64\n",
      " 22  emission_class          15919 non-null  object \n",
      " 23  comfort&convenience     15919 non-null  object \n",
      " 24  entertainment&media     15919 non-null  object \n",
      " 25  extras                  15919 non-null  object \n",
      " 26  safety&security         15919 non-null  object \n",
      " 27  gears                   15919 non-null  float64\n",
      " 28  country_version         15919 non-null  object \n",
      " 29  consumption_comb        15919 non-null  float64\n",
      " 30  consumption_city        15919 non-null  float64\n",
      " 31  consumption_country     15919 non-null  float64\n",
      " 32  age                     15919 non-null  float64\n",
      "dtypes: float64(16), object(17)\n",
      "memory usage: 4.0+ MB\n"
     ]
    }
   ],
   "source": [
    "df.info()"
   ]
  },
  {
   "cell_type": "code",
   "execution_count": 6,
   "id": "a74b1290",
   "metadata": {
    "ExecuteTime": {
     "end_time": "2022-08-03T15:36:40.908630Z",
     "start_time": "2022-08-03T15:36:40.707556Z"
    }
   },
   "outputs": [
    {
     "data": {
      "text/html": [
       "<div>\n",
       "<style scoped>\n",
       "    .dataframe tbody tr th:only-of-type {\n",
       "        vertical-align: middle;\n",
       "    }\n",
       "\n",
       "    .dataframe tbody tr th {\n",
       "        vertical-align: top;\n",
       "    }\n",
       "\n",
       "    .dataframe thead th {\n",
       "        text-align: right;\n",
       "    }\n",
       "</style>\n",
       "<table border=\"1\" class=\"dataframe\">\n",
       "  <thead>\n",
       "    <tr style=\"text-align: right;\">\n",
       "      <th></th>\n",
       "      <th>count</th>\n",
       "      <th>mean</th>\n",
       "      <th>std</th>\n",
       "      <th>min</th>\n",
       "      <th>25%</th>\n",
       "      <th>50%</th>\n",
       "      <th>75%</th>\n",
       "      <th>max</th>\n",
       "    </tr>\n",
       "  </thead>\n",
       "  <tbody>\n",
       "    <tr>\n",
       "      <th>price_€</th>\n",
       "      <td>15919.0</td>\n",
       "      <td>18019.896727</td>\n",
       "      <td>7386.169409</td>\n",
       "      <td>13.000000</td>\n",
       "      <td>12850.0</td>\n",
       "      <td>16900.0</td>\n",
       "      <td>21900.000000</td>\n",
       "      <td>74600.0</td>\n",
       "    </tr>\n",
       "    <tr>\n",
       "      <th>km</th>\n",
       "      <td>15919.0</td>\n",
       "      <td>31964.846747</td>\n",
       "      <td>37069.923557</td>\n",
       "      <td>0.000000</td>\n",
       "      <td>2000.0</td>\n",
       "      <td>20410.0</td>\n",
       "      <td>46898.500000</td>\n",
       "      <td>317000.0</td>\n",
       "    </tr>\n",
       "    <tr>\n",
       "      <th>hp_kW</th>\n",
       "      <td>15919.0</td>\n",
       "      <td>88.372385</td>\n",
       "      <td>26.840256</td>\n",
       "      <td>1.000000</td>\n",
       "      <td>66.0</td>\n",
       "      <td>85.0</td>\n",
       "      <td>101.000000</td>\n",
       "      <td>294.0</td>\n",
       "    </tr>\n",
       "    <tr>\n",
       "      <th>previous_owners</th>\n",
       "      <td>15919.0</td>\n",
       "      <td>0.947170</td>\n",
       "      <td>0.394599</td>\n",
       "      <td>0.000000</td>\n",
       "      <td>1.0</td>\n",
       "      <td>1.0</td>\n",
       "      <td>1.000000</td>\n",
       "      <td>4.0</td>\n",
       "    </tr>\n",
       "    <tr>\n",
       "      <th>warranty</th>\n",
       "      <td>15919.0</td>\n",
       "      <td>0.304856</td>\n",
       "      <td>0.460361</td>\n",
       "      <td>0.000000</td>\n",
       "      <td>0.0</td>\n",
       "      <td>0.0</td>\n",
       "      <td>1.000000</td>\n",
       "      <td>1.0</td>\n",
       "    </tr>\n",
       "    <tr>\n",
       "      <th>nr_of_doors</th>\n",
       "      <td>15919.0</td>\n",
       "      <td>4.660657</td>\n",
       "      <td>0.642198</td>\n",
       "      <td>1.000000</td>\n",
       "      <td>4.0</td>\n",
       "      <td>5.0</td>\n",
       "      <td>5.000000</td>\n",
       "      <td>7.0</td>\n",
       "    </tr>\n",
       "    <tr>\n",
       "      <th>nr_of_seats</th>\n",
       "      <td>15919.0</td>\n",
       "      <td>4.952258</td>\n",
       "      <td>0.476599</td>\n",
       "      <td>2.000000</td>\n",
       "      <td>5.0</td>\n",
       "      <td>5.0</td>\n",
       "      <td>5.000000</td>\n",
       "      <td>7.0</td>\n",
       "    </tr>\n",
       "    <tr>\n",
       "      <th>engine_displacement_cc</th>\n",
       "      <td>15919.0</td>\n",
       "      <td>1424.823984</td>\n",
       "      <td>331.310153</td>\n",
       "      <td>1.000000</td>\n",
       "      <td>1229.0</td>\n",
       "      <td>1461.0</td>\n",
       "      <td>1598.000000</td>\n",
       "      <td>16000.0</td>\n",
       "    </tr>\n",
       "    <tr>\n",
       "      <th>cylinders</th>\n",
       "      <td>15919.0</td>\n",
       "      <td>3.794208</td>\n",
       "      <td>0.420440</td>\n",
       "      <td>1.000000</td>\n",
       "      <td>4.0</td>\n",
       "      <td>4.0</td>\n",
       "      <td>4.000000</td>\n",
       "      <td>8.0</td>\n",
       "    </tr>\n",
       "    <tr>\n",
       "      <th>weight_kg</th>\n",
       "      <td>15919.0</td>\n",
       "      <td>1345.403135</td>\n",
       "      <td>203.202339</td>\n",
       "      <td>1.000000</td>\n",
       "      <td>1180.0</td>\n",
       "      <td>1308.0</td>\n",
       "      <td>1472.000000</td>\n",
       "      <td>2471.0</td>\n",
       "    </tr>\n",
       "    <tr>\n",
       "      <th>co2e_g</th>\n",
       "      <td>15919.0</td>\n",
       "      <td>122.680005</td>\n",
       "      <td>248.522413</td>\n",
       "      <td>14.000000</td>\n",
       "      <td>104.0</td>\n",
       "      <td>117.0</td>\n",
       "      <td>128.000000</td>\n",
       "      <td>14457.0</td>\n",
       "    </tr>\n",
       "    <tr>\n",
       "      <th>gears</th>\n",
       "      <td>15919.0</td>\n",
       "      <td>5.941642</td>\n",
       "      <td>0.811201</td>\n",
       "      <td>1.000000</td>\n",
       "      <td>5.0</td>\n",
       "      <td>6.0</td>\n",
       "      <td>6.000000</td>\n",
       "      <td>50.0</td>\n",
       "    </tr>\n",
       "    <tr>\n",
       "      <th>consumption_comb</th>\n",
       "      <td>15919.0</td>\n",
       "      <td>4.831265</td>\n",
       "      <td>0.893913</td>\n",
       "      <td>1.200000</td>\n",
       "      <td>4.1</td>\n",
       "      <td>4.8</td>\n",
       "      <td>5.400000</td>\n",
       "      <td>13.8</td>\n",
       "    </tr>\n",
       "    <tr>\n",
       "      <th>consumption_city</th>\n",
       "      <td>15919.0</td>\n",
       "      <td>5.895274</td>\n",
       "      <td>1.385452</td>\n",
       "      <td>0.321053</td>\n",
       "      <td>4.7</td>\n",
       "      <td>5.8</td>\n",
       "      <td>6.905263</td>\n",
       "      <td>19.9</td>\n",
       "    </tr>\n",
       "    <tr>\n",
       "      <th>consumption_country</th>\n",
       "      <td>15919.0</td>\n",
       "      <td>4.205446</td>\n",
       "      <td>0.670392</td>\n",
       "      <td>2.832258</td>\n",
       "      <td>3.7</td>\n",
       "      <td>4.2</td>\n",
       "      <td>4.600000</td>\n",
       "      <td>10.3</td>\n",
       "    </tr>\n",
       "    <tr>\n",
       "      <th>age</th>\n",
       "      <td>15919.0</td>\n",
       "      <td>1.392236</td>\n",
       "      <td>1.119982</td>\n",
       "      <td>0.000000</td>\n",
       "      <td>0.0</td>\n",
       "      <td>1.0</td>\n",
       "      <td>2.000000</td>\n",
       "      <td>3.0</td>\n",
       "    </tr>\n",
       "  </tbody>\n",
       "</table>\n",
       "</div>"
      ],
      "text/plain": [
       "                          count          mean           std        min  \\\n",
       "price_€                 15919.0  18019.896727   7386.169409  13.000000   \n",
       "km                      15919.0  31964.846747  37069.923557   0.000000   \n",
       "hp_kW                   15919.0     88.372385     26.840256   1.000000   \n",
       "previous_owners         15919.0      0.947170      0.394599   0.000000   \n",
       "warranty                15919.0      0.304856      0.460361   0.000000   \n",
       "nr_of_doors             15919.0      4.660657      0.642198   1.000000   \n",
       "nr_of_seats             15919.0      4.952258      0.476599   2.000000   \n",
       "engine_displacement_cc  15919.0   1424.823984    331.310153   1.000000   \n",
       "cylinders               15919.0      3.794208      0.420440   1.000000   \n",
       "weight_kg               15919.0   1345.403135    203.202339   1.000000   \n",
       "co2e_g                  15919.0    122.680005    248.522413  14.000000   \n",
       "gears                   15919.0      5.941642      0.811201   1.000000   \n",
       "consumption_comb        15919.0      4.831265      0.893913   1.200000   \n",
       "consumption_city        15919.0      5.895274      1.385452   0.321053   \n",
       "consumption_country     15919.0      4.205446      0.670392   2.832258   \n",
       "age                     15919.0      1.392236      1.119982   0.000000   \n",
       "\n",
       "                            25%      50%           75%       max  \n",
       "price_€                 12850.0  16900.0  21900.000000   74600.0  \n",
       "km                       2000.0  20410.0  46898.500000  317000.0  \n",
       "hp_kW                      66.0     85.0    101.000000     294.0  \n",
       "previous_owners             1.0      1.0      1.000000       4.0  \n",
       "warranty                    0.0      0.0      1.000000       1.0  \n",
       "nr_of_doors                 4.0      5.0      5.000000       7.0  \n",
       "nr_of_seats                 5.0      5.0      5.000000       7.0  \n",
       "engine_displacement_cc   1229.0   1461.0   1598.000000   16000.0  \n",
       "cylinders                   4.0      4.0      4.000000       8.0  \n",
       "weight_kg                1180.0   1308.0   1472.000000    2471.0  \n",
       "co2e_g                    104.0    117.0    128.000000   14457.0  \n",
       "gears                       5.0      6.0      6.000000      50.0  \n",
       "consumption_comb            4.1      4.8      5.400000      13.8  \n",
       "consumption_city            4.7      5.8      6.905263      19.9  \n",
       "consumption_country         3.7      4.2      4.600000      10.3  \n",
       "age                         0.0      1.0      2.000000       3.0  "
      ]
     },
     "execution_count": 6,
     "metadata": {},
     "output_type": "execute_result"
    }
   ],
   "source": [
    "df.describe().T"
   ]
  },
  {
   "cell_type": "code",
   "execution_count": null,
   "id": "98331932",
   "metadata": {},
   "outputs": [],
   "source": []
  },
  {
   "cell_type": "code",
   "execution_count": 7,
   "id": "492db7da",
   "metadata": {
    "ExecuteTime": {
     "end_time": "2022-08-03T15:36:40.942930Z",
     "start_time": "2022-08-03T15:36:40.918727Z"
    }
   },
   "outputs": [],
   "source": [
    "def detect_outlier(col):\n",
    "    print('column name : ',col)\n",
    "    print(\"--\"*20)\n",
    "    Q1 = df[col].quantile(0.25)\n",
    "    print(\"Q1 : \", Q1)\n",
    "    Q3 = df[col].quantile(0.75)\n",
    "    print(\"Q3 : \", Q3)\n",
    "    IQR = Q3 - Q1\n",
    "    print(\"IQR : \", IQR )\n",
    "    lower_lim = Q1 - 1.5*IQR\n",
    "    print(\"lower limit : \", lower_lim)\n",
    "    print(\"mean : \", round(df[col].mean(), 2))\n",
    "    print(\"median : \", round(df[col].median(), 2))\n",
    "    upper_lim = Q3 +1.5*IQR\n",
    "    print(\"upper limit : \", upper_lim)\n",
    "    cnt_of_low = (df[col] < lower_lim).sum()\n",
    "    print(\"count of lower values : \", cnt_of_low)\n",
    "    cnt_of_upper = (df[col] > upper_lim).sum()\n",
    "    print(\"count of upper values : \", cnt_of_upper)\n",
    "    print(\" \")\n",
    "    print(\"the smallest 10 values :\\n\", df[col].sort_values().head(10))\n",
    "    print(\" \")\n",
    "    print(\"the biggest 10 values :\\n\", df[col].sort_values(ascending = False).head(10))\n",
    "    \n",
    "    print(\"\\n\\n\")"
   ]
  },
  {
   "cell_type": "code",
   "execution_count": 8,
   "id": "29478a14",
   "metadata": {
    "ExecuteTime": {
     "end_time": "2022-08-03T15:36:41.343487Z",
     "start_time": "2022-08-03T15:36:40.949266Z"
    }
   },
   "outputs": [
    {
     "name": "stdout",
     "output_type": "stream",
     "text": [
      "column name :  price_€\n",
      "----------------------------------------\n",
      "Q1 :  12850.0\n",
      "Q3 :  21900.0\n",
      "IQR :  9050.0\n",
      "lower limit :  -725.0\n",
      "mean :  18019.9\n",
      "median :  16900.0\n",
      "upper limit :  35475.0\n",
      "count of lower values :  0\n",
      "count of upper values :  479\n",
      " \n",
      "the smallest 10 values :\n",
      " 8594       13.0\n",
      "8828      120.0\n",
      "6066      255.0\n",
      "8829      331.0\n",
      "8827     4950.0\n",
      "8825     4990.0\n",
      "8826     5250.0\n",
      "8824     5300.0\n",
      "13770    5445.0\n",
      "8823     5450.0\n",
      "Name: price_€, dtype: float64\n",
      " \n",
      "the biggest 10 values :\n",
      " 3648     74600.0\n",
      "15826    68320.0\n",
      "3649     67600.0\n",
      "3587     64900.0\n",
      "15828    64332.0\n",
      "15831    64298.0\n",
      "3595     63900.0\n",
      "15833    63477.0\n",
      "3590     62900.0\n",
      "3594     58990.0\n",
      "Name: price_€, dtype: float64\n",
      "\n",
      "\n",
      "\n",
      "column name :  km\n",
      "----------------------------------------\n",
      "Q1 :  2000.0\n",
      "Q3 :  46898.5\n",
      "IQR :  44898.5\n",
      "lower limit :  -65347.75\n",
      "mean :  31964.85\n",
      "median :  20410.0\n",
      "upper limit :  114246.25\n",
      "count of lower values :  0\n",
      "count of upper values :  691\n",
      " \n",
      "the smallest 10 values :\n",
      " 14518    0.0\n",
      "9892     0.0\n",
      "2496     0.0\n",
      "9882     0.0\n",
      "15668    0.0\n",
      "5553     0.0\n",
      "12512    0.0\n",
      "5672     0.0\n",
      "9929     0.0\n",
      "7828     0.0\n",
      "Name: km, dtype: float64\n",
      " \n",
      "the biggest 10 values :\n",
      " 9279     317000.0\n",
      "3003     291800.0\n",
      "5712     260000.0\n",
      "6224     248000.0\n",
      "15277    240000.0\n",
      "10804    232000.0\n",
      "6380     231879.0\n",
      "6062     230928.0\n",
      "6399     229500.0\n",
      "10495    222346.0\n",
      "Name: km, dtype: float64\n",
      "\n",
      "\n",
      "\n",
      "column name :  hp_kW\n",
      "----------------------------------------\n",
      "Q1 :  66.0\n",
      "Q3 :  101.0\n",
      "IQR :  35.0\n",
      "lower limit :  13.5\n",
      "mean :  88.37\n",
      "median :  85.0\n",
      "upper limit :  153.5\n",
      "count of lower values :  22\n",
      "count of upper values :  406\n",
      " \n",
      "the smallest 10 values :\n",
      " 6034    1.0\n",
      "7019    1.0\n",
      "7014    1.0\n",
      "9285    1.0\n",
      "6005    1.0\n",
      "9287    1.0\n",
      "9288    1.0\n",
      "7018    1.0\n",
      "9289    1.0\n",
      "9290    1.0\n",
      "Name: hp_kW, dtype: float64\n",
      " \n",
      "the biggest 10 values :\n",
      " 3595    294.0\n",
      "3606    294.0\n",
      "3587    294.0\n",
      "3590    294.0\n",
      "3592    294.0\n",
      "3593    294.0\n",
      "3596    294.0\n",
      "3598    294.0\n",
      "3599    294.0\n",
      "3600    294.0\n",
      "Name: hp_kW, dtype: float64\n",
      "\n",
      "\n",
      "\n",
      "column name :  previous_owners\n",
      "----------------------------------------\n",
      "Q1 :  1.0\n",
      "Q3 :  1.0\n",
      "IQR :  0.0\n",
      "lower limit :  1.0\n",
      "mean :  0.95\n",
      "median :  1.0\n",
      "upper limit :  1.0\n",
      "count of lower values :  1659\n",
      "count of upper values :  797\n",
      " \n",
      "the smallest 10 values :\n",
      " 2295     0.0\n",
      "1697     0.0\n",
      "12697    0.0\n",
      "12696    0.0\n",
      "12694    0.0\n",
      "12693    0.0\n",
      "12692    0.0\n",
      "12691    0.0\n",
      "12690    0.0\n",
      "12689    0.0\n",
      "Name: previous_owners, dtype: float64\n",
      " \n",
      "the biggest 10 values :\n",
      " 15256    4.0\n",
      "972      4.0\n",
      "14994    3.0\n",
      "9478     3.0\n",
      "10770    3.0\n",
      "13560    3.0\n",
      "1290     3.0\n",
      "11443    3.0\n",
      "13568    3.0\n",
      "15007    3.0\n",
      "Name: previous_owners, dtype: float64\n",
      "\n",
      "\n",
      "\n",
      "column name :  warranty\n",
      "----------------------------------------\n",
      "Q1 :  0.0\n",
      "Q3 :  1.0\n",
      "IQR :  1.0\n",
      "lower limit :  -1.5\n",
      "mean :  0.3\n",
      "median :  0.0\n",
      "upper limit :  2.5\n",
      "count of lower values :  0\n",
      "count of upper values :  0\n",
      " \n",
      "the smallest 10 values :\n",
      " 0       0.0\n",
      "9659    0.0\n",
      "9660    0.0\n",
      "9661    0.0\n",
      "9662    0.0\n",
      "9663    0.0\n",
      "9664    0.0\n",
      "9665    0.0\n",
      "9666    0.0\n",
      "9667    0.0\n",
      "Name: warranty, dtype: float64\n",
      " \n",
      "the biggest 10 values :\n",
      " 7959     1.0\n",
      "12349    1.0\n",
      "5174     1.0\n",
      "5173     1.0\n",
      "5171     1.0\n",
      "5169     1.0\n",
      "12343    1.0\n",
      "5166     1.0\n",
      "12346    1.0\n",
      "5161     1.0\n",
      "Name: warranty, dtype: float64\n",
      "\n",
      "\n",
      "\n",
      "column name :  nr_of_doors\n",
      "----------------------------------------\n",
      "Q1 :  4.0\n",
      "Q3 :  5.0\n",
      "IQR :  1.0\n",
      "lower limit :  2.5\n",
      "mean :  4.66\n",
      "median :  5.0\n",
      "upper limit :  6.5\n",
      "count of lower values :  220\n",
      "count of upper values :  1\n",
      " \n",
      "the smallest 10 values :\n",
      " 13782    1.0\n",
      "1811     2.0\n",
      "1228     2.0\n",
      "1229     2.0\n",
      "1230     2.0\n",
      "1231     2.0\n",
      "303      2.0\n",
      "1233     2.0\n",
      "1234     2.0\n",
      "1235     2.0\n",
      "Name: nr_of_doors, dtype: float64\n",
      " \n",
      "the biggest 10 values :\n",
      " 15202    7.0\n",
      "0        5.0\n",
      "10023    5.0\n",
      "10012    5.0\n",
      "10013    5.0\n",
      "10014    5.0\n",
      "10015    5.0\n",
      "10016    5.0\n",
      "10017    5.0\n",
      "10018    5.0\n",
      "Name: nr_of_doors, dtype: float64\n",
      "\n",
      "\n",
      "\n",
      "column name :  nr_of_seats\n",
      "----------------------------------------\n",
      "Q1 :  5.0\n",
      "Q3 :  5.0\n",
      "IQR :  0.0\n",
      "lower limit :  5.0\n",
      "mean :  4.95\n",
      "median :  5.0\n",
      "upper limit :  5.0\n",
      "count of lower values :  1247\n",
      "count of upper values :  364\n",
      " \n",
      "the smallest 10 values :\n",
      " 13608    2.0\n",
      "13383    2.0\n",
      "14152    2.0\n",
      "13571    2.0\n",
      "13919    2.0\n",
      "13629    2.0\n",
      "13918    2.0\n",
      "13628    2.0\n",
      "13627    2.0\n",
      "13625    2.0\n",
      "Name: nr_of_seats, dtype: float64\n",
      " \n",
      "the biggest 10 values :\n",
      " 15125    7.0\n",
      "15274    7.0\n",
      "15010    7.0\n",
      "15011    7.0\n",
      "15012    7.0\n",
      "15656    7.0\n",
      "15657    7.0\n",
      "15013    7.0\n",
      "15014    7.0\n",
      "15660    7.0\n",
      "Name: nr_of_seats, dtype: float64\n",
      "\n",
      "\n",
      "\n",
      "column name :  engine_displacement_cc\n",
      "----------------------------------------\n",
      "Q1 :  1229.0\n",
      "Q3 :  1598.0\n",
      "IQR :  369.0\n",
      "lower limit :  675.5\n",
      "mean :  1424.82\n",
      "median :  1461.0\n",
      "upper limit :  2151.5\n",
      "count of lower values :  51\n",
      "count of upper values :  23\n",
      " \n",
      "the smallest 10 values :\n",
      " 14315    1.0\n",
      "12473    1.0\n",
      "12484    1.0\n",
      "14328    1.0\n",
      "14327    1.0\n",
      "14326    1.0\n",
      "13904    1.0\n",
      "14325    1.0\n",
      "14324    1.0\n",
      "14322    1.0\n",
      "Name: engine_displacement_cc, dtype: float64\n",
      " \n",
      "the biggest 10 values :\n",
      " 10932    16000.0\n",
      "7169     15898.0\n",
      "10771     2967.0\n",
      "3609      2480.0\n",
      "3604      2480.0\n",
      "3602      2480.0\n",
      "3601      2480.0\n",
      "3600      2480.0\n",
      "3599      2480.0\n",
      "3598      2480.0\n",
      "Name: engine_displacement_cc, dtype: float64\n",
      "\n",
      "\n",
      "\n",
      "column name :  cylinders\n",
      "----------------------------------------\n",
      "Q1 :  4.0\n",
      "Q3 :  4.0\n",
      "IQR :  0.0\n",
      "lower limit :  4.0\n",
      "mean :  3.79\n",
      "median :  4.0\n",
      "upper limit :  4.0\n",
      "count of lower values :  3328\n",
      "count of upper values :  32\n",
      " \n",
      "the smallest 10 values :\n",
      " 9956     1.0\n",
      "15835    2.0\n",
      "11342    2.0\n",
      "0        3.0\n",
      "2544     3.0\n",
      "2545     3.0\n",
      "2546     3.0\n",
      "2547     3.0\n",
      "2548     3.0\n",
      "2549     3.0\n",
      "Name: cylinders, dtype: float64\n",
      " \n",
      "the biggest 10 values :\n",
      " 15151    8.0\n",
      "15197    8.0\n",
      "15186    8.0\n",
      "14989    8.0\n",
      "535      8.0\n",
      "15165    8.0\n",
      "15055    8.0\n",
      "10771    6.0\n",
      "10826    6.0\n",
      "12897    6.0\n",
      "Name: cylinders, dtype: float64\n",
      "\n",
      "\n",
      "\n",
      "column name :  weight_kg\n",
      "----------------------------------------\n",
      "Q1 :  1180.0\n",
      "Q3 :  1472.0\n",
      "IQR :  292.0\n",
      "lower limit :  742.0\n",
      "mean :  1345.4\n",
      "median :  1308.0\n",
      "upper limit :  1910.0\n",
      "count of lower values :  3\n",
      "count of upper values :  89\n",
      " \n",
      "the smallest 10 values :\n",
      " 12779      1.0\n",
      "8355       1.0\n",
      "1143     102.0\n",
      "8857     840.0\n",
      "14313    900.0\n",
      "13555    977.0\n",
      "13513    977.0\n",
      "13937    980.0\n",
      "14105    980.0\n",
      "13996    980.0\n",
      "Name: weight_kg, dtype: float64\n",
      " \n",
      "the biggest 10 values :\n",
      " 15678    2471.0\n",
      "15185    2471.0\n",
      "15231    2471.0\n",
      "14975    2471.0\n",
      "15280    2471.0\n",
      "10646    2450.0\n",
      "10638    2450.0\n",
      "15133    2410.0\n",
      "15136    2410.0\n",
      "15143    2410.0\n",
      "Name: weight_kg, dtype: float64\n",
      "\n",
      "\n",
      "\n",
      "column name :  co2e_g\n",
      "----------------------------------------\n",
      "Q1 :  104.0\n",
      "Q3 :  128.0\n",
      "IQR :  24.0\n",
      "lower limit :  68.0\n",
      "mean :  122.68\n",
      "median :  117.0\n",
      "upper limit :  164.0\n",
      "count of lower values :  7\n",
      "count of upper values :  247\n",
      " \n",
      "the smallest 10 values :\n",
      " 8110     14.0\n",
      "3617     36.0\n",
      "3615     36.0\n",
      "3612     36.0\n",
      "3356     36.0\n",
      "12547    45.0\n",
      "9798     51.0\n",
      "7857     80.0\n",
      "13668    82.0\n",
      "8912     82.0\n",
      "Name: co2e_g, dtype: float64\n",
      " \n",
      "the biggest 10 values :\n",
      " 11888    14457.0\n",
      "12343    13983.0\n",
      "8542     12324.0\n",
      "6578     12087.0\n",
      "6579     12087.0\n",
      "5818     12087.0\n",
      "4089      1060.0\n",
      "4556       990.0\n",
      "535        331.0\n",
      "10513      253.0\n",
      "Name: co2e_g, dtype: float64\n",
      "\n",
      "\n",
      "\n",
      "column name :  gears\n",
      "----------------------------------------\n",
      "Q1 :  5.0\n",
      "Q3 :  6.0\n",
      "IQR :  1.0\n",
      "lower limit :  3.5\n",
      "mean :  5.94\n",
      "median :  6.0\n",
      "upper limit :  7.5\n",
      "count of lower values :  6\n",
      "count of upper values :  300\n",
      " \n",
      "the smallest 10 values :\n",
      " 14375    1.0\n",
      "8921     1.0\n",
      "9812     2.0\n",
      "15817    3.0\n",
      "15845    3.0\n",
      "15846    3.0\n",
      "15823    4.0\n",
      "15822    4.0\n",
      "10287    5.0\n",
      "10288    5.0\n",
      "Name: gears, dtype: float64\n",
      " \n",
      "the biggest 10 values :\n",
      " 14495    50.0\n",
      "15830     9.0\n",
      "15827     9.0\n",
      "15876     9.0\n",
      "15814     9.0\n",
      "15813     9.0\n",
      "15812     9.0\n",
      "15869     9.0\n",
      "15824     9.0\n",
      "15829     9.0\n",
      "Name: gears, dtype: float64\n",
      "\n",
      "\n",
      "\n",
      "column name :  consumption_comb\n",
      "----------------------------------------\n",
      "Q1 :  4.1\n",
      "Q3 :  5.4\n",
      "IQR :  1.3000000000000007\n",
      "lower limit :  2.1499999999999986\n",
      "mean :  4.83\n",
      "median :  4.8\n",
      "upper limit :  7.350000000000001\n",
      "count of lower values :  4\n",
      "count of upper values :  130\n",
      " \n",
      "the smallest 10 values :\n",
      " 13678    1.2\n",
      "3615     1.6\n",
      "3617     1.6\n",
      "3612     1.6\n",
      "8872     3.1\n",
      "8904     3.1\n",
      "8874     3.1\n",
      "8566     3.1\n",
      "8912     3.1\n",
      "13680    3.1\n",
      "Name: consumption_comb, dtype: float64\n",
      " \n",
      "the biggest 10 values :\n",
      " 535      13.800\n",
      "10513     9.714\n",
      "10771     9.100\n",
      "12529     8.700\n",
      "10817     8.700\n",
      "10819     8.700\n",
      "12054     8.700\n",
      "12530     8.600\n",
      "10789     8.600\n",
      "12422     8.600\n",
      "Name: consumption_comb, dtype: float64\n",
      "\n",
      "\n",
      "\n",
      "column name :  consumption_city\n",
      "----------------------------------------\n",
      "Q1 :  4.7\n",
      "Q3 :  6.905263157894736\n",
      "IQR :  2.205263157894736\n",
      "lower limit :  1.3921052631578963\n",
      "mean :  5.9\n",
      "median :  5.8\n",
      "upper limit :  10.21315789473684\n",
      "count of lower values :  2\n",
      "count of upper values :  34\n",
      " \n",
      "the smallest 10 values :\n",
      " 11553    0.321053\n",
      "9756     0.710526\n",
      "13008    1.589474\n",
      "10755    1.663158\n",
      "10758    1.663158\n",
      "10759    1.663158\n",
      "10764    1.673684\n",
      "10870    1.673684\n",
      "10866    1.673684\n",
      "10860    1.673684\n",
      "Name: consumption_city, dtype: float64\n",
      " \n",
      "the biggest 10 values :\n",
      " 535      19.9\n",
      "10513    16.1\n",
      "12054    11.5\n",
      "12529    11.5\n",
      "12553    11.5\n",
      "10515    11.5\n",
      "10771    11.3\n",
      "3599     11.3\n",
      "3601     11.3\n",
      "3602     11.3\n",
      "Name: consumption_city, dtype: float64\n",
      "\n",
      "\n",
      "\n",
      "column name :  consumption_country\n",
      "----------------------------------------\n",
      "Q1 :  3.7\n",
      "Q3 :  4.6\n",
      "IQR :  0.8999999999999995\n",
      "lower limit :  2.350000000000001\n",
      "mean :  4.21\n",
      "median :  4.2\n",
      "upper limit :  5.949999999999999\n",
      "count of lower values :  0\n",
      "count of upper values :  171\n",
      " \n",
      "the smallest 10 values :\n",
      " 3290    2.832258\n",
      "3268    2.832258\n",
      "8930    2.893548\n",
      "8851    2.893548\n",
      "8948    2.893548\n",
      "8827    2.893548\n",
      "8932    2.893548\n",
      "8933    2.893548\n",
      "8934    2.893548\n",
      "8935    2.893548\n",
      "Name: consumption_country, dtype: float64\n",
      " \n",
      "the biggest 10 values :\n",
      " 535      10.300000\n",
      "10819    10.109677\n",
      "10817    10.109677\n",
      "10759     8.600000\n",
      "10755     8.600000\n",
      "10758     8.600000\n",
      "10771     7.800000\n",
      "10764     7.800000\n",
      "10860     7.800000\n",
      "10866     7.800000\n",
      "Name: consumption_country, dtype: float64\n",
      "\n",
      "\n",
      "\n",
      "column name :  age\n",
      "----------------------------------------\n",
      "Q1 :  0.0\n",
      "Q3 :  2.0\n",
      "IQR :  2.0\n",
      "lower limit :  -3.0\n",
      "mean :  1.39\n",
      "median :  1.0\n",
      "upper limit :  5.0\n",
      "count of lower values :  0\n",
      "count of upper values :  0\n",
      " \n",
      "the smallest 10 values :\n",
      " 7959    0.0\n",
      "7936    0.0\n",
      "7935    0.0\n",
      "7934    0.0\n",
      "7933    0.0\n",
      "7932    0.0\n",
      "7931    0.0\n",
      "7930    0.0\n",
      "7929    0.0\n",
      "7928    0.0\n",
      "Name: age, dtype: float64\n",
      " \n",
      "the biggest 10 values :\n",
      " 0       3.0\n",
      "5938    3.0\n",
      "5955    3.0\n",
      "5954    3.0\n",
      "5953    3.0\n",
      "5952    3.0\n",
      "5950    3.0\n",
      "5949    3.0\n",
      "5947    3.0\n",
      "5940    3.0\n",
      "Name: age, dtype: float64\n",
      "\n",
      "\n",
      "\n"
     ]
    }
   ],
   "source": [
    "for i in df.select_dtypes(exclude=\"O\").columns:\n",
    "    detect_outlier(i)"
   ]
  },
  {
   "cell_type": "code",
   "execution_count": 9,
   "id": "e56f7e33",
   "metadata": {
    "ExecuteTime": {
     "end_time": "2022-08-03T15:36:41.382540Z",
     "start_time": "2022-08-03T15:36:41.367695Z"
    }
   },
   "outputs": [],
   "source": [
    "df_numeric = df.select_dtypes(include=\"number\")"
   ]
  },
  {
   "cell_type": "code",
   "execution_count": 10,
   "id": "f410a6ff",
   "metadata": {
    "ExecuteTime": {
     "end_time": "2022-08-03T15:36:41.412363Z",
     "start_time": "2022-08-03T15:36:41.392415Z"
    }
   },
   "outputs": [
    {
     "data": {
      "text/plain": [
       "Index(['price_€', 'km', 'hp_kW', 'previous_owners', 'warranty', 'nr_of_doors',\n",
       "       'nr_of_seats', 'engine_displacement_cc', 'cylinders', 'weight_kg',\n",
       "       'co2e_g', 'gears', 'consumption_comb', 'consumption_city',\n",
       "       'consumption_country', 'age'],\n",
       "      dtype='object')"
      ]
     },
     "execution_count": 10,
     "metadata": {},
     "output_type": "execute_result"
    }
   ],
   "source": [
    "df_numeric.columns\n"
   ]
  },
  {
   "cell_type": "code",
   "execution_count": 11,
   "id": "33f7e266",
   "metadata": {
    "ExecuteTime": {
     "end_time": "2022-08-03T15:36:41.443683Z",
     "start_time": "2022-08-03T15:36:41.426931Z"
    }
   },
   "outputs": [],
   "source": [
    "def detect_values(col, col2):\n",
    "    my_list = df[col].unique()\n",
    "    for i in my_list:\n",
    "        a = df[df[col] == i][col2].max()\n",
    "        b = df[df[col] == i][col2].min()\n",
    "        c = df[df[col] == i][col2].mean()\n",
    "        print(f\"{i} max : {a}   min : {b}   mean : {c}\")"
   ]
  },
  {
   "cell_type": "code",
   "execution_count": null,
   "id": "8d143487",
   "metadata": {},
   "outputs": [],
   "source": []
  },
  {
   "cell_type": "markdown",
   "id": "e18ff62a",
   "metadata": {},
   "source": [
    "## 1. price_€"
   ]
  },
  {
   "cell_type": "code",
   "execution_count": 12,
   "id": "b1cd169d",
   "metadata": {
    "ExecuteTime": {
     "end_time": "2022-08-03T15:36:41.488322Z",
     "start_time": "2022-08-03T15:36:41.451221Z"
    }
   },
   "outputs": [
    {
     "name": "stdout",
     "output_type": "stream",
     "text": [
      "column name :  price_€\n",
      "----------------------------------------\n",
      "Q1 :  12850.0\n",
      "Q3 :  21900.0\n",
      "IQR :  9050.0\n",
      "lower limit :  -725.0\n",
      "mean :  18019.9\n",
      "median :  16900.0\n",
      "upper limit :  35475.0\n",
      "count of lower values :  0\n",
      "count of upper values :  479\n",
      " \n",
      "the smallest 10 values :\n",
      " 8594       13.0\n",
      "8828      120.0\n",
      "6066      255.0\n",
      "8829      331.0\n",
      "8827     4950.0\n",
      "8825     4990.0\n",
      "8826     5250.0\n",
      "8824     5300.0\n",
      "13770    5445.0\n",
      "8823     5450.0\n",
      "Name: price_€, dtype: float64\n",
      " \n",
      "the biggest 10 values :\n",
      " 3648     74600.0\n",
      "15826    68320.0\n",
      "3649     67600.0\n",
      "3587     64900.0\n",
      "15828    64332.0\n",
      "15831    64298.0\n",
      "3595     63900.0\n",
      "15833    63477.0\n",
      "3590     62900.0\n",
      "3594     58990.0\n",
      "Name: price_€, dtype: float64\n",
      "\n",
      "\n",
      "\n"
     ]
    }
   ],
   "source": [
    "detect_outlier(\"price_€\")"
   ]
  },
  {
   "cell_type": "code",
   "execution_count": 13,
   "id": "e3c77bd3",
   "metadata": {
    "ExecuteTime": {
     "end_time": "2022-08-03T15:36:42.234956Z",
     "start_time": "2022-08-03T15:36:41.500287Z"
    }
   },
   "outputs": [
    {
     "data": {
      "text/plain": [
       "<AxesSubplot:xlabel='price_€'>"
      ]
     },
     "execution_count": 13,
     "metadata": {},
     "output_type": "execute_result"
    },
    {
     "data": {
      "image/png": "[encoded data removed]",
      "text/plain": [
       "<Figure size 720x432 with 1 Axes>"
      ]
     },
     "metadata": {},
     "output_type": "display_data"
    }
   ],
   "source": [
    "sns.boxplot(df[\"price_€\"])"
   ]
  },
  {
   "cell_type": "code",
   "execution_count": 14,
   "id": "6e3585b2",
   "metadata": {
    "ExecuteTime": {
     "end_time": "2022-08-03T15:36:42.377879Z",
     "start_time": "2022-08-03T15:36:42.244650Z"
    }
   },
   "outputs": [
    {
     "data": {
      "text/html": [
       "<div>\n",
       "<style scoped>\n",
       "    .dataframe tbody tr th:only-of-type {\n",
       "        vertical-align: middle;\n",
       "    }\n",
       "\n",
       "    .dataframe tbody tr th {\n",
       "        vertical-align: top;\n",
       "    }\n",
       "\n",
       "    .dataframe thead th {\n",
       "        text-align: right;\n",
       "    }\n",
       "</style>\n",
       "<table border=\"1\" class=\"dataframe\">\n",
       "  <thead>\n",
       "    <tr style=\"text-align: right;\">\n",
       "      <th></th>\n",
       "      <th>body_type</th>\n",
       "      <th>price_€</th>\n",
       "      <th>vat</th>\n",
       "      <th>km</th>\n",
       "      <th>hp_kW</th>\n",
       "      <th>type</th>\n",
       "      <th>previous_owners</th>\n",
       "      <th>warranty</th>\n",
       "      <th>make</th>\n",
       "      <th>model</th>\n",
       "      <th>body_color</th>\n",
       "      <th>paint_type</th>\n",
       "      <th>upholstery</th>\n",
       "      <th>nr_of_doors</th>\n",
       "      <th>nr_of_seats</th>\n",
       "      <th>gearing_type</th>\n",
       "      <th>engine_displacement_cc</th>\n",
       "      <th>cylinders</th>\n",
       "      <th>weight_kg</th>\n",
       "      <th>drive_chain</th>\n",
       "      <th>fuel</th>\n",
       "      <th>co2e_g</th>\n",
       "      <th>emission_class</th>\n",
       "      <th>comfort&amp;convenience</th>\n",
       "      <th>entertainment&amp;media</th>\n",
       "      <th>extras</th>\n",
       "      <th>safety&amp;security</th>\n",
       "      <th>gears</th>\n",
       "      <th>country_version</th>\n",
       "      <th>consumption_comb</th>\n",
       "      <th>consumption_city</th>\n",
       "      <th>consumption_country</th>\n",
       "      <th>age</th>\n",
       "    </tr>\n",
       "  </thead>\n",
       "  <tbody>\n",
       "    <tr>\n",
       "      <th>8594</th>\n",
       "      <td>Sedans</td>\n",
       "      <td>13.0</td>\n",
       "      <td>VAT deductible</td>\n",
       "      <td>123.0</td>\n",
       "      <td>66.0</td>\n",
       "      <td>Used</td>\n",
       "      <td>1.0</td>\n",
       "      <td>0.0</td>\n",
       "      <td>Opel</td>\n",
       "      <td>Corsa</td>\n",
       "      <td>Gold</td>\n",
       "      <td>Metallic</td>\n",
       "      <td>Cloth</td>\n",
       "      <td>3.0</td>\n",
       "      <td>5.0</td>\n",
       "      <td>Manual</td>\n",
       "      <td>1398.0</td>\n",
       "      <td>4.0</td>\n",
       "      <td>1141.0</td>\n",
       "      <td>front</td>\n",
       "      <td>Benzine</td>\n",
       "      <td>128.0</td>\n",
       "      <td>Euro 6d-TEMP</td>\n",
       "      <td>Air conditioning,Cruise control,Electrical sid...</td>\n",
       "      <td>Bluetooth,CD player,Hands-free equipment,MP3,O...</td>\n",
       "      <td>Alloy wheels</td>\n",
       "      <td>ABS,Adaptive headlights,Central door lock with...</td>\n",
       "      <td>5.0</td>\n",
       "      <td>Unknown</td>\n",
       "      <td>5.60</td>\n",
       "      <td>6.8</td>\n",
       "      <td>4.9</td>\n",
       "      <td>1.0</td>\n",
       "    </tr>\n",
       "    <tr>\n",
       "      <th>8828</th>\n",
       "      <td>Compact</td>\n",
       "      <td>120.0</td>\n",
       "      <td>VAT deductible</td>\n",
       "      <td>12.0</td>\n",
       "      <td>66.0</td>\n",
       "      <td>New</td>\n",
       "      <td>0.0</td>\n",
       "      <td>0.0</td>\n",
       "      <td>Opel</td>\n",
       "      <td>Corsa</td>\n",
       "      <td>Grey</td>\n",
       "      <td>Metallic</td>\n",
       "      <td>Cloth</td>\n",
       "      <td>5.0</td>\n",
       "      <td>5.0</td>\n",
       "      <td>Manual</td>\n",
       "      <td>999.0</td>\n",
       "      <td>3.0</td>\n",
       "      <td>1099.0</td>\n",
       "      <td>front</td>\n",
       "      <td>Benzine</td>\n",
       "      <td>107.0</td>\n",
       "      <td>Euro 6</td>\n",
       "      <td>Air conditioning,Automatic climate control,Cru...</td>\n",
       "      <td>Digital radio,On-board computer,Radio</td>\n",
       "      <td>Alloy wheels,Sport suspension</td>\n",
       "      <td>Central door lock,Daytime running lights,Drive...</td>\n",
       "      <td>6.0</td>\n",
       "      <td>Netherlands</td>\n",
       "      <td>4.60</td>\n",
       "      <td>5.6</td>\n",
       "      <td>4.1</td>\n",
       "      <td>0.0</td>\n",
       "    </tr>\n",
       "    <tr>\n",
       "      <th>6066</th>\n",
       "      <td>Station wagon</td>\n",
       "      <td>255.0</td>\n",
       "      <td>VAT deductible</td>\n",
       "      <td>5563.0</td>\n",
       "      <td>100.0</td>\n",
       "      <td>Used</td>\n",
       "      <td>1.0</td>\n",
       "      <td>0.0</td>\n",
       "      <td>Opel</td>\n",
       "      <td>Astra</td>\n",
       "      <td>Gold</td>\n",
       "      <td>Metallic</td>\n",
       "      <td>Cloth</td>\n",
       "      <td>5.0</td>\n",
       "      <td>5.0</td>\n",
       "      <td>Manual</td>\n",
       "      <td>1598.0</td>\n",
       "      <td>4.0</td>\n",
       "      <td>1403.0</td>\n",
       "      <td>front</td>\n",
       "      <td>Diesel</td>\n",
       "      <td>101.0</td>\n",
       "      <td>Euro 6</td>\n",
       "      <td>Air conditioning,Cruise control,Electrical sid...</td>\n",
       "      <td>Bluetooth,Hands-free equipment,On-board comput...</td>\n",
       "      <td>Roof rack</td>\n",
       "      <td>ABS,Central door lock with remote control,Dayt...</td>\n",
       "      <td>6.0</td>\n",
       "      <td>Unknown</td>\n",
       "      <td>3.80</td>\n",
       "      <td>4.5</td>\n",
       "      <td>3.4</td>\n",
       "      <td>1.0</td>\n",
       "    </tr>\n",
       "    <tr>\n",
       "      <th>8829</th>\n",
       "      <td>Other</td>\n",
       "      <td>331.0</td>\n",
       "      <td>VAT deductible</td>\n",
       "      <td>10.0</td>\n",
       "      <td>66.0</td>\n",
       "      <td>New</td>\n",
       "      <td>0.0</td>\n",
       "      <td>0.0</td>\n",
       "      <td>Opel</td>\n",
       "      <td>Corsa</td>\n",
       "      <td>White</td>\n",
       "      <td>Metallic</td>\n",
       "      <td>Cloth</td>\n",
       "      <td>5.0</td>\n",
       "      <td>5.0</td>\n",
       "      <td>Manual</td>\n",
       "      <td>999.0</td>\n",
       "      <td>3.0</td>\n",
       "      <td>1163.0</td>\n",
       "      <td>front</td>\n",
       "      <td>Benzine</td>\n",
       "      <td>128.0</td>\n",
       "      <td>Euro 6d-TEMP</td>\n",
       "      <td>Air conditioning,Armrest,Automatic climate con...</td>\n",
       "      <td>Hands-free equipment,On-board computer,Radio</td>\n",
       "      <td>Alloy wheels,Sport package</td>\n",
       "      <td>ABS,Central door lock,Driver-side airbag,Elect...</td>\n",
       "      <td>6.0</td>\n",
       "      <td>Netherlands</td>\n",
       "      <td>6.65</td>\n",
       "      <td>8.2</td>\n",
       "      <td>5.7</td>\n",
       "      <td>0.0</td>\n",
       "    </tr>\n",
       "  </tbody>\n",
       "</table>\n",
       "</div>"
      ],
      "text/plain": [
       "          body_type  price_€             vat      km  hp_kW  type  \\\n",
       "8594         Sedans     13.0  VAT deductible   123.0   66.0  Used   \n",
       "8828        Compact    120.0  VAT deductible    12.0   66.0   New   \n",
       "6066  Station wagon    255.0  VAT deductible  5563.0  100.0  Used   \n",
       "8829          Other    331.0  VAT deductible    10.0   66.0   New   \n",
       "\n",
       "      previous_owners  warranty  make  model body_color paint_type upholstery  \\\n",
       "8594              1.0       0.0  Opel  Corsa       Gold   Metallic      Cloth   \n",
       "8828              0.0       0.0  Opel  Corsa       Grey   Metallic      Cloth   \n",
       "6066              1.0       0.0  Opel  Astra       Gold   Metallic      Cloth   \n",
       "8829              0.0       0.0  Opel  Corsa      White   Metallic      Cloth   \n",
       "\n",
       "      nr_of_doors  nr_of_seats gearing_type  engine_displacement_cc  \\\n",
       "8594          3.0          5.0       Manual                  1398.0   \n",
       "8828          5.0          5.0       Manual                   999.0   \n",
       "6066          5.0          5.0       Manual                  1598.0   \n",
       "8829          5.0          5.0       Manual                   999.0   \n",
       "\n",
       "      cylinders  weight_kg drive_chain     fuel  co2e_g emission_class  \\\n",
       "8594        4.0     1141.0       front  Benzine   128.0   Euro 6d-TEMP   \n",
       "8828        3.0     1099.0       front  Benzine   107.0         Euro 6   \n",
       "6066        4.0     1403.0       front   Diesel   101.0         Euro 6   \n",
       "8829        3.0     1163.0       front  Benzine   128.0   Euro 6d-TEMP   \n",
       "\n",
       "                                    comfort&convenience  \\\n",
       "8594  Air conditioning,Cruise control,Electrical sid...   \n",
       "8828  Air conditioning,Automatic climate control,Cru...   \n",
       "6066  Air conditioning,Cruise control,Electrical sid...   \n",
       "8829  Air conditioning,Armrest,Automatic climate con...   \n",
       "\n",
       "                                    entertainment&media  \\\n",
       "8594  Bluetooth,CD player,Hands-free equipment,MP3,O...   \n",
       "8828              Digital radio,On-board computer,Radio   \n",
       "6066  Bluetooth,Hands-free equipment,On-board comput...   \n",
       "8829       Hands-free equipment,On-board computer,Radio   \n",
       "\n",
       "                             extras  \\\n",
       "8594                   Alloy wheels   \n",
       "8828  Alloy wheels,Sport suspension   \n",
       "6066                      Roof rack   \n",
       "8829     Alloy wheels,Sport package   \n",
       "\n",
       "                                        safety&security  gears  \\\n",
       "8594  ABS,Adaptive headlights,Central door lock with...    5.0   \n",
       "8828  Central door lock,Daytime running lights,Drive...    6.0   \n",
       "6066  ABS,Central door lock with remote control,Dayt...    6.0   \n",
       "8829  ABS,Central door lock,Driver-side airbag,Elect...    6.0   \n",
       "\n",
       "     country_version  consumption_comb  consumption_city  consumption_country  \\\n",
       "8594         Unknown              5.60               6.8                  4.9   \n",
       "8828     Netherlands              4.60               5.6                  4.1   \n",
       "6066         Unknown              3.80               4.5                  3.4   \n",
       "8829     Netherlands              6.65               8.2                  5.7   \n",
       "\n",
       "      age  \n",
       "8594  1.0  \n",
       "8828  0.0  \n",
       "6066  1.0  \n",
       "8829  0.0  "
      ]
     },
     "execution_count": 14,
     "metadata": {},
     "output_type": "execute_result"
    }
   ],
   "source": [
    "df.iloc[[8594, 8828, 6066, 8829]]"
   ]
  },
  {
   "cell_type": "code",
   "execution_count": 15,
   "id": "85efd7c3",
   "metadata": {
    "ExecuteTime": {
     "end_time": "2022-08-03T15:36:42.417844Z",
     "start_time": "2022-08-03T15:36:42.397295Z"
    }
   },
   "outputs": [],
   "source": [
    "df.loc[df[\"price_€\"] < 332.0,  [\"price_€\"]] = np.nan"
   ]
  },
  {
   "cell_type": "code",
   "execution_count": 16,
   "id": "ee89b3ff",
   "metadata": {
    "ExecuteTime": {
     "end_time": "2022-08-03T15:36:42.449962Z",
     "start_time": "2022-08-03T15:36:42.423912Z"
    }
   },
   "outputs": [
    {
     "data": {
      "text/plain": [
       "4"
      ]
     },
     "execution_count": 16,
     "metadata": {},
     "output_type": "execute_result"
    }
   ],
   "source": [
    "df[\"price_€\"].isnull().sum()"
   ]
  },
  {
   "cell_type": "code",
   "execution_count": 17,
   "id": "40e929d7",
   "metadata": {
    "ExecuteTime": {
     "end_time": "2022-08-03T15:36:42.644954Z",
     "start_time": "2022-08-03T15:36:42.459424Z"
    },
    "scrolled": true
   },
   "outputs": [],
   "source": [
    "df[\"price_€\"] = df.groupby([\"make\", \"model\", \"body_type\", \"age\"])[\"price_€\"].apply(lambda x : x.fillna(round(x.mean(), 0)))"
   ]
  },
  {
   "cell_type": "code",
   "execution_count": 18,
   "id": "f9f9774e",
   "metadata": {
    "ExecuteTime": {
     "end_time": "2022-08-03T15:36:42.686091Z",
     "start_time": "2022-08-03T15:36:42.654777Z"
    }
   },
   "outputs": [
    {
     "data": {
      "text/plain": [
       "8594    10853.0\n",
       "8828    13816.0\n",
       "6066    16933.0\n",
       "8829    12310.0\n",
       "Name: price_€, dtype: float64"
      ]
     },
     "execution_count": 18,
     "metadata": {},
     "output_type": "execute_result"
    }
   ],
   "source": [
    "df.iloc[[8594, 8828, 6066, 8829]][\"price_€\"]"
   ]
  },
  {
   "cell_type": "code",
   "execution_count": 19,
   "id": "7358c913",
   "metadata": {
    "ExecuteTime": {
     "end_time": "2022-08-03T15:36:43.305885Z",
     "start_time": "2022-08-03T15:36:42.699704Z"
    }
   },
   "outputs": [
    {
     "data": {
      "text/plain": [
       "<AxesSubplot:xlabel='price_€'>"
      ]
     },
     "execution_count": 19,
     "metadata": {},
     "output_type": "execute_result"
    },
    {
     "data": {
      "image/png": "[encoded data removed]",
      "text/plain": [
       "<Figure size 720x432 with 1 Axes>"
      ]
     },
     "metadata": {},
     "output_type": "display_data"
    }
   ],
   "source": [
    "sns.boxplot(df[\"price_€\"])"
   ]
  },
  {
   "cell_type": "markdown",
   "id": "77109eff",
   "metadata": {},
   "source": [
    "## 2. km"
   ]
  },
  {
   "cell_type": "code",
   "execution_count": 20,
   "id": "0dfde3db",
   "metadata": {
    "ExecuteTime": {
     "end_time": "2022-08-03T15:36:43.362281Z",
     "start_time": "2022-08-03T15:36:43.317495Z"
    }
   },
   "outputs": [
    {
     "name": "stdout",
     "output_type": "stream",
     "text": [
      "column name :  km\n",
      "----------------------------------------\n",
      "Q1 :  2000.0\n",
      "Q3 :  46898.5\n",
      "IQR :  44898.5\n",
      "lower limit :  -65347.75\n",
      "mean :  31964.85\n",
      "median :  20410.0\n",
      "upper limit :  114246.25\n",
      "count of lower values :  0\n",
      "count of upper values :  691\n",
      " \n",
      "the smallest 10 values :\n",
      " 14518    0.0\n",
      "9892     0.0\n",
      "2496     0.0\n",
      "9882     0.0\n",
      "15668    0.0\n",
      "5553     0.0\n",
      "12512    0.0\n",
      "5672     0.0\n",
      "9929     0.0\n",
      "7828     0.0\n",
      "Name: km, dtype: float64\n",
      " \n",
      "the biggest 10 values :\n",
      " 9279     317000.0\n",
      "3003     291800.0\n",
      "5712     260000.0\n",
      "6224     248000.0\n",
      "15277    240000.0\n",
      "10804    232000.0\n",
      "6380     231879.0\n",
      "6062     230928.0\n",
      "6399     229500.0\n",
      "10495    222346.0\n",
      "Name: km, dtype: float64\n",
      "\n",
      "\n",
      "\n"
     ]
    }
   ],
   "source": [
    "detect_outlier(\"km\")"
   ]
  },
  {
   "cell_type": "code",
   "execution_count": 21,
   "id": "4d3ae1e9",
   "metadata": {
    "ExecuteTime": {
     "end_time": "2022-08-03T15:36:43.947514Z",
     "start_time": "2022-08-03T15:36:43.374440Z"
    }
   },
   "outputs": [
    {
     "data": {
      "text/plain": [
       "<AxesSubplot:xlabel='km'>"
      ]
     },
     "execution_count": 21,
     "metadata": {},
     "output_type": "execute_result"
    },
    {
     "data": {
      "image/png": "[encoded data removed]",
      "text/plain": [
       "<Figure size 720x432 with 1 Axes>"
      ]
     },
     "metadata": {},
     "output_type": "display_data"
    }
   ],
   "source": [
    "sns.boxplot(df.km)"
   ]
  },
  {
   "cell_type": "code",
   "execution_count": 22,
   "id": "0eefd144",
   "metadata": {
    "ExecuteTime": {
     "end_time": "2022-08-03T15:36:43.999408Z",
     "start_time": "2022-08-03T15:36:43.960452Z"
    },
    "scrolled": true
   },
   "outputs": [
    {
     "data": {
      "text/plain": [
       "age\n",
       "0.0    127022.0\n",
       "1.0    136000.0\n",
       "2.0    317000.0\n",
       "3.0    291800.0\n",
       "Name: km, dtype: float64"
      ]
     },
     "execution_count": 22,
     "metadata": {},
     "output_type": "execute_result"
    }
   ],
   "source": [
    "df.groupby(\"age\")[\"km\"].mean()\n",
    "df.groupby(\"age\")[\"km\"].min()\n",
    "df.groupby(\"age\")[\"km\"].max()"
   ]
  },
  {
   "cell_type": "code",
   "execution_count": null,
   "id": "cc9e7d4c",
   "metadata": {},
   "outputs": [],
   "source": []
  },
  {
   "cell_type": "markdown",
   "id": "880a544a",
   "metadata": {},
   "source": [
    "## 3. hp_kW"
   ]
  },
  {
   "cell_type": "code",
   "execution_count": 23,
   "id": "24483953",
   "metadata": {
    "ExecuteTime": {
     "end_time": "2022-08-03T15:36:44.056266Z",
     "start_time": "2022-08-03T15:36:44.005849Z"
    },
    "scrolled": true
   },
   "outputs": [
    {
     "name": "stdout",
     "output_type": "stream",
     "text": [
      "column name :  hp_kW\n",
      "----------------------------------------\n",
      "Q1 :  66.0\n",
      "Q3 :  101.0\n",
      "IQR :  35.0\n",
      "lower limit :  13.5\n",
      "mean :  88.37\n",
      "median :  85.0\n",
      "upper limit :  153.5\n",
      "count of lower values :  22\n",
      "count of upper values :  406\n",
      " \n",
      "the smallest 10 values :\n",
      " 6034    1.0\n",
      "7019    1.0\n",
      "7014    1.0\n",
      "9285    1.0\n",
      "6005    1.0\n",
      "9287    1.0\n",
      "9288    1.0\n",
      "7018    1.0\n",
      "9289    1.0\n",
      "9290    1.0\n",
      "Name: hp_kW, dtype: float64\n",
      " \n",
      "the biggest 10 values :\n",
      " 3595    294.0\n",
      "3606    294.0\n",
      "3587    294.0\n",
      "3590    294.0\n",
      "3592    294.0\n",
      "3593    294.0\n",
      "3596    294.0\n",
      "3598    294.0\n",
      "3599    294.0\n",
      "3600    294.0\n",
      "Name: hp_kW, dtype: float64\n",
      "\n",
      "\n",
      "\n"
     ]
    }
   ],
   "source": [
    "detect_outlier(\"hp_kW\")"
   ]
  },
  {
   "cell_type": "code",
   "execution_count": 24,
   "id": "d3bff811",
   "metadata": {
    "ExecuteTime": {
     "end_time": "2022-08-03T15:36:44.588948Z",
     "start_time": "2022-08-03T15:36:44.064029Z"
    }
   },
   "outputs": [
    {
     "data": {
      "text/plain": [
       "<AxesSubplot:xlabel='hp_kW'>"
      ]
     },
     "execution_count": 24,
     "metadata": {},
     "output_type": "execute_result"
    },
    {
     "data": {
      "image/png": "[encoded data removed]",
      "text/plain": [
       "<Figure size 720x432 with 1 Axes>"
      ]
     },
     "metadata": {},
     "output_type": "display_data"
    }
   ],
   "source": [
    "sns.boxplot(df.hp_kW)"
   ]
  },
  {
   "cell_type": "code",
   "execution_count": 25,
   "id": "860716b0",
   "metadata": {
    "ExecuteTime": {
     "end_time": "2022-08-03T15:36:44.616909Z",
     "start_time": "2022-08-03T15:36:44.598642Z"
    }
   },
   "outputs": [],
   "source": [
    "# the hp_kw values for opel corsa is min=33 max=155"
   ]
  },
  {
   "cell_type": "code",
   "execution_count": 26,
   "id": "b98fdc7b",
   "metadata": {
    "ExecuteTime": {
     "end_time": "2022-08-03T15:36:44.816526Z",
     "start_time": "2022-08-03T15:36:44.635617Z"
    }
   },
   "outputs": [],
   "source": [
    "df.hp_kW = df.groupby([\"make\", \"model\",\"drive_chain\",\"engine_displacement_cc\"])[\"hp_kW\"].apply(lambda x : x.fillna(x.median() if x.median() > 1 else df.hp_kW.median()))"
   ]
  },
  {
   "cell_type": "code",
   "execution_count": 27,
   "id": "760df8e6",
   "metadata": {
    "ExecuteTime": {
     "end_time": "2022-08-03T15:36:44.885242Z",
     "start_time": "2022-08-03T15:36:44.842076Z"
    }
   },
   "outputs": [
    {
     "data": {
      "text/plain": [
       "0"
      ]
     },
     "execution_count": 27,
     "metadata": {},
     "output_type": "execute_result"
    }
   ],
   "source": [
    "df.hp_kW.isnull().sum()"
   ]
  },
  {
   "cell_type": "code",
   "execution_count": 28,
   "id": "8efe2ad8",
   "metadata": {
    "ExecuteTime": {
     "end_time": "2022-08-03T15:36:45.485721Z",
     "start_time": "2022-08-03T15:36:44.892338Z"
    }
   },
   "outputs": [
    {
     "data": {
      "text/plain": [
       "<AxesSubplot:xlabel='hp_kW'>"
      ]
     },
     "execution_count": 28,
     "metadata": {},
     "output_type": "execute_result"
    },
    {
     "data": {
      "image/png": "[encoded data removed]",
      "text/plain": [
       "<Figure size 720x432 with 1 Axes>"
      ]
     },
     "metadata": {},
     "output_type": "display_data"
    }
   ],
   "source": [
    "sns.boxplot(df.hp_kW)"
   ]
  },
  {
   "cell_type": "code",
   "execution_count": null,
   "id": "6c7fb2b7",
   "metadata": {},
   "outputs": [],
   "source": []
  },
  {
   "cell_type": "markdown",
   "id": "e1ae817d",
   "metadata": {},
   "source": [
    "## 4. nr_of_doors"
   ]
  },
  {
   "cell_type": "code",
   "execution_count": 29,
   "id": "c728cb40",
   "metadata": {
    "ExecuteTime": {
     "end_time": "2022-08-03T15:36:45.536491Z",
     "start_time": "2022-08-03T15:36:45.494098Z"
    },
    "scrolled": true
   },
   "outputs": [
    {
     "name": "stdout",
     "output_type": "stream",
     "text": [
      "column name :  nr_of_doors\n",
      "----------------------------------------\n",
      "Q1 :  4.0\n",
      "Q3 :  5.0\n",
      "IQR :  1.0\n",
      "lower limit :  2.5\n",
      "mean :  4.66\n",
      "median :  5.0\n",
      "upper limit :  6.5\n",
      "count of lower values :  220\n",
      "count of upper values :  1\n",
      " \n",
      "the smallest 10 values :\n",
      " 13782    1.0\n",
      "1811     2.0\n",
      "1228     2.0\n",
      "1229     2.0\n",
      "1230     2.0\n",
      "1231     2.0\n",
      "303      2.0\n",
      "1233     2.0\n",
      "1234     2.0\n",
      "1235     2.0\n",
      "Name: nr_of_doors, dtype: float64\n",
      " \n",
      "the biggest 10 values :\n",
      " 15202    7.0\n",
      "0        5.0\n",
      "10023    5.0\n",
      "10012    5.0\n",
      "10013    5.0\n",
      "10014    5.0\n",
      "10015    5.0\n",
      "10016    5.0\n",
      "10017    5.0\n",
      "10018    5.0\n",
      "Name: nr_of_doors, dtype: float64\n",
      "\n",
      "\n",
      "\n"
     ]
    }
   ],
   "source": [
    "detect_outlier(\"nr_of_doors\")"
   ]
  },
  {
   "cell_type": "code",
   "execution_count": 30,
   "id": "9e911663",
   "metadata": {
    "ExecuteTime": {
     "end_time": "2022-08-03T15:36:46.143178Z",
     "start_time": "2022-08-03T15:36:45.544924Z"
    }
   },
   "outputs": [
    {
     "data": {
      "text/plain": [
       "<AxesSubplot:xlabel='nr_of_doors'>"
      ]
     },
     "execution_count": 30,
     "metadata": {},
     "output_type": "execute_result"
    },
    {
     "data": {
      "image/png": "[encoded data removed]",
      "text/plain": [
       "<Figure size 720x432 with 1 Axes>"
      ]
     },
     "metadata": {},
     "output_type": "display_data"
    }
   ],
   "source": [
    "sns.boxplot(df.nr_of_doors)"
   ]
  },
  {
   "cell_type": "code",
   "execution_count": 31,
   "id": "c052e40a",
   "metadata": {
    "ExecuteTime": {
     "end_time": "2022-08-03T15:36:46.174225Z",
     "start_time": "2022-08-03T15:36:46.152898Z"
    }
   },
   "outputs": [],
   "source": [
    "df.loc[(df.nr_of_doors == 1) | (df.nr_of_doors == 7), \"nr_of_doors\"] = 5"
   ]
  },
  {
   "cell_type": "code",
   "execution_count": 32,
   "id": "60575a04",
   "metadata": {
    "ExecuteTime": {
     "end_time": "2022-08-03T15:36:46.222417Z",
     "start_time": "2022-08-03T15:36:46.181732Z"
    },
    "scrolled": true
   },
   "outputs": [
    {
     "name": "stdout",
     "output_type": "stream",
     "text": [
      "column name :  nr_of_doors\n",
      "----------------------------------------\n",
      "Q1 :  4.0\n",
      "Q3 :  5.0\n",
      "IQR :  1.0\n",
      "lower limit :  2.5\n",
      "mean :  4.66\n",
      "median :  5.0\n",
      "upper limit :  6.5\n",
      "count of lower values :  219\n",
      "count of upper values :  0\n",
      " \n",
      "the smallest 10 values :\n",
      " 1811    2.0\n",
      "3724    2.0\n",
      "1228    2.0\n",
      "1229    2.0\n",
      "303     2.0\n",
      "1230    2.0\n",
      "1231    2.0\n",
      "1233    2.0\n",
      "1234    2.0\n",
      "1235    2.0\n",
      "Name: nr_of_doors, dtype: float64\n",
      " \n",
      "the biggest 10 values :\n",
      " 0        5.0\n",
      "10008    5.0\n",
      "10010    5.0\n",
      "10012    5.0\n",
      "10013    5.0\n",
      "10014    5.0\n",
      "10015    5.0\n",
      "10016    5.0\n",
      "10017    5.0\n",
      "10018    5.0\n",
      "Name: nr_of_doors, dtype: float64\n",
      "\n",
      "\n",
      "\n"
     ]
    }
   ],
   "source": [
    "detect_outlier(\"nr_of_doors\")"
   ]
  },
  {
   "cell_type": "code",
   "execution_count": 33,
   "id": "35e2ff95",
   "metadata": {
    "ExecuteTime": {
     "end_time": "2022-08-03T15:36:46.783076Z",
     "start_time": "2022-08-03T15:36:46.233992Z"
    },
    "scrolled": true
   },
   "outputs": [
    {
     "data": {
      "text/plain": [
       "<AxesSubplot:xlabel='nr_of_doors'>"
      ]
     },
     "execution_count": 33,
     "metadata": {},
     "output_type": "execute_result"
    },
    {
     "data": {
      "image/png": "[encoded data removed]",
      "text/plain": [
       "<Figure size 720x432 with 1 Axes>"
      ]
     },
     "metadata": {},
     "output_type": "display_data"
    }
   ],
   "source": [
    "sns.boxplot(df.nr_of_doors)"
   ]
  },
  {
   "cell_type": "code",
   "execution_count": null,
   "id": "a4ea76aa",
   "metadata": {},
   "outputs": [],
   "source": []
  },
  {
   "cell_type": "markdown",
   "id": "68613479",
   "metadata": {},
   "source": [
    "## 5. nr_of_seats"
   ]
  },
  {
   "cell_type": "code",
   "execution_count": 34,
   "id": "15143a08",
   "metadata": {
    "ExecuteTime": {
     "end_time": "2022-08-03T15:36:46.825050Z",
     "start_time": "2022-08-03T15:36:46.788382Z"
    },
    "scrolled": true
   },
   "outputs": [
    {
     "name": "stdout",
     "output_type": "stream",
     "text": [
      "column name :  nr_of_seats\n",
      "----------------------------------------\n",
      "Q1 :  5.0\n",
      "Q3 :  5.0\n",
      "IQR :  0.0\n",
      "lower limit :  5.0\n",
      "mean :  4.95\n",
      "median :  5.0\n",
      "upper limit :  5.0\n",
      "count of lower values :  1247\n",
      "count of upper values :  364\n",
      " \n",
      "the smallest 10 values :\n",
      " 13608    2.0\n",
      "13383    2.0\n",
      "14152    2.0\n",
      "13571    2.0\n",
      "13919    2.0\n",
      "13629    2.0\n",
      "13918    2.0\n",
      "13628    2.0\n",
      "13627    2.0\n",
      "13625    2.0\n",
      "Name: nr_of_seats, dtype: float64\n",
      " \n",
      "the biggest 10 values :\n",
      " 15125    7.0\n",
      "15274    7.0\n",
      "15010    7.0\n",
      "15011    7.0\n",
      "15012    7.0\n",
      "15656    7.0\n",
      "15657    7.0\n",
      "15013    7.0\n",
      "15014    7.0\n",
      "15660    7.0\n",
      "Name: nr_of_seats, dtype: float64\n",
      "\n",
      "\n",
      "\n"
     ]
    }
   ],
   "source": [
    "detect_outlier(\"nr_of_seats\")"
   ]
  },
  {
   "cell_type": "code",
   "execution_count": 35,
   "id": "473806ce",
   "metadata": {
    "ExecuteTime": {
     "end_time": "2022-08-03T15:36:46.889524Z",
     "start_time": "2022-08-03T15:36:46.843678Z"
    }
   },
   "outputs": [
    {
     "data": {
      "text/plain": [
       "make     model   body_type    \n",
       "Renault  Espace  Van              315\n",
       "                 Station wagon     19\n",
       "                 Transporter       16\n",
       "                 Sedans             4\n",
       "                 Off-Road           3\n",
       "                 Other              3\n",
       "                 Compact            2\n",
       "dtype: int64"
      ]
     },
     "execution_count": 35,
     "metadata": {},
     "output_type": "execute_result"
    }
   ],
   "source": [
    "df[df[\"nr_of_seats\"] == 7][[\"make\", \"model\", \"body_type\"]].value_counts()"
   ]
  },
  {
   "cell_type": "code",
   "execution_count": 36,
   "id": "98e727cb",
   "metadata": {
    "ExecuteTime": {
     "end_time": "2022-08-03T15:36:46.939472Z",
     "start_time": "2022-08-03T15:36:46.904101Z"
    }
   },
   "outputs": [
    {
     "data": {
      "text/plain": [
       "make     model     body_type    \n",
       "Renault  Clio      Sedans           71\n",
       "                   Transporter      29\n",
       "                   Compact           8\n",
       "Opel     Corsa     Transporter       4\n",
       "Renault  Clio      Other             4\n",
       "Opel     Corsa     Coupe             1\n",
       "         Insignia  Station wagon     1\n",
       "Renault  Clio      Van               1\n",
       "dtype: int64"
      ]
     },
     "execution_count": 36,
     "metadata": {},
     "output_type": "execute_result"
    }
   ],
   "source": [
    "df[df[\"nr_of_seats\"] == 2][[\"make\", \"model\", \"body_type\"]].value_counts()"
   ]
  },
  {
   "cell_type": "code",
   "execution_count": null,
   "id": "fcf022cf",
   "metadata": {},
   "outputs": [],
   "source": []
  },
  {
   "cell_type": "markdown",
   "id": "d684d3b0",
   "metadata": {},
   "source": [
    "## 6. engine_displacement_cc"
   ]
  },
  {
   "cell_type": "code",
   "execution_count": 37,
   "id": "09448729",
   "metadata": {
    "ExecuteTime": {
     "end_time": "2022-08-03T15:36:46.982373Z",
     "start_time": "2022-08-03T15:36:46.946905Z"
    }
   },
   "outputs": [
    {
     "name": "stdout",
     "output_type": "stream",
     "text": [
      "column name :  engine_displacement_cc\n",
      "----------------------------------------\n",
      "Q1 :  1229.0\n",
      "Q3 :  1598.0\n",
      "IQR :  369.0\n",
      "lower limit :  675.5\n",
      "mean :  1424.82\n",
      "median :  1461.0\n",
      "upper limit :  2151.5\n",
      "count of lower values :  51\n",
      "count of upper values :  23\n",
      " \n",
      "the smallest 10 values :\n",
      " 14315    1.0\n",
      "12473    1.0\n",
      "12484    1.0\n",
      "14328    1.0\n",
      "14327    1.0\n",
      "14326    1.0\n",
      "13904    1.0\n",
      "14325    1.0\n",
      "14324    1.0\n",
      "14322    1.0\n",
      "Name: engine_displacement_cc, dtype: float64\n",
      " \n",
      "the biggest 10 values :\n",
      " 10932    16000.0\n",
      "7169     15898.0\n",
      "10771     2967.0\n",
      "3609      2480.0\n",
      "3604      2480.0\n",
      "3602      2480.0\n",
      "3601      2480.0\n",
      "3600      2480.0\n",
      "3599      2480.0\n",
      "3598      2480.0\n",
      "Name: engine_displacement_cc, dtype: float64\n",
      "\n",
      "\n",
      "\n"
     ]
    }
   ],
   "source": [
    "detect_outlier(\"engine_displacement_cc\")"
   ]
  },
  {
   "cell_type": "code",
   "execution_count": 38,
   "id": "96426789",
   "metadata": {
    "ExecuteTime": {
     "end_time": "2022-08-03T15:36:47.633645Z",
     "start_time": "2022-08-03T15:36:46.988889Z"
    }
   },
   "outputs": [
    {
     "data": {
      "text/plain": [
       "<AxesSubplot:xlabel='engine_displacement_cc'>"
      ]
     },
     "execution_count": 38,
     "metadata": {},
     "output_type": "execute_result"
    },
    {
     "data": {
      "image/png": "[encoded data removed]",
      "text/plain": [
       "<Figure size 720x432 with 1 Axes>"
      ]
     },
     "metadata": {},
     "output_type": "display_data"
    }
   ],
   "source": [
    "sns.boxplot(df.engine_displacement_cc)"
   ]
  },
  {
   "cell_type": "code",
   "execution_count": 39,
   "id": "2cbbb47a",
   "metadata": {
    "ExecuteTime": {
     "end_time": "2022-08-03T15:36:47.666742Z",
     "start_time": "2022-08-03T15:36:47.643004Z"
    }
   },
   "outputs": [
    {
     "data": {
      "text/plain": [
       "0"
      ]
     },
     "execution_count": 39,
     "metadata": {},
     "output_type": "execute_result"
    }
   ],
   "source": [
    "df.engine_displacement_cc.isnull().sum()"
   ]
  },
  {
   "cell_type": "code",
   "execution_count": null,
   "id": "91050d47",
   "metadata": {},
   "outputs": [],
   "source": []
  },
  {
   "cell_type": "code",
   "execution_count": 40,
   "id": "a84f6d08",
   "metadata": {
    "ExecuteTime": {
     "end_time": "2022-08-03T15:36:47.721778Z",
     "start_time": "2022-08-03T15:36:47.678249Z"
    }
   },
   "outputs": [
    {
     "name": "stdout",
     "output_type": "stream",
     "text": [
      "column name :  engine_displacement_cc\n",
      "----------------------------------------\n",
      "Q1 :  1229.0\n",
      "Q3 :  1598.0\n",
      "IQR :  369.0\n",
      "lower limit :  675.5\n",
      "mean :  1424.82\n",
      "median :  1461.0\n",
      "upper limit :  2151.5\n",
      "count of lower values :  51\n",
      "count of upper values :  23\n",
      " \n",
      "the smallest 10 values :\n",
      " 14315    1.0\n",
      "12473    1.0\n",
      "12484    1.0\n",
      "14328    1.0\n",
      "14327    1.0\n",
      "14326    1.0\n",
      "13904    1.0\n",
      "14325    1.0\n",
      "14324    1.0\n",
      "14322    1.0\n",
      "Name: engine_displacement_cc, dtype: float64\n",
      " \n",
      "the biggest 10 values :\n",
      " 10932    16000.0\n",
      "7169     15898.0\n",
      "10771     2967.0\n",
      "3609      2480.0\n",
      "3604      2480.0\n",
      "3602      2480.0\n",
      "3601      2480.0\n",
      "3600      2480.0\n",
      "3599      2480.0\n",
      "3598      2480.0\n",
      "Name: engine_displacement_cc, dtype: float64\n",
      "\n",
      "\n",
      "\n"
     ]
    }
   ],
   "source": [
    "detect_outlier(\"engine_displacement_cc\")"
   ]
  },
  {
   "cell_type": "code",
   "execution_count": 41,
   "id": "55997411",
   "metadata": {
    "ExecuteTime": {
     "end_time": "2022-08-03T15:36:47.743484Z",
     "start_time": "2022-08-03T15:36:47.728243Z"
    }
   },
   "outputs": [],
   "source": [
    "# df.loc[(df.engine_displacement_cc > 3000), \"engine_displacement_cc\"] = df.engine_displacement_cc/10"
   ]
  },
  {
   "cell_type": "code",
   "execution_count": null,
   "id": "cae61896",
   "metadata": {},
   "outputs": [],
   "source": []
  },
  {
   "cell_type": "code",
   "execution_count": 42,
   "id": "433feda8",
   "metadata": {
    "ExecuteTime": {
     "end_time": "2022-08-03T15:36:48.006124Z",
     "start_time": "2022-08-03T15:36:47.881466Z"
    }
   },
   "outputs": [
    {
     "data": {
      "text/html": [
       "<div>\n",
       "<style scoped>\n",
       "    .dataframe tbody tr th:only-of-type {\n",
       "        vertical-align: middle;\n",
       "    }\n",
       "\n",
       "    .dataframe tbody tr th {\n",
       "        vertical-align: top;\n",
       "    }\n",
       "\n",
       "    .dataframe thead th {\n",
       "        text-align: right;\n",
       "    }\n",
       "</style>\n",
       "<table border=\"1\" class=\"dataframe\">\n",
       "  <thead>\n",
       "    <tr style=\"text-align: right;\">\n",
       "      <th></th>\n",
       "      <th>body_type</th>\n",
       "      <th>price_€</th>\n",
       "      <th>vat</th>\n",
       "      <th>km</th>\n",
       "      <th>hp_kW</th>\n",
       "      <th>type</th>\n",
       "      <th>previous_owners</th>\n",
       "      <th>warranty</th>\n",
       "      <th>make</th>\n",
       "      <th>model</th>\n",
       "      <th>body_color</th>\n",
       "      <th>paint_type</th>\n",
       "      <th>upholstery</th>\n",
       "      <th>nr_of_doors</th>\n",
       "      <th>nr_of_seats</th>\n",
       "      <th>gearing_type</th>\n",
       "      <th>engine_displacement_cc</th>\n",
       "      <th>cylinders</th>\n",
       "      <th>weight_kg</th>\n",
       "      <th>drive_chain</th>\n",
       "      <th>fuel</th>\n",
       "      <th>co2e_g</th>\n",
       "      <th>emission_class</th>\n",
       "      <th>comfort&amp;convenience</th>\n",
       "      <th>entertainment&amp;media</th>\n",
       "      <th>extras</th>\n",
       "      <th>safety&amp;security</th>\n",
       "      <th>gears</th>\n",
       "      <th>country_version</th>\n",
       "      <th>consumption_comb</th>\n",
       "      <th>consumption_city</th>\n",
       "      <th>consumption_country</th>\n",
       "      <th>age</th>\n",
       "    </tr>\n",
       "  </thead>\n",
       "  <tbody>\n",
       "    <tr>\n",
       "      <th>10932</th>\n",
       "      <td>Station wagon</td>\n",
       "      <td>14300.0</td>\n",
       "      <td>Price negotiable</td>\n",
       "      <td>76500.0</td>\n",
       "      <td>88.0</td>\n",
       "      <td>Used</td>\n",
       "      <td>1.0</td>\n",
       "      <td>0.0</td>\n",
       "      <td>Opel</td>\n",
       "      <td>Insignia</td>\n",
       "      <td>Grey</td>\n",
       "      <td>Metallic</td>\n",
       "      <td>Full leather</td>\n",
       "      <td>5.0</td>\n",
       "      <td>5.0</td>\n",
       "      <td>Manual</td>\n",
       "      <td>16000.0</td>\n",
       "      <td>4.0</td>\n",
       "      <td>1623.0</td>\n",
       "      <td>front</td>\n",
       "      <td>Diesel</td>\n",
       "      <td>135.0</td>\n",
       "      <td>Euro 6</td>\n",
       "      <td>Air conditioning,Automatic climate control,Cru...</td>\n",
       "      <td>Bluetooth,Hands-free equipment,MP3,On-board co...</td>\n",
       "      <td>Alloy wheels,Touch screen,Voice Control</td>\n",
       "      <td>ABS,Central door lock,Daytime running lights,D...</td>\n",
       "      <td>6.0</td>\n",
       "      <td>Unknown</td>\n",
       "      <td>4.5</td>\n",
       "      <td>5.7</td>\n",
       "      <td>3.764516</td>\n",
       "      <td>3.0</td>\n",
       "    </tr>\n",
       "    <tr>\n",
       "      <th>7169</th>\n",
       "      <td>Station wagon</td>\n",
       "      <td>18490.0</td>\n",
       "      <td>VAT deductible</td>\n",
       "      <td>22327.0</td>\n",
       "      <td>100.0</td>\n",
       "      <td>Employee's car</td>\n",
       "      <td>1.0</td>\n",
       "      <td>0.0</td>\n",
       "      <td>Opel</td>\n",
       "      <td>Astra</td>\n",
       "      <td>Green</td>\n",
       "      <td>Metallic</td>\n",
       "      <td>Cloth</td>\n",
       "      <td>5.0</td>\n",
       "      <td>5.0</td>\n",
       "      <td>Automatic</td>\n",
       "      <td>15898.0</td>\n",
       "      <td>4.0</td>\n",
       "      <td>1393.0</td>\n",
       "      <td>front</td>\n",
       "      <td>Benzine</td>\n",
       "      <td>119.0</td>\n",
       "      <td>Euro 6</td>\n",
       "      <td>Air conditioning,Armrest,Automatic climate con...</td>\n",
       "      <td>Bluetooth,Hands-free equipment,MP3,On-board co...</td>\n",
       "      <td>Alloy wheels,Touch screen,Voice Control</td>\n",
       "      <td>ABS,Central door lock,Daytime running lights,D...</td>\n",
       "      <td>6.0</td>\n",
       "      <td>Unknown</td>\n",
       "      <td>4.5</td>\n",
       "      <td>5.7</td>\n",
       "      <td>3.800000</td>\n",
       "      <td>1.0</td>\n",
       "    </tr>\n",
       "  </tbody>\n",
       "</table>\n",
       "</div>"
      ],
      "text/plain": [
       "           body_type  price_€               vat       km  hp_kW  \\\n",
       "10932  Station wagon  14300.0  Price negotiable  76500.0   88.0   \n",
       "7169   Station wagon  18490.0    VAT deductible  22327.0  100.0   \n",
       "\n",
       "                 type  previous_owners  warranty  make     model body_color  \\\n",
       "10932            Used              1.0       0.0  Opel  Insignia       Grey   \n",
       "7169   Employee's car              1.0       0.0  Opel     Astra      Green   \n",
       "\n",
       "      paint_type    upholstery  nr_of_doors  nr_of_seats gearing_type  \\\n",
       "10932   Metallic  Full leather          5.0          5.0       Manual   \n",
       "7169    Metallic         Cloth          5.0          5.0    Automatic   \n",
       "\n",
       "       engine_displacement_cc  cylinders  weight_kg drive_chain     fuel  \\\n",
       "10932                 16000.0        4.0     1623.0       front   Diesel   \n",
       "7169                  15898.0        4.0     1393.0       front  Benzine   \n",
       "\n",
       "       co2e_g emission_class  \\\n",
       "10932   135.0         Euro 6   \n",
       "7169    119.0         Euro 6   \n",
       "\n",
       "                                     comfort&convenience  \\\n",
       "10932  Air conditioning,Automatic climate control,Cru...   \n",
       "7169   Air conditioning,Armrest,Automatic climate con...   \n",
       "\n",
       "                                     entertainment&media  \\\n",
       "10932  Bluetooth,Hands-free equipment,MP3,On-board co...   \n",
       "7169   Bluetooth,Hands-free equipment,MP3,On-board co...   \n",
       "\n",
       "                                        extras  \\\n",
       "10932  Alloy wheels,Touch screen,Voice Control   \n",
       "7169   Alloy wheels,Touch screen,Voice Control   \n",
       "\n",
       "                                         safety&security  gears  \\\n",
       "10932  ABS,Central door lock,Daytime running lights,D...    6.0   \n",
       "7169   ABS,Central door lock,Daytime running lights,D...    6.0   \n",
       "\n",
       "      country_version  consumption_comb  consumption_city  \\\n",
       "10932         Unknown               4.5               5.7   \n",
       "7169          Unknown               4.5               5.7   \n",
       "\n",
       "       consumption_country  age  \n",
       "10932             3.764516  3.0  \n",
       "7169              3.800000  1.0  "
      ]
     },
     "execution_count": 42,
     "metadata": {},
     "output_type": "execute_result"
    }
   ],
   "source": [
    "df.iloc[[10932, 7169]]"
   ]
  },
  {
   "cell_type": "code",
   "execution_count": 43,
   "id": "491c1f0b",
   "metadata": {
    "ExecuteTime": {
     "end_time": "2022-08-03T15:36:48.043996Z",
     "start_time": "2022-08-03T15:36:48.018924Z"
    }
   },
   "outputs": [],
   "source": [
    "df.loc[(df.engine_displacement_cc < 800), \"engine_displacement_cc\"] = np.nan"
   ]
  },
  {
   "cell_type": "code",
   "execution_count": 44,
   "id": "7eabe0e6",
   "metadata": {
    "ExecuteTime": {
     "end_time": "2022-08-03T15:36:48.335554Z",
     "start_time": "2022-08-03T15:36:48.057362Z"
    },
    "scrolled": false
   },
   "outputs": [
    {
     "data": {
      "text/plain": [
       "0"
      ]
     },
     "execution_count": 44,
     "metadata": {},
     "output_type": "execute_result"
    }
   ],
   "source": [
    "df.groupby([\"make\", \"model\",\"cylinders\", \"hp_kW\"])[\"engine_displacement_cc\"].apply(lambda x : x.fillna(x.median()) if x.median() > 0 else df[\"engine_displacement_cc\"].median()).isnull().sum()"
   ]
  },
  {
   "cell_type": "code",
   "execution_count": 45,
   "id": "7723c19d",
   "metadata": {
    "ExecuteTime": {
     "end_time": "2022-08-03T15:36:48.559086Z",
     "start_time": "2022-08-03T15:36:48.343239Z"
    }
   },
   "outputs": [],
   "source": [
    "df.engine_displacement_cc = df.groupby([\"make\", \"model\",\"cylinders\", \"hp_kW\"])[\"engine_displacement_cc\"].apply(lambda x : x.fillna(x.median()) if x.median() > 0 else df[\"engine_displacement_cc\"].median())"
   ]
  },
  {
   "cell_type": "code",
   "execution_count": 46,
   "id": "8512105a",
   "metadata": {
    "ExecuteTime": {
     "end_time": "2022-08-03T15:36:48.806830Z",
     "start_time": "2022-08-03T15:36:48.565449Z"
    }
   },
   "outputs": [
    {
     "data": {
      "text/plain": [
       "{0: '1000.0',\n",
       " 1: '1100.0',\n",
       " 2: '1149.0',\n",
       " 3: '1195.0',\n",
       " 4: '1197.0',\n",
       " 5: '1198.0',\n",
       " 6: '1199.0',\n",
       " 7: '1200.0',\n",
       " 8: '1229.0',\n",
       " 9: '1239.0',\n",
       " 10: '1248.0',\n",
       " 11: '1300.0',\n",
       " 12: '1333.0',\n",
       " 13: '1350.0',\n",
       " 14: '1364.0',\n",
       " 15: '1368.0',\n",
       " 16: '1369.0',\n",
       " 17: '1390.0',\n",
       " 18: '1395.0',\n",
       " 19: '1396.0',\n",
       " 20: '1397.0',\n",
       " 21: '1398.0',\n",
       " 22: '1399.0',\n",
       " 23: '1400.0',\n",
       " 24: '1422.0',\n",
       " 25: '1461.0',\n",
       " 26: '1490.0',\n",
       " 27: '1495.0',\n",
       " 28: '1496.0',\n",
       " 29: '1498.0',\n",
       " 30: '1499.0',\n",
       " 31: '1500.0',\n",
       " 32: '1533.0',\n",
       " 33: '1568.0',\n",
       " 34: '1580.0',\n",
       " 35: '1584.0',\n",
       " 36: '1589.0',\n",
       " 37: '15898.0',\n",
       " 38: '1596.0',\n",
       " 39: '1598.0',\n",
       " 40: '1599.0',\n",
       " 41: '1600.0',\n",
       " 42: '16000.0',\n",
       " 43: '1618.0',\n",
       " 44: '1686.0',\n",
       " 45: '1696.0',\n",
       " 46: '1798.0',\n",
       " 47: '1800.0',\n",
       " 48: '1856.0',\n",
       " 49: '1896.0',\n",
       " 50: '1956.0',\n",
       " 51: '1968.0',\n",
       " 52: '1984.0',\n",
       " 53: '1995.0',\n",
       " 54: '1997.0',\n",
       " 55: '1998.0',\n",
       " 56: '2000.0',\n",
       " 57: '2480.0',\n",
       " 58: '2967.0',\n",
       " 59: '890.0',\n",
       " 60: '898.0',\n",
       " 61: '899.0',\n",
       " 62: '900.0',\n",
       " 63: '929.0',\n",
       " 64: '973.0',\n",
       " 65: '995.0',\n",
       " 66: '996.0',\n",
       " 67: '997.0',\n",
       " 68: '998.0',\n",
       " 69: '999.0'}"
      ]
     },
     "execution_count": 46,
     "metadata": {},
     "output_type": "execute_result"
    }
   ],
   "source": [
    "get_diff_category_column(df.engine_displacement_cc)"
   ]
  },
  {
   "cell_type": "code",
   "execution_count": 47,
   "id": "935daff1",
   "metadata": {
    "ExecuteTime": {
     "end_time": "2022-08-03T15:36:48.884814Z",
     "start_time": "2022-08-03T15:36:48.818752Z"
    }
   },
   "outputs": [],
   "source": [
    "df.loc[df.engine_displacement_cc > 2500, \"engine_displacement_cc\" ] = 3.0\n",
    "df.loc[df.engine_displacement_cc > 2000, \"engine_displacement_cc\" ] = 2.5\n",
    "df.loc[df.engine_displacement_cc > 1800, \"engine_displacement_cc\" ] = 2.0\n",
    "df.loc[df.engine_displacement_cc > 1600, \"engine_displacement_cc\" ] = 1.8\n",
    "df.loc[df.engine_displacement_cc > 1500, \"engine_displacement_cc\" ] = 1.6\n",
    "df.loc[df.engine_displacement_cc > 1400, \"engine_displacement_cc\" ] = 1.5\n",
    "df.loc[df.engine_displacement_cc > 1300, \"engine_displacement_cc\" ] = 1.4\n",
    "df.loc[df.engine_displacement_cc > 1200, \"engine_displacement_cc\" ] = 1.3\n",
    "df.loc[df.engine_displacement_cc > 1100, \"engine_displacement_cc\" ] = 1.2\n",
    "df.loc[df.engine_displacement_cc > 800, \"engine_displacement_cc\" ] = 1.0"
   ]
  },
  {
   "cell_type": "code",
   "execution_count": 48,
   "id": "43db1c19",
   "metadata": {
    "ExecuteTime": {
     "end_time": "2022-08-03T15:36:48.917256Z",
     "start_time": "2022-08-03T15:36:48.902618Z"
    }
   },
   "outputs": [],
   "source": [
    "df.engine_displacement_cc = df.engine_displacement_cc *1000"
   ]
  },
  {
   "cell_type": "code",
   "execution_count": 49,
   "id": "096b6b21",
   "metadata": {
    "ExecuteTime": {
     "end_time": "2022-08-03T15:36:48.951080Z",
     "start_time": "2022-08-03T15:36:48.928290Z"
    },
    "scrolled": true
   },
   "outputs": [
    {
     "data": {
      "text/plain": [
       "1600.0    5160\n",
       "1000.0    2992\n",
       "1400.0    2656\n",
       "1500.0    1950\n",
       "2000.0    1195\n",
       "1300.0     829\n",
       "1200.0     682\n",
       "1800.0     432\n",
       "2500.0      20\n",
       "3000.0       3\n",
       "Name: engine_displacement_cc, dtype: int64"
      ]
     },
     "execution_count": 49,
     "metadata": {},
     "output_type": "execute_result"
    }
   ],
   "source": [
    "df.engine_displacement_cc.value_counts()"
   ]
  },
  {
   "cell_type": "code",
   "execution_count": 50,
   "id": "3ced19ca",
   "metadata": {
    "ExecuteTime": {
     "end_time": "2022-08-03T15:36:48.983190Z",
     "start_time": "2022-08-03T15:36:48.963905Z"
    }
   },
   "outputs": [
    {
     "data": {
      "text/plain": [
       "0"
      ]
     },
     "execution_count": 50,
     "metadata": {},
     "output_type": "execute_result"
    }
   ],
   "source": [
    "df.engine_displacement_cc.isnull().sum()"
   ]
  },
  {
   "cell_type": "code",
   "execution_count": 51,
   "id": "1dfeaaa9",
   "metadata": {
    "ExecuteTime": {
     "end_time": "2022-08-03T15:36:49.614429Z",
     "start_time": "2022-08-03T15:36:48.993995Z"
    },
    "scrolled": true
   },
   "outputs": [
    {
     "data": {
      "text/plain": [
       "<AxesSubplot:xlabel='engine_displacement_cc'>"
      ]
     },
     "execution_count": 51,
     "metadata": {},
     "output_type": "execute_result"
    },
    {
     "data": {
      "image/png": "[encoded data removed]",
      "text/plain": [
       "<Figure size 720x432 with 1 Axes>"
      ]
     },
     "metadata": {},
     "output_type": "display_data"
    }
   ],
   "source": [
    "sns.boxplot(df.engine_displacement_cc)"
   ]
  },
  {
   "cell_type": "code",
   "execution_count": null,
   "id": "13a05240",
   "metadata": {},
   "outputs": [],
   "source": []
  },
  {
   "cell_type": "markdown",
   "id": "6c5c16e4",
   "metadata": {},
   "source": [
    "## 7. cylinders"
   ]
  },
  {
   "cell_type": "code",
   "execution_count": 52,
   "id": "2801d129",
   "metadata": {
    "ExecuteTime": {
     "end_time": "2022-08-03T15:36:49.668652Z",
     "start_time": "2022-08-03T15:36:49.625931Z"
    },
    "scrolled": true
   },
   "outputs": [
    {
     "name": "stdout",
     "output_type": "stream",
     "text": [
      "column name :  cylinders\n",
      "----------------------------------------\n",
      "Q1 :  4.0\n",
      "Q3 :  4.0\n",
      "IQR :  0.0\n",
      "lower limit :  4.0\n",
      "mean :  3.79\n",
      "median :  4.0\n",
      "upper limit :  4.0\n",
      "count of lower values :  3328\n",
      "count of upper values :  32\n",
      " \n",
      "the smallest 10 values :\n",
      " 9956     1.0\n",
      "15835    2.0\n",
      "11342    2.0\n",
      "0        3.0\n",
      "2544     3.0\n",
      "2545     3.0\n",
      "2546     3.0\n",
      "2547     3.0\n",
      "2548     3.0\n",
      "2549     3.0\n",
      "Name: cylinders, dtype: float64\n",
      " \n",
      "the biggest 10 values :\n",
      " 15151    8.0\n",
      "15197    8.0\n",
      "15186    8.0\n",
      "14989    8.0\n",
      "535      8.0\n",
      "15165    8.0\n",
      "15055    8.0\n",
      "10771    6.0\n",
      "10826    6.0\n",
      "12897    6.0\n",
      "Name: cylinders, dtype: float64\n",
      "\n",
      "\n",
      "\n"
     ]
    }
   ],
   "source": [
    "detect_outlier(\"cylinders\")"
   ]
  },
  {
   "cell_type": "code",
   "execution_count": 53,
   "id": "ca5aa397",
   "metadata": {
    "ExecuteTime": {
     "end_time": "2022-08-03T15:36:49.791184Z",
     "start_time": "2022-08-03T15:36:49.681574Z"
    },
    "scrolled": false
   },
   "outputs": [
    {
     "data": {
      "text/html": [
       "<div>\n",
       "<style scoped>\n",
       "    .dataframe tbody tr th:only-of-type {\n",
       "        vertical-align: middle;\n",
       "    }\n",
       "\n",
       "    .dataframe tbody tr th {\n",
       "        vertical-align: top;\n",
       "    }\n",
       "\n",
       "    .dataframe thead th {\n",
       "        text-align: right;\n",
       "    }\n",
       "</style>\n",
       "<table border=\"1\" class=\"dataframe\">\n",
       "  <thead>\n",
       "    <tr style=\"text-align: right;\">\n",
       "      <th></th>\n",
       "      <th>body_type</th>\n",
       "      <th>price_€</th>\n",
       "      <th>vat</th>\n",
       "      <th>km</th>\n",
       "      <th>hp_kW</th>\n",
       "      <th>type</th>\n",
       "      <th>previous_owners</th>\n",
       "      <th>warranty</th>\n",
       "      <th>make</th>\n",
       "      <th>model</th>\n",
       "      <th>body_color</th>\n",
       "      <th>paint_type</th>\n",
       "      <th>upholstery</th>\n",
       "      <th>nr_of_doors</th>\n",
       "      <th>nr_of_seats</th>\n",
       "      <th>gearing_type</th>\n",
       "      <th>engine_displacement_cc</th>\n",
       "      <th>cylinders</th>\n",
       "      <th>weight_kg</th>\n",
       "      <th>drive_chain</th>\n",
       "      <th>fuel</th>\n",
       "      <th>co2e_g</th>\n",
       "      <th>emission_class</th>\n",
       "      <th>comfort&amp;convenience</th>\n",
       "      <th>entertainment&amp;media</th>\n",
       "      <th>extras</th>\n",
       "      <th>safety&amp;security</th>\n",
       "      <th>gears</th>\n",
       "      <th>country_version</th>\n",
       "      <th>consumption_comb</th>\n",
       "      <th>consumption_city</th>\n",
       "      <th>consumption_country</th>\n",
       "      <th>age</th>\n",
       "    </tr>\n",
       "  </thead>\n",
       "  <tbody>\n",
       "    <tr>\n",
       "      <th>9956</th>\n",
       "      <td>Compact</td>\n",
       "      <td>16625.0</td>\n",
       "      <td>VAT deductible</td>\n",
       "      <td>100.0</td>\n",
       "      <td>66.0</td>\n",
       "      <td>Pre-registered</td>\n",
       "      <td>1.0</td>\n",
       "      <td>0.0</td>\n",
       "      <td>Opel</td>\n",
       "      <td>Corsa</td>\n",
       "      <td>Black</td>\n",
       "      <td>Metallic</td>\n",
       "      <td>Cloth</td>\n",
       "      <td>3.0</td>\n",
       "      <td>5.0</td>\n",
       "      <td>Automatic</td>\n",
       "      <td>1400.0</td>\n",
       "      <td>1.0</td>\n",
       "      <td>1163.0</td>\n",
       "      <td>front</td>\n",
       "      <td>Benzine</td>\n",
       "      <td>140.0</td>\n",
       "      <td>Euro 6d-TEMP</td>\n",
       "      <td>Air conditioning,Automatic climate control,Cru...</td>\n",
       "      <td>Bluetooth,Digital radio,Hands-free equipment,M...</td>\n",
       "      <td>Alloy wheels,Sport suspension</td>\n",
       "      <td>ABS,Central door lock,Daytime running lights,D...</td>\n",
       "      <td>6.0</td>\n",
       "      <td>Germany</td>\n",
       "      <td>6.002</td>\n",
       "      <td>7.8</td>\n",
       "      <td>4.9</td>\n",
       "      <td>0.0</td>\n",
       "    </tr>\n",
       "    <tr>\n",
       "      <th>11342</th>\n",
       "      <td>Station wagon</td>\n",
       "      <td>21900.0</td>\n",
       "      <td>VAT deductible</td>\n",
       "      <td>13600.0</td>\n",
       "      <td>100.0</td>\n",
       "      <td>Employee's car</td>\n",
       "      <td>1.0</td>\n",
       "      <td>0.0</td>\n",
       "      <td>Opel</td>\n",
       "      <td>Insignia</td>\n",
       "      <td>Grey</td>\n",
       "      <td>Metallic</td>\n",
       "      <td>Part leather</td>\n",
       "      <td>5.0</td>\n",
       "      <td>5.0</td>\n",
       "      <td>Automatic</td>\n",
       "      <td>1600.0</td>\n",
       "      <td>2.0</td>\n",
       "      <td>1623.0</td>\n",
       "      <td>front</td>\n",
       "      <td>Diesel</td>\n",
       "      <td>135.0</td>\n",
       "      <td>Euro 6</td>\n",
       "      <td>Air conditioning,Armrest,Automatic climate con...</td>\n",
       "      <td>Bluetooth,Digital radio,Hands-free equipment,M...</td>\n",
       "      <td>Alloy wheels,Catalytic Converter,Touch screen,...</td>\n",
       "      <td>ABS,Central door lock with remote control,Driv...</td>\n",
       "      <td>6.0</td>\n",
       "      <td>Italy</td>\n",
       "      <td>5.012</td>\n",
       "      <td>6.5</td>\n",
       "      <td>4.1</td>\n",
       "      <td>1.0</td>\n",
       "    </tr>\n",
       "    <tr>\n",
       "      <th>15835</th>\n",
       "      <td>Van</td>\n",
       "      <td>47590.0</td>\n",
       "      <td>VAT deductible</td>\n",
       "      <td>6000.0</td>\n",
       "      <td>147.0</td>\n",
       "      <td>Employee's car</td>\n",
       "      <td>1.0</td>\n",
       "      <td>0.0</td>\n",
       "      <td>Renault</td>\n",
       "      <td>Espace</td>\n",
       "      <td>Black</td>\n",
       "      <td>Metallic</td>\n",
       "      <td>Full leather</td>\n",
       "      <td>5.0</td>\n",
       "      <td>7.0</td>\n",
       "      <td>Automatic</td>\n",
       "      <td>2000.0</td>\n",
       "      <td>2.0</td>\n",
       "      <td>1840.0</td>\n",
       "      <td>front</td>\n",
       "      <td>Diesel</td>\n",
       "      <td>139.0</td>\n",
       "      <td>Euro 6d-TEMP</td>\n",
       "      <td>Air conditioning,Automatic climate control,Ele...</td>\n",
       "      <td>Bluetooth,Hands-free equipment,On-board comput...</td>\n",
       "      <td>Voice Control</td>\n",
       "      <td>ABS,Alarm system,Blind spot monitor,Central do...</td>\n",
       "      <td>6.0</td>\n",
       "      <td>Germany</td>\n",
       "      <td>5.300</td>\n",
       "      <td>6.2</td>\n",
       "      <td>4.7</td>\n",
       "      <td>0.0</td>\n",
       "    </tr>\n",
       "  </tbody>\n",
       "</table>\n",
       "</div>"
      ],
      "text/plain": [
       "           body_type  price_€             vat       km  hp_kW            type  \\\n",
       "9956         Compact  16625.0  VAT deductible    100.0   66.0  Pre-registered   \n",
       "11342  Station wagon  21900.0  VAT deductible  13600.0  100.0  Employee's car   \n",
       "15835            Van  47590.0  VAT deductible   6000.0  147.0  Employee's car   \n",
       "\n",
       "       previous_owners  warranty     make     model body_color paint_type  \\\n",
       "9956               1.0       0.0     Opel     Corsa      Black   Metallic   \n",
       "11342              1.0       0.0     Opel  Insignia       Grey   Metallic   \n",
       "15835              1.0       0.0  Renault    Espace      Black   Metallic   \n",
       "\n",
       "         upholstery  nr_of_doors  nr_of_seats gearing_type  \\\n",
       "9956          Cloth          3.0          5.0    Automatic   \n",
       "11342  Part leather          5.0          5.0    Automatic   \n",
       "15835  Full leather          5.0          7.0    Automatic   \n",
       "\n",
       "       engine_displacement_cc  cylinders  weight_kg drive_chain     fuel  \\\n",
       "9956                   1400.0        1.0     1163.0       front  Benzine   \n",
       "11342                  1600.0        2.0     1623.0       front   Diesel   \n",
       "15835                  2000.0        2.0     1840.0       front   Diesel   \n",
       "\n",
       "       co2e_g emission_class  \\\n",
       "9956    140.0   Euro 6d-TEMP   \n",
       "11342   135.0         Euro 6   \n",
       "15835   139.0   Euro 6d-TEMP   \n",
       "\n",
       "                                     comfort&convenience  \\\n",
       "9956   Air conditioning,Automatic climate control,Cru...   \n",
       "11342  Air conditioning,Armrest,Automatic climate con...   \n",
       "15835  Air conditioning,Automatic climate control,Ele...   \n",
       "\n",
       "                                     entertainment&media  \\\n",
       "9956   Bluetooth,Digital radio,Hands-free equipment,M...   \n",
       "11342  Bluetooth,Digital radio,Hands-free equipment,M...   \n",
       "15835  Bluetooth,Hands-free equipment,On-board comput...   \n",
       "\n",
       "                                                  extras  \\\n",
       "9956                       Alloy wheels,Sport suspension   \n",
       "11342  Alloy wheels,Catalytic Converter,Touch screen,...   \n",
       "15835                                      Voice Control   \n",
       "\n",
       "                                         safety&security  gears  \\\n",
       "9956   ABS,Central door lock,Daytime running lights,D...    6.0   \n",
       "11342  ABS,Central door lock with remote control,Driv...    6.0   \n",
       "15835  ABS,Alarm system,Blind spot monitor,Central do...    6.0   \n",
       "\n",
       "      country_version  consumption_comb  consumption_city  \\\n",
       "9956          Germany             6.002               7.8   \n",
       "11342           Italy             5.012               6.5   \n",
       "15835         Germany             5.300               6.2   \n",
       "\n",
       "       consumption_country  age  \n",
       "9956                   4.9  0.0  \n",
       "11342                  4.1  1.0  \n",
       "15835                  4.7  0.0  "
      ]
     },
     "execution_count": 53,
     "metadata": {},
     "output_type": "execute_result"
    }
   ],
   "source": [
    "df[(df.cylinders == 1) | (df.cylinders==2)]"
   ]
  },
  {
   "cell_type": "code",
   "execution_count": 54,
   "id": "b21c9ca3",
   "metadata": {
    "ExecuteTime": {
     "end_time": "2022-08-03T15:36:49.819543Z",
     "start_time": "2022-08-03T15:36:49.797824Z"
    },
    "scrolled": true
   },
   "outputs": [],
   "source": [
    "df.loc[(df.cylinders ==1)|(df.cylinders ==2), \"cylinders\"] = 4.0"
   ]
  },
  {
   "cell_type": "code",
   "execution_count": null,
   "id": "2e1b2fc0",
   "metadata": {},
   "outputs": [],
   "source": []
  },
  {
   "cell_type": "markdown",
   "id": "6957b13a",
   "metadata": {},
   "source": [
    "## 8. weight_kg"
   ]
  },
  {
   "cell_type": "code",
   "execution_count": 55,
   "id": "a30e300c",
   "metadata": {
    "ExecuteTime": {
     "end_time": "2022-08-03T15:36:49.866293Z",
     "start_time": "2022-08-03T15:36:49.825354Z"
    },
    "scrolled": true
   },
   "outputs": [
    {
     "name": "stdout",
     "output_type": "stream",
     "text": [
      "column name :  weight_kg\n",
      "----------------------------------------\n",
      "Q1 :  1180.0\n",
      "Q3 :  1472.0\n",
      "IQR :  292.0\n",
      "lower limit :  742.0\n",
      "mean :  1345.4\n",
      "median :  1308.0\n",
      "upper limit :  1910.0\n",
      "count of lower values :  3\n",
      "count of upper values :  89\n",
      " \n",
      "the smallest 10 values :\n",
      " 12779      1.0\n",
      "8355       1.0\n",
      "1143     102.0\n",
      "8857     840.0\n",
      "14313    900.0\n",
      "13555    977.0\n",
      "13513    977.0\n",
      "13937    980.0\n",
      "14105    980.0\n",
      "13996    980.0\n",
      "Name: weight_kg, dtype: float64\n",
      " \n",
      "the biggest 10 values :\n",
      " 15678    2471.0\n",
      "15185    2471.0\n",
      "15231    2471.0\n",
      "14975    2471.0\n",
      "15280    2471.0\n",
      "10646    2450.0\n",
      "10638    2450.0\n",
      "15133    2410.0\n",
      "15136    2410.0\n",
      "15143    2410.0\n",
      "Name: weight_kg, dtype: float64\n",
      "\n",
      "\n",
      "\n"
     ]
    }
   ],
   "source": [
    "detect_outlier(\"weight_kg\")"
   ]
  },
  {
   "cell_type": "code",
   "execution_count": 56,
   "id": "5b7b758b",
   "metadata": {
    "ExecuteTime": {
     "end_time": "2022-08-03T15:36:50.403412Z",
     "start_time": "2022-08-03T15:36:49.877311Z"
    }
   },
   "outputs": [
    {
     "data": {
      "text/plain": [
       "<AxesSubplot:xlabel='weight_kg'>"
      ]
     },
     "execution_count": 56,
     "metadata": {},
     "output_type": "execute_result"
    },
    {
     "data": {
      "image/png": "[encoded data removed]",
      "text/plain": [
       "<Figure size 720x432 with 1 Axes>"
      ]
     },
     "metadata": {},
     "output_type": "display_data"
    }
   ],
   "source": [
    "sns.boxplot(df.weight_kg)"
   ]
  },
  {
   "cell_type": "code",
   "execution_count": 57,
   "id": "54730320",
   "metadata": {
    "ExecuteTime": {
     "end_time": "2022-08-03T15:36:50.466853Z",
     "start_time": "2022-08-03T15:36:50.407971Z"
    },
    "scrolled": false
   },
   "outputs": [
    {
     "data": {
      "text/plain": [
       "make  model  body_type  weight_kg\n",
       "Audi  A1     Compact    1180.0       612\n",
       "                        1165.0        77\n",
       "                        1200.0        65\n",
       "                        1135.0        53\n",
       "                        1195.0        40\n",
       "                        1065.0        36\n",
       "                        1110.0        22\n",
       "                        1250.0        17\n",
       "                        1105.0        12\n",
       "                        1090.0         9\n",
       "                        1215.0         9\n",
       "                        1240.0         7\n",
       "                        1035.0         6\n",
       "                        1134.0         6\n",
       "                        1155.0         5\n",
       "                        1205.0         5\n",
       "                        1275.0         5\n",
       "                        1485.0         5\n",
       "                        1225.0         4\n",
       "                        1600.0         4\n",
       "                        1115.0         3\n",
       "                        1133.0         3\n",
       "                        1230.0         3\n",
       "                        1285.0         3\n",
       "                        1335.0         3\n",
       "                        1345.0         3\n",
       "                        1010.0         2\n",
       "                        1040.0         2\n",
       "                        1100.0         2\n",
       "                        1220.0         2\n",
       "                        1235.0         2\n",
       "                        102.0          1\n",
       "                        1125.0         1\n",
       "                        1138.0         1\n",
       "                        1140.0         1\n",
       "                        1147.0         1\n",
       "                        1150.0         1\n",
       "                        1280.0         1\n",
       "                        1500.0         1\n",
       "                        1580.0         1\n",
       "                        1625.0         1\n",
       "                        1675.0         1\n",
       "                        1792.0         1\n",
       "             Coupe      1010.0         2\n",
       "             Other      1217.5         9\n",
       "                        1165.0         1\n",
       "                        1205.0         1\n",
       "                        1230.0         1\n",
       "                        1250.0         1\n",
       "             Sedans     1195.0       658\n",
       "                        1135.0       106\n",
       "                        1165.0        89\n",
       "                        1250.0        58\n",
       "                        1110.0        53\n",
       "                        1180.0        51\n",
       "                        1275.0        51\n",
       "                        1230.0        50\n",
       "                        1200.0        36\n",
       "                        1680.0        31\n",
       "                        1205.0        30\n",
       "Name: weight_kg, dtype: int64"
      ]
     },
     "execution_count": 57,
     "metadata": {},
     "output_type": "execute_result"
    }
   ],
   "source": [
    "df.groupby([\"make\", \"model\", \"body_type\"])[\"weight_kg\"].value_counts().head(60)"
   ]
  },
  {
   "cell_type": "code",
   "execution_count": null,
   "id": "cf54c23b",
   "metadata": {},
   "outputs": [],
   "source": []
  },
  {
   "cell_type": "code",
   "execution_count": 58,
   "id": "a97ac7cd",
   "metadata": {
    "ExecuteTime": {
     "end_time": "2022-08-03T15:36:50.501689Z",
     "start_time": "2022-08-03T15:36:50.478438Z"
    }
   },
   "outputs": [],
   "source": [
    "df.loc[df.weight_kg < 103, \"weight_kg\"] = np.nan"
   ]
  },
  {
   "cell_type": "code",
   "execution_count": 59,
   "id": "ddc4e464",
   "metadata": {
    "ExecuteTime": {
     "end_time": "2022-08-03T15:36:50.721512Z",
     "start_time": "2022-08-03T15:36:50.513843Z"
    }
   },
   "outputs": [],
   "source": [
    "df.weight_kg = df.groupby([\"make\", \"model\", \"body_type\"])[\"weight_kg\"].apply(lambda x:x.fillna(x.mean()))"
   ]
  },
  {
   "cell_type": "code",
   "execution_count": 60,
   "id": "c2d8ce18",
   "metadata": {
    "ExecuteTime": {
     "end_time": "2022-08-03T15:36:51.651261Z",
     "start_time": "2022-08-03T15:36:50.735462Z"
    }
   },
   "outputs": [
    {
     "data": {
      "text/plain": [
       "<AxesSubplot:xlabel='weight_kg'>"
      ]
     },
     "execution_count": 60,
     "metadata": {},
     "output_type": "execute_result"
    },
    {
     "data": {
      "image/png": "[encoded data removed]",
      "text/plain": [
       "<Figure size 720x432 with 1 Axes>"
      ]
     },
     "metadata": {},
     "output_type": "display_data"
    }
   ],
   "source": [
    "sns.boxplot(df.weight_kg)"
   ]
  },
  {
   "cell_type": "code",
   "execution_count": null,
   "id": "eaa53f73",
   "metadata": {},
   "outputs": [],
   "source": []
  },
  {
   "cell_type": "markdown",
   "id": "7fe55a8a",
   "metadata": {},
   "source": [
    "## 9. co2e_g"
   ]
  },
  {
   "cell_type": "code",
   "execution_count": 61,
   "id": "6b5dee87",
   "metadata": {
    "ExecuteTime": {
     "end_time": "2022-08-03T15:36:51.722224Z",
     "start_time": "2022-08-03T15:36:51.672286Z"
    }
   },
   "outputs": [
    {
     "name": "stdout",
     "output_type": "stream",
     "text": [
      "column name :  co2e_g\n",
      "----------------------------------------\n",
      "Q1 :  104.0\n",
      "Q3 :  128.0\n",
      "IQR :  24.0\n",
      "lower limit :  68.0\n",
      "mean :  122.68\n",
      "median :  117.0\n",
      "upper limit :  164.0\n",
      "count of lower values :  7\n",
      "count of upper values :  247\n",
      " \n",
      "the smallest 10 values :\n",
      " 8110     14.0\n",
      "3617     36.0\n",
      "3615     36.0\n",
      "3612     36.0\n",
      "3356     36.0\n",
      "12547    45.0\n",
      "9798     51.0\n",
      "7857     80.0\n",
      "13668    82.0\n",
      "8912     82.0\n",
      "Name: co2e_g, dtype: float64\n",
      " \n",
      "the biggest 10 values :\n",
      " 11888    14457.0\n",
      "12343    13983.0\n",
      "8542     12324.0\n",
      "6578     12087.0\n",
      "6579     12087.0\n",
      "5818     12087.0\n",
      "4089      1060.0\n",
      "4556       990.0\n",
      "535        331.0\n",
      "10513      253.0\n",
      "Name: co2e_g, dtype: float64\n",
      "\n",
      "\n",
      "\n"
     ]
    }
   ],
   "source": [
    "detect_outlier(\"co2e_g\")"
   ]
  },
  {
   "cell_type": "code",
   "execution_count": 62,
   "id": "a4c385a0",
   "metadata": {
    "ExecuteTime": {
     "end_time": "2022-08-03T15:36:52.382216Z",
     "start_time": "2022-08-03T15:36:51.731228Z"
    }
   },
   "outputs": [
    {
     "data": {
      "text/plain": [
       "<AxesSubplot:xlabel='co2e_g'>"
      ]
     },
     "execution_count": 62,
     "metadata": {},
     "output_type": "execute_result"
    },
    {
     "data": {
      "image/png": "[encoded data removed]",
      "text/plain": [
       "<Figure size 720x432 with 1 Axes>"
      ]
     },
     "metadata": {},
     "output_type": "display_data"
    }
   ],
   "source": [
    "sns.boxplot(df.co2e_g)"
   ]
  },
  {
   "cell_type": "code",
   "execution_count": 63,
   "id": "ff9c8acb",
   "metadata": {
    "ExecuteTime": {
     "end_time": "2022-08-03T15:36:52.425213Z",
     "start_time": "2022-08-03T15:36:52.389140Z"
    },
    "scrolled": true
   },
   "outputs": [
    {
     "data": {
      "text/plain": [
       "120.0    1081\n",
       "105.0     656\n",
       "99.0      617\n",
       "135.0     594\n",
       "97.0      537\n",
       "128.0     535\n",
       "104.0     501\n",
       "102.0     477\n",
       "85.0      459\n",
       "103.0     445\n",
       "114.0     382\n",
       "117.0     380\n",
       "101.0     373\n",
       "124.0     372\n",
       "125.0     366\n",
       "108.0     362\n",
       "107.0     362\n",
       "119.0     361\n",
       "106.0     349\n",
       "139.0     334\n",
       "126.0     282\n",
       "118.0     270\n",
       "110.0     266\n",
       "127.0     257\n",
       "111.0     237\n",
       "113.0     237\n",
       "109.0     234\n",
       "140.0     218\n",
       "129.0     213\n",
       "92.0      198\n",
       "130.0     180\n",
       "123.0     178\n",
       "150.0     174\n",
       "112.0     171\n",
       "143.0     171\n",
       "95.0      161\n",
       "116.0     159\n",
       "98.0      156\n",
       "141.0     156\n",
       "153.0     150\n",
       "133.0     145\n",
       "136.0     145\n",
       "137.0     133\n",
       "134.0     130\n",
       "145.0     126\n",
       "149.0     117\n",
       "147.0     109\n",
       "132.0     100\n",
       "115.0      86\n",
       "122.0      83\n",
       "121.0      82\n",
       "138.0      75\n",
       "93.0       66\n",
       "168.0      58\n",
       "142.0      58\n",
       "131.0      48\n",
       "148.0      48\n",
       "94.0       43\n",
       "144.0      40\n",
       "154.0      40\n",
       "Name: co2e_g, dtype: int64"
      ]
     },
     "execution_count": 63,
     "metadata": {},
     "output_type": "execute_result"
    }
   ],
   "source": [
    "df.co2e_g.value_counts().head(60)"
   ]
  },
  {
   "cell_type": "code",
   "execution_count": 64,
   "id": "2d7ef95b",
   "metadata": {
    "ExecuteTime": {
     "end_time": "2022-08-03T15:36:52.444101Z",
     "start_time": "2022-08-03T15:36:52.434547Z"
    }
   },
   "outputs": [],
   "source": [
    "from scipy.stats.mstats import winsorize"
   ]
  },
  {
   "cell_type": "code",
   "execution_count": null,
   "id": "5dcb72ae",
   "metadata": {},
   "outputs": [],
   "source": []
  },
  {
   "cell_type": "code",
   "execution_count": 65,
   "id": "94b8ab45",
   "metadata": {
    "ExecuteTime": {
     "end_time": "2022-08-03T15:36:52.483141Z",
     "start_time": "2022-08-03T15:36:52.453657Z"
    }
   },
   "outputs": [],
   "source": [
    "Q1 = df.co2e_g.quantile(0.25)\n",
    "Q3 = df.co2e_g.quantile(0.75)\n",
    "IQR = Q3 - Q1\n",
    "lower_limit = Q1 - 1.5*IQR\n",
    "upper_limit = Q3 + 1.5*IQR"
   ]
  },
  {
   "cell_type": "code",
   "execution_count": 66,
   "id": "9f42dbf3",
   "metadata": {
    "ExecuteTime": {
     "end_time": "2022-08-03T15:36:52.515975Z",
     "start_time": "2022-08-03T15:36:52.493249Z"
    }
   },
   "outputs": [
    {
     "data": {
      "text/plain": [
       "0.00043972611344933726"
      ]
     },
     "execution_count": 66,
     "metadata": {},
     "output_type": "execute_result"
    }
   ],
   "source": [
    "a = len(df.co2e_g[df.co2e_g < lower_limit]) / len(df)\n",
    "a"
   ]
  },
  {
   "cell_type": "code",
   "execution_count": 67,
   "id": "c5abfcbe",
   "metadata": {
    "ExecuteTime": {
     "end_time": "2022-08-03T15:36:52.542724Z",
     "start_time": "2022-08-03T15:36:52.523871Z"
    }
   },
   "outputs": [
    {
     "data": {
      "text/plain": [
       "0.0155160500031409"
      ]
     },
     "execution_count": 67,
     "metadata": {},
     "output_type": "execute_result"
    }
   ],
   "source": [
    "b = len(df.co2e_g[df.co2e_g > upper_limit]) / len(df)\n",
    "b"
   ]
  },
  {
   "cell_type": "code",
   "execution_count": 68,
   "id": "bb4e0f5d",
   "metadata": {
    "ExecuteTime": {
     "end_time": "2022-08-03T15:36:52.587144Z",
     "start_time": "2022-08-03T15:36:52.558036Z"
    }
   },
   "outputs": [
    {
     "data": {
      "text/plain": [
       "masked_array(data=[ 99., 129.,  99., ..., 139., 139., 153.],\n",
       "             mask=False,\n",
       "       fill_value=1e+20)"
      ]
     },
     "execution_count": 68,
     "metadata": {},
     "output_type": "execute_result"
    }
   ],
   "source": [
    "table_win = winsorize(df.co2e_g, (a,b))\n",
    "table_win"
   ]
  },
  {
   "cell_type": "code",
   "execution_count": 69,
   "id": "8e9475f8",
   "metadata": {
    "ExecuteTime": {
     "end_time": "2022-08-03T15:36:52.623371Z",
     "start_time": "2022-08-03T15:36:52.598764Z"
    }
   },
   "outputs": [],
   "source": [
    "df[\"co2e_g\"] = pd.Series(table_win)"
   ]
  },
  {
   "cell_type": "code",
   "execution_count": 70,
   "id": "df853c42",
   "metadata": {
    "ExecuteTime": {
     "end_time": "2022-08-03T15:36:52.661025Z",
     "start_time": "2022-08-03T15:36:52.633331Z"
    }
   },
   "outputs": [
    {
     "data": {
      "text/plain": [
       "3617      80.0\n",
       "9798      80.0\n",
       "12547     80.0\n",
       "7857      80.0\n",
       "8110      80.0\n",
       "         ...  \n",
       "12568    164.0\n",
       "15704    164.0\n",
       "10571    164.0\n",
       "10562    164.0\n",
       "12662    164.0\n",
       "Name: co2e_g, Length: 15919, dtype: float64"
      ]
     },
     "execution_count": 70,
     "metadata": {},
     "output_type": "execute_result"
    }
   ],
   "source": [
    "df[\"co2e_g\"].sort_values()"
   ]
  },
  {
   "cell_type": "code",
   "execution_count": 71,
   "id": "458c410b",
   "metadata": {
    "ExecuteTime": {
     "end_time": "2022-08-03T15:36:53.301399Z",
     "start_time": "2022-08-03T15:36:52.675226Z"
    }
   },
   "outputs": [
    {
     "data": {
      "text/plain": [
       "<AxesSubplot:xlabel='co2e_g'>"
      ]
     },
     "execution_count": 71,
     "metadata": {},
     "output_type": "execute_result"
    },
    {
     "data": {
      "image/png": "[encoded data removed]",
      "text/plain": [
       "<Figure size 720x432 with 1 Axes>"
      ]
     },
     "metadata": {},
     "output_type": "display_data"
    }
   ],
   "source": [
    "sns.boxplot(df.co2e_g)"
   ]
  },
  {
   "cell_type": "markdown",
   "id": "e318d86f",
   "metadata": {},
   "source": [
    "## 10. gears"
   ]
  },
  {
   "cell_type": "code",
   "execution_count": 72,
   "id": "dbf7a346",
   "metadata": {
    "ExecuteTime": {
     "end_time": "2022-08-03T15:36:53.349079Z",
     "start_time": "2022-08-03T15:36:53.309557Z"
    }
   },
   "outputs": [
    {
     "name": "stdout",
     "output_type": "stream",
     "text": [
      "column name :  gears\n",
      "----------------------------------------\n",
      "Q1 :  5.0\n",
      "Q3 :  6.0\n",
      "IQR :  1.0\n",
      "lower limit :  3.5\n",
      "mean :  5.94\n",
      "median :  6.0\n",
      "upper limit :  7.5\n",
      "count of lower values :  6\n",
      "count of upper values :  300\n",
      " \n",
      "the smallest 10 values :\n",
      " 14375    1.0\n",
      "8921     1.0\n",
      "9812     2.0\n",
      "15817    3.0\n",
      "15845    3.0\n",
      "15846    3.0\n",
      "15823    4.0\n",
      "15822    4.0\n",
      "10287    5.0\n",
      "10288    5.0\n",
      "Name: gears, dtype: float64\n",
      " \n",
      "the biggest 10 values :\n",
      " 14495    50.0\n",
      "15830     9.0\n",
      "15827     9.0\n",
      "15876     9.0\n",
      "15814     9.0\n",
      "15813     9.0\n",
      "15812     9.0\n",
      "15869     9.0\n",
      "15824     9.0\n",
      "15829     9.0\n",
      "Name: gears, dtype: float64\n",
      "\n",
      "\n",
      "\n"
     ]
    }
   ],
   "source": [
    "detect_outlier(\"gears\")"
   ]
  },
  {
   "cell_type": "code",
   "execution_count": 73,
   "id": "a5f63f35",
   "metadata": {
    "ExecuteTime": {
     "end_time": "2022-08-03T15:36:54.106594Z",
     "start_time": "2022-08-03T15:36:53.357136Z"
    }
   },
   "outputs": [
    {
     "data": {
      "text/plain": [
       "<AxesSubplot:xlabel='gears'>"
      ]
     },
     "execution_count": 73,
     "metadata": {},
     "output_type": "execute_result"
    },
    {
     "data": {
      "image/png": "[encoded data removed]",
      "text/plain": [
       "<Figure size 720x432 with 1 Axes>"
      ]
     },
     "metadata": {},
     "output_type": "display_data"
    }
   ],
   "source": [
    "sns.boxplot(df.gears)"
   ]
  },
  {
   "cell_type": "code",
   "execution_count": 74,
   "id": "339aec2b",
   "metadata": {
    "ExecuteTime": {
     "end_time": "2022-08-03T15:36:54.147365Z",
     "start_time": "2022-08-03T15:36:54.115576Z"
    }
   },
   "outputs": [
    {
     "data": {
      "text/html": [
       "<div>\n",
       "<style scoped>\n",
       "    .dataframe tbody tr th:only-of-type {\n",
       "        vertical-align: middle;\n",
       "    }\n",
       "\n",
       "    .dataframe tbody tr th {\n",
       "        vertical-align: top;\n",
       "    }\n",
       "\n",
       "    .dataframe thead th {\n",
       "        text-align: right;\n",
       "    }\n",
       "</style>\n",
       "<table border=\"1\" class=\"dataframe\">\n",
       "  <thead>\n",
       "    <tr style=\"text-align: right;\">\n",
       "      <th></th>\n",
       "      <th>make</th>\n",
       "      <th>model</th>\n",
       "    </tr>\n",
       "  </thead>\n",
       "  <tbody>\n",
       "    <tr>\n",
       "      <th>8921</th>\n",
       "      <td>Opel</td>\n",
       "      <td>Corsa</td>\n",
       "    </tr>\n",
       "    <tr>\n",
       "      <th>9812</th>\n",
       "      <td>Opel</td>\n",
       "      <td>Corsa</td>\n",
       "    </tr>\n",
       "    <tr>\n",
       "      <th>14375</th>\n",
       "      <td>Renault</td>\n",
       "      <td>Clio</td>\n",
       "    </tr>\n",
       "    <tr>\n",
       "      <th>15817</th>\n",
       "      <td>Renault</td>\n",
       "      <td>Espace</td>\n",
       "    </tr>\n",
       "    <tr>\n",
       "      <th>15845</th>\n",
       "      <td>Renault</td>\n",
       "      <td>Espace</td>\n",
       "    </tr>\n",
       "    <tr>\n",
       "      <th>15846</th>\n",
       "      <td>Renault</td>\n",
       "      <td>Espace</td>\n",
       "    </tr>\n",
       "  </tbody>\n",
       "</table>\n",
       "</div>"
      ],
      "text/plain": [
       "          make   model\n",
       "8921      Opel   Corsa\n",
       "9812      Opel   Corsa\n",
       "14375  Renault    Clio\n",
       "15817  Renault  Espace\n",
       "15845  Renault  Espace\n",
       "15846  Renault  Espace"
      ]
     },
     "execution_count": 74,
     "metadata": {},
     "output_type": "execute_result"
    }
   ],
   "source": [
    "df[df.gears < 4][[\"make\", \"model\"]]"
   ]
  },
  {
   "cell_type": "code",
   "execution_count": 75,
   "id": "4a2e09ee",
   "metadata": {
    "ExecuteTime": {
     "end_time": "2022-08-03T15:36:54.189193Z",
     "start_time": "2022-08-03T15:36:54.161039Z"
    }
   },
   "outputs": [
    {
     "data": {
      "text/plain": [
       "Series([], Name: gears, dtype: int64)"
      ]
     },
     "execution_count": 75,
     "metadata": {},
     "output_type": "execute_result"
    }
   ],
   "source": [
    "df[df.make == \"Corsa\"].gears.value_counts()"
   ]
  },
  {
   "cell_type": "code",
   "execution_count": 76,
   "id": "e9706632",
   "metadata": {
    "ExecuteTime": {
     "end_time": "2022-08-03T15:36:54.249369Z",
     "start_time": "2022-08-03T15:36:54.210900Z"
    },
    "scrolled": true
   },
   "outputs": [
    {
     "data": {
      "text/plain": [
       "6.0     1436\n",
       "5.0     1177\n",
       "7.0      233\n",
       "9.0       11\n",
       "3.0        3\n",
       "4.0        2\n",
       "1.0        1\n",
       "50.0       1\n",
       "Name: gears, dtype: int64"
      ]
     },
     "execution_count": 76,
     "metadata": {},
     "output_type": "execute_result"
    }
   ],
   "source": [
    "df[df.make == \"Renault\"].gears.value_counts()"
   ]
  },
  {
   "cell_type": "code",
   "execution_count": 77,
   "id": "8cf8126d",
   "metadata": {
    "ExecuteTime": {
     "end_time": "2022-08-03T15:36:54.319224Z",
     "start_time": "2022-08-03T15:36:54.265646Z"
    }
   },
   "outputs": [
    {
     "data": {
      "text/plain": [
       "6.0    5032\n",
       "5.0    2022\n",
       "8.0     282\n",
       "7.0       5\n",
       "1.0       1\n",
       "2.0       1\n",
       "Name: gears, dtype: int64"
      ]
     },
     "execution_count": 77,
     "metadata": {},
     "output_type": "execute_result"
    }
   ],
   "source": [
    "df[df.make == \"Opel\"].gears.value_counts()"
   ]
  },
  {
   "cell_type": "code",
   "execution_count": 78,
   "id": "4a9156d9",
   "metadata": {
    "ExecuteTime": {
     "end_time": "2022-08-03T15:36:54.378927Z",
     "start_time": "2022-08-03T15:36:54.327960Z"
    }
   },
   "outputs": [
    {
     "data": {
      "text/plain": [
       "7.0    2605\n",
       "6.0    1902\n",
       "5.0    1199\n",
       "8.0       6\n",
       "Name: gears, dtype: int64"
      ]
     },
     "execution_count": 78,
     "metadata": {},
     "output_type": "execute_result"
    }
   ],
   "source": [
    "df[df.make == \"Audi\"].gears.value_counts()"
   ]
  },
  {
   "cell_type": "code",
   "execution_count": 79,
   "id": "d54a8466",
   "metadata": {
    "ExecuteTime": {
     "end_time": "2022-08-03T15:36:54.415224Z",
     "start_time": "2022-08-03T15:36:54.395438Z"
    }
   },
   "outputs": [],
   "source": [
    "df.loc[df.gears == 50, \"gears\"] = 5"
   ]
  },
  {
   "cell_type": "code",
   "execution_count": 80,
   "id": "eb877d2b",
   "metadata": {
    "ExecuteTime": {
     "end_time": "2022-08-03T15:36:54.448158Z",
     "start_time": "2022-08-03T15:36:54.427072Z"
    }
   },
   "outputs": [],
   "source": [
    "df.loc[df.gears <= 4, \"gears\"] = np.nan"
   ]
  },
  {
   "cell_type": "code",
   "execution_count": 81,
   "id": "12c1b372",
   "metadata": {
    "ExecuteTime": {
     "end_time": "2022-08-03T15:36:54.671300Z",
     "start_time": "2022-08-03T15:36:54.544882Z"
    }
   },
   "outputs": [
    {
     "data": {
      "text/plain": [
       "0"
      ]
     },
     "execution_count": 81,
     "metadata": {},
     "output_type": "execute_result"
    }
   ],
   "source": [
    "df.groupby([\"make\", \"model\", \"body_type\"])[\"gears\"].apply(lambda x : x.fillna(x.mode()[0])).isnull().sum()"
   ]
  },
  {
   "cell_type": "code",
   "execution_count": null,
   "id": "61202223",
   "metadata": {},
   "outputs": [],
   "source": []
  },
  {
   "cell_type": "code",
   "execution_count": 82,
   "id": "0e9a8c9f",
   "metadata": {
    "ExecuteTime": {
     "end_time": "2022-08-03T15:36:54.814044Z",
     "start_time": "2022-08-03T15:36:54.682506Z"
    }
   },
   "outputs": [],
   "source": [
    "df.gears = df.groupby([\"make\", \"model\", \"body_type\"])[\"gears\"].apply(lambda x : x.fillna(x.mode()[0]))"
   ]
  },
  {
   "cell_type": "code",
   "execution_count": 83,
   "id": "816dd4f4",
   "metadata": {
    "ExecuteTime": {
     "end_time": "2022-08-03T15:36:55.401721Z",
     "start_time": "2022-08-03T15:36:54.824204Z"
    }
   },
   "outputs": [
    {
     "data": {
      "text/plain": [
       "<AxesSubplot:xlabel='gears'>"
      ]
     },
     "execution_count": 83,
     "metadata": {},
     "output_type": "execute_result"
    },
    {
     "data": {
      "image/png": "[encoded data removed]",
      "text/plain": [
       "<Figure size 720x432 with 1 Axes>"
      ]
     },
     "metadata": {},
     "output_type": "display_data"
    }
   ],
   "source": [
    "sns.boxplot(df.gears)"
   ]
  },
  {
   "cell_type": "code",
   "execution_count": null,
   "id": "ff73a7aa",
   "metadata": {},
   "outputs": [],
   "source": []
  },
  {
   "cell_type": "markdown",
   "id": "41c03f19",
   "metadata": {},
   "source": [
    "## 11. consumption_comb"
   ]
  },
  {
   "cell_type": "code",
   "execution_count": 84,
   "id": "2ae222f2",
   "metadata": {
    "ExecuteTime": {
     "end_time": "2022-08-03T15:36:55.437722Z",
     "start_time": "2022-08-03T15:36:55.406788Z"
    }
   },
   "outputs": [],
   "source": [
    "df.drop(columns=[\"consumption_city\", \"consumption_country\"], inplace=True)"
   ]
  },
  {
   "cell_type": "code",
   "execution_count": 85,
   "id": "9d6c6cb8",
   "metadata": {
    "ExecuteTime": {
     "end_time": "2022-08-03T15:36:55.484145Z",
     "start_time": "2022-08-03T15:36:55.443797Z"
    }
   },
   "outputs": [
    {
     "name": "stdout",
     "output_type": "stream",
     "text": [
      "column name :  consumption_comb\n",
      "----------------------------------------\n",
      "Q1 :  4.1\n",
      "Q3 :  5.4\n",
      "IQR :  1.3000000000000007\n",
      "lower limit :  2.1499999999999986\n",
      "mean :  4.83\n",
      "median :  4.8\n",
      "upper limit :  7.350000000000001\n",
      "count of lower values :  4\n",
      "count of upper values :  130\n",
      " \n",
      "the smallest 10 values :\n",
      " 13678    1.2\n",
      "3615     1.6\n",
      "3617     1.6\n",
      "3612     1.6\n",
      "8872     3.1\n",
      "8904     3.1\n",
      "8874     3.1\n",
      "8566     3.1\n",
      "8912     3.1\n",
      "13680    3.1\n",
      "Name: consumption_comb, dtype: float64\n",
      " \n",
      "the biggest 10 values :\n",
      " 535      13.800\n",
      "10513     9.714\n",
      "10771     9.100\n",
      "12529     8.700\n",
      "10817     8.700\n",
      "10819     8.700\n",
      "12054     8.700\n",
      "12530     8.600\n",
      "10789     8.600\n",
      "12422     8.600\n",
      "Name: consumption_comb, dtype: float64\n",
      "\n",
      "\n",
      "\n"
     ]
    }
   ],
   "source": [
    "detect_outlier(\"consumption_comb\")"
   ]
  },
  {
   "cell_type": "code",
   "execution_count": 86,
   "id": "3569b205",
   "metadata": {
    "ExecuteTime": {
     "end_time": "2022-08-03T15:36:56.022639Z",
     "start_time": "2022-08-03T15:36:55.494612Z"
    }
   },
   "outputs": [
    {
     "data": {
      "text/plain": [
       "<AxesSubplot:xlabel='consumption_comb'>"
      ]
     },
     "execution_count": 86,
     "metadata": {},
     "output_type": "execute_result"
    },
    {
     "data": {
      "image/png": "[encoded data removed]",
      "text/plain": [
       "<Figure size 720x432 with 1 Axes>"
      ]
     },
     "metadata": {},
     "output_type": "display_data"
    }
   ],
   "source": [
    "sns.boxplot(df.consumption_comb)"
   ]
  },
  {
   "cell_type": "code",
   "execution_count": 87,
   "id": "60fd4254",
   "metadata": {
    "ExecuteTime": {
     "end_time": "2022-08-03T15:36:56.129223Z",
     "start_time": "2022-08-03T15:36:56.034575Z"
    },
    "scrolled": true
   },
   "outputs": [
    {
     "data": {
      "text/html": [
       "<div>\n",
       "<style scoped>\n",
       "    .dataframe tbody tr th:only-of-type {\n",
       "        vertical-align: middle;\n",
       "    }\n",
       "\n",
       "    .dataframe tbody tr th {\n",
       "        vertical-align: top;\n",
       "    }\n",
       "\n",
       "    .dataframe thead th {\n",
       "        text-align: right;\n",
       "    }\n",
       "</style>\n",
       "<table border=\"1\" class=\"dataframe\">\n",
       "  <thead>\n",
       "    <tr style=\"text-align: right;\">\n",
       "      <th></th>\n",
       "      <th>body_type</th>\n",
       "      <th>price_€</th>\n",
       "      <th>vat</th>\n",
       "      <th>km</th>\n",
       "      <th>hp_kW</th>\n",
       "      <th>type</th>\n",
       "      <th>previous_owners</th>\n",
       "      <th>warranty</th>\n",
       "      <th>make</th>\n",
       "      <th>model</th>\n",
       "      <th>body_color</th>\n",
       "      <th>paint_type</th>\n",
       "      <th>upholstery</th>\n",
       "      <th>nr_of_doors</th>\n",
       "      <th>nr_of_seats</th>\n",
       "      <th>gearing_type</th>\n",
       "      <th>engine_displacement_cc</th>\n",
       "      <th>cylinders</th>\n",
       "      <th>weight_kg</th>\n",
       "      <th>drive_chain</th>\n",
       "      <th>fuel</th>\n",
       "      <th>co2e_g</th>\n",
       "      <th>emission_class</th>\n",
       "      <th>comfort&amp;convenience</th>\n",
       "      <th>entertainment&amp;media</th>\n",
       "      <th>extras</th>\n",
       "      <th>safety&amp;security</th>\n",
       "      <th>gears</th>\n",
       "      <th>country_version</th>\n",
       "      <th>consumption_comb</th>\n",
       "      <th>age</th>\n",
       "    </tr>\n",
       "  </thead>\n",
       "  <tbody>\n",
       "    <tr>\n",
       "      <th>13678</th>\n",
       "      <td>Off-Road</td>\n",
       "      <td>7700.0</td>\n",
       "      <td>VAT deductible</td>\n",
       "      <td>95000.0</td>\n",
       "      <td>55.0</td>\n",
       "      <td>Used</td>\n",
       "      <td>1.0</td>\n",
       "      <td>1.0</td>\n",
       "      <td>Renault</td>\n",
       "      <td>Clio</td>\n",
       "      <td>White</td>\n",
       "      <td>Metallic</td>\n",
       "      <td>Cloth</td>\n",
       "      <td>5.0</td>\n",
       "      <td>5.0</td>\n",
       "      <td>Manual</td>\n",
       "      <td>1500.0</td>\n",
       "      <td>4.0</td>\n",
       "      <td>1162.0</td>\n",
       "      <td>front</td>\n",
       "      <td>Diesel</td>\n",
       "      <td>85.0</td>\n",
       "      <td>Euro 6</td>\n",
       "      <td>Air conditioning,Cruise control,Electrical sid...</td>\n",
       "      <td>Bluetooth,CD player,Digital radio,Hands-free e...</td>\n",
       "      <td>Catalytic Converter,Sport package,Sport seats,...</td>\n",
       "      <td>ABS,Adaptive Cruise Control,Alarm system,Centr...</td>\n",
       "      <td>5.0</td>\n",
       "      <td>Italy</td>\n",
       "      <td>1.2</td>\n",
       "      <td>3.0</td>\n",
       "    </tr>\n",
       "  </tbody>\n",
       "</table>\n",
       "</div>"
      ],
      "text/plain": [
       "      body_type  price_€             vat       km  hp_kW  type  \\\n",
       "13678  Off-Road   7700.0  VAT deductible  95000.0   55.0  Used   \n",
       "\n",
       "       previous_owners  warranty     make model body_color paint_type  \\\n",
       "13678              1.0       1.0  Renault  Clio      White   Metallic   \n",
       "\n",
       "      upholstery  nr_of_doors  nr_of_seats gearing_type  \\\n",
       "13678      Cloth          5.0          5.0       Manual   \n",
       "\n",
       "       engine_displacement_cc  cylinders  weight_kg drive_chain    fuel  \\\n",
       "13678                  1500.0        4.0     1162.0       front  Diesel   \n",
       "\n",
       "       co2e_g emission_class  \\\n",
       "13678    85.0         Euro 6   \n",
       "\n",
       "                                     comfort&convenience  \\\n",
       "13678  Air conditioning,Cruise control,Electrical sid...   \n",
       "\n",
       "                                     entertainment&media  \\\n",
       "13678  Bluetooth,CD player,Digital radio,Hands-free e...   \n",
       "\n",
       "                                                  extras  \\\n",
       "13678  Catalytic Converter,Sport package,Sport seats,...   \n",
       "\n",
       "                                         safety&security  gears  \\\n",
       "13678  ABS,Adaptive Cruise Control,Alarm system,Centr...    5.0   \n",
       "\n",
       "      country_version  consumption_comb  age  \n",
       "13678           Italy               1.2  3.0  "
      ]
     },
     "execution_count": 87,
     "metadata": {},
     "output_type": "execute_result"
    }
   ],
   "source": [
    "df.iloc[[13678]]"
   ]
  },
  {
   "cell_type": "code",
   "execution_count": 88,
   "id": "24d3329f",
   "metadata": {
    "ExecuteTime": {
     "end_time": "2022-08-03T15:36:56.264135Z",
     "start_time": "2022-08-03T15:36:56.137473Z"
    }
   },
   "outputs": [
    {
     "data": {
      "text/html": [
       "<div>\n",
       "<style scoped>\n",
       "    .dataframe tbody tr th:only-of-type {\n",
       "        vertical-align: middle;\n",
       "    }\n",
       "\n",
       "    .dataframe tbody tr th {\n",
       "        vertical-align: top;\n",
       "    }\n",
       "\n",
       "    .dataframe thead th {\n",
       "        text-align: right;\n",
       "    }\n",
       "</style>\n",
       "<table border=\"1\" class=\"dataframe\">\n",
       "  <thead>\n",
       "    <tr style=\"text-align: right;\">\n",
       "      <th></th>\n",
       "      <th>body_type</th>\n",
       "      <th>price_€</th>\n",
       "      <th>vat</th>\n",
       "      <th>km</th>\n",
       "      <th>hp_kW</th>\n",
       "      <th>type</th>\n",
       "      <th>previous_owners</th>\n",
       "      <th>warranty</th>\n",
       "      <th>make</th>\n",
       "      <th>model</th>\n",
       "      <th>body_color</th>\n",
       "      <th>paint_type</th>\n",
       "      <th>upholstery</th>\n",
       "      <th>nr_of_doors</th>\n",
       "      <th>nr_of_seats</th>\n",
       "      <th>gearing_type</th>\n",
       "      <th>engine_displacement_cc</th>\n",
       "      <th>cylinders</th>\n",
       "      <th>weight_kg</th>\n",
       "      <th>drive_chain</th>\n",
       "      <th>fuel</th>\n",
       "      <th>co2e_g</th>\n",
       "      <th>emission_class</th>\n",
       "      <th>comfort&amp;convenience</th>\n",
       "      <th>entertainment&amp;media</th>\n",
       "      <th>extras</th>\n",
       "      <th>safety&amp;security</th>\n",
       "      <th>gears</th>\n",
       "      <th>country_version</th>\n",
       "      <th>consumption_comb</th>\n",
       "      <th>age</th>\n",
       "    </tr>\n",
       "  </thead>\n",
       "  <tbody>\n",
       "    <tr>\n",
       "      <th>535</th>\n",
       "      <td>Compact</td>\n",
       "      <td>12990.0</td>\n",
       "      <td>VAT deductible</td>\n",
       "      <td>41200.0</td>\n",
       "      <td>70.0</td>\n",
       "      <td>Used</td>\n",
       "      <td>1.0</td>\n",
       "      <td>0.0</td>\n",
       "      <td>Audi</td>\n",
       "      <td>A1</td>\n",
       "      <td>Silver</td>\n",
       "      <td>Metallic</td>\n",
       "      <td>Cloth</td>\n",
       "      <td>5.0</td>\n",
       "      <td>5.0</td>\n",
       "      <td>Manual</td>\n",
       "      <td>1000.0</td>\n",
       "      <td>8.0</td>\n",
       "      <td>1180.0</td>\n",
       "      <td>front</td>\n",
       "      <td>Benzine</td>\n",
       "      <td>164.0</td>\n",
       "      <td>Euro 4</td>\n",
       "      <td>Air conditioning,Automatic climate control,Ele...</td>\n",
       "      <td>Bluetooth,CD player,Hands-free equipment,MP3,O...</td>\n",
       "      <td>Ski bag,Sport suspension</td>\n",
       "      <td>ABS,Alarm system,Central door lock,Driver-side...</td>\n",
       "      <td>5.0</td>\n",
       "      <td>Unknown</td>\n",
       "      <td>13.8</td>\n",
       "      <td>3.0</td>\n",
       "    </tr>\n",
       "  </tbody>\n",
       "</table>\n",
       "</div>"
      ],
      "text/plain": [
       "    body_type  price_€             vat       km  hp_kW  type  previous_owners  \\\n",
       "535   Compact  12990.0  VAT deductible  41200.0   70.0  Used              1.0   \n",
       "\n",
       "     warranty  make model body_color paint_type upholstery  nr_of_doors  \\\n",
       "535       0.0  Audi    A1     Silver   Metallic      Cloth          5.0   \n",
       "\n",
       "     nr_of_seats gearing_type  engine_displacement_cc  cylinders  weight_kg  \\\n",
       "535          5.0       Manual                  1000.0        8.0     1180.0   \n",
       "\n",
       "    drive_chain     fuel  co2e_g emission_class  \\\n",
       "535       front  Benzine   164.0         Euro 4   \n",
       "\n",
       "                                   comfort&convenience  \\\n",
       "535  Air conditioning,Automatic climate control,Ele...   \n",
       "\n",
       "                                   entertainment&media  \\\n",
       "535  Bluetooth,CD player,Hands-free equipment,MP3,O...   \n",
       "\n",
       "                       extras  \\\n",
       "535  Ski bag,Sport suspension   \n",
       "\n",
       "                                       safety&security  gears country_version  \\\n",
       "535  ABS,Alarm system,Central door lock,Driver-side...    5.0         Unknown   \n",
       "\n",
       "     consumption_comb  age  \n",
       "535              13.8  3.0  "
      ]
     },
     "execution_count": 88,
     "metadata": {},
     "output_type": "execute_result"
    }
   ],
   "source": [
    "df.iloc[[535]]"
   ]
  },
  {
   "cell_type": "code",
   "execution_count": null,
   "id": "ab66ccc1",
   "metadata": {},
   "outputs": [],
   "source": []
  },
  {
   "cell_type": "code",
   "execution_count": 89,
   "id": "0ac94207",
   "metadata": {
    "ExecuteTime": {
     "end_time": "2022-08-03T15:36:56.308953Z",
     "start_time": "2022-08-03T15:36:56.273024Z"
    },
    "scrolled": true
   },
   "outputs": [
    {
     "data": {
      "text/plain": [
       "make     model\n",
       "Audi     A3       3\n",
       "Renault  Clio     1\n",
       "dtype: int64"
      ]
     },
     "execution_count": 89,
     "metadata": {},
     "output_type": "execute_result"
    }
   ],
   "source": [
    "df[df.consumption_comb < 3][[\"make\", \"model\"]].value_counts()"
   ]
  },
  {
   "cell_type": "code",
   "execution_count": 90,
   "id": "f654bb0e",
   "metadata": {
    "ExecuteTime": {
     "end_time": "2022-08-03T15:36:56.362754Z",
     "start_time": "2022-08-03T15:36:56.317953Z"
    },
    "scrolled": true
   },
   "outputs": [
    {
     "data": {
      "text/plain": [
       "make     model     body_type    \n",
       "Audi     A1        Compact          4.400\n",
       "                   Coupe            3.802\n",
       "                   Other            4.800\n",
       "                   Sedans           4.200\n",
       "                   Station wagon    4.200\n",
       "                   Van              5.074\n",
       "         A2        Off-Road         4.900\n",
       "         A3        Compact          4.100\n",
       "                   Convertible      4.800\n",
       "                   Coupe            3.900\n",
       "                   Other            4.150\n",
       "                   Sedans           4.032\n",
       "                   Station wagon    4.500\n",
       "Opel     Astra     Compact          4.300\n",
       "                   Coupe            6.200\n",
       "                   Off-Road         5.600\n",
       "                   Other            4.294\n",
       "                   Sedans           4.800\n",
       "                   Station wagon    4.500\n",
       "         Corsa     Compact          5.600\n",
       "                   Coupe            5.300\n",
       "                   Off-Road         5.200\n",
       "                   Other            5.200\n",
       "                   Sedans           5.300\n",
       "                   Transporter      5.300\n",
       "                   Van              5.226\n",
       "         Insignia  Compact          5.700\n",
       "                   Coupe            5.688\n",
       "                   Off-Road         6.400\n",
       "                   Other            4.300\n",
       "                   Sedans           5.360\n",
       "                   Station wagon    5.600\n",
       "                   Van              5.350\n",
       "Renault  Clio      Compact          5.200\n",
       "                   Coupe            5.900\n",
       "                   Off-Road         3.350\n",
       "                   Other            5.300\n",
       "                   Sedans           4.998\n",
       "                   Station wagon    4.998\n",
       "                   Transporter      4.998\n",
       "                   Van              5.386\n",
       "         Duster    Off-Road         4.600\n",
       "         Espace    Compact          4.683\n",
       "                   Coupe            6.015\n",
       "                   Off-Road         4.700\n",
       "                   Other            4.700\n",
       "                   Sedans           4.666\n",
       "                   Station wagon    4.700\n",
       "                   Transporter      4.700\n",
       "                   Van              4.700\n",
       "Name: consumption_comb, dtype: float64"
      ]
     },
     "execution_count": 90,
     "metadata": {},
     "output_type": "execute_result"
    }
   ],
   "source": [
    "df.groupby([\"make\", \"model\", \"body_type\"])[\"consumption_comb\"].median()"
   ]
  },
  {
   "cell_type": "code",
   "execution_count": 91,
   "id": "13cc0f15",
   "metadata": {
    "ExecuteTime": {
     "end_time": "2022-08-03T15:36:56.396588Z",
     "start_time": "2022-08-03T15:36:56.368650Z"
    }
   },
   "outputs": [
    {
     "data": {
      "text/plain": [
       "13678    1.2\n",
       "Name: consumption_comb, dtype: float64"
      ]
     },
     "execution_count": 91,
     "metadata": {},
     "output_type": "execute_result"
    }
   ],
   "source": [
    "df.consumption_comb.iloc[[13678]] "
   ]
  },
  {
   "cell_type": "code",
   "execution_count": null,
   "id": "70a89be8",
   "metadata": {},
   "outputs": [],
   "source": []
  },
  {
   "cell_type": "code",
   "execution_count": 92,
   "id": "33051f2b",
   "metadata": {
    "ExecuteTime": {
     "end_time": "2022-08-03T15:36:56.422185Z",
     "start_time": "2022-08-03T15:36:56.406374Z"
    },
    "scrolled": true
   },
   "outputs": [],
   "source": [
    "df.consumption_comb.iloc[[13678]] = 3.35"
   ]
  },
  {
   "cell_type": "code",
   "execution_count": 93,
   "id": "a3cce6a5",
   "metadata": {
    "ExecuteTime": {
     "end_time": "2022-08-03T15:36:56.457114Z",
     "start_time": "2022-08-03T15:36:56.432869Z"
    }
   },
   "outputs": [
    {
     "data": {
      "text/plain": [
       "13678    3.35\n",
       "Name: consumption_comb, dtype: float64"
      ]
     },
     "execution_count": 93,
     "metadata": {},
     "output_type": "execute_result"
    }
   ],
   "source": [
    "df.consumption_comb.iloc[[13678]]"
   ]
  },
  {
   "cell_type": "code",
   "execution_count": 94,
   "id": "0542e468",
   "metadata": {
    "ExecuteTime": {
     "end_time": "2022-08-03T15:36:56.504815Z",
     "start_time": "2022-08-03T15:36:56.466167Z"
    }
   },
   "outputs": [],
   "source": [
    "df.consumption_comb.iloc[[535]] = 4.400"
   ]
  },
  {
   "cell_type": "code",
   "execution_count": 95,
   "id": "fa975abb",
   "metadata": {
    "ExecuteTime": {
     "end_time": "2022-08-03T15:36:57.128462Z",
     "start_time": "2022-08-03T15:36:56.519793Z"
    }
   },
   "outputs": [
    {
     "data": {
      "text/plain": [
       "<AxesSubplot:xlabel='consumption_comb'>"
      ]
     },
     "execution_count": 95,
     "metadata": {},
     "output_type": "execute_result"
    },
    {
     "data": {
      "image/png": "[encoded data removed]",
      "text/plain": [
       "<Figure size 720x432 with 1 Axes>"
      ]
     },
     "metadata": {},
     "output_type": "display_data"
    }
   ],
   "source": [
    "sns.boxplot(df.consumption_comb)"
   ]
  },
  {
   "cell_type": "code",
   "execution_count": null,
   "id": "884ad15f",
   "metadata": {},
   "outputs": [],
   "source": []
  },
  {
   "cell_type": "markdown",
   "id": "0590cef7",
   "metadata": {},
   "source": [
    "## 12. age"
   ]
  },
  {
   "cell_type": "code",
   "execution_count": 96,
   "id": "8a19c1b5",
   "metadata": {
    "ExecuteTime": {
     "end_time": "2022-08-03T15:36:57.185145Z",
     "start_time": "2022-08-03T15:36:57.139982Z"
    },
    "scrolled": true
   },
   "outputs": [
    {
     "name": "stdout",
     "output_type": "stream",
     "text": [
      "column name :  age\n",
      "----------------------------------------\n",
      "Q1 :  0.0\n",
      "Q3 :  2.0\n",
      "IQR :  2.0\n",
      "lower limit :  -3.0\n",
      "mean :  1.39\n",
      "median :  1.0\n",
      "upper limit :  5.0\n",
      "count of lower values :  0\n",
      "count of upper values :  0\n",
      " \n",
      "the smallest 10 values :\n",
      " 7959    0.0\n",
      "7936    0.0\n",
      "7935    0.0\n",
      "7934    0.0\n",
      "7933    0.0\n",
      "7932    0.0\n",
      "7931    0.0\n",
      "7930    0.0\n",
      "7929    0.0\n",
      "7928    0.0\n",
      "Name: age, dtype: float64\n",
      " \n",
      "the biggest 10 values :\n",
      " 0       3.0\n",
      "5938    3.0\n",
      "5955    3.0\n",
      "5954    3.0\n",
      "5953    3.0\n",
      "5952    3.0\n",
      "5950    3.0\n",
      "5949    3.0\n",
      "5947    3.0\n",
      "5940    3.0\n",
      "Name: age, dtype: float64\n",
      "\n",
      "\n",
      "\n"
     ]
    }
   ],
   "source": [
    "detect_outlier(\"age\")"
   ]
  },
  {
   "cell_type": "code",
   "execution_count": 97,
   "id": "bbc3d053",
   "metadata": {
    "ExecuteTime": {
     "end_time": "2022-08-03T15:36:57.777917Z",
     "start_time": "2022-08-03T15:36:57.195216Z"
    }
   },
   "outputs": [
    {
     "data": {
      "text/plain": [
       "<AxesSubplot:xlabel='age'>"
      ]
     },
     "execution_count": 97,
     "metadata": {},
     "output_type": "execute_result"
    },
    {
     "data": {
      "image/png": "[encoded data removed]",
      "text/plain": [
       "<Figure size 720x432 with 1 Axes>"
      ]
     },
     "metadata": {},
     "output_type": "display_data"
    }
   ],
   "source": [
    "sns.boxplot(df.age)"
   ]
  },
  {
   "cell_type": "markdown",
   "id": "c2cd97ef",
   "metadata": {},
   "source": [
    "## Control Categoric and Discrete Columns"
   ]
  },
  {
   "cell_type": "code",
   "execution_count": null,
   "id": "91368c4c",
   "metadata": {},
   "outputs": [],
   "source": []
  },
  {
   "cell_type": "code",
   "execution_count": 98,
   "id": "2ee6d9f6",
   "metadata": {
    "ExecuteTime": {
     "end_time": "2022-08-03T15:36:57.802018Z",
     "start_time": "2022-08-03T15:36:57.783183Z"
    }
   },
   "outputs": [],
   "source": [
    "col_o = ['body_type','vat','type', 'previous_owners',\n",
    "       'warranty', 'make', 'model', 'body_color', 'paint_type', 'upholstery',\n",
    "       'gearing_type',\n",
    "       'drive_chain', 'fuel', \n",
    "       'emission_class', 'comfort&convenience', 'entertainment&media',\n",
    "       'extras', 'safety&security', 'country_version']"
   ]
  },
  {
   "cell_type": "code",
   "execution_count": 99,
   "id": "fb993a28",
   "metadata": {
    "ExecuteTime": {
     "end_time": "2022-08-03T15:36:57.827608Z",
     "start_time": "2022-08-03T15:36:57.809302Z"
    }
   },
   "outputs": [],
   "source": [
    "def control_outlier(col) :\n",
    "    print(\"column name : \",col)\n",
    "    print(\"--\"*20)\n",
    "    print(get_diff_category_column(df[col]))\n",
    "    print(\"**\"*40)\n",
    "    \n",
    "    print(\"\\n\\n\")"
   ]
  },
  {
   "cell_type": "code",
   "execution_count": 100,
   "id": "bc1ec538",
   "metadata": {
    "ExecuteTime": {
     "end_time": "2022-08-03T15:37:05.004078Z",
     "start_time": "2022-08-03T15:36:57.835893Z"
    },
    "scrolled": false
   },
   "outputs": [
    {
     "name": "stdout",
     "output_type": "stream",
     "text": [
      "column name :  body_type\n",
      "----------------------------------------\n",
      "{0: 'Compact', 1: 'Convertible', 2: 'Coupe', 3: 'Off-Road', 4: 'Other', 5: 'Sedans', 6: 'Station wagon', 7: 'Transporter', 8: 'Van'}\n",
      "********************************************************************************\n",
      "\n",
      "\n",
      "\n",
      "column name :  vat\n",
      "----------------------------------------\n",
      "{0: 'Price negotiable', 1: 'VAT deductible'}\n",
      "********************************************************************************\n",
      "\n",
      "\n",
      "\n",
      "column name :  type\n",
      "----------------------------------------\n",
      "{0: 'Demonstration', 1: \"Employee's car\", 2: 'New', 3: 'Pre-registered', 4: 'Used'}\n",
      "********************************************************************************\n",
      "\n",
      "\n",
      "\n",
      "column name :  previous_owners\n",
      "----------------------------------------\n",
      "{0: '0.0', 1: '1.0', 2: '2.0', 3: '3.0', 4: '4.0'}\n",
      "********************************************************************************\n",
      "\n",
      "\n",
      "\n",
      "column name :  warranty\n",
      "----------------------------------------\n",
      "{0: '0.0', 1: '1.0'}\n",
      "********************************************************************************\n",
      "\n",
      "\n",
      "\n",
      "column name :  make\n",
      "----------------------------------------\n",
      "{0: 'Audi', 1: 'Opel', 2: 'Renault'}\n",
      "********************************************************************************\n",
      "\n",
      "\n",
      "\n",
      "column name :  model\n",
      "----------------------------------------\n",
      "{0: 'A1', 1: 'A2', 2: 'A3', 3: 'Astra', 4: 'Clio', 5: 'Corsa', 6: 'Duster', 7: 'Espace', 8: 'Insignia'}\n",
      "********************************************************************************\n",
      "\n",
      "\n",
      "\n",
      "column name :  body_color\n",
      "----------------------------------------\n",
      "{0: 'Beige', 1: 'Black', 2: 'Blue', 3: 'Bronze', 4: 'Brown', 5: 'Gold', 6: 'Green', 7: 'Grey', 8: 'Orange', 9: 'Red', 10: 'Silver', 11: 'Violet', 12: 'White', 13: 'Yellow'}\n",
      "********************************************************************************\n",
      "\n",
      "\n",
      "\n",
      "column name :  paint_type\n",
      "----------------------------------------\n",
      "{0: 'Metallic', 1: 'Perl effect', 2: 'Uni/basic'}\n",
      "********************************************************************************\n",
      "\n",
      "\n",
      "\n",
      "column name :  upholstery\n",
      "----------------------------------------\n",
      "{0: 'Cloth', 1: 'Full leather', 2: 'Other', 3: 'Part leather', 4: 'Velour', 5: 'alcantara'}\n",
      "********************************************************************************\n",
      "\n",
      "\n",
      "\n",
      "column name :  gearing_type\n",
      "----------------------------------------\n",
      "{0: 'Automatic', 1: 'Manual', 2: 'Semi-automatic'}\n",
      "********************************************************************************\n",
      "\n",
      "\n",
      "\n",
      "column name :  drive_chain\n",
      "----------------------------------------\n",
      "{0: '4WD', 1: 'front', 2: 'rear'}\n",
      "********************************************************************************\n",
      "\n",
      "\n",
      "\n",
      "column name :  fuel\n",
      "----------------------------------------\n",
      "{0: 'Benzine', 1: 'Diesel', 2: 'Electric', 3: 'LPG/CNG'}\n",
      "********************************************************************************\n",
      "\n",
      "\n",
      "\n",
      "column name :  emission_class\n",
      "----------------------------------------\n",
      "{0: 'Euro 4', 1: 'Euro 5', 2: 'Euro 6', 3: 'Euro 6c', 4: 'Euro 6d', 5: 'Euro 6d-TEMP'}\n",
      "********************************************************************************\n",
      "\n",
      "\n",
      "\n",
      "column name :  comfort&convenience\n",
      "----------------------------------------\n",
      "{0: 'Air conditioning', 1: 'Air suspension', 2: 'Armrest', 3: 'Automatic climate control', 4: 'Auxiliary heating', 5: 'Cruise control', 6: 'Electric Starter', 7: 'Electric tailgate', 8: 'Electrical side mirrors', 9: 'Electrically adjustable seats', 10: 'Electrically heated windshield', 11: 'Heads-up display', 12: 'Heated steering wheel', 13: 'Hill Holder', 14: 'Keyless central door lock', 15: 'Leather seats', 16: 'Leather steering wheel', 17: 'Light sensor', 18: 'Lumbar support', 19: 'Massage seats', 20: 'Multi-function steering wheel', 21: 'Navigation system', 22: 'Panorama roof', 23: 'Park Distance Control', 24: 'Parking assist system camera', 25: 'Parking assist system self-steering', 26: 'Parking assist system sensors front', 27: 'Parking assist system sensors rear', 28: 'Power windows', 29: 'Rain sensor', 30: 'Seat heating', 31: 'Seat ventilation', 32: 'Split rear seats', 33: 'Start-stop system', 34: 'Sunroof', 35: 'Tinted windows', 36: 'Wind deflector', 37: 'Windshield'}\n",
      "********************************************************************************\n",
      "\n",
      "\n",
      "\n",
      "column name :  entertainment&media\n",
      "----------------------------------------\n",
      "{0: 'Bluetooth', 1: 'CD player', 2: 'Digital radio', 3: 'Hands-free equipment', 4: 'MP3', 5: 'On-board computer', 6: 'Radio', 7: 'Sound system', 8: 'Television', 9: 'USB'}\n",
      "********************************************************************************\n",
      "\n",
      "\n",
      "\n",
      "column name :  extras\n",
      "----------------------------------------\n",
      "{0: 'Alloy wheels', 1: 'Cab or rented Car', 2: 'Catalytic Converter', 3: 'Handicapped enabled', 4: 'Right hand drive', 5: 'Roof rack', 6: 'Shift paddles', 7: 'Ski bag', 8: 'Sliding door', 9: 'Sport package', 10: 'Sport seats', 11: 'Sport suspension', 12: 'Touch screen', 13: 'Trailer hitch', 14: 'Tuned car', 15: 'Voice Control', 16: 'Winter tyres'}\n",
      "********************************************************************************\n",
      "\n",
      "\n",
      "\n",
      "column name :  safety&security\n",
      "----------------------------------------\n",
      "{0: 'ABS', 1: 'Adaptive Cruise Control', 2: 'Adaptive headlights', 3: 'Alarm system', 4: 'Blind spot monitor', 5: 'Central door lock', 6: 'Central door lock with remote control', 7: 'Daytime running lights', 8: 'Driver drowsiness detection', 9: 'Driver-side airbag', 10: 'Electronic stability control', 11: 'Emergency brake assistant', 12: 'Emergency system', 13: 'Fog lights', 14: 'Head airbag', 15: 'Immobilizer', 16: 'Isofix', 17: 'LED Daytime Running Lights', 18: 'LED Headlights', 19: 'Lane departure warning system', 20: 'Night view assist', 21: 'Passenger-side airbag', 22: 'Power steering', 23: 'Rear airbag', 24: 'Side airbag', 25: 'Tire pressure monitoring system', 26: 'Traction control', 27: 'Traffic sign recognition', 28: 'Xenon headlights'}\n",
      "********************************************************************************\n",
      "\n",
      "\n",
      "\n",
      "column name :  country_version\n",
      "----------------------------------------\n",
      "{0: 'Austria', 1: 'Belgium', 2: 'Bulgaria', 3: 'Croatia', 4: 'Czech Republic', 5: 'Denmark', 6: 'Egypt', 7: 'European Union', 8: 'France', 9: 'Germany', 10: 'Hungary', 11: 'Italy', 12: 'Japan', 13: 'Luxembourg', 14: 'Netherlands', 15: 'Poland', 16: 'Romania', 17: 'Serbia', 18: 'Slovakia', 19: 'Slovenia', 20: 'Spain', 21: 'Sweden', 22: 'Switzerland', 23: 'Unknown'}\n",
      "********************************************************************************\n",
      "\n",
      "\n",
      "\n"
     ]
    }
   ],
   "source": [
    "for col in col_o:\n",
    "    control_outlier(col)"
   ]
  },
  {
   "cell_type": "code",
   "execution_count": null,
   "id": "ecce263a",
   "metadata": {},
   "outputs": [],
   "source": []
  },
  {
   "cell_type": "code",
   "execution_count": 101,
   "id": "9823ee50",
   "metadata": {
    "ExecuteTime": {
     "end_time": "2022-08-03T15:37:08.479472Z",
     "start_time": "2022-08-03T15:37:05.015973Z"
    }
   },
   "outputs": [
    {
     "data": {
      "text/plain": [
       "<AxesSubplot:>"
      ]
     },
     "execution_count": 101,
     "metadata": {},
     "output_type": "execute_result"
    },
    {
     "data": {
      "image/png": "[encoded data removed]",
      "text/plain": [
       "<Figure size 1440x1440 with 2 Axes>"
      ]
     },
     "metadata": {},
     "output_type": "display_data"
    }
   ],
   "source": [
    "plt.figure(figsize=(20, 20))\n",
    "sns.heatmap(df.corr(), annot=True, cmap=\"YlGnBu\")"
   ]
  },
  {
   "cell_type": "code",
   "execution_count": 102,
   "id": "98299a63",
   "metadata": {
    "ExecuteTime": {
     "end_time": "2022-08-03T15:37:08.658838Z",
     "start_time": "2022-08-03T15:37:08.484920Z"
    }
   },
   "outputs": [
    {
     "data": {
      "text/plain": [
       "body_type                 0\n",
       "price_€                   0\n",
       "vat                       0\n",
       "km                        0\n",
       "hp_kW                     0\n",
       "type                      0\n",
       "previous_owners           0\n",
       "warranty                  0\n",
       "make                      0\n",
       "model                     0\n",
       "body_color                0\n",
       "paint_type                0\n",
       "upholstery                0\n",
       "nr_of_doors               0\n",
       "nr_of_seats               0\n",
       "gearing_type              0\n",
       "engine_displacement_cc    0\n",
       "cylinders                 0\n",
       "weight_kg                 0\n",
       "drive_chain               0\n",
       "fuel                      0\n",
       "co2e_g                    0\n",
       "emission_class            0\n",
       "comfort&convenience       0\n",
       "entertainment&media       0\n",
       "extras                    0\n",
       "safety&security           0\n",
       "gears                     0\n",
       "country_version           0\n",
       "consumption_comb          0\n",
       "age                       0\n",
       "dtype: int64"
      ]
     },
     "execution_count": 102,
     "metadata": {},
     "output_type": "execute_result"
    }
   ],
   "source": [
    "df.isnull().sum()"
   ]
  },
  {
   "cell_type": "code",
   "execution_count": 103,
   "id": "f45a5421",
   "metadata": {
    "ExecuteTime": {
     "end_time": "2022-08-03T15:37:08.708419Z",
     "start_time": "2022-08-03T15:37:08.679189Z"
    }
   },
   "outputs": [
    {
     "data": {
      "text/plain": [
       "Index(['body_type', 'price_€', 'vat', 'km', 'hp_kW', 'type', 'previous_owners',\n",
       "       'warranty', 'make', 'model', 'body_color', 'paint_type', 'upholstery',\n",
       "       'nr_of_doors', 'nr_of_seats', 'gearing_type', 'engine_displacement_cc',\n",
       "       'cylinders', 'weight_kg', 'drive_chain', 'fuel', 'co2e_g',\n",
       "       'emission_class', 'comfort&convenience', 'entertainment&media',\n",
       "       'extras', 'safety&security', 'gears', 'country_version',\n",
       "       'consumption_comb', 'age'],\n",
       "      dtype='object')"
      ]
     },
     "execution_count": 103,
     "metadata": {},
     "output_type": "execute_result"
    }
   ],
   "source": [
    "df.columns"
   ]
  },
  {
   "cell_type": "code",
   "execution_count": null,
   "id": "b555176d",
   "metadata": {},
   "outputs": [],
   "source": []
  },
  {
   "cell_type": "markdown",
   "id": "1ac0fe2b",
   "metadata": {},
   "source": [
    "## Export dataframe to csv file (without dummy)"
   ]
  },
  {
   "cell_type": "code",
   "execution_count": 104,
   "id": "fb5a65d7",
   "metadata": {
    "ExecuteTime": {
     "end_time": "2022-08-03T15:37:10.779034Z",
     "start_time": "2022-08-03T15:37:08.726280Z"
    }
   },
   "outputs": [],
   "source": [
    "df.to_csv(\"auto_scout_handled_outliers.csv\", index=False)"
   ]
  },
  {
   "cell_type": "code",
   "execution_count": null,
   "id": "493ff12f",
   "metadata": {},
   "outputs": [],
   "source": []
  }
 ],
 "metadata": {
  "hide_input": false,
  "kernelspec": {
   "display_name": "Python 3 (ipykernel)",
   "language": "python",
   "name": "python3"
  },
  "language_info": {
   "codemirror_mode": {
    "name": "ipython",
    "version": 3
   },
   "file_extension": ".py",
   "mimetype": "text/x-python",
   "name": "python",
   "nbconvert_exporter": "python",
   "pygments_lexer": "ipython3",
   "version": "3.9.7"
  },
  "toc": {
   "base_numbering": 1,
   "nav_menu": {},
   "number_sections": true,
   "sideBar": true,
   "skip_h1_title": false,
   "title_cell": "Table of Contents",
   "title_sidebar": "Contents",
   "toc_cell": false,
   "toc_position": {},
   "toc_section_display": true,
   "toc_window_display": true
  }
 },
 "nbformat": 4,
 "nbformat_minor": 5
}
